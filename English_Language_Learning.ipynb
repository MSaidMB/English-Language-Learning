{
  "nbformat": 4,
  "nbformat_minor": 0,
  "metadata": {
    "colab": {
      "provenance": [],
      "collapsed_sections": [
        "h3zLhU-6sLye"
      ],
      "machine_shape": "hm"
    },
    "kernelspec": {
      "name": "python3",
      "display_name": "Python 3"
    },
    "language_info": {
      "name": "python"
    },
    "gpuClass": "premium",
    "accelerator": "GPU",
    "widgets": {
      "application/vnd.jupyter.widget-state+json": {
        "b3b23dd30b4c412d956eb598cd046e78": {
          "model_module": "@jupyter-widgets/controls",
          "model_name": "HBoxModel",
          "model_module_version": "1.5.0",
          "state": {
            "_dom_classes": [],
            "_model_module": "@jupyter-widgets/controls",
            "_model_module_version": "1.5.0",
            "_model_name": "HBoxModel",
            "_view_count": null,
            "_view_module": "@jupyter-widgets/controls",
            "_view_module_version": "1.5.0",
            "_view_name": "HBoxView",
            "box_style": "",
            "children": [
              "IPY_MODEL_3003707a137b4f749656df29045be2b2",
              "IPY_MODEL_cc08fcfd984a4b9abbf4c657562b9601",
              "IPY_MODEL_acdda2c83178421784ac1791a657ee21"
            ],
            "layout": "IPY_MODEL_26a9b324413e47f9b90665de0d7319d3"
          }
        },
        "3003707a137b4f749656df29045be2b2": {
          "model_module": "@jupyter-widgets/controls",
          "model_name": "HTMLModel",
          "model_module_version": "1.5.0",
          "state": {
            "_dom_classes": [],
            "_model_module": "@jupyter-widgets/controls",
            "_model_module_version": "1.5.0",
            "_model_name": "HTMLModel",
            "_view_count": null,
            "_view_module": "@jupyter-widgets/controls",
            "_view_module_version": "1.5.0",
            "_view_name": "HTMLView",
            "description": "",
            "description_tooltip": null,
            "layout": "IPY_MODEL_5f07e41baea24ad49b1cbe7503130920",
            "placeholder": "​",
            "style": "IPY_MODEL_f6b668af31ff4240b8869eaeae485b42",
            "value": "100%"
          }
        },
        "cc08fcfd984a4b9abbf4c657562b9601": {
          "model_module": "@jupyter-widgets/controls",
          "model_name": "FloatProgressModel",
          "model_module_version": "1.5.0",
          "state": {
            "_dom_classes": [],
            "_model_module": "@jupyter-widgets/controls",
            "_model_module_version": "1.5.0",
            "_model_name": "FloatProgressModel",
            "_view_count": null,
            "_view_module": "@jupyter-widgets/controls",
            "_view_module_version": "1.5.0",
            "_view_name": "ProgressView",
            "bar_style": "success",
            "description": "",
            "description_tooltip": null,
            "layout": "IPY_MODEL_82a9c1fa565d480ca99ec999dad40ff8",
            "max": 6,
            "min": 0,
            "orientation": "horizontal",
            "style": "IPY_MODEL_85c9dfc40fb94fcba821f9d541d66dd1",
            "value": 6
          }
        },
        "acdda2c83178421784ac1791a657ee21": {
          "model_module": "@jupyter-widgets/controls",
          "model_name": "HTMLModel",
          "model_module_version": "1.5.0",
          "state": {
            "_dom_classes": [],
            "_model_module": "@jupyter-widgets/controls",
            "_model_module_version": "1.5.0",
            "_model_name": "HTMLModel",
            "_view_count": null,
            "_view_module": "@jupyter-widgets/controls",
            "_view_module_version": "1.5.0",
            "_view_name": "HTMLView",
            "description": "",
            "description_tooltip": null,
            "layout": "IPY_MODEL_be65635fbb894919ba1ee3f4ba819b7f",
            "placeholder": "​",
            "style": "IPY_MODEL_a5e08968003942b8a41e9661ddd4f75b",
            "value": " 6/6 [05:32&lt;00:00, 55.23s/it]"
          }
        },
        "26a9b324413e47f9b90665de0d7319d3": {
          "model_module": "@jupyter-widgets/base",
          "model_name": "LayoutModel",
          "model_module_version": "1.2.0",
          "state": {
            "_model_module": "@jupyter-widgets/base",
            "_model_module_version": "1.2.0",
            "_model_name": "LayoutModel",
            "_view_count": null,
            "_view_module": "@jupyter-widgets/base",
            "_view_module_version": "1.2.0",
            "_view_name": "LayoutView",
            "align_content": null,
            "align_items": null,
            "align_self": null,
            "border": null,
            "bottom": null,
            "display": null,
            "flex": null,
            "flex_flow": null,
            "grid_area": null,
            "grid_auto_columns": null,
            "grid_auto_flow": null,
            "grid_auto_rows": null,
            "grid_column": null,
            "grid_gap": null,
            "grid_row": null,
            "grid_template_areas": null,
            "grid_template_columns": null,
            "grid_template_rows": null,
            "height": null,
            "justify_content": null,
            "justify_items": null,
            "left": null,
            "margin": null,
            "max_height": null,
            "max_width": null,
            "min_height": null,
            "min_width": null,
            "object_fit": null,
            "object_position": null,
            "order": null,
            "overflow": null,
            "overflow_x": null,
            "overflow_y": null,
            "padding": null,
            "right": null,
            "top": null,
            "visibility": null,
            "width": null
          }
        },
        "5f07e41baea24ad49b1cbe7503130920": {
          "model_module": "@jupyter-widgets/base",
          "model_name": "LayoutModel",
          "model_module_version": "1.2.0",
          "state": {
            "_model_module": "@jupyter-widgets/base",
            "_model_module_version": "1.2.0",
            "_model_name": "LayoutModel",
            "_view_count": null,
            "_view_module": "@jupyter-widgets/base",
            "_view_module_version": "1.2.0",
            "_view_name": "LayoutView",
            "align_content": null,
            "align_items": null,
            "align_self": null,
            "border": null,
            "bottom": null,
            "display": null,
            "flex": null,
            "flex_flow": null,
            "grid_area": null,
            "grid_auto_columns": null,
            "grid_auto_flow": null,
            "grid_auto_rows": null,
            "grid_column": null,
            "grid_gap": null,
            "grid_row": null,
            "grid_template_areas": null,
            "grid_template_columns": null,
            "grid_template_rows": null,
            "height": null,
            "justify_content": null,
            "justify_items": null,
            "left": null,
            "margin": null,
            "max_height": null,
            "max_width": null,
            "min_height": null,
            "min_width": null,
            "object_fit": null,
            "object_position": null,
            "order": null,
            "overflow": null,
            "overflow_x": null,
            "overflow_y": null,
            "padding": null,
            "right": null,
            "top": null,
            "visibility": null,
            "width": null
          }
        },
        "f6b668af31ff4240b8869eaeae485b42": {
          "model_module": "@jupyter-widgets/controls",
          "model_name": "DescriptionStyleModel",
          "model_module_version": "1.5.0",
          "state": {
            "_model_module": "@jupyter-widgets/controls",
            "_model_module_version": "1.5.0",
            "_model_name": "DescriptionStyleModel",
            "_view_count": null,
            "_view_module": "@jupyter-widgets/base",
            "_view_module_version": "1.2.0",
            "_view_name": "StyleView",
            "description_width": ""
          }
        },
        "82a9c1fa565d480ca99ec999dad40ff8": {
          "model_module": "@jupyter-widgets/base",
          "model_name": "LayoutModel",
          "model_module_version": "1.2.0",
          "state": {
            "_model_module": "@jupyter-widgets/base",
            "_model_module_version": "1.2.0",
            "_model_name": "LayoutModel",
            "_view_count": null,
            "_view_module": "@jupyter-widgets/base",
            "_view_module_version": "1.2.0",
            "_view_name": "LayoutView",
            "align_content": null,
            "align_items": null,
            "align_self": null,
            "border": null,
            "bottom": null,
            "display": null,
            "flex": null,
            "flex_flow": null,
            "grid_area": null,
            "grid_auto_columns": null,
            "grid_auto_flow": null,
            "grid_auto_rows": null,
            "grid_column": null,
            "grid_gap": null,
            "grid_row": null,
            "grid_template_areas": null,
            "grid_template_columns": null,
            "grid_template_rows": null,
            "height": null,
            "justify_content": null,
            "justify_items": null,
            "left": null,
            "margin": null,
            "max_height": null,
            "max_width": null,
            "min_height": null,
            "min_width": null,
            "object_fit": null,
            "object_position": null,
            "order": null,
            "overflow": null,
            "overflow_x": null,
            "overflow_y": null,
            "padding": null,
            "right": null,
            "top": null,
            "visibility": null,
            "width": null
          }
        },
        "85c9dfc40fb94fcba821f9d541d66dd1": {
          "model_module": "@jupyter-widgets/controls",
          "model_name": "ProgressStyleModel",
          "model_module_version": "1.5.0",
          "state": {
            "_model_module": "@jupyter-widgets/controls",
            "_model_module_version": "1.5.0",
            "_model_name": "ProgressStyleModel",
            "_view_count": null,
            "_view_module": "@jupyter-widgets/base",
            "_view_module_version": "1.2.0",
            "_view_name": "StyleView",
            "bar_color": null,
            "description_width": ""
          }
        },
        "be65635fbb894919ba1ee3f4ba819b7f": {
          "model_module": "@jupyter-widgets/base",
          "model_name": "LayoutModel",
          "model_module_version": "1.2.0",
          "state": {
            "_model_module": "@jupyter-widgets/base",
            "_model_module_version": "1.2.0",
            "_model_name": "LayoutModel",
            "_view_count": null,
            "_view_module": "@jupyter-widgets/base",
            "_view_module_version": "1.2.0",
            "_view_name": "LayoutView",
            "align_content": null,
            "align_items": null,
            "align_self": null,
            "border": null,
            "bottom": null,
            "display": null,
            "flex": null,
            "flex_flow": null,
            "grid_area": null,
            "grid_auto_columns": null,
            "grid_auto_flow": null,
            "grid_auto_rows": null,
            "grid_column": null,
            "grid_gap": null,
            "grid_row": null,
            "grid_template_areas": null,
            "grid_template_columns": null,
            "grid_template_rows": null,
            "height": null,
            "justify_content": null,
            "justify_items": null,
            "left": null,
            "margin": null,
            "max_height": null,
            "max_width": null,
            "min_height": null,
            "min_width": null,
            "object_fit": null,
            "object_position": null,
            "order": null,
            "overflow": null,
            "overflow_x": null,
            "overflow_y": null,
            "padding": null,
            "right": null,
            "top": null,
            "visibility": null,
            "width": null
          }
        },
        "a5e08968003942b8a41e9661ddd4f75b": {
          "model_module": "@jupyter-widgets/controls",
          "model_name": "DescriptionStyleModel",
          "model_module_version": "1.5.0",
          "state": {
            "_model_module": "@jupyter-widgets/controls",
            "_model_module_version": "1.5.0",
            "_model_name": "DescriptionStyleModel",
            "_view_count": null,
            "_view_module": "@jupyter-widgets/base",
            "_view_module_version": "1.2.0",
            "_view_name": "StyleView",
            "description_width": ""
          }
        },
        "e994b9e74a3047fa9f0398628ad05aa0": {
          "model_module": "@jupyter-widgets/controls",
          "model_name": "HBoxModel",
          "model_module_version": "1.5.0",
          "state": {
            "_dom_classes": [],
            "_model_module": "@jupyter-widgets/controls",
            "_model_module_version": "1.5.0",
            "_model_name": "HBoxModel",
            "_view_count": null,
            "_view_module": "@jupyter-widgets/controls",
            "_view_module_version": "1.5.0",
            "_view_name": "HBoxView",
            "box_style": "",
            "children": [
              "IPY_MODEL_629e9bd9ad7149a7bfe06567947f66da",
              "IPY_MODEL_f3f3cd4127924000baa10598990a9651",
              "IPY_MODEL_f50d595e2a61478f95c44abe8a109013"
            ],
            "layout": "IPY_MODEL_064653bb014646deaec5e9eb4a52c06b"
          }
        },
        "629e9bd9ad7149a7bfe06567947f66da": {
          "model_module": "@jupyter-widgets/controls",
          "model_name": "HTMLModel",
          "model_module_version": "1.5.0",
          "state": {
            "_dom_classes": [],
            "_model_module": "@jupyter-widgets/controls",
            "_model_module_version": "1.5.0",
            "_model_name": "HTMLModel",
            "_view_count": null,
            "_view_module": "@jupyter-widgets/controls",
            "_view_module_version": "1.5.0",
            "_view_name": "HTMLView",
            "description": "",
            "description_tooltip": null,
            "layout": "IPY_MODEL_8d517ba312354d99a9bdb54aa349ff1f",
            "placeholder": "​",
            "style": "IPY_MODEL_78e5a6398a314df7ab345ed560688f6a",
            "value": "Making predictions: 100%"
          }
        },
        "f3f3cd4127924000baa10598990a9651": {
          "model_module": "@jupyter-widgets/controls",
          "model_name": "FloatProgressModel",
          "model_module_version": "1.5.0",
          "state": {
            "_dom_classes": [],
            "_model_module": "@jupyter-widgets/controls",
            "_model_module_version": "1.5.0",
            "_model_name": "FloatProgressModel",
            "_view_count": null,
            "_view_module": "@jupyter-widgets/controls",
            "_view_module_version": "1.5.0",
            "_view_name": "ProgressView",
            "bar_style": "",
            "description": "",
            "description_tooltip": null,
            "layout": "IPY_MODEL_45388ec2ff7f4e97977c3aa6bb9e66f3",
            "max": 98,
            "min": 0,
            "orientation": "horizontal",
            "style": "IPY_MODEL_2710eb9caba0401facdf957ecfe74de0",
            "value": 98
          }
        },
        "f50d595e2a61478f95c44abe8a109013": {
          "model_module": "@jupyter-widgets/controls",
          "model_name": "HTMLModel",
          "model_module_version": "1.5.0",
          "state": {
            "_dom_classes": [],
            "_model_module": "@jupyter-widgets/controls",
            "_model_module_version": "1.5.0",
            "_model_name": "HTMLModel",
            "_view_count": null,
            "_view_module": "@jupyter-widgets/controls",
            "_view_module_version": "1.5.0",
            "_view_name": "HTMLView",
            "description": "",
            "description_tooltip": null,
            "layout": "IPY_MODEL_132987c4d9ad48f1b48cb30a955da135",
            "placeholder": "​",
            "style": "IPY_MODEL_a4e7ae317aa34a729be0279069b3e8b6",
            "value": " 98/98 [00:46&lt;00:00,  2.19it/s]"
          }
        },
        "064653bb014646deaec5e9eb4a52c06b": {
          "model_module": "@jupyter-widgets/base",
          "model_name": "LayoutModel",
          "model_module_version": "1.2.0",
          "state": {
            "_model_module": "@jupyter-widgets/base",
            "_model_module_version": "1.2.0",
            "_model_name": "LayoutModel",
            "_view_count": null,
            "_view_module": "@jupyter-widgets/base",
            "_view_module_version": "1.2.0",
            "_view_name": "LayoutView",
            "align_content": null,
            "align_items": null,
            "align_self": null,
            "border": null,
            "bottom": null,
            "display": null,
            "flex": null,
            "flex_flow": null,
            "grid_area": null,
            "grid_auto_columns": null,
            "grid_auto_flow": null,
            "grid_auto_rows": null,
            "grid_column": null,
            "grid_gap": null,
            "grid_row": null,
            "grid_template_areas": null,
            "grid_template_columns": null,
            "grid_template_rows": null,
            "height": null,
            "justify_content": null,
            "justify_items": null,
            "left": null,
            "margin": null,
            "max_height": null,
            "max_width": null,
            "min_height": null,
            "min_width": null,
            "object_fit": null,
            "object_position": null,
            "order": null,
            "overflow": null,
            "overflow_x": null,
            "overflow_y": null,
            "padding": null,
            "right": null,
            "top": null,
            "visibility": "hidden",
            "width": null
          }
        },
        "8d517ba312354d99a9bdb54aa349ff1f": {
          "model_module": "@jupyter-widgets/base",
          "model_name": "LayoutModel",
          "model_module_version": "1.2.0",
          "state": {
            "_model_module": "@jupyter-widgets/base",
            "_model_module_version": "1.2.0",
            "_model_name": "LayoutModel",
            "_view_count": null,
            "_view_module": "@jupyter-widgets/base",
            "_view_module_version": "1.2.0",
            "_view_name": "LayoutView",
            "align_content": null,
            "align_items": null,
            "align_self": null,
            "border": null,
            "bottom": null,
            "display": null,
            "flex": null,
            "flex_flow": null,
            "grid_area": null,
            "grid_auto_columns": null,
            "grid_auto_flow": null,
            "grid_auto_rows": null,
            "grid_column": null,
            "grid_gap": null,
            "grid_row": null,
            "grid_template_areas": null,
            "grid_template_columns": null,
            "grid_template_rows": null,
            "height": null,
            "justify_content": null,
            "justify_items": null,
            "left": null,
            "margin": null,
            "max_height": null,
            "max_width": null,
            "min_height": null,
            "min_width": null,
            "object_fit": null,
            "object_position": null,
            "order": null,
            "overflow": null,
            "overflow_x": null,
            "overflow_y": null,
            "padding": null,
            "right": null,
            "top": null,
            "visibility": null,
            "width": null
          }
        },
        "78e5a6398a314df7ab345ed560688f6a": {
          "model_module": "@jupyter-widgets/controls",
          "model_name": "DescriptionStyleModel",
          "model_module_version": "1.5.0",
          "state": {
            "_model_module": "@jupyter-widgets/controls",
            "_model_module_version": "1.5.0",
            "_model_name": "DescriptionStyleModel",
            "_view_count": null,
            "_view_module": "@jupyter-widgets/base",
            "_view_module_version": "1.2.0",
            "_view_name": "StyleView",
            "description_width": ""
          }
        },
        "45388ec2ff7f4e97977c3aa6bb9e66f3": {
          "model_module": "@jupyter-widgets/base",
          "model_name": "LayoutModel",
          "model_module_version": "1.2.0",
          "state": {
            "_model_module": "@jupyter-widgets/base",
            "_model_module_version": "1.2.0",
            "_model_name": "LayoutModel",
            "_view_count": null,
            "_view_module": "@jupyter-widgets/base",
            "_view_module_version": "1.2.0",
            "_view_name": "LayoutView",
            "align_content": null,
            "align_items": null,
            "align_self": null,
            "border": null,
            "bottom": null,
            "display": null,
            "flex": null,
            "flex_flow": null,
            "grid_area": null,
            "grid_auto_columns": null,
            "grid_auto_flow": null,
            "grid_auto_rows": null,
            "grid_column": null,
            "grid_gap": null,
            "grid_row": null,
            "grid_template_areas": null,
            "grid_template_columns": null,
            "grid_template_rows": null,
            "height": null,
            "justify_content": null,
            "justify_items": null,
            "left": null,
            "margin": null,
            "max_height": null,
            "max_width": null,
            "min_height": null,
            "min_width": null,
            "object_fit": null,
            "object_position": null,
            "order": null,
            "overflow": null,
            "overflow_x": null,
            "overflow_y": null,
            "padding": null,
            "right": null,
            "top": null,
            "visibility": null,
            "width": null
          }
        },
        "2710eb9caba0401facdf957ecfe74de0": {
          "model_module": "@jupyter-widgets/controls",
          "model_name": "ProgressStyleModel",
          "model_module_version": "1.5.0",
          "state": {
            "_model_module": "@jupyter-widgets/controls",
            "_model_module_version": "1.5.0",
            "_model_name": "ProgressStyleModel",
            "_view_count": null,
            "_view_module": "@jupyter-widgets/base",
            "_view_module_version": "1.2.0",
            "_view_name": "StyleView",
            "bar_color": null,
            "description_width": ""
          }
        },
        "132987c4d9ad48f1b48cb30a955da135": {
          "model_module": "@jupyter-widgets/base",
          "model_name": "LayoutModel",
          "model_module_version": "1.2.0",
          "state": {
            "_model_module": "@jupyter-widgets/base",
            "_model_module_version": "1.2.0",
            "_model_name": "LayoutModel",
            "_view_count": null,
            "_view_module": "@jupyter-widgets/base",
            "_view_module_version": "1.2.0",
            "_view_name": "LayoutView",
            "align_content": null,
            "align_items": null,
            "align_self": null,
            "border": null,
            "bottom": null,
            "display": null,
            "flex": null,
            "flex_flow": null,
            "grid_area": null,
            "grid_auto_columns": null,
            "grid_auto_flow": null,
            "grid_auto_rows": null,
            "grid_column": null,
            "grid_gap": null,
            "grid_row": null,
            "grid_template_areas": null,
            "grid_template_columns": null,
            "grid_template_rows": null,
            "height": null,
            "justify_content": null,
            "justify_items": null,
            "left": null,
            "margin": null,
            "max_height": null,
            "max_width": null,
            "min_height": null,
            "min_width": null,
            "object_fit": null,
            "object_position": null,
            "order": null,
            "overflow": null,
            "overflow_x": null,
            "overflow_y": null,
            "padding": null,
            "right": null,
            "top": null,
            "visibility": null,
            "width": null
          }
        },
        "a4e7ae317aa34a729be0279069b3e8b6": {
          "model_module": "@jupyter-widgets/controls",
          "model_name": "DescriptionStyleModel",
          "model_module_version": "1.5.0",
          "state": {
            "_model_module": "@jupyter-widgets/controls",
            "_model_module_version": "1.5.0",
            "_model_name": "DescriptionStyleModel",
            "_view_count": null,
            "_view_module": "@jupyter-widgets/base",
            "_view_module_version": "1.2.0",
            "_view_name": "StyleView",
            "description_width": ""
          }
        },
        "e67da8d861104a6abbaf09da17086bda": {
          "model_module": "@jupyter-widgets/controls",
          "model_name": "HBoxModel",
          "model_module_version": "1.5.0",
          "state": {
            "_dom_classes": [],
            "_model_module": "@jupyter-widgets/controls",
            "_model_module_version": "1.5.0",
            "_model_name": "HBoxModel",
            "_view_count": null,
            "_view_module": "@jupyter-widgets/controls",
            "_view_module_version": "1.5.0",
            "_view_name": "HBoxView",
            "box_style": "",
            "children": [
              "IPY_MODEL_bda38c987b8b43ba9af4f9b379c38a51",
              "IPY_MODEL_4b65492912a34b5ba109259ee0b2c9e4",
              "IPY_MODEL_ccc8dd262df94629bdbaa21c9fd79492"
            ],
            "layout": "IPY_MODEL_18a9e7d4ae144e84a5f3de37221cb320"
          }
        },
        "bda38c987b8b43ba9af4f9b379c38a51": {
          "model_module": "@jupyter-widgets/controls",
          "model_name": "HTMLModel",
          "model_module_version": "1.5.0",
          "state": {
            "_dom_classes": [],
            "_model_module": "@jupyter-widgets/controls",
            "_model_module_version": "1.5.0",
            "_model_name": "HTMLModel",
            "_view_count": null,
            "_view_module": "@jupyter-widgets/controls",
            "_view_module_version": "1.5.0",
            "_view_name": "HTMLView",
            "description": "",
            "description_tooltip": null,
            "layout": "IPY_MODEL_a9e69294939f46d3bf0b786b2580058d",
            "placeholder": "​",
            "style": "IPY_MODEL_8473750594b147d48b8c16149ea0e706",
            "value": "Making predictions: 100%"
          }
        },
        "4b65492912a34b5ba109259ee0b2c9e4": {
          "model_module": "@jupyter-widgets/controls",
          "model_name": "FloatProgressModel",
          "model_module_version": "1.5.0",
          "state": {
            "_dom_classes": [],
            "_model_module": "@jupyter-widgets/controls",
            "_model_module_version": "1.5.0",
            "_model_name": "FloatProgressModel",
            "_view_count": null,
            "_view_module": "@jupyter-widgets/controls",
            "_view_module_version": "1.5.0",
            "_view_name": "ProgressView",
            "bar_style": "",
            "description": "",
            "description_tooltip": null,
            "layout": "IPY_MODEL_0559a3c5469645cf8160adf5c4d1337b",
            "max": 98,
            "min": 0,
            "orientation": "horizontal",
            "style": "IPY_MODEL_b064599e3de54a859a083fc56f09e9a4",
            "value": 98
          }
        },
        "ccc8dd262df94629bdbaa21c9fd79492": {
          "model_module": "@jupyter-widgets/controls",
          "model_name": "HTMLModel",
          "model_module_version": "1.5.0",
          "state": {
            "_dom_classes": [],
            "_model_module": "@jupyter-widgets/controls",
            "_model_module_version": "1.5.0",
            "_model_name": "HTMLModel",
            "_view_count": null,
            "_view_module": "@jupyter-widgets/controls",
            "_view_module_version": "1.5.0",
            "_view_name": "HTMLView",
            "description": "",
            "description_tooltip": null,
            "layout": "IPY_MODEL_5c10f6bd25e44a48a326c87a034913dc",
            "placeholder": "​",
            "style": "IPY_MODEL_326904451a854d6da99bbd6bb18701ac",
            "value": " 98/98 [00:43&lt;00:00,  2.26it/s]"
          }
        },
        "18a9e7d4ae144e84a5f3de37221cb320": {
          "model_module": "@jupyter-widgets/base",
          "model_name": "LayoutModel",
          "model_module_version": "1.2.0",
          "state": {
            "_model_module": "@jupyter-widgets/base",
            "_model_module_version": "1.2.0",
            "_model_name": "LayoutModel",
            "_view_count": null,
            "_view_module": "@jupyter-widgets/base",
            "_view_module_version": "1.2.0",
            "_view_name": "LayoutView",
            "align_content": null,
            "align_items": null,
            "align_self": null,
            "border": null,
            "bottom": null,
            "display": null,
            "flex": null,
            "flex_flow": null,
            "grid_area": null,
            "grid_auto_columns": null,
            "grid_auto_flow": null,
            "grid_auto_rows": null,
            "grid_column": null,
            "grid_gap": null,
            "grid_row": null,
            "grid_template_areas": null,
            "grid_template_columns": null,
            "grid_template_rows": null,
            "height": null,
            "justify_content": null,
            "justify_items": null,
            "left": null,
            "margin": null,
            "max_height": null,
            "max_width": null,
            "min_height": null,
            "min_width": null,
            "object_fit": null,
            "object_position": null,
            "order": null,
            "overflow": null,
            "overflow_x": null,
            "overflow_y": null,
            "padding": null,
            "right": null,
            "top": null,
            "visibility": "hidden",
            "width": null
          }
        },
        "a9e69294939f46d3bf0b786b2580058d": {
          "model_module": "@jupyter-widgets/base",
          "model_name": "LayoutModel",
          "model_module_version": "1.2.0",
          "state": {
            "_model_module": "@jupyter-widgets/base",
            "_model_module_version": "1.2.0",
            "_model_name": "LayoutModel",
            "_view_count": null,
            "_view_module": "@jupyter-widgets/base",
            "_view_module_version": "1.2.0",
            "_view_name": "LayoutView",
            "align_content": null,
            "align_items": null,
            "align_self": null,
            "border": null,
            "bottom": null,
            "display": null,
            "flex": null,
            "flex_flow": null,
            "grid_area": null,
            "grid_auto_columns": null,
            "grid_auto_flow": null,
            "grid_auto_rows": null,
            "grid_column": null,
            "grid_gap": null,
            "grid_row": null,
            "grid_template_areas": null,
            "grid_template_columns": null,
            "grid_template_rows": null,
            "height": null,
            "justify_content": null,
            "justify_items": null,
            "left": null,
            "margin": null,
            "max_height": null,
            "max_width": null,
            "min_height": null,
            "min_width": null,
            "object_fit": null,
            "object_position": null,
            "order": null,
            "overflow": null,
            "overflow_x": null,
            "overflow_y": null,
            "padding": null,
            "right": null,
            "top": null,
            "visibility": null,
            "width": null
          }
        },
        "8473750594b147d48b8c16149ea0e706": {
          "model_module": "@jupyter-widgets/controls",
          "model_name": "DescriptionStyleModel",
          "model_module_version": "1.5.0",
          "state": {
            "_model_module": "@jupyter-widgets/controls",
            "_model_module_version": "1.5.0",
            "_model_name": "DescriptionStyleModel",
            "_view_count": null,
            "_view_module": "@jupyter-widgets/base",
            "_view_module_version": "1.2.0",
            "_view_name": "StyleView",
            "description_width": ""
          }
        },
        "0559a3c5469645cf8160adf5c4d1337b": {
          "model_module": "@jupyter-widgets/base",
          "model_name": "LayoutModel",
          "model_module_version": "1.2.0",
          "state": {
            "_model_module": "@jupyter-widgets/base",
            "_model_module_version": "1.2.0",
            "_model_name": "LayoutModel",
            "_view_count": null,
            "_view_module": "@jupyter-widgets/base",
            "_view_module_version": "1.2.0",
            "_view_name": "LayoutView",
            "align_content": null,
            "align_items": null,
            "align_self": null,
            "border": null,
            "bottom": null,
            "display": null,
            "flex": null,
            "flex_flow": null,
            "grid_area": null,
            "grid_auto_columns": null,
            "grid_auto_flow": null,
            "grid_auto_rows": null,
            "grid_column": null,
            "grid_gap": null,
            "grid_row": null,
            "grid_template_areas": null,
            "grid_template_columns": null,
            "grid_template_rows": null,
            "height": null,
            "justify_content": null,
            "justify_items": null,
            "left": null,
            "margin": null,
            "max_height": null,
            "max_width": null,
            "min_height": null,
            "min_width": null,
            "object_fit": null,
            "object_position": null,
            "order": null,
            "overflow": null,
            "overflow_x": null,
            "overflow_y": null,
            "padding": null,
            "right": null,
            "top": null,
            "visibility": null,
            "width": null
          }
        },
        "b064599e3de54a859a083fc56f09e9a4": {
          "model_module": "@jupyter-widgets/controls",
          "model_name": "ProgressStyleModel",
          "model_module_version": "1.5.0",
          "state": {
            "_model_module": "@jupyter-widgets/controls",
            "_model_module_version": "1.5.0",
            "_model_name": "ProgressStyleModel",
            "_view_count": null,
            "_view_module": "@jupyter-widgets/base",
            "_view_module_version": "1.2.0",
            "_view_name": "StyleView",
            "bar_color": null,
            "description_width": ""
          }
        },
        "5c10f6bd25e44a48a326c87a034913dc": {
          "model_module": "@jupyter-widgets/base",
          "model_name": "LayoutModel",
          "model_module_version": "1.2.0",
          "state": {
            "_model_module": "@jupyter-widgets/base",
            "_model_module_version": "1.2.0",
            "_model_name": "LayoutModel",
            "_view_count": null,
            "_view_module": "@jupyter-widgets/base",
            "_view_module_version": "1.2.0",
            "_view_name": "LayoutView",
            "align_content": null,
            "align_items": null,
            "align_self": null,
            "border": null,
            "bottom": null,
            "display": null,
            "flex": null,
            "flex_flow": null,
            "grid_area": null,
            "grid_auto_columns": null,
            "grid_auto_flow": null,
            "grid_auto_rows": null,
            "grid_column": null,
            "grid_gap": null,
            "grid_row": null,
            "grid_template_areas": null,
            "grid_template_columns": null,
            "grid_template_rows": null,
            "height": null,
            "justify_content": null,
            "justify_items": null,
            "left": null,
            "margin": null,
            "max_height": null,
            "max_width": null,
            "min_height": null,
            "min_width": null,
            "object_fit": null,
            "object_position": null,
            "order": null,
            "overflow": null,
            "overflow_x": null,
            "overflow_y": null,
            "padding": null,
            "right": null,
            "top": null,
            "visibility": null,
            "width": null
          }
        },
        "326904451a854d6da99bbd6bb18701ac": {
          "model_module": "@jupyter-widgets/controls",
          "model_name": "DescriptionStyleModel",
          "model_module_version": "1.5.0",
          "state": {
            "_model_module": "@jupyter-widgets/controls",
            "_model_module_version": "1.5.0",
            "_model_name": "DescriptionStyleModel",
            "_view_count": null,
            "_view_module": "@jupyter-widgets/base",
            "_view_module_version": "1.2.0",
            "_view_name": "StyleView",
            "description_width": ""
          }
        },
        "0cbd70c206dd4ffab1bad7c92053d9be": {
          "model_module": "@jupyter-widgets/controls",
          "model_name": "HBoxModel",
          "model_module_version": "1.5.0",
          "state": {
            "_dom_classes": [],
            "_model_module": "@jupyter-widgets/controls",
            "_model_module_version": "1.5.0",
            "_model_name": "HBoxModel",
            "_view_count": null,
            "_view_module": "@jupyter-widgets/controls",
            "_view_module_version": "1.5.0",
            "_view_name": "HBoxView",
            "box_style": "",
            "children": [
              "IPY_MODEL_2e7fb85d8e724738954762dee8c4dc08",
              "IPY_MODEL_ff07c319a5c8460a9bd7c3000667bd8d",
              "IPY_MODEL_f3bea9613eff446381050081551e1cb5"
            ],
            "layout": "IPY_MODEL_0c4d456159294c628025d7f3b8c3ef70"
          }
        },
        "2e7fb85d8e724738954762dee8c4dc08": {
          "model_module": "@jupyter-widgets/controls",
          "model_name": "HTMLModel",
          "model_module_version": "1.5.0",
          "state": {
            "_dom_classes": [],
            "_model_module": "@jupyter-widgets/controls",
            "_model_module_version": "1.5.0",
            "_model_name": "HTMLModel",
            "_view_count": null,
            "_view_module": "@jupyter-widgets/controls",
            "_view_module_version": "1.5.0",
            "_view_name": "HTMLView",
            "description": "",
            "description_tooltip": null,
            "layout": "IPY_MODEL_05ad48f40ce44efc9cd1b649bc80270e",
            "placeholder": "​",
            "style": "IPY_MODEL_dfa8f499cc7b4678832b31a9d0a890a2",
            "value": "Making predictions: 100%"
          }
        },
        "ff07c319a5c8460a9bd7c3000667bd8d": {
          "model_module": "@jupyter-widgets/controls",
          "model_name": "FloatProgressModel",
          "model_module_version": "1.5.0",
          "state": {
            "_dom_classes": [],
            "_model_module": "@jupyter-widgets/controls",
            "_model_module_version": "1.5.0",
            "_model_name": "FloatProgressModel",
            "_view_count": null,
            "_view_module": "@jupyter-widgets/controls",
            "_view_module_version": "1.5.0",
            "_view_name": "ProgressView",
            "bar_style": "",
            "description": "",
            "description_tooltip": null,
            "layout": "IPY_MODEL_0fb79f0e0f0c4d4a8d5a4d8296e0993c",
            "max": 98,
            "min": 0,
            "orientation": "horizontal",
            "style": "IPY_MODEL_47ef8cb603fb4bc3ab8e7fe88e219497",
            "value": 98
          }
        },
        "f3bea9613eff446381050081551e1cb5": {
          "model_module": "@jupyter-widgets/controls",
          "model_name": "HTMLModel",
          "model_module_version": "1.5.0",
          "state": {
            "_dom_classes": [],
            "_model_module": "@jupyter-widgets/controls",
            "_model_module_version": "1.5.0",
            "_model_name": "HTMLModel",
            "_view_count": null,
            "_view_module": "@jupyter-widgets/controls",
            "_view_module_version": "1.5.0",
            "_view_name": "HTMLView",
            "description": "",
            "description_tooltip": null,
            "layout": "IPY_MODEL_bb19ec21de5f4c00b8684a90e488e1b1",
            "placeholder": "​",
            "style": "IPY_MODEL_1ffbb120b5734e1798f1e91c38bddf16",
            "value": " 98/98 [00:43&lt;00:00,  2.31it/s]"
          }
        },
        "0c4d456159294c628025d7f3b8c3ef70": {
          "model_module": "@jupyter-widgets/base",
          "model_name": "LayoutModel",
          "model_module_version": "1.2.0",
          "state": {
            "_model_module": "@jupyter-widgets/base",
            "_model_module_version": "1.2.0",
            "_model_name": "LayoutModel",
            "_view_count": null,
            "_view_module": "@jupyter-widgets/base",
            "_view_module_version": "1.2.0",
            "_view_name": "LayoutView",
            "align_content": null,
            "align_items": null,
            "align_self": null,
            "border": null,
            "bottom": null,
            "display": null,
            "flex": null,
            "flex_flow": null,
            "grid_area": null,
            "grid_auto_columns": null,
            "grid_auto_flow": null,
            "grid_auto_rows": null,
            "grid_column": null,
            "grid_gap": null,
            "grid_row": null,
            "grid_template_areas": null,
            "grid_template_columns": null,
            "grid_template_rows": null,
            "height": null,
            "justify_content": null,
            "justify_items": null,
            "left": null,
            "margin": null,
            "max_height": null,
            "max_width": null,
            "min_height": null,
            "min_width": null,
            "object_fit": null,
            "object_position": null,
            "order": null,
            "overflow": null,
            "overflow_x": null,
            "overflow_y": null,
            "padding": null,
            "right": null,
            "top": null,
            "visibility": "hidden",
            "width": null
          }
        },
        "05ad48f40ce44efc9cd1b649bc80270e": {
          "model_module": "@jupyter-widgets/base",
          "model_name": "LayoutModel",
          "model_module_version": "1.2.0",
          "state": {
            "_model_module": "@jupyter-widgets/base",
            "_model_module_version": "1.2.0",
            "_model_name": "LayoutModel",
            "_view_count": null,
            "_view_module": "@jupyter-widgets/base",
            "_view_module_version": "1.2.0",
            "_view_name": "LayoutView",
            "align_content": null,
            "align_items": null,
            "align_self": null,
            "border": null,
            "bottom": null,
            "display": null,
            "flex": null,
            "flex_flow": null,
            "grid_area": null,
            "grid_auto_columns": null,
            "grid_auto_flow": null,
            "grid_auto_rows": null,
            "grid_column": null,
            "grid_gap": null,
            "grid_row": null,
            "grid_template_areas": null,
            "grid_template_columns": null,
            "grid_template_rows": null,
            "height": null,
            "justify_content": null,
            "justify_items": null,
            "left": null,
            "margin": null,
            "max_height": null,
            "max_width": null,
            "min_height": null,
            "min_width": null,
            "object_fit": null,
            "object_position": null,
            "order": null,
            "overflow": null,
            "overflow_x": null,
            "overflow_y": null,
            "padding": null,
            "right": null,
            "top": null,
            "visibility": null,
            "width": null
          }
        },
        "dfa8f499cc7b4678832b31a9d0a890a2": {
          "model_module": "@jupyter-widgets/controls",
          "model_name": "DescriptionStyleModel",
          "model_module_version": "1.5.0",
          "state": {
            "_model_module": "@jupyter-widgets/controls",
            "_model_module_version": "1.5.0",
            "_model_name": "DescriptionStyleModel",
            "_view_count": null,
            "_view_module": "@jupyter-widgets/base",
            "_view_module_version": "1.2.0",
            "_view_name": "StyleView",
            "description_width": ""
          }
        },
        "0fb79f0e0f0c4d4a8d5a4d8296e0993c": {
          "model_module": "@jupyter-widgets/base",
          "model_name": "LayoutModel",
          "model_module_version": "1.2.0",
          "state": {
            "_model_module": "@jupyter-widgets/base",
            "_model_module_version": "1.2.0",
            "_model_name": "LayoutModel",
            "_view_count": null,
            "_view_module": "@jupyter-widgets/base",
            "_view_module_version": "1.2.0",
            "_view_name": "LayoutView",
            "align_content": null,
            "align_items": null,
            "align_self": null,
            "border": null,
            "bottom": null,
            "display": null,
            "flex": null,
            "flex_flow": null,
            "grid_area": null,
            "grid_auto_columns": null,
            "grid_auto_flow": null,
            "grid_auto_rows": null,
            "grid_column": null,
            "grid_gap": null,
            "grid_row": null,
            "grid_template_areas": null,
            "grid_template_columns": null,
            "grid_template_rows": null,
            "height": null,
            "justify_content": null,
            "justify_items": null,
            "left": null,
            "margin": null,
            "max_height": null,
            "max_width": null,
            "min_height": null,
            "min_width": null,
            "object_fit": null,
            "object_position": null,
            "order": null,
            "overflow": null,
            "overflow_x": null,
            "overflow_y": null,
            "padding": null,
            "right": null,
            "top": null,
            "visibility": null,
            "width": null
          }
        },
        "47ef8cb603fb4bc3ab8e7fe88e219497": {
          "model_module": "@jupyter-widgets/controls",
          "model_name": "ProgressStyleModel",
          "model_module_version": "1.5.0",
          "state": {
            "_model_module": "@jupyter-widgets/controls",
            "_model_module_version": "1.5.0",
            "_model_name": "ProgressStyleModel",
            "_view_count": null,
            "_view_module": "@jupyter-widgets/base",
            "_view_module_version": "1.2.0",
            "_view_name": "StyleView",
            "bar_color": null,
            "description_width": ""
          }
        },
        "bb19ec21de5f4c00b8684a90e488e1b1": {
          "model_module": "@jupyter-widgets/base",
          "model_name": "LayoutModel",
          "model_module_version": "1.2.0",
          "state": {
            "_model_module": "@jupyter-widgets/base",
            "_model_module_version": "1.2.0",
            "_model_name": "LayoutModel",
            "_view_count": null,
            "_view_module": "@jupyter-widgets/base",
            "_view_module_version": "1.2.0",
            "_view_name": "LayoutView",
            "align_content": null,
            "align_items": null,
            "align_self": null,
            "border": null,
            "bottom": null,
            "display": null,
            "flex": null,
            "flex_flow": null,
            "grid_area": null,
            "grid_auto_columns": null,
            "grid_auto_flow": null,
            "grid_auto_rows": null,
            "grid_column": null,
            "grid_gap": null,
            "grid_row": null,
            "grid_template_areas": null,
            "grid_template_columns": null,
            "grid_template_rows": null,
            "height": null,
            "justify_content": null,
            "justify_items": null,
            "left": null,
            "margin": null,
            "max_height": null,
            "max_width": null,
            "min_height": null,
            "min_width": null,
            "object_fit": null,
            "object_position": null,
            "order": null,
            "overflow": null,
            "overflow_x": null,
            "overflow_y": null,
            "padding": null,
            "right": null,
            "top": null,
            "visibility": null,
            "width": null
          }
        },
        "1ffbb120b5734e1798f1e91c38bddf16": {
          "model_module": "@jupyter-widgets/controls",
          "model_name": "DescriptionStyleModel",
          "model_module_version": "1.5.0",
          "state": {
            "_model_module": "@jupyter-widgets/controls",
            "_model_module_version": "1.5.0",
            "_model_name": "DescriptionStyleModel",
            "_view_count": null,
            "_view_module": "@jupyter-widgets/base",
            "_view_module_version": "1.2.0",
            "_view_name": "StyleView",
            "description_width": ""
          }
        },
        "415c1c83d8c84fa9bc2ebc069af9fea8": {
          "model_module": "@jupyter-widgets/controls",
          "model_name": "HBoxModel",
          "model_module_version": "1.5.0",
          "state": {
            "_dom_classes": [],
            "_model_module": "@jupyter-widgets/controls",
            "_model_module_version": "1.5.0",
            "_model_name": "HBoxModel",
            "_view_count": null,
            "_view_module": "@jupyter-widgets/controls",
            "_view_module_version": "1.5.0",
            "_view_name": "HBoxView",
            "box_style": "",
            "children": [
              "IPY_MODEL_d5641d5e7b1744f09252404e218c4970",
              "IPY_MODEL_efb7e7dc4aa24616bfe6c33798b3c5d3",
              "IPY_MODEL_ac0a6b70147f46dfb41807901db4b2b4"
            ],
            "layout": "IPY_MODEL_350e8ae9cef94d03a8eb0b2b05d4d59e"
          }
        },
        "d5641d5e7b1744f09252404e218c4970": {
          "model_module": "@jupyter-widgets/controls",
          "model_name": "HTMLModel",
          "model_module_version": "1.5.0",
          "state": {
            "_dom_classes": [],
            "_model_module": "@jupyter-widgets/controls",
            "_model_module_version": "1.5.0",
            "_model_name": "HTMLModel",
            "_view_count": null,
            "_view_module": "@jupyter-widgets/controls",
            "_view_module_version": "1.5.0",
            "_view_name": "HTMLView",
            "description": "",
            "description_tooltip": null,
            "layout": "IPY_MODEL_2e0ca8b4a36943e79448a68c27e4fe49",
            "placeholder": "​",
            "style": "IPY_MODEL_341f07b07920440ebb778031084d78ae",
            "value": "Making predictions: 100%"
          }
        },
        "efb7e7dc4aa24616bfe6c33798b3c5d3": {
          "model_module": "@jupyter-widgets/controls",
          "model_name": "FloatProgressModel",
          "model_module_version": "1.5.0",
          "state": {
            "_dom_classes": [],
            "_model_module": "@jupyter-widgets/controls",
            "_model_module_version": "1.5.0",
            "_model_name": "FloatProgressModel",
            "_view_count": null,
            "_view_module": "@jupyter-widgets/controls",
            "_view_module_version": "1.5.0",
            "_view_name": "ProgressView",
            "bar_style": "",
            "description": "",
            "description_tooltip": null,
            "layout": "IPY_MODEL_ca2b5edbefbd4e4990fdf99d34ddba30",
            "max": 98,
            "min": 0,
            "orientation": "horizontal",
            "style": "IPY_MODEL_f81376c036024c55b8c0aba4bab2e12b",
            "value": 98
          }
        },
        "ac0a6b70147f46dfb41807901db4b2b4": {
          "model_module": "@jupyter-widgets/controls",
          "model_name": "HTMLModel",
          "model_module_version": "1.5.0",
          "state": {
            "_dom_classes": [],
            "_model_module": "@jupyter-widgets/controls",
            "_model_module_version": "1.5.0",
            "_model_name": "HTMLModel",
            "_view_count": null,
            "_view_module": "@jupyter-widgets/controls",
            "_view_module_version": "1.5.0",
            "_view_name": "HTMLView",
            "description": "",
            "description_tooltip": null,
            "layout": "IPY_MODEL_d5888250a7a045f497fab754052ee60e",
            "placeholder": "​",
            "style": "IPY_MODEL_60d371eec90e4fb8a9d4ec94e32c2da7",
            "value": " 98/98 [00:43&lt;00:00,  2.29it/s]"
          }
        },
        "350e8ae9cef94d03a8eb0b2b05d4d59e": {
          "model_module": "@jupyter-widgets/base",
          "model_name": "LayoutModel",
          "model_module_version": "1.2.0",
          "state": {
            "_model_module": "@jupyter-widgets/base",
            "_model_module_version": "1.2.0",
            "_model_name": "LayoutModel",
            "_view_count": null,
            "_view_module": "@jupyter-widgets/base",
            "_view_module_version": "1.2.0",
            "_view_name": "LayoutView",
            "align_content": null,
            "align_items": null,
            "align_self": null,
            "border": null,
            "bottom": null,
            "display": null,
            "flex": null,
            "flex_flow": null,
            "grid_area": null,
            "grid_auto_columns": null,
            "grid_auto_flow": null,
            "grid_auto_rows": null,
            "grid_column": null,
            "grid_gap": null,
            "grid_row": null,
            "grid_template_areas": null,
            "grid_template_columns": null,
            "grid_template_rows": null,
            "height": null,
            "justify_content": null,
            "justify_items": null,
            "left": null,
            "margin": null,
            "max_height": null,
            "max_width": null,
            "min_height": null,
            "min_width": null,
            "object_fit": null,
            "object_position": null,
            "order": null,
            "overflow": null,
            "overflow_x": null,
            "overflow_y": null,
            "padding": null,
            "right": null,
            "top": null,
            "visibility": "hidden",
            "width": null
          }
        },
        "2e0ca8b4a36943e79448a68c27e4fe49": {
          "model_module": "@jupyter-widgets/base",
          "model_name": "LayoutModel",
          "model_module_version": "1.2.0",
          "state": {
            "_model_module": "@jupyter-widgets/base",
            "_model_module_version": "1.2.0",
            "_model_name": "LayoutModel",
            "_view_count": null,
            "_view_module": "@jupyter-widgets/base",
            "_view_module_version": "1.2.0",
            "_view_name": "LayoutView",
            "align_content": null,
            "align_items": null,
            "align_self": null,
            "border": null,
            "bottom": null,
            "display": null,
            "flex": null,
            "flex_flow": null,
            "grid_area": null,
            "grid_auto_columns": null,
            "grid_auto_flow": null,
            "grid_auto_rows": null,
            "grid_column": null,
            "grid_gap": null,
            "grid_row": null,
            "grid_template_areas": null,
            "grid_template_columns": null,
            "grid_template_rows": null,
            "height": null,
            "justify_content": null,
            "justify_items": null,
            "left": null,
            "margin": null,
            "max_height": null,
            "max_width": null,
            "min_height": null,
            "min_width": null,
            "object_fit": null,
            "object_position": null,
            "order": null,
            "overflow": null,
            "overflow_x": null,
            "overflow_y": null,
            "padding": null,
            "right": null,
            "top": null,
            "visibility": null,
            "width": null
          }
        },
        "341f07b07920440ebb778031084d78ae": {
          "model_module": "@jupyter-widgets/controls",
          "model_name": "DescriptionStyleModel",
          "model_module_version": "1.5.0",
          "state": {
            "_model_module": "@jupyter-widgets/controls",
            "_model_module_version": "1.5.0",
            "_model_name": "DescriptionStyleModel",
            "_view_count": null,
            "_view_module": "@jupyter-widgets/base",
            "_view_module_version": "1.2.0",
            "_view_name": "StyleView",
            "description_width": ""
          }
        },
        "ca2b5edbefbd4e4990fdf99d34ddba30": {
          "model_module": "@jupyter-widgets/base",
          "model_name": "LayoutModel",
          "model_module_version": "1.2.0",
          "state": {
            "_model_module": "@jupyter-widgets/base",
            "_model_module_version": "1.2.0",
            "_model_name": "LayoutModel",
            "_view_count": null,
            "_view_module": "@jupyter-widgets/base",
            "_view_module_version": "1.2.0",
            "_view_name": "LayoutView",
            "align_content": null,
            "align_items": null,
            "align_self": null,
            "border": null,
            "bottom": null,
            "display": null,
            "flex": null,
            "flex_flow": null,
            "grid_area": null,
            "grid_auto_columns": null,
            "grid_auto_flow": null,
            "grid_auto_rows": null,
            "grid_column": null,
            "grid_gap": null,
            "grid_row": null,
            "grid_template_areas": null,
            "grid_template_columns": null,
            "grid_template_rows": null,
            "height": null,
            "justify_content": null,
            "justify_items": null,
            "left": null,
            "margin": null,
            "max_height": null,
            "max_width": null,
            "min_height": null,
            "min_width": null,
            "object_fit": null,
            "object_position": null,
            "order": null,
            "overflow": null,
            "overflow_x": null,
            "overflow_y": null,
            "padding": null,
            "right": null,
            "top": null,
            "visibility": null,
            "width": null
          }
        },
        "f81376c036024c55b8c0aba4bab2e12b": {
          "model_module": "@jupyter-widgets/controls",
          "model_name": "ProgressStyleModel",
          "model_module_version": "1.5.0",
          "state": {
            "_model_module": "@jupyter-widgets/controls",
            "_model_module_version": "1.5.0",
            "_model_name": "ProgressStyleModel",
            "_view_count": null,
            "_view_module": "@jupyter-widgets/base",
            "_view_module_version": "1.2.0",
            "_view_name": "StyleView",
            "bar_color": null,
            "description_width": ""
          }
        },
        "d5888250a7a045f497fab754052ee60e": {
          "model_module": "@jupyter-widgets/base",
          "model_name": "LayoutModel",
          "model_module_version": "1.2.0",
          "state": {
            "_model_module": "@jupyter-widgets/base",
            "_model_module_version": "1.2.0",
            "_model_name": "LayoutModel",
            "_view_count": null,
            "_view_module": "@jupyter-widgets/base",
            "_view_module_version": "1.2.0",
            "_view_name": "LayoutView",
            "align_content": null,
            "align_items": null,
            "align_self": null,
            "border": null,
            "bottom": null,
            "display": null,
            "flex": null,
            "flex_flow": null,
            "grid_area": null,
            "grid_auto_columns": null,
            "grid_auto_flow": null,
            "grid_auto_rows": null,
            "grid_column": null,
            "grid_gap": null,
            "grid_row": null,
            "grid_template_areas": null,
            "grid_template_columns": null,
            "grid_template_rows": null,
            "height": null,
            "justify_content": null,
            "justify_items": null,
            "left": null,
            "margin": null,
            "max_height": null,
            "max_width": null,
            "min_height": null,
            "min_width": null,
            "object_fit": null,
            "object_position": null,
            "order": null,
            "overflow": null,
            "overflow_x": null,
            "overflow_y": null,
            "padding": null,
            "right": null,
            "top": null,
            "visibility": null,
            "width": null
          }
        },
        "60d371eec90e4fb8a9d4ec94e32c2da7": {
          "model_module": "@jupyter-widgets/controls",
          "model_name": "DescriptionStyleModel",
          "model_module_version": "1.5.0",
          "state": {
            "_model_module": "@jupyter-widgets/controls",
            "_model_module_version": "1.5.0",
            "_model_name": "DescriptionStyleModel",
            "_view_count": null,
            "_view_module": "@jupyter-widgets/base",
            "_view_module_version": "1.2.0",
            "_view_name": "StyleView",
            "description_width": ""
          }
        },
        "2750ca1835e645769930099c7c329e9d": {
          "model_module": "@jupyter-widgets/controls",
          "model_name": "HBoxModel",
          "model_module_version": "1.5.0",
          "state": {
            "_dom_classes": [],
            "_model_module": "@jupyter-widgets/controls",
            "_model_module_version": "1.5.0",
            "_model_name": "HBoxModel",
            "_view_count": null,
            "_view_module": "@jupyter-widgets/controls",
            "_view_module_version": "1.5.0",
            "_view_name": "HBoxView",
            "box_style": "",
            "children": [
              "IPY_MODEL_74fb6bf048f64ed49c6b9e94ea9b46b8",
              "IPY_MODEL_2609dc7aa68c41e8a051af05f2871cf5",
              "IPY_MODEL_6551898d178e4e72b2d95c07ffdbf712"
            ],
            "layout": "IPY_MODEL_3490fbcb87754e87b6d604c673b61c08"
          }
        },
        "74fb6bf048f64ed49c6b9e94ea9b46b8": {
          "model_module": "@jupyter-widgets/controls",
          "model_name": "HTMLModel",
          "model_module_version": "1.5.0",
          "state": {
            "_dom_classes": [],
            "_model_module": "@jupyter-widgets/controls",
            "_model_module_version": "1.5.0",
            "_model_name": "HTMLModel",
            "_view_count": null,
            "_view_module": "@jupyter-widgets/controls",
            "_view_module_version": "1.5.0",
            "_view_name": "HTMLView",
            "description": "",
            "description_tooltip": null,
            "layout": "IPY_MODEL_a859d01e5a274a7a80a8e8399c7188af",
            "placeholder": "​",
            "style": "IPY_MODEL_a76f45edc1cf4d1c8d15d826cd1707ca",
            "value": "Making predictions: 100%"
          }
        },
        "2609dc7aa68c41e8a051af05f2871cf5": {
          "model_module": "@jupyter-widgets/controls",
          "model_name": "FloatProgressModel",
          "model_module_version": "1.5.0",
          "state": {
            "_dom_classes": [],
            "_model_module": "@jupyter-widgets/controls",
            "_model_module_version": "1.5.0",
            "_model_name": "FloatProgressModel",
            "_view_count": null,
            "_view_module": "@jupyter-widgets/controls",
            "_view_module_version": "1.5.0",
            "_view_name": "ProgressView",
            "bar_style": "",
            "description": "",
            "description_tooltip": null,
            "layout": "IPY_MODEL_d74180302e274ad0a867d203a0b1d12f",
            "max": 98,
            "min": 0,
            "orientation": "horizontal",
            "style": "IPY_MODEL_5484378ecb224191813ba77163c3410b",
            "value": 98
          }
        },
        "6551898d178e4e72b2d95c07ffdbf712": {
          "model_module": "@jupyter-widgets/controls",
          "model_name": "HTMLModel",
          "model_module_version": "1.5.0",
          "state": {
            "_dom_classes": [],
            "_model_module": "@jupyter-widgets/controls",
            "_model_module_version": "1.5.0",
            "_model_name": "HTMLModel",
            "_view_count": null,
            "_view_module": "@jupyter-widgets/controls",
            "_view_module_version": "1.5.0",
            "_view_name": "HTMLView",
            "description": "",
            "description_tooltip": null,
            "layout": "IPY_MODEL_9d8d4304e9eb4039b5013c3e07c99648",
            "placeholder": "​",
            "style": "IPY_MODEL_79bf4ec8ce25499fbfa0e0541e0930e3",
            "value": " 98/98 [00:43&lt;00:00,  2.26it/s]"
          }
        },
        "3490fbcb87754e87b6d604c673b61c08": {
          "model_module": "@jupyter-widgets/base",
          "model_name": "LayoutModel",
          "model_module_version": "1.2.0",
          "state": {
            "_model_module": "@jupyter-widgets/base",
            "_model_module_version": "1.2.0",
            "_model_name": "LayoutModel",
            "_view_count": null,
            "_view_module": "@jupyter-widgets/base",
            "_view_module_version": "1.2.0",
            "_view_name": "LayoutView",
            "align_content": null,
            "align_items": null,
            "align_self": null,
            "border": null,
            "bottom": null,
            "display": null,
            "flex": null,
            "flex_flow": null,
            "grid_area": null,
            "grid_auto_columns": null,
            "grid_auto_flow": null,
            "grid_auto_rows": null,
            "grid_column": null,
            "grid_gap": null,
            "grid_row": null,
            "grid_template_areas": null,
            "grid_template_columns": null,
            "grid_template_rows": null,
            "height": null,
            "justify_content": null,
            "justify_items": null,
            "left": null,
            "margin": null,
            "max_height": null,
            "max_width": null,
            "min_height": null,
            "min_width": null,
            "object_fit": null,
            "object_position": null,
            "order": null,
            "overflow": null,
            "overflow_x": null,
            "overflow_y": null,
            "padding": null,
            "right": null,
            "top": null,
            "visibility": "hidden",
            "width": null
          }
        },
        "a859d01e5a274a7a80a8e8399c7188af": {
          "model_module": "@jupyter-widgets/base",
          "model_name": "LayoutModel",
          "model_module_version": "1.2.0",
          "state": {
            "_model_module": "@jupyter-widgets/base",
            "_model_module_version": "1.2.0",
            "_model_name": "LayoutModel",
            "_view_count": null,
            "_view_module": "@jupyter-widgets/base",
            "_view_module_version": "1.2.0",
            "_view_name": "LayoutView",
            "align_content": null,
            "align_items": null,
            "align_self": null,
            "border": null,
            "bottom": null,
            "display": null,
            "flex": null,
            "flex_flow": null,
            "grid_area": null,
            "grid_auto_columns": null,
            "grid_auto_flow": null,
            "grid_auto_rows": null,
            "grid_column": null,
            "grid_gap": null,
            "grid_row": null,
            "grid_template_areas": null,
            "grid_template_columns": null,
            "grid_template_rows": null,
            "height": null,
            "justify_content": null,
            "justify_items": null,
            "left": null,
            "margin": null,
            "max_height": null,
            "max_width": null,
            "min_height": null,
            "min_width": null,
            "object_fit": null,
            "object_position": null,
            "order": null,
            "overflow": null,
            "overflow_x": null,
            "overflow_y": null,
            "padding": null,
            "right": null,
            "top": null,
            "visibility": null,
            "width": null
          }
        },
        "a76f45edc1cf4d1c8d15d826cd1707ca": {
          "model_module": "@jupyter-widgets/controls",
          "model_name": "DescriptionStyleModel",
          "model_module_version": "1.5.0",
          "state": {
            "_model_module": "@jupyter-widgets/controls",
            "_model_module_version": "1.5.0",
            "_model_name": "DescriptionStyleModel",
            "_view_count": null,
            "_view_module": "@jupyter-widgets/base",
            "_view_module_version": "1.2.0",
            "_view_name": "StyleView",
            "description_width": ""
          }
        },
        "d74180302e274ad0a867d203a0b1d12f": {
          "model_module": "@jupyter-widgets/base",
          "model_name": "LayoutModel",
          "model_module_version": "1.2.0",
          "state": {
            "_model_module": "@jupyter-widgets/base",
            "_model_module_version": "1.2.0",
            "_model_name": "LayoutModel",
            "_view_count": null,
            "_view_module": "@jupyter-widgets/base",
            "_view_module_version": "1.2.0",
            "_view_name": "LayoutView",
            "align_content": null,
            "align_items": null,
            "align_self": null,
            "border": null,
            "bottom": null,
            "display": null,
            "flex": null,
            "flex_flow": null,
            "grid_area": null,
            "grid_auto_columns": null,
            "grid_auto_flow": null,
            "grid_auto_rows": null,
            "grid_column": null,
            "grid_gap": null,
            "grid_row": null,
            "grid_template_areas": null,
            "grid_template_columns": null,
            "grid_template_rows": null,
            "height": null,
            "justify_content": null,
            "justify_items": null,
            "left": null,
            "margin": null,
            "max_height": null,
            "max_width": null,
            "min_height": null,
            "min_width": null,
            "object_fit": null,
            "object_position": null,
            "order": null,
            "overflow": null,
            "overflow_x": null,
            "overflow_y": null,
            "padding": null,
            "right": null,
            "top": null,
            "visibility": null,
            "width": null
          }
        },
        "5484378ecb224191813ba77163c3410b": {
          "model_module": "@jupyter-widgets/controls",
          "model_name": "ProgressStyleModel",
          "model_module_version": "1.5.0",
          "state": {
            "_model_module": "@jupyter-widgets/controls",
            "_model_module_version": "1.5.0",
            "_model_name": "ProgressStyleModel",
            "_view_count": null,
            "_view_module": "@jupyter-widgets/base",
            "_view_module_version": "1.2.0",
            "_view_name": "StyleView",
            "bar_color": null,
            "description_width": ""
          }
        },
        "9d8d4304e9eb4039b5013c3e07c99648": {
          "model_module": "@jupyter-widgets/base",
          "model_name": "LayoutModel",
          "model_module_version": "1.2.0",
          "state": {
            "_model_module": "@jupyter-widgets/base",
            "_model_module_version": "1.2.0",
            "_model_name": "LayoutModel",
            "_view_count": null,
            "_view_module": "@jupyter-widgets/base",
            "_view_module_version": "1.2.0",
            "_view_name": "LayoutView",
            "align_content": null,
            "align_items": null,
            "align_self": null,
            "border": null,
            "bottom": null,
            "display": null,
            "flex": null,
            "flex_flow": null,
            "grid_area": null,
            "grid_auto_columns": null,
            "grid_auto_flow": null,
            "grid_auto_rows": null,
            "grid_column": null,
            "grid_gap": null,
            "grid_row": null,
            "grid_template_areas": null,
            "grid_template_columns": null,
            "grid_template_rows": null,
            "height": null,
            "justify_content": null,
            "justify_items": null,
            "left": null,
            "margin": null,
            "max_height": null,
            "max_width": null,
            "min_height": null,
            "min_width": null,
            "object_fit": null,
            "object_position": null,
            "order": null,
            "overflow": null,
            "overflow_x": null,
            "overflow_y": null,
            "padding": null,
            "right": null,
            "top": null,
            "visibility": null,
            "width": null
          }
        },
        "79bf4ec8ce25499fbfa0e0541e0930e3": {
          "model_module": "@jupyter-widgets/controls",
          "model_name": "DescriptionStyleModel",
          "model_module_version": "1.5.0",
          "state": {
            "_model_module": "@jupyter-widgets/controls",
            "_model_module_version": "1.5.0",
            "_model_name": "DescriptionStyleModel",
            "_view_count": null,
            "_view_module": "@jupyter-widgets/base",
            "_view_module_version": "1.2.0",
            "_view_name": "StyleView",
            "description_width": ""
          }
        },
        "202c5b537a134ed9b7f74bd11474e648": {
          "model_module": "@jupyter-widgets/controls",
          "model_name": "HBoxModel",
          "model_module_version": "1.5.0",
          "state": {
            "_dom_classes": [],
            "_model_module": "@jupyter-widgets/controls",
            "_model_module_version": "1.5.0",
            "_model_name": "HBoxModel",
            "_view_count": null,
            "_view_module": "@jupyter-widgets/controls",
            "_view_module_version": "1.5.0",
            "_view_name": "HBoxView",
            "box_style": "",
            "children": [
              "IPY_MODEL_8138c894499846b486b95063b76e883c",
              "IPY_MODEL_2370dfa1572a4ccfaf63ea3d670884e1",
              "IPY_MODEL_105843d66f1a424f985276d852389856"
            ],
            "layout": "IPY_MODEL_c401e0eff21a422899a1c371a7fc5901"
          }
        },
        "8138c894499846b486b95063b76e883c": {
          "model_module": "@jupyter-widgets/controls",
          "model_name": "HTMLModel",
          "model_module_version": "1.5.0",
          "state": {
            "_dom_classes": [],
            "_model_module": "@jupyter-widgets/controls",
            "_model_module_version": "1.5.0",
            "_model_name": "HTMLModel",
            "_view_count": null,
            "_view_module": "@jupyter-widgets/controls",
            "_view_module_version": "1.5.0",
            "_view_name": "HTMLView",
            "description": "",
            "description_tooltip": null,
            "layout": "IPY_MODEL_5b7f5242ca6d422889082ce3ae6ec1c1",
            "placeholder": "​",
            "style": "IPY_MODEL_3dafc5ba509341cc97c6a9b744468d87",
            "value": "Making predictions: 100%"
          }
        },
        "2370dfa1572a4ccfaf63ea3d670884e1": {
          "model_module": "@jupyter-widgets/controls",
          "model_name": "FloatProgressModel",
          "model_module_version": "1.5.0",
          "state": {
            "_dom_classes": [],
            "_model_module": "@jupyter-widgets/controls",
            "_model_module_version": "1.5.0",
            "_model_name": "FloatProgressModel",
            "_view_count": null,
            "_view_module": "@jupyter-widgets/controls",
            "_view_module_version": "1.5.0",
            "_view_name": "ProgressView",
            "bar_style": "",
            "description": "",
            "description_tooltip": null,
            "layout": "IPY_MODEL_09c4332b9ea6458db1c5db3ef546134f",
            "max": 98,
            "min": 0,
            "orientation": "horizontal",
            "style": "IPY_MODEL_2205488c379d44c9984eb5d893c2f275",
            "value": 98
          }
        },
        "105843d66f1a424f985276d852389856": {
          "model_module": "@jupyter-widgets/controls",
          "model_name": "HTMLModel",
          "model_module_version": "1.5.0",
          "state": {
            "_dom_classes": [],
            "_model_module": "@jupyter-widgets/controls",
            "_model_module_version": "1.5.0",
            "_model_name": "HTMLModel",
            "_view_count": null,
            "_view_module": "@jupyter-widgets/controls",
            "_view_module_version": "1.5.0",
            "_view_name": "HTMLView",
            "description": "",
            "description_tooltip": null,
            "layout": "IPY_MODEL_9a758733f02c47a1b65a01c14ac0c4c6",
            "placeholder": "​",
            "style": "IPY_MODEL_b416a7fd26d344a7a1184c0068db843b",
            "value": " 98/98 [00:44&lt;00:00,  2.23it/s]"
          }
        },
        "c401e0eff21a422899a1c371a7fc5901": {
          "model_module": "@jupyter-widgets/base",
          "model_name": "LayoutModel",
          "model_module_version": "1.2.0",
          "state": {
            "_model_module": "@jupyter-widgets/base",
            "_model_module_version": "1.2.0",
            "_model_name": "LayoutModel",
            "_view_count": null,
            "_view_module": "@jupyter-widgets/base",
            "_view_module_version": "1.2.0",
            "_view_name": "LayoutView",
            "align_content": null,
            "align_items": null,
            "align_self": null,
            "border": null,
            "bottom": null,
            "display": null,
            "flex": null,
            "flex_flow": null,
            "grid_area": null,
            "grid_auto_columns": null,
            "grid_auto_flow": null,
            "grid_auto_rows": null,
            "grid_column": null,
            "grid_gap": null,
            "grid_row": null,
            "grid_template_areas": null,
            "grid_template_columns": null,
            "grid_template_rows": null,
            "height": null,
            "justify_content": null,
            "justify_items": null,
            "left": null,
            "margin": null,
            "max_height": null,
            "max_width": null,
            "min_height": null,
            "min_width": null,
            "object_fit": null,
            "object_position": null,
            "order": null,
            "overflow": null,
            "overflow_x": null,
            "overflow_y": null,
            "padding": null,
            "right": null,
            "top": null,
            "visibility": "hidden",
            "width": null
          }
        },
        "5b7f5242ca6d422889082ce3ae6ec1c1": {
          "model_module": "@jupyter-widgets/base",
          "model_name": "LayoutModel",
          "model_module_version": "1.2.0",
          "state": {
            "_model_module": "@jupyter-widgets/base",
            "_model_module_version": "1.2.0",
            "_model_name": "LayoutModel",
            "_view_count": null,
            "_view_module": "@jupyter-widgets/base",
            "_view_module_version": "1.2.0",
            "_view_name": "LayoutView",
            "align_content": null,
            "align_items": null,
            "align_self": null,
            "border": null,
            "bottom": null,
            "display": null,
            "flex": null,
            "flex_flow": null,
            "grid_area": null,
            "grid_auto_columns": null,
            "grid_auto_flow": null,
            "grid_auto_rows": null,
            "grid_column": null,
            "grid_gap": null,
            "grid_row": null,
            "grid_template_areas": null,
            "grid_template_columns": null,
            "grid_template_rows": null,
            "height": null,
            "justify_content": null,
            "justify_items": null,
            "left": null,
            "margin": null,
            "max_height": null,
            "max_width": null,
            "min_height": null,
            "min_width": null,
            "object_fit": null,
            "object_position": null,
            "order": null,
            "overflow": null,
            "overflow_x": null,
            "overflow_y": null,
            "padding": null,
            "right": null,
            "top": null,
            "visibility": null,
            "width": null
          }
        },
        "3dafc5ba509341cc97c6a9b744468d87": {
          "model_module": "@jupyter-widgets/controls",
          "model_name": "DescriptionStyleModel",
          "model_module_version": "1.5.0",
          "state": {
            "_model_module": "@jupyter-widgets/controls",
            "_model_module_version": "1.5.0",
            "_model_name": "DescriptionStyleModel",
            "_view_count": null,
            "_view_module": "@jupyter-widgets/base",
            "_view_module_version": "1.2.0",
            "_view_name": "StyleView",
            "description_width": ""
          }
        },
        "09c4332b9ea6458db1c5db3ef546134f": {
          "model_module": "@jupyter-widgets/base",
          "model_name": "LayoutModel",
          "model_module_version": "1.2.0",
          "state": {
            "_model_module": "@jupyter-widgets/base",
            "_model_module_version": "1.2.0",
            "_model_name": "LayoutModel",
            "_view_count": null,
            "_view_module": "@jupyter-widgets/base",
            "_view_module_version": "1.2.0",
            "_view_name": "LayoutView",
            "align_content": null,
            "align_items": null,
            "align_self": null,
            "border": null,
            "bottom": null,
            "display": null,
            "flex": null,
            "flex_flow": null,
            "grid_area": null,
            "grid_auto_columns": null,
            "grid_auto_flow": null,
            "grid_auto_rows": null,
            "grid_column": null,
            "grid_gap": null,
            "grid_row": null,
            "grid_template_areas": null,
            "grid_template_columns": null,
            "grid_template_rows": null,
            "height": null,
            "justify_content": null,
            "justify_items": null,
            "left": null,
            "margin": null,
            "max_height": null,
            "max_width": null,
            "min_height": null,
            "min_width": null,
            "object_fit": null,
            "object_position": null,
            "order": null,
            "overflow": null,
            "overflow_x": null,
            "overflow_y": null,
            "padding": null,
            "right": null,
            "top": null,
            "visibility": null,
            "width": null
          }
        },
        "2205488c379d44c9984eb5d893c2f275": {
          "model_module": "@jupyter-widgets/controls",
          "model_name": "ProgressStyleModel",
          "model_module_version": "1.5.0",
          "state": {
            "_model_module": "@jupyter-widgets/controls",
            "_model_module_version": "1.5.0",
            "_model_name": "ProgressStyleModel",
            "_view_count": null,
            "_view_module": "@jupyter-widgets/base",
            "_view_module_version": "1.2.0",
            "_view_name": "StyleView",
            "bar_color": null,
            "description_width": ""
          }
        },
        "9a758733f02c47a1b65a01c14ac0c4c6": {
          "model_module": "@jupyter-widgets/base",
          "model_name": "LayoutModel",
          "model_module_version": "1.2.0",
          "state": {
            "_model_module": "@jupyter-widgets/base",
            "_model_module_version": "1.2.0",
            "_model_name": "LayoutModel",
            "_view_count": null,
            "_view_module": "@jupyter-widgets/base",
            "_view_module_version": "1.2.0",
            "_view_name": "LayoutView",
            "align_content": null,
            "align_items": null,
            "align_self": null,
            "border": null,
            "bottom": null,
            "display": null,
            "flex": null,
            "flex_flow": null,
            "grid_area": null,
            "grid_auto_columns": null,
            "grid_auto_flow": null,
            "grid_auto_rows": null,
            "grid_column": null,
            "grid_gap": null,
            "grid_row": null,
            "grid_template_areas": null,
            "grid_template_columns": null,
            "grid_template_rows": null,
            "height": null,
            "justify_content": null,
            "justify_items": null,
            "left": null,
            "margin": null,
            "max_height": null,
            "max_width": null,
            "min_height": null,
            "min_width": null,
            "object_fit": null,
            "object_position": null,
            "order": null,
            "overflow": null,
            "overflow_x": null,
            "overflow_y": null,
            "padding": null,
            "right": null,
            "top": null,
            "visibility": null,
            "width": null
          }
        },
        "b416a7fd26d344a7a1184c0068db843b": {
          "model_module": "@jupyter-widgets/controls",
          "model_name": "DescriptionStyleModel",
          "model_module_version": "1.5.0",
          "state": {
            "_model_module": "@jupyter-widgets/controls",
            "_model_module_version": "1.5.0",
            "_model_name": "DescriptionStyleModel",
            "_view_count": null,
            "_view_module": "@jupyter-widgets/base",
            "_view_module_version": "1.2.0",
            "_view_name": "StyleView",
            "description_width": ""
          }
        }
      }
    }
  },
  "cells": [
    {
      "cell_type": "markdown",
      "source": [
        "# EDA"
      ],
      "metadata": {
        "id": "rY8vPHpWCM7w"
      }
    },
    {
      "cell_type": "markdown",
      "source": [
        "Thanks to the great notebook's: \n",
        "- https://www.kaggle.com/code/lextoumbourou/feedback3-eda-hf-custom-trainer-sift\n",
        "- https://www.kaggle.com/code/ryanluoli2/simple-text-analysis-to-start-with\n",
        "- https://www.kaggle.com/code/egorsheremetov3/bert-defined-for-every-feature\n",
        "\n"
      ],
      "metadata": {
        "id": "UQl0nzyDCG8Y"
      }
    },
    {
      "cell_type": "code",
      "source": [
        "import numpy as np\n",
        "import pandas as pd\n",
        "\n",
        "import seaborn as sns\n",
        "import plotly.express as px\n",
        "import matplotlib.pyplot as plt\n",
        "\n",
        "from wordcloud import WordCloud\n",
        "from collections import Counter\n",
        "from nltk.corpus import stopwords\n",
        "from collections import defaultdict\n",
        "from IPython.core.display import display, HTML\n",
        "\n",
        "from sklearn.feature_extraction.text import CountVectorizer"
      ],
      "metadata": {
        "id": "4RLJSNmICRXH"
      },
      "execution_count": 1,
      "outputs": []
    },
    {
      "cell_type": "markdown",
      "source": [
        "### Evaluation:\n",
        "Submissions are scored using MCRMSE, mean columnwise root mean squared error:\n",
        "![image.png](data:image/png;base64,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)"
      ],
      "metadata": {
        "id": "tasAcWIvCsBi"
      }
    },
    {
      "cell_type": "code",
      "source": [
        "def mcrmse(targets, predictions):\n",
        "    error = targets - predictions\n",
        "    squared_error = np.square(error)\n",
        "    colwise_mse = np.mean(squared_error, axis=0)\n",
        "    root_colwise_mse = np.sqrt(colwise_mse)\n",
        "    return np.mean(root_colwise_mse, axis=0)"
      ],
      "metadata": {
        "id": "WEbjiwcuCzq-"
      },
      "execution_count": 2,
      "outputs": []
    },
    {
      "cell_type": "markdown",
      "source": [
        "### Import Data"
      ],
      "metadata": {
        "id": "BUJ9vpEjDWQB"
      }
    },
    {
      "cell_type": "code",
      "source": [
        "df_train = pd.read_csv('input/train.csv')\n",
        "df_test = pd.read_csv('input/test.csv')\n",
        "submission = pd.read_csv('input/sample_submission.csv')"
      ],
      "metadata": {
        "id": "8TkQIWPpDYnf"
      },
      "execution_count": 3,
      "outputs": []
    },
    {
      "cell_type": "code",
      "source": [
        "df_train[\"full_text\"].iloc[3]"
      ],
      "metadata": {
        "id": "ztzmRFxrDcjG",
        "colab": {
          "base_uri": "https://localhost:8080/",
          "height": 200
        },
        "outputId": "3bce37c2-df3c-4218-c8cc-1755462c5381"
      },
      "execution_count": 4,
      "outputs": [
        {
          "output_type": "execute_result",
          "data": {
            "text/plain": [
              "'The best time in life is when you become yourself. I agree that the greatest accomplishment, is when you be yourself in a world that constantly trying to make you something else. Because you make your own choices, you become more happy, and you respect others.\\n\\nFirst, you make your own choices by being yourself. Becoming yourself means that you should be able to make your own choices and not be shy or afraid of what you\\'re doing. Because you\\'re defining yourself by doing those things that you want. Some people follow others, therefore, they don\\'t make their own choices. People are afraid to make their own choice because they don\\'t want to get rejected or be wrong. In this world, most of the teenagers act and follow the people who are strong and bullies. The reason they follow them and make the same choices they make, is because they\\'re afraid that they will get beaten up and be left out. Personally when I came to the United States I used to follow other, because I thought they were amazing. But one day, I knew I was walking in the wrong path and I left them. Making your own choices makes you happy because you get to do what you like and what you want to do. It\\'s hard to make your own choices, but one day you\\'re going to have to make your own choices. The more you mature the more it will become easier for you to not be afraid of what you\\'re doing and how other people are looking at it, because at the end of the day It\\'s your life and you do what you think is right.\\n\\nSecond, You become more happy by being yourself because you make your own choices, You take responsibilities and you do whatever makes you happy. Also, some people act like they\\'re happy while not being themselves, but matter of fact, they\\'re depressed from the inside. Being yourself makes you more happy because you feel like you achieved something big. Also, Some religious kids who become themselves love everyone. In the bible it says \"Those who know God should love others, because God is love.\"\\n\\nNot being yourself will get you depressed because you don\\'t do everything you want to do, but you do what others wanna do because you want to fit in. Some kids who come from a different country will do stuff they don\\'t want to do just to fit in, because they don\\'t want to be lonely. Some people are afraid they won\\'t be happy because they would lose a lot of friends for being themselves, but they have to know that those people should be there for them and support them for what he\\'s doing since it\\'s his friends.\\n\\nLastly, Respecting others will gain them to respect you. Some teenagers like to make fun of others, not listen to what they have to say, and they like to beat kids up. Also some kids don\\'t like to not listen to their parents, and that is also disrespectful. The bible says \" Honor your father and mother.\"\\n\\nIf you respect your parents and listen to them, then they would trust you and not ask you lots of questions. Respecting other should be really important, because you don\\'t want others to not respect you. Also, Some people are disrespectful because they were never respected. Important things to do to be respectful is, Listen to what the other person has to say, Stand up for them, Being friends with them Doing all of that will gain you respect and you would have good friends. Also, if you see someone bullying a kid don\\'t watch, and stand up for them, don\\'t be afraid to stand up for someone because you\\'re doing the right thing.\\n\\nSome may disagree with me and say that it\\'s not that big of a deal, and it doesn\\'t feel like a big accomplishment. But with all do respect, I agree that it\\'s a big accomplishment because nowadays it\\'s really hard to become yourself.\\n\\nIn conclusion, It\\'s hard to become yourself in this world, because others are holding that opportunity back from you and you\\'re afraid to fight it back. That\\'s why I agree that to be yourself in a world that is constantly trying to make you something else is the greatest accomplishment. '"
            ],
            "application/vnd.google.colaboratory.intrinsic+json": {
              "type": "string"
            }
          },
          "metadata": {},
          "execution_count": 4
        }
      ]
    },
    {
      "cell_type": "code",
      "source": [
        "df_train.head()"
      ],
      "metadata": {
        "colab": {
          "base_uri": "https://localhost:8080/",
          "height": 337
        },
        "id": "k98DF302qrbO",
        "outputId": "e39a8650-42b1-4194-fe5b-c32869f59878"
      },
      "execution_count": 5,
      "outputs": [
        {
          "output_type": "execute_result",
          "data": {
            "text/plain": [
              "        text_id                                          full_text  cohesion  \\\n",
              "0  0016926B079C  I think that students would benefit from learn...       3.5   \n",
              "1  0022683E9EA5  When a problem is a change you have to let it ...       2.5   \n",
              "2  00299B378633  Dear, Principal\\n\\nIf u change the school poli...       3.0   \n",
              "3  003885A45F42  The best time in life is when you become yours...       4.5   \n",
              "4  0049B1DF5CCC  Small act of kindness can impact in other peop...       2.5   \n",
              "\n",
              "   syntax  vocabulary  phraseology  grammar  conventions  \n",
              "0     3.5         3.0          3.0      4.0          3.0  \n",
              "1     2.5         3.0          2.0      2.0          2.5  \n",
              "2     3.5         3.0          3.0      3.0          2.5  \n",
              "3     4.5         4.5          4.5      4.0          5.0  \n",
              "4     3.0         3.0          3.0      2.5          2.5  "
            ],
            "text/html": [
              "\n",
              "  <div id=\"df-64d2f015-a0fb-48f7-a203-1dbb1b66ee7c\">\n",
              "    <div class=\"colab-df-container\">\n",
              "      <div>\n",
              "<style scoped>\n",
              "    .dataframe tbody tr th:only-of-type {\n",
              "        vertical-align: middle;\n",
              "    }\n",
              "\n",
              "    .dataframe tbody tr th {\n",
              "        vertical-align: top;\n",
              "    }\n",
              "\n",
              "    .dataframe thead th {\n",
              "        text-align: right;\n",
              "    }\n",
              "</style>\n",
              "<table border=\"1\" class=\"dataframe\">\n",
              "  <thead>\n",
              "    <tr style=\"text-align: right;\">\n",
              "      <th></th>\n",
              "      <th>text_id</th>\n",
              "      <th>full_text</th>\n",
              "      <th>cohesion</th>\n",
              "      <th>syntax</th>\n",
              "      <th>vocabulary</th>\n",
              "      <th>phraseology</th>\n",
              "      <th>grammar</th>\n",
              "      <th>conventions</th>\n",
              "    </tr>\n",
              "  </thead>\n",
              "  <tbody>\n",
              "    <tr>\n",
              "      <th>0</th>\n",
              "      <td>0016926B079C</td>\n",
              "      <td>I think that students would benefit from learn...</td>\n",
              "      <td>3.5</td>\n",
              "      <td>3.5</td>\n",
              "      <td>3.0</td>\n",
              "      <td>3.0</td>\n",
              "      <td>4.0</td>\n",
              "      <td>3.0</td>\n",
              "    </tr>\n",
              "    <tr>\n",
              "      <th>1</th>\n",
              "      <td>0022683E9EA5</td>\n",
              "      <td>When a problem is a change you have to let it ...</td>\n",
              "      <td>2.5</td>\n",
              "      <td>2.5</td>\n",
              "      <td>3.0</td>\n",
              "      <td>2.0</td>\n",
              "      <td>2.0</td>\n",
              "      <td>2.5</td>\n",
              "    </tr>\n",
              "    <tr>\n",
              "      <th>2</th>\n",
              "      <td>00299B378633</td>\n",
              "      <td>Dear, Principal\\n\\nIf u change the school poli...</td>\n",
              "      <td>3.0</td>\n",
              "      <td>3.5</td>\n",
              "      <td>3.0</td>\n",
              "      <td>3.0</td>\n",
              "      <td>3.0</td>\n",
              "      <td>2.5</td>\n",
              "    </tr>\n",
              "    <tr>\n",
              "      <th>3</th>\n",
              "      <td>003885A45F42</td>\n",
              "      <td>The best time in life is when you become yours...</td>\n",
              "      <td>4.5</td>\n",
              "      <td>4.5</td>\n",
              "      <td>4.5</td>\n",
              "      <td>4.5</td>\n",
              "      <td>4.0</td>\n",
              "      <td>5.0</td>\n",
              "    </tr>\n",
              "    <tr>\n",
              "      <th>4</th>\n",
              "      <td>0049B1DF5CCC</td>\n",
              "      <td>Small act of kindness can impact in other peop...</td>\n",
              "      <td>2.5</td>\n",
              "      <td>3.0</td>\n",
              "      <td>3.0</td>\n",
              "      <td>3.0</td>\n",
              "      <td>2.5</td>\n",
              "      <td>2.5</td>\n",
              "    </tr>\n",
              "  </tbody>\n",
              "</table>\n",
              "</div>\n",
              "      <button class=\"colab-df-convert\" onclick=\"convertToInteractive('df-64d2f015-a0fb-48f7-a203-1dbb1b66ee7c')\"\n",
              "              title=\"Convert this dataframe to an interactive table.\"\n",
              "              style=\"display:none;\">\n",
              "        \n",
              "  <svg xmlns=\"http://www.w3.org/2000/svg\" height=\"24px\"viewBox=\"0 0 24 24\"\n",
              "       width=\"24px\">\n",
              "    <path d=\"M0 0h24v24H0V0z\" fill=\"none\"/>\n",
              "    <path d=\"M18.56 5.44l.94 2.06.94-2.06 2.06-.94-2.06-.94-.94-2.06-.94 2.06-2.06.94zm-11 1L8.5 8.5l.94-2.06 2.06-.94-2.06-.94L8.5 2.5l-.94 2.06-2.06.94zm10 10l.94 2.06.94-2.06 2.06-.94-2.06-.94-.94-2.06-.94 2.06-2.06.94z\"/><path d=\"M17.41 7.96l-1.37-1.37c-.4-.4-.92-.59-1.43-.59-.52 0-1.04.2-1.43.59L10.3 9.45l-7.72 7.72c-.78.78-.78 2.05 0 2.83L4 21.41c.39.39.9.59 1.41.59.51 0 1.02-.2 1.41-.59l7.78-7.78 2.81-2.81c.8-.78.8-2.07 0-2.86zM5.41 20L4 18.59l7.72-7.72 1.47 1.35L5.41 20z\"/>\n",
              "  </svg>\n",
              "      </button>\n",
              "      \n",
              "  <style>\n",
              "    .colab-df-container {\n",
              "      display:flex;\n",
              "      flex-wrap:wrap;\n",
              "      gap: 12px;\n",
              "    }\n",
              "\n",
              "    .colab-df-convert {\n",
              "      background-color: #E8F0FE;\n",
              "      border: none;\n",
              "      border-radius: 50%;\n",
              "      cursor: pointer;\n",
              "      display: none;\n",
              "      fill: #1967D2;\n",
              "      height: 32px;\n",
              "      padding: 0 0 0 0;\n",
              "      width: 32px;\n",
              "    }\n",
              "\n",
              "    .colab-df-convert:hover {\n",
              "      background-color: #E2EBFA;\n",
              "      box-shadow: 0px 1px 2px rgba(60, 64, 67, 0.3), 0px 1px 3px 1px rgba(60, 64, 67, 0.15);\n",
              "      fill: #174EA6;\n",
              "    }\n",
              "\n",
              "    [theme=dark] .colab-df-convert {\n",
              "      background-color: #3B4455;\n",
              "      fill: #D2E3FC;\n",
              "    }\n",
              "\n",
              "    [theme=dark] .colab-df-convert:hover {\n",
              "      background-color: #434B5C;\n",
              "      box-shadow: 0px 1px 3px 1px rgba(0, 0, 0, 0.15);\n",
              "      filter: drop-shadow(0px 1px 2px rgba(0, 0, 0, 0.3));\n",
              "      fill: #FFFFFF;\n",
              "    }\n",
              "  </style>\n",
              "\n",
              "      <script>\n",
              "        const buttonEl =\n",
              "          document.querySelector('#df-64d2f015-a0fb-48f7-a203-1dbb1b66ee7c button.colab-df-convert');\n",
              "        buttonEl.style.display =\n",
              "          google.colab.kernel.accessAllowed ? 'block' : 'none';\n",
              "\n",
              "        async function convertToInteractive(key) {\n",
              "          const element = document.querySelector('#df-64d2f015-a0fb-48f7-a203-1dbb1b66ee7c');\n",
              "          const dataTable =\n",
              "            await google.colab.kernel.invokeFunction('convertToInteractive',\n",
              "                                                     [key], {});\n",
              "          if (!dataTable) return;\n",
              "\n",
              "          const docLinkHtml = 'Like what you see? Visit the ' +\n",
              "            '<a target=\"_blank\" href=https://colab.research.google.com/notebooks/data_table.ipynb>data table notebook</a>'\n",
              "            + ' to learn more about interactive tables.';\n",
              "          element.innerHTML = '';\n",
              "          dataTable['output_type'] = 'display_data';\n",
              "          await google.colab.output.renderOutput(dataTable, element);\n",
              "          const docLink = document.createElement('div');\n",
              "          docLink.innerHTML = docLinkHtml;\n",
              "          element.appendChild(docLink);\n",
              "        }\n",
              "      </script>\n",
              "    </div>\n",
              "  </div>\n",
              "  "
            ]
          },
          "metadata": {},
          "execution_count": 5
        }
      ]
    },
    {
      "cell_type": "code",
      "source": [
        "len(df_train)"
      ],
      "metadata": {
        "colab": {
          "base_uri": "https://localhost:8080/"
        },
        "id": "fIGZGL9yqy9s",
        "outputId": "d42eb8ae-4922-46bf-c2ae-b9dc4ab85ed9"
      },
      "execution_count": 6,
      "outputs": [
        {
          "output_type": "execute_result",
          "data": {
            "text/plain": [
              "3911"
            ]
          },
          "metadata": {},
          "execution_count": 6
        }
      ]
    },
    {
      "cell_type": "markdown",
      "source": [
        "### Output Variables"
      ],
      "metadata": {
        "id": "_BS8Oi7BrZvl"
      }
    },
    {
      "cell_type": "code",
      "source": [
        "df_train.columns"
      ],
      "metadata": {
        "colab": {
          "base_uri": "https://localhost:8080/"
        },
        "id": "qFhibG_4r9Pk",
        "outputId": "3f88e261-5c43-418f-93a7-37f8a0000d04"
      },
      "execution_count": 7,
      "outputs": [
        {
          "output_type": "execute_result",
          "data": {
            "text/plain": [
              "Index(['text_id', 'full_text', 'cohesion', 'syntax', 'vocabulary',\n",
              "       'phraseology', 'grammar', 'conventions'],\n",
              "      dtype='object')"
            ]
          },
          "metadata": {},
          "execution_count": 7
        }
      ]
    },
    {
      "cell_type": "code",
      "source": [
        "# Distribution\n",
        "\n",
        "targets = ['cohesion', 'syntax', 'vocabulary', 'phraseology', 'grammar', 'conventions']\n",
        "\n",
        "fig, axes = plt.subplots(2, len(targets)//2, figsize=(12,6))\n",
        "\n",
        "for i, target in enumerate(targets):\n",
        "    ax = axes.flat[i]\n",
        "    sns.histplot(x=target, data=df_train, linewidth=1.25, alpha=1, ax=ax, zorder=2)\n",
        "    ax.set_title(target)\n",
        "    ax.set(xlabel=None, ylabel=None)\n",
        "    \n",
        "fig.suptitle('')\n",
        "plt.tight_layout()\n",
        "plt.show()"
      ],
      "metadata": {
        "colab": {
          "base_uri": "https://localhost:8080/",
          "height": 422
        },
        "id": "r1U7kuRprVYW",
        "outputId": "d8020361-2bbf-4f5c-f0ac-93295fd5d12f"
      },
      "execution_count": 8,
      "outputs": [
        {
          "output_type": "display_data",
          "data": {
            "text/plain": [
              "<Figure size 864x432 with 6 Axes>"
            ],
            "image/png": "[encoded data removed]"
          },
          "metadata": {
            "needs_background": "light"
          }
        }
      ]
    },
    {
      "cell_type": "code",
      "source": [
        "# Correlation\n",
        "\n",
        "corr = df_train[targets].corr()\n",
        "fig, ax = plt.subplots(figsize=(6,6))        \n",
        "sns.heatmap(corr, xticklabels=corr.columns, yticklabels=corr.columns, square=True, annot=True, cmap=\"coolwarm\", fmt=\".2f\")\n",
        "plt.show()"
      ],
      "metadata": {
        "colab": {
          "base_uri": "https://localhost:8080/",
          "height": 400
        },
        "id": "ZW7MvdQmrqLc",
        "outputId": "cf30b7cc-6236-42f4-8eaf-76c0da12d1b4"
      },
      "execution_count": 9,
      "outputs": [
        {
          "output_type": "display_data",
          "data": {
            "text/plain": [
              "<Figure size 432x432 with 2 Axes>"
            ],
            "image/png": "[encoded data removed]"
          },
          "metadata": {
            "needs_background": "light"
          }
        }
      ]
    },
    {
      "cell_type": "code",
      "source": [
        "# Function pretty printer\n",
        "def print_texts(df):\n",
        "    inner_html = \"\"\n",
        "    for idx, row in df.iterrows():\n",
        "        inner_html += f\"\"\"\n",
        "        <td style=\"vertical-align:top; border-right: 1px solid #7accd8\">\n",
        "        <h3 style=\"text-align:left\">{row.text_id}</h3>\n",
        "        <hr>\n",
        "            <dl>\n",
        "                <dt>Cohesion Syntax Vocabulary Phraseology Grammar Conventions</dt>\n",
        "                <dd>{row.cohesion} {row.syntax} {row.vocabulary} {row.phraseology} {row.grammar} {row.conventions}</dd>\n",
        "            </dl>\n",
        "            \n",
        "            <hr>\n",
        "            <p>\n",
        "            {row.full_text[:500]}\n",
        "            </p>\n",
        "        </td>\n",
        "        \"\"\"\n",
        "    display(HTML(f\"\"\"\n",
        "    <table style=\"font-family: monospace;\">\n",
        "        <tr>\n",
        "             {inner_html}\n",
        "        </tr>\n",
        "    </table>\n",
        "    \"\"\"))"
      ],
      "metadata": {
        "id": "QFur0qSfsvjX"
      },
      "execution_count": 10,
      "outputs": []
    },
    {
      "cell_type": "code",
      "source": [
        "# Lowest vs Highest Scores\n",
        "df_train['total_score'] = df_train[targets].sum(axis=1)\n",
        "lowest = df_train.sort_values('total_score').head(2)\n",
        "print_texts(lowest)\n",
        "\n",
        "df_train['total_score'] = df_train[targets].sum(axis=1)\n",
        "highest = df_train.sort_values('total_score', ascending=False).head(2)\n",
        "print_texts(highest)"
      ],
      "metadata": {
        "colab": {
          "base_uri": "https://localhost:8080/",
          "height": 657
        },
        "id": "kQW3VnZvr3vO",
        "outputId": "22e90694-3709-40fa-efee-887267c2e344"
      },
      "execution_count": 11,
      "outputs": [
        {
          "output_type": "display_data",
          "data": {
            "text/plain": [
              "<IPython.core.display.HTML object>"
            ],
            "text/html": [
              "\n",
              "    <table style=\"font-family: monospace;\">\n",
              "        <tr>\n",
              "             \n",
              "        <td style=\"vertical-align:top; border-right: 1px solid #7accd8\">\n",
              "        <h3 style=\"text-align:left\">767533E12569</h3>\n",
              "        <hr>\n",
              "            <dl>\n",
              "                <dt>Cohesion Syntax Vocabulary Phraseology Grammar Conventions</dt>\n",
              "                <dd>1.0 1.0 1.0 1.0 1.0 1.0</dd>\n",
              "            </dl>\n",
              "            \n",
              "            <hr>\n",
              "            <p>\n",
              "            he is a good because they are the prescient and us. now the are more procession a other prescient and us. because and the more many education for student and school. the more school for one because he have a one women the have many education for a other because the good more the one is information for access because is not like the brazen giant of Greek fame with conquering one nation for is the imprison the eyes command the one book for people the us give more your lied your huddled Farmer with\n",
              "            </p>\n",
              "        </td>\n",
              "        \n",
              "        <td style=\"vertical-align:top; border-right: 1px solid #7accd8\">\n",
              "        <h3 style=\"text-align:left\">48EA282A4EAF</h3>\n",
              "        <hr>\n",
              "            <dl>\n",
              "                <dt>Cohesion Syntax Vocabulary Phraseology Grammar Conventions</dt>\n",
              "                <dd>1.0 1.0 1.0 1.0 1.0 1.0</dd>\n",
              "            </dl>\n",
              "            \n",
              "            <hr>\n",
              "            <p>\n",
              "            some student offer distance learning as an option for student to attend classes from homr by wat of online pr video conferencing. i think student would benefit form being able to attend classesfrom home. you are authorized take the electronic version of this you will taking this promptsome student offer distance learning as an option for student to attend classes from homr by wat of online pr video conferencing. some student offer distance learning as an option for student to attend classes from\n",
              "            </p>\n",
              "        </td>\n",
              "        \n",
              "        </tr>\n",
              "    </table>\n",
              "    "
            ]
          },
          "metadata": {}
        },
        {
          "output_type": "display_data",
          "data": {
            "text/plain": [
              "<IPython.core.display.HTML object>"
            ],
            "text/html": [
              "\n",
              "    <table style=\"font-family: monospace;\">\n",
              "        <tr>\n",
              "             \n",
              "        <td style=\"vertical-align:top; border-right: 1px solid #7accd8\">\n",
              "        <h3 style=\"text-align:left\">B1AFACE6704E</h3>\n",
              "        <hr>\n",
              "            <dl>\n",
              "                <dt>Cohesion Syntax Vocabulary Phraseology Grammar Conventions</dt>\n",
              "                <dd>5.0 5.0 5.0 5.0 5.0 5.0</dd>\n",
              "            </dl>\n",
              "            \n",
              "            <hr>\n",
              "            <p>\n",
              "            I agree with Michelangelo's statement as I have found through experience that it benefits me more to set high expectations and not reach my goal, rather than settling on a low goal and achieving it. When setting high goals, I find that I learn more and progress my abilties further than I do with a lower goal. This is because setting high goals requires confidence, challenges, and pride.\n",
              "\n",
              "Firstly, hard work is required to achieve high goals, and requires confidence. Confidence involves having tru\n",
              "            </p>\n",
              "        </td>\n",
              "        \n",
              "        <td style=\"vertical-align:top; border-right: 1px solid #7accd8\">\n",
              "        <h3 style=\"text-align:left\">52DC3B7C3952</h3>\n",
              "        <hr>\n",
              "            <dl>\n",
              "                <dt>Cohesion Syntax Vocabulary Phraseology Grammar Conventions</dt>\n",
              "                <dd>5.0 5.0 4.5 5.0 5.0 5.0</dd>\n",
              "            </dl>\n",
              "            \n",
              "            <hr>\n",
              "            <p>\n",
              "            Working From Home\n",
              "\n",
              "Should students be allowed to attend classes from home? I agree that attending classes while at home would be beneficial for many people and can actually help them work better. One reason is that it would be less stressful for the student and put a lot less pressure into getting the work done. Another reason is that it would give them more time to work, for example they could relax and take little breaks while working instead of having to cram all that work into one class sess\n",
              "            </p>\n",
              "        </td>\n",
              "        \n",
              "        </tr>\n",
              "    </table>\n",
              "    "
            ]
          },
          "metadata": {}
        }
      ]
    },
    {
      "cell_type": "markdown",
      "source": [
        "### Text Analysis"
      ],
      "metadata": {
        "id": "h3zLhU-6sLye"
      }
    },
    {
      "cell_type": "markdown",
      "source": [
        "Number of Characters"
      ],
      "metadata": {
        "id": "U8SKdxoGt9u9"
      }
    },
    {
      "cell_type": "code",
      "source": [
        "fig = plt.figure(figsize=(15, 5))\n",
        "df_train['num_characters'] = df_train['full_text'].str.len()\n",
        "sns.histplot(data=df_train, x=\"num_characters\")\n",
        "plt.title(\"Number of Characters\")\n",
        "plt.show()"
      ],
      "metadata": {
        "colab": {
          "base_uri": "https://localhost:8080/",
          "height": 0
        },
        "id": "FtzFxV3nt3wU",
        "outputId": "f5786b96-0777-472c-95b0-a2e92048b991"
      },
      "execution_count": 12,
      "outputs": [
        {
          "output_type": "display_data",
          "data": {
            "text/plain": [
              "<Figure size 1080x360 with 1 Axes>"
            ],
            "image/png": "[encoded data removed]"
          },
          "metadata": {
            "needs_background": "light"
          }
        }
      ]
    },
    {
      "cell_type": "code",
      "source": [
        "fig = px.histogram(df_train, x = df_train['full_text'].str.len(), marginal=\"box\", \n",
        "                   title = \"Number of Characters\", color_discrete_sequence=[\"#FFA200\"])\n",
        "fig.update_layout(bargap=0.2)\n",
        "fig.update_layout(template=\"plotly_dark\", font=dict(family=\"PT Sans\", size=18, color=\"#C4FEFF\"))\n",
        "fig.show()"
      ],
      "metadata": {
        "colab": {
          "base_uri": "https://localhost:8080/",
          "height": 0
        },
        "id": "zE3DrTnSt8nf",
        "outputId": "0800809c-b9ec-4d7b-cd04-b284c5acb31c"
      },
      "execution_count": 13,
      "outputs": [
        {
          "output_type": "display_data",
          "data": {
            "text/html": [
              "<html>\n",
              "<head><meta charset=\"utf-8\" /></head>\n",
              "<body>\n",
              "    <div>            <script src=\"https://cdnjs.cloudflare.com/ajax/libs/mathjax/2.7.5/MathJax.js?config=TeX-AMS-MML_SVG\"></script><script type=\"text/javascript\">if (window.MathJax) {MathJax.Hub.Config({SVG: {font: \"STIX-Web\"}});}</script>                <script type=\"text/javascript\">window.PlotlyConfig = {MathJaxConfig: 'local'};</script>\n",
              "        <script src=\"https://cdn.plot.ly/plotly-2.8.3.min.js\"></script>                <div id=\"aec999a4-205a-4054-8430-c878a6b24d8b\" class=\"plotly-graph-div\" style=\"height:525px; width:100%;\"></div>            <script type=\"text/javascript\">                                    window.PLOTLYENV=window.PLOTLYENV || {};                                    if (document.getElementById(\"aec999a4-205a-4054-8430-c878a6b24d8b\")) {                    Plotly.newPlot(                        \"aec999a4-205a-4054-8430-c878a6b24d8b\",                        [{\"alignmentgroup\":\"True\",\"bingroup\":\"x\",\"hovertemplate\":\"x=%{x}<br>count=%{y}<extra></extra>\",\"legendgroup\":\"\",\"marker\":{\"color\":\"#FFA200\",\"pattern\":{\"shape\":\"\"}},\"name\":\"\",\"offsetgroup\":\"\",\"orientation\":\"v\",\"showlegend\":false,\"x\":[1387,2635,1663,3973,1326,1858,2317,1990,3100,2098,1807,2353,1075,3710,3507,1558,2642,3350,1344,1614,2750,2190,1832,3514,3168,940,2965,2870,1647,1200,2281,3796,1309,3090,5998,3797,3155,2320,2839,1356,1699,1511,2009,2453,3675,2830,1652,923,3222,5249,6010,1087,2096,2407,2781,1995,3359,1571,6040,2042,2633,1757,1996,2858,2247,2462,2203,1848,1289,1327,1104,2706,1809,2160,3052,1026,1847,2653,2013,2461,4286,2152,1259,1525,2756,2020,3643,2661,1060,1051,2173,1338,4631,2792,3344,2966,1295,1729,6010,1994,3371,2611,5073,3403,4330,1335,1954,1511,4173,1914,3132,2664,2950,2102,1847,3634,2080,1606,1556,1553,2390,2169,1692,1649,2732,952,1481,2544,2180,1791,1966,2450,2295,1275,2373,1680,1010,2014,2047,1137,2304,1620,3690,1871,3025,2456,1726,2343,4382,1398,2251,2645,1419,1974,3070,3873,1370,1790,1284,1605,2450,1601,2182,2770,2192,1523,1247,2901,4813,2213,848,2764,3164,1170,2650,2094,1278,1708,1150,1900,296,2785,916,2867,2303,1065,539,2752,2395,3095,2689,1994,1898,2327,5152,2889,1152,1889,991,2584,3460,3433,2136,1220,2118,2228,1470,2389,1374,1073,1030,2529,720,1826,2818,1246,1826,1879,1221,2215,1260,2572,1795,1618,2981,1057,2035,1868,1023,5444,1707,2289,3903,937,2685,2909,2498,3707,1546,2447,1783,1851,2238,2743,1803,2295,2514,1319,2719,1835,1878,1453,1569,2267,1076,1892,1981,1761,4053,2375,2503,2788,3197,2866,5487,2080,1973,2732,1614,1844,3221,3003,1016,2403,543,1555,2832,3291,2183,2720,2469,1610,1868,2751,2245,4560,2294,4106,1220,2765,1616,2303,2614,3523,1781,6021,2176,2043,1491,5449,3579,2978,1489,2206,1556,2703,1838,1049,2530,1615,926,2724,3776,1465,3183,2664,4531,1536,1851,2727,1767,1281,2249,1249,1888,1295,1832,2032,1485,3742,2340,3614,1734,1536,2089,2118,1995,3044,3232,2905,1640,1508,1146,1918,2053,2758,2366,1991,1428,2985,1276,2593,3184,2657,1364,3640,3941,2289,1934,2945,1449,2743,1537,2178,2459,3914,1459,2272,1578,1478,2136,2711,2219,1618,3740,2877,2419,1164,513,1613,1398,1743,1715,413,1657,5706,2779,1489,2147,2973,2001,4442,3013,2408,1175,1728,1753,3920,2018,2521,2140,2101,1583,2103,2657,949,4007,2216,2077,3085,2287,5453,1156,3770,1256,1713,768,3448,2047,966,2535,2495,2643,2158,957,1541,1993,2060,2053,2622,2436,2587,2196,3380,1535,2973,3245,1620,4453,1816,2849,2908,2244,3204,2661,2314,2436,1941,1772,3392,2776,2342,1300,2552,1611,2375,2056,3618,1974,1581,3390,1027,3577,3264,1816,1968,2076,1096,1813,958,5964,3796,2342,2874,3117,2412,1504,2097,5246,2305,1199,3403,2046,2555,1242,3657,1950,1568,1176,2659,2697,3894,2639,2430,1828,1248,881,2066,2265,1975,2589,3415,1646,947,1414,1701,1726,2235,2699,1519,1839,1741,3092,1462,4015,1679,2816,3237,1478,1134,449,1905,3134,2293,1401,1561,2158,2954,3732,2712,2002,3545,959,3203,2058,3262,815,3681,3976,2018,2194,3560,2636,4393,1934,3158,2347,1270,740,1739,1634,3216,2023,1003,1699,1004,2706,2186,2668,979,816,2740,2888,2513,2429,5418,1651,1900,3222,3071,1618,2085,3969,3437,3069,6002,2022,1518,2455,3413,996,2854,1017,1994,3383,2384,2916,1316,2256,2129,3350,3615,1786,5411,2696,2194,842,2287,2928,1306,4461,1250,4392,1494,3393,3490,1543,2486,1257,2225,2020,998,2206,1415,1594,2851,3099,2725,2027,1960,2622,1187,1371,3920,2114,1977,2677,2960,1820,3083,4021,914,1533,3552,887,4478,2127,2916,1915,1893,3610,3006,1622,1119,1823,2098,1195,2654,2156,717,1023,1480,3198,3128,2179,1690,3459,5999,3677,3634,2646,2767,2006,2145,1638,3711,2081,2603,2258,1443,2268,3417,3242,1204,2217,2497,2273,2483,2202,1122,1116,1383,5933,4365,2789,2484,1941,4288,3507,2149,2217,1604,1977,3484,1096,2865,2167,2289,2963,2196,2122,1002,2463,1597,5210,1657,2971,1325,2513,3240,1268,1850,2143,1528,2145,1694,3704,2939,1849,983,2353,3211,392,1292,1979,5996,3129,3674,2551,4020,1307,1598,2672,1531,1050,2637,2063,1047,768,2174,2318,1446,5067,1865,1496,3942,1553,3169,3127,2883,1357,1118,5428,2162,3236,2642,1544,1483,2684,2246,1312,1803,2726,3283,3301,2209,1136,2002,2372,2647,2014,2999,1532,1285,2605,2603,1470,3721,3286,5383,2439,2583,2033,1408,3598,3273,2080,1074,3731,2035,1379,2321,1604,1685,2817,1063,6041,1958,2293,5097,822,1543,1504,967,2658,2606,1293,4430,2269,2395,941,2327,1155,2857,1784,2240,4148,2788,1866,2400,2737,2029,1572,1704,2837,1566,1852,2154,4377,1480,2423,3302,1322,910,3269,1442,1388,2358,2007,915,2052,3428,2212,2099,1618,2124,3583,2174,2274,1384,1046,1132,2919,1439,1771,1699,2721,2623,2613,2437,2308,1593,1118,1705,5997,2392,2140,2399,986,3450,2621,1726,1331,2763,2416,2361,2710,1583,2525,5072,2941,2648,1168,1794,1666,2431,3016,2145,2421,1836,1742,3258,2790,2409,1979,1316,2705,2340,1812,1348,4255,2482,1456,1313,3102,1035,2208,2334,2538,2344,1852,1157,1193,2378,2566,2710,3371,3234,2149,1985,1001,1632,2271,2133,2026,2495,2020,1188,1598,3107,2236,1154,1151,3739,784,2762,3164,4051,2388,2665,1331,1829,1800,1914,1030,4185,1218,988,1112,2283,2984,2010,1528,3811,1840,1495,3692,2367,948,1724,3009,3220,1540,2276,4870,1265,1284,1035,1622,1848,2070,2583,3137,1768,1989,1250,1845,1020,2715,1884,3076,1855,3705,949,3134,2103,2647,2339,1921,1674,1413,868,1628,1750,2103,916,2767,1114,2986,2026,1652,4118,1711,1795,1027,1927,1542,1462,2514,3428,2277,2734,2709,2386,1472,1006,2278,2837,1192,3305,696,4106,1265,1810,1055,974,2837,1537,2447,2087,1541,1723,2162,1439,1416,3032,2861,1598,1993,5689,941,2231,2310,1446,1832,2404,2026,1128,3815,4034,2474,2581,2437,1669,3026,2835,1844,2683,1112,1991,4458,1867,1061,5973,3548,1900,4215,4152,1002,1397,1442,2182,4053,2860,3722,1305,2241,2204,2778,2367,1314,2520,2745,1310,3680,2529,3027,1887,2160,1478,3334,2749,2574,1927,2050,662,1589,3625,1949,1602,4006,1342,2065,1260,3124,2870,1758,2180,955,2974,2549,4723,2691,2181,2184,2713,4836,1122,3147,1416,2627,2698,574,4153,2786,3322,1469,2937,2231,3018,2608,3470,2831,1052,2040,1442,2192,2468,1259,913,2162,1186,3398,3101,1733,2867,1901,1310,2238,6008,1526,2081,1389,1962,1124,2124,4889,2494,2968,1873,2336,759,1981,2223,2458,951,1455,2908,4226,4291,644,1254,3030,3514,2646,1644,2501,960,1694,3863,3304,2273,1832,4043,2286,1181,1045,1169,2414,2623,1733,3173,2644,3339,3772,1579,2618,3744,1706,6005,1508,1858,2636,3671,3386,1116,3896,2167,1967,1572,2715,2245,2612,952,1777,1456,841,675,1432,3979,1727,2886,3152,4952,1894,3101,2495,2464,4645,2676,1714,2190,3176,4009,3317,1303,1741,1780,2710,1295,875,1749,524,1037,2294,3118,3609,1386,1475,3102,2464,2708,2581,1799,1119,1106,2262,2879,5408,2203,3708,1417,2328,3120,1260,2301,1556,2914,986,2834,880,1622,1591,3056,2571,1891,1327,2791,3115,3727,1743,1659,2770,4933,2257,1890,5949,854,2916,1548,3087,1190,1453,2786,1576,1345,5483,4013,3978,2550,949,1563,2801,2206,2015,1688,3482,980,1303,2095,3329,1877,1311,1988,1757,1096,1874,2837,2906,953,1734,2609,3054,3069,4121,2427,2416,2474,2671,3272,1163,1562,1540,3213,1923,4983,1629,2907,1524,2410,3472,1261,2032,1078,1668,3452,2675,1296,2914,5903,2853,2937,941,2219,2191,2418,2084,1528,3089,4310,3402,1617,2350,1946,3727,2426,2246,2234,1525,2710,1867,3372,2105,1327,967,1741,1931,2294,2945,1538,1757,2835,2134,2412,1552,3095,1780,3583,4665,1117,1790,2233,1602,1883,1000,1378,1660,3043,1233,3891,2630,1245,3481,2463,1588,2071,3254,1452,2101,3011,2069,2620,2667,2029,1483,2542,2185,3307,1596,1416,1906,1651,2251,3275,6022,2305,2125,1465,3163,1385,1798,2542,3422,1946,5965,4471,1752,3365,3110,2912,1166,4434,1902,2561,1644,1684,2917,1736,3621,2638,3196,1776,3355,3239,3040,2280,2723,2672,1079,2739,3465,2993,3227,2543,1573,1724,2694,2108,2338,1934,1216,5995,1953,2894,2819,1088,1025,1608,2285,3709,2226,2354,3404,412,1834,1859,2622,1557,4972,2679,1976,3382,2473,5599,1671,1798,2951,2863,6044,2318,1896,2116,1487,3372,2448,2152,2249,3098,2864,1603,3049,1417,4031,1472,2847,1943,2621,1665,1909,1758,3189,3105,2193,859,2205,1068,1110,2614,1815,3044,3284,2421,2618,3142,3655,3115,1343,1601,2501,1955,1286,3449,1464,959,2489,2557,3066,2239,2264,1622,2546,4288,2175,2828,5316,1118,2704,2124,4741,3147,1772,1835,1283,1983,4118,4390,1519,1253,1083,1414,2054,239,1036,2462,2004,3626,3295,2653,3078,2455,2904,2053,1622,5563,6013,606,815,2457,2132,2200,2948,4460,3013,1243,1994,1647,3758,3402,1980,1696,1912,1577,1118,2538,2085,5484,2897,5928,1455,1908,2448,3100,2431,2139,1599,2762,1196,1329,2849,2141,1587,1972,3558,2383,2470,3151,2587,1863,2700,2567,1792,2426,2424,2929,2674,1706,3406,1965,3381,1956,2679,3143,2758,3779,2429,2203,1645,1073,1821,2074,2610,2643,3732,2561,2855,2092,1865,1777,3292,2354,3020,5370,2119,2592,2077,3876,1614,2359,1347,1241,3382,3333,1123,2600,1802,2371,3055,3819,1503,2451,1864,1207,4806,3040,2054,1049,2098,1395,2401,1353,1425,2472,1579,3000,1047,3027,1324,1469,1707,4557,2192,1659,945,4251,1840,2470,1600,3456,1373,2644,2006,1740,2888,3745,1002,1104,2325,1056,890,1804,1767,2057,3022,1509,4852,957,2081,4598,1155,1989,2566,3680,1988,2108,2073,735,1410,2021,1296,3844,1333,5144,2073,1548,3006,3908,3320,1429,1792,2112,675,3908,1208,5973,1924,1092,3414,1643,949,3490,1094,1923,2764,1941,1145,5978,1364,1827,1745,2537,2004,1123,1644,979,3537,1111,1897,1017,3036,3860,2026,2921,2932,3422,1048,2589,1442,3601,2663,1367,2671,6009,2946,1621,4248,1400,1291,1816,2178,1897,978,3470,2390,1981,1265,1299,2185,1023,1419,2169,3011,1802,1344,1842,2260,2964,1983,2457,1535,5964,1154,1960,2287,1963,2423,2163,1649,2695,2511,2995,2999,2257,1952,2004,3174,3741,1234,3026,1458,2485,4730,2125,4796,3288,2206,1688,1077,2869,825,3065,2059,1643,1129,4666,1716,1749,2774,1448,2389,1622,2461,1574,2205,3674,3323,3251,1687,2091,3389,2587,2364,1865,1903,1172,1034,2586,1674,1670,2181,1632,1877,4158,3480,1798,2726,2740,1502,1373,3859,988,1239,1676,2148,1324,1392,774,2464,2753,2785,2915,1147,2513,2490,2365,2757,1032,2340,1956,2193,1306,2109,3119,1347,1733,2216,2506,1490,2273,1152,1365,1053,1142,2544,1743,1879,1577,1536,2483,2426,2291,4665,3425,1370,2611,889,986,3205,2190,2260,1824,2344,3720,3984,2700,840,2578,1050,1453,6000,1370,3456,2101,680,1296,2613,1955,1030,2104,2115,2121,2500,2623,2554,1623,3279,2156,1294,2751,1546,996,3698,2317,1860,2847,2361,1866,2427,1384,3196,3321,1385,3853,1337,1873,2027,1763,1677,2035,3791,2265,3301,1980,1327,980,2399,1956,4881,5761,2212,2384,2811,1262,1942,1591,1606,2467,2339,1669,3421,2575,2199,997,3485,1577,2214,1282,3196,2527,1434,1543,1694,2909,1775,1596,2487,2384,4114,1288,1463,3067,1080,4391,3325,1219,2135,2618,1712,3136,2145,1524,2084,2209,2101,1142,303,1803,2202,3043,3104,2097,4460,1694,2247,1824,3046,2150,3792,1606,1833,2784,960,2257,1416,1273,2556,1649,1579,2213,1623,1122,2001,1785,2347,2666,1859,2332,2132,2248,3245,2191,3706,2158,3421,2047,1111,2093,1227,1682,2333,1908,1449,2438,2348,1012,1863,3267,1070,4604,3056,1746,2104,4567,1743,1788,960,1122,3202,1656,762,2103,1409,1953,1717,2313,1427,1408,2250,1198,1923,1241,857,3176,2003,2316,1407,1714,1714,2340,2625,6031,1225,1500,1774,3582,1618,2884,1342,1827,1197,2144,5741,2069,2016,4608,2326,1554,1799,1805,1451,2430,2134,2259,4037,2944,3226,2687,2257,2582,3378,1518,2412,1435,2396,2162,1060,4892,2006,1829,2273,4103,2927,1623,2239,1322,1329,3664,2948,3302,1085,2313,2693,3732,2950,1461,1777,3122,2687,976,2019,2171,2614,1268,2024,2175,2864,1114,1806,1898,5435,3379,1263,2520,3442,4394,2234,1441,3560,3241,2067,1195,2705,887,2033,3256,2084,1162,1901,2389,1463,3428,1744,2236,3548,3016,2244,2372,1639,2977,1455,3054,2082,1475,1685,4215,1934,3757,2262,2314,3860,2066,5258,3288,2368,2263,2981,2530,1850,1773,2605,3608,1433,2329,2615,2102,2455,1630,805,2385,2898,1967,2732,3095,3217,2437,3200,1796,1790,2423,2216,3578,1949,1853,2450,3130,4497,2660,2565,2128,2659,1951,3099,2042,1878,3609,1706,2005,1357,2044,2267,1888,2412,1838,1381,3001,4076,1146,3237,6023,5712,3240,2129,2284,3024,2995,1701,3437,2217,2310,636,2292,2418,2435,2561,2413,1238,3545,3054,1553,3044,2678,1348,2693,2038,2943,4387,2652,1436,2097,4582,2145,1546,3846,1446,3817,3790,857,1818,1288,1454,2468,1566,4900,5381,2475,2951,1179,1801,3089,2287,1375,1571,1254,408,1664,618,2011,594,2263,2136,1276,1244,2227,1673,3252,1529,3899,2273,2359,1228,4525,2533,1801,2504,460,2215,4050,1380,2617,2734,5993,641,1544,3507,1539,1803,1306,1038,2699,2651,5118,2797,1660,1123,2995,1609,3796,1736,1774,1671,1700,1420,1499,2981,2833,1247,2409,2842,3335,4350,3245,975,2077,2285,2079,1076,1749,2476,1635,5002,1964,3107,1884,2374,2574,1618,1457,3444,2343,1507,2350,1373,3878,1244,2703,3227,2483,2583,1836,4339,1835,2957,3235,3525,1853,2376,1798,1123,1812,2716,2056,3952,1225,1758,3972,1946,1178,1015,1045,1226,2625,1915,2835,1619,2997,3928,3148,2183,1291,5233,2594,3498,2675,3619,6031,2536,2178,2344,962,2347,4231,694,4543,3032,2160,736,2482,2033,697,1858,2000,3133,942,3312,1230,1021,1687,3912,3269,2512,2163,3906,445,797,2034,1878,950,2206,4282,4719,1476,2349,2015,1397,2158,1773,3045,1010,1445,2233,4271,2139,2637,1991,2265,2947,3742,1605,1324,2625,2121,3543,2852,2306,1410,2417,2380,1805,3035,2907,2418,466,1725,1359,2735,2877,2074,3062,2230,2928,1636,3318,3168,1807,4551,1413,1817,2195,1248,2857,1234,1817,3920,3964,2143,951,4413,1905,1374,2531,1350,1811,1977,963,2548,5981,4510,2673,2583,778,1644,3516,1392,2078,2966,2841,5995,2908,1779,3201,3204,1329,1281,1560,958,3180,1413,1718,1784,1592,1895,1780,1036,2284,2896,2463,2126,1549,1623,3164,4559,2458,3090,785,1459,2808,1092,1935,2945,1728,2728,3073,1829,1784,1412,1247,2362,1403,1682,1075,1536,2935,3416,3634,1476,1755,1989,1295,2039,1762,3741,1057,2315,2403,2620,1302,1974,855,1185,4439,2253,2327,3110,2453,3929,2057,1933,1401,2516,2272,2193,2303,2757,3258,2049,1014,2376,1328,1959,2325,1137,3025,2121,3257,3574,1459,851,2068,3324,2742,2253,1717,1927,3909,2012,2329,2609,2346,2132,3079,1145,3357,1786,3393,2092,1589,1504,1238,1790,2078,922,2741,1288,3529,1616,2536,1049,1498,2783,2105,4213,2272,5975,880,1661,2254,3453,2957,2442,2712,4272,2516,2057,2057,1257,2216,2226,1528,1240,1057,3269,3561,2200,1580,2214,3571,4028,938,1859,2425,1346,2366,2661,4193,1548,2810,2994,3639,3297,2798,2223,3091,1948,1651,2185,1706,2327,2149,2335,1974,2508,3052,1121,3124,2589,1367,2237,1846,2376,1673,1573,2433,2733,3121,2833,3265,2291,1125,2528,3059,2192,4320,512,621,2254,1202,2054,3024,2129,1309,5923,1516,1132,3106,2431,2801,2442,1674,1427,5894,1877,1691,2369,1469,2668,5906,3648,2829,3314,2307,2205,2777,2099,2849,3481,2606,2690,2475,1389,3127,924,2519,2413,2137,1171,1567,2413,2664,1740,4177,1849,1695,5062,3069,3034,1338,1584,1728,1394,2198,1275,1747,2503,4367,1220,269,2399,2890,1323,2526,2135,1690,3719,3301,1573,5181,2237,1716,1048,2011,1552,2402,2098,3774,1947,3140,1420,3002,2025,2808,3047,1486,854,1321,1566,1938,2530,3617,2860,3239,2572,4391,3156,3664,2518,5364,1530,2307,2486,2045,1932,2313,2606,2403,2259,3131,1927,1369,1505,1846,2325,2528,3344,1475,2797,2487,1440,2180,1131,3103,1609,1700,1811,1814,1012,1573,2630,653,1764,2630,1939,2070,4941,2634,2037,1436,2422,2023,1707,2465,2848,3587,2273,2077,1062,2425,4933,2159,2646,3396,1851,1848,1625,1249,2013,2481,4287,2216,1752,3975,1480,1310,2182,1332,1607,4190,2008,3689,4380,2586,4870,2748,2496,1585,1010,2891,971,1965,6009,1184,3351,1790,3426,2490,3415,1563,3080,1585,2163,3062,1866,3864,1562,1687,1719,1767,1064,2244,2035,969,1982,1858,4826,996,2227,1293,1650,2650,4322,2226,2449,2901,3044,3009,2298,1246,3095,3619,2239,941,3130,2135,2406,2817,1311,4139,2146,1181,4085,1801,1674,3140,2953,2245,975,1924,1121,2530,1490,2688,2600,4021,744,2256,1506,1348,2249,2584,1020,1494,2045,2596,2864,1482,2514,2526,2252,1498,1313,2742,1463,3055,2345,2060,2186,2727,1536,2235,1198,656,1982,2223,1528,1977,4243,2271,1691,1623,1828,2638,2000,3138,906,3043,1757,2002,1812,1065,1763,3662,3042,1109,906,2488,1010,2242,2825,2165,2508,1988,2233,3655,1257,1754,1211,1928,363,1550,1911,2322,2139,4271,2481,3908,2405,5076,1813,2297,1725,1823,2344,2959,931,3058,3121,4261,1864,3233,1778,2519,1522,3459,1227,1011,2061,5918,2456,1128,2326,2536,1123,2529,1907,1456,2254,1230,4194,5859,2971,4821,1830,951,1533,3248,2521,3428,878,2716,2931,1774,1993,4091,2824,4116,1353,4150,2772,2934,1613,2144,4636,3432,2562,2013,1339,1230,1588,1262,2073,2674,2030,3029,2562,2534,1831,1168,2162,1579,1226,1650,1896,893,1968,2792,4070,1349,1181,1968,3293,1246,3682,1992,3452,1319,5177,2665,2196,2359,2246,2688,1957,1914,1666,1322,2043,2263,891,1196,1006,866,2090,3441,2312,1876,2201,3179,3748,3361,3031,2769,1913,3206,1883,1256,6000,6014,3629,2874,502,1838,2473,1447,1873,3656,2602,1643,2364,2682,1684,4618,2046,2050,1016,3268,1145,1043,2945,1630,3584,2335,1578,2405,2950,2565,1949,1261,1467,1486,1905,1048,969,2686,2756,2829,1227,1980,2584,3581,1435,2746,1536,3077,994,1931,535,2923,1702,2865,1287,3790,2636,1554,1297,5927,2668,592,2351,2944,1953,6009,1856,1412,2267,1136,3649,1178,2892,2165,2274,1602,1696,2035,1097,1652,1057,1369,1989,1013,2113,3432,2441,1590,757,2787,1854,1265,3374,3555,1350,2265,2251,1886,2653,1759,1860,4200,1547,2573,1453,1018,1356,1186,4529,2915,3318,3203,1378,1127,3265,3477,2746,1072,2309,2809,1991,1618,1054,1797,2902,2662,1453,1518,1523,4002,3373,968,632,4476,1766,2352,1331,2226,5277,3174,2281,3375,2290,874,3327,1644,1678,1136,1567,2162,3896,1531,1289,1459,824,5928,1959,3080,1476,1849,2417,2409,3605,2735,2893,2048,1677,1327,5861,1321,2790,3475,3934,1315,1673,3039,2721,568,1926,2840,1558,1103,5898,4114,1680,1425,898,5964,2926,2756,1421,2482,2687,5839,3111,1969,3871,2067,2754,2069,1506,2250,4355,1960,2760,2591,2004,3846,2707,2720,2128,6010,1635,1939,3309,4150,1028,4538,3114,1351,1780,1647,4209,1241,1539,776,2375,2237,1488,4066,4968,1617,1918,2383,1649,1456,524,3347,2141,4248,2009,3070,1907,1885,3337,1735,1830,2826,3022,2088,2796,2689,1999,2729,4494,3296,2621,1633,2264,1471,4954,2583,1748,1772,4524,3074,1310,1244,4160,954,3353,953,2702,3003,1665,2151,1249,1517,2544,2326,3235,890,1081,1206,3537,3307,1831,1774,2592,2132,1386,1479,1242,2898,3340,1977,3061,5562,3555,1607,1620,1896,1871,1910,2315,1561,4161,5832,2371,3494,1394,2483,3660,1422,3182,2481,2105,2247,1378,3607,871,1050,1792,1517,1764,5015,1845,2013,864,2545,2061,2457,2829,2062,727,3016,1947,3614,1612,3167,1523,1383,1692,3243,1329,2127,1223,1414,1764,2255,2392,2911,1075,1510,2940,2261,1854,3117,2069,1667,4420,1815,2022,3184,5075,2192,1333,2628,2717,2069,1199,2545,1584,1903,1690,896,2134,1317,2562,5206,3977,1971,5968,1456,2980,1813,1864,1526,3091,3080,1689,2050,2774,3115,3043,2154,1610,1740,1871,2644,887,2361,1565,1794,749,5383,5404,2853,1270,2832,1381,1366,1928,1752,2503,3803,1221,2660,3551,3885,2130,2017,2499,2060,2476,1349,2368,1431,1904,5709,2627,3747,3304,2619,3101,1257,2712,3815,5202,2458,1582,2931,1822,3381,2024,1892,2945,3583,2148,1873,4111,2203,1782,2278,1917,2692,82,3489,1721,1222,1903,5153,5759,1182,1735,2387,3945,1776,2063,1977,1641,3624,2310,1701,3193,1331,2766,2213,2092,1681,1635,4171,1876,535,3291,1575,2569,2164,2585,1046,1564,2674,1791,957,3425,2126,2681,1811,3860,2409,1382,1018,1844,1071,1587,3511,3982,2082,2120,4326,1523,461,2729,3528,1384,1351,1609,4994,2211,2875,2446,3717,2660,2534,2651,3633,1654,2722,2321,2475,2757,1346,2060,1240,2876,5237,1168,1167,2474,5346,1844,2344,4111,2381,2261,2757,2446,2552,3445,2490,2214,824,1983,1251,2084,2340,1829,3158,1657,2047,1720,1360,1450,1286,2167,1592,2839,3181,3010,1012,2535,1597,1240,1556,1908,1591,1400,1125,3422,5453,3161,1768,2163,3305,3031,3336,3209,1908,2971,3250,3995,1998,2051,1787,1863,2274,2531,2606,1341,2756,2708,2307,1236,1330,1298,2869,1107,1575,828,1937,1725,1756,2101,1086,1128,1740,2570,3141,1848,2639,2165,1353,2923,2917,2059,3235,1688,1541,2432,1239,4229,1669,2067,1936,1628,2647,1319,1542,1261,2010,3037,3421,1704,1370,1635,1018,1960,3032,1071,3216,3146,1641,3033,1954,1100,1719,2355,2691,1850,1164,2532,2093,2297,2835,940,2628,1222,4816,2113,2550,2696,2055,3310,874,1640,868,3557,1237,1711,1247,3378,2609,1415,977,2603,1298,2833,3395],\"xaxis\":\"x\",\"yaxis\":\"y\",\"type\":\"histogram\"},{\"alignmentgroup\":\"True\",\"hovertemplate\":\"x=%{x}<extra></extra>\",\"legendgroup\":\"\",\"marker\":{\"color\":\"#FFA200\"},\"name\":\"\",\"notched\":true,\"offsetgroup\":\"\",\"showlegend\":false,\"x\":[1387,2635,1663,3973,1326,1858,2317,1990,3100,2098,1807,2353,1075,3710,3507,1558,2642,3350,1344,1614,2750,2190,1832,3514,3168,940,2965,2870,1647,1200,2281,3796,1309,3090,5998,3797,3155,2320,2839,1356,1699,1511,2009,2453,3675,2830,1652,923,3222,5249,6010,1087,2096,2407,2781,1995,3359,1571,6040,2042,2633,1757,1996,2858,2247,2462,2203,1848,1289,1327,1104,2706,1809,2160,3052,1026,1847,2653,2013,2461,4286,2152,1259,1525,2756,2020,3643,2661,1060,1051,2173,1338,4631,2792,3344,2966,1295,1729,6010,1994,3371,2611,5073,3403,4330,1335,1954,1511,4173,1914,3132,2664,2950,2102,1847,3634,2080,1606,1556,1553,2390,2169,1692,1649,2732,952,1481,2544,2180,1791,1966,2450,2295,1275,2373,1680,1010,2014,2047,1137,2304,1620,3690,1871,3025,2456,1726,2343,4382,1398,2251,2645,1419,1974,3070,3873,1370,1790,1284,1605,2450,1601,2182,2770,2192,1523,1247,2901,4813,2213,848,2764,3164,1170,2650,2094,1278,1708,1150,1900,296,2785,916,2867,2303,1065,539,2752,2395,3095,2689,1994,1898,2327,5152,2889,1152,1889,991,2584,3460,3433,2136,1220,2118,2228,1470,2389,1374,1073,1030,2529,720,1826,2818,1246,1826,1879,1221,2215,1260,2572,1795,1618,2981,1057,2035,1868,1023,5444,1707,2289,3903,937,2685,2909,2498,3707,1546,2447,1783,1851,2238,2743,1803,2295,2514,1319,2719,1835,1878,1453,1569,2267,1076,1892,1981,1761,4053,2375,2503,2788,3197,2866,5487,2080,1973,2732,1614,1844,3221,3003,1016,2403,543,1555,2832,3291,2183,2720,2469,1610,1868,2751,2245,4560,2294,4106,1220,2765,1616,2303,2614,3523,1781,6021,2176,2043,1491,5449,3579,2978,1489,2206,1556,2703,1838,1049,2530,1615,926,2724,3776,1465,3183,2664,4531,1536,1851,2727,1767,1281,2249,1249,1888,1295,1832,2032,1485,3742,2340,3614,1734,1536,2089,2118,1995,3044,3232,2905,1640,1508,1146,1918,2053,2758,2366,1991,1428,2985,1276,2593,3184,2657,1364,3640,3941,2289,1934,2945,1449,2743,1537,2178,2459,3914,1459,2272,1578,1478,2136,2711,2219,1618,3740,2877,2419,1164,513,1613,1398,1743,1715,413,1657,5706,2779,1489,2147,2973,2001,4442,3013,2408,1175,1728,1753,3920,2018,2521,2140,2101,1583,2103,2657,949,4007,2216,2077,3085,2287,5453,1156,3770,1256,1713,768,3448,2047,966,2535,2495,2643,2158,957,1541,1993,2060,2053,2622,2436,2587,2196,3380,1535,2973,3245,1620,4453,1816,2849,2908,2244,3204,2661,2314,2436,1941,1772,3392,2776,2342,1300,2552,1611,2375,2056,3618,1974,1581,3390,1027,3577,3264,1816,1968,2076,1096,1813,958,5964,3796,2342,2874,3117,2412,1504,2097,5246,2305,1199,3403,2046,2555,1242,3657,1950,1568,1176,2659,2697,3894,2639,2430,1828,1248,881,2066,2265,1975,2589,3415,1646,947,1414,1701,1726,2235,2699,1519,1839,1741,3092,1462,4015,1679,2816,3237,1478,1134,449,1905,3134,2293,1401,1561,2158,2954,3732,2712,2002,3545,959,3203,2058,3262,815,3681,3976,2018,2194,3560,2636,4393,1934,3158,2347,1270,740,1739,1634,3216,2023,1003,1699,1004,2706,2186,2668,979,816,2740,2888,2513,2429,5418,1651,1900,3222,3071,1618,2085,3969,3437,3069,6002,2022,1518,2455,3413,996,2854,1017,1994,3383,2384,2916,1316,2256,2129,3350,3615,1786,5411,2696,2194,842,2287,2928,1306,4461,1250,4392,1494,3393,3490,1543,2486,1257,2225,2020,998,2206,1415,1594,2851,3099,2725,2027,1960,2622,1187,1371,3920,2114,1977,2677,2960,1820,3083,4021,914,1533,3552,887,4478,2127,2916,1915,1893,3610,3006,1622,1119,1823,2098,1195,2654,2156,717,1023,1480,3198,3128,2179,1690,3459,5999,3677,3634,2646,2767,2006,2145,1638,3711,2081,2603,2258,1443,2268,3417,3242,1204,2217,2497,2273,2483,2202,1122,1116,1383,5933,4365,2789,2484,1941,4288,3507,2149,2217,1604,1977,3484,1096,2865,2167,2289,2963,2196,2122,1002,2463,1597,5210,1657,2971,1325,2513,3240,1268,1850,2143,1528,2145,1694,3704,2939,1849,983,2353,3211,392,1292,1979,5996,3129,3674,2551,4020,1307,1598,2672,1531,1050,2637,2063,1047,768,2174,2318,1446,5067,1865,1496,3942,1553,3169,3127,2883,1357,1118,5428,2162,3236,2642,1544,1483,2684,2246,1312,1803,2726,3283,3301,2209,1136,2002,2372,2647,2014,2999,1532,1285,2605,2603,1470,3721,3286,5383,2439,2583,2033,1408,3598,3273,2080,1074,3731,2035,1379,2321,1604,1685,2817,1063,6041,1958,2293,5097,822,1543,1504,967,2658,2606,1293,4430,2269,2395,941,2327,1155,2857,1784,2240,4148,2788,1866,2400,2737,2029,1572,1704,2837,1566,1852,2154,4377,1480,2423,3302,1322,910,3269,1442,1388,2358,2007,915,2052,3428,2212,2099,1618,2124,3583,2174,2274,1384,1046,1132,2919,1439,1771,1699,2721,2623,2613,2437,2308,1593,1118,1705,5997,2392,2140,2399,986,3450,2621,1726,1331,2763,2416,2361,2710,1583,2525,5072,2941,2648,1168,1794,1666,2431,3016,2145,2421,1836,1742,3258,2790,2409,1979,1316,2705,2340,1812,1348,4255,2482,1456,1313,3102,1035,2208,2334,2538,2344,1852,1157,1193,2378,2566,2710,3371,3234,2149,1985,1001,1632,2271,2133,2026,2495,2020,1188,1598,3107,2236,1154,1151,3739,784,2762,3164,4051,2388,2665,1331,1829,1800,1914,1030,4185,1218,988,1112,2283,2984,2010,1528,3811,1840,1495,3692,2367,948,1724,3009,3220,1540,2276,4870,1265,1284,1035,1622,1848,2070,2583,3137,1768,1989,1250,1845,1020,2715,1884,3076,1855,3705,949,3134,2103,2647,2339,1921,1674,1413,868,1628,1750,2103,916,2767,1114,2986,2026,1652,4118,1711,1795,1027,1927,1542,1462,2514,3428,2277,2734,2709,2386,1472,1006,2278,2837,1192,3305,696,4106,1265,1810,1055,974,2837,1537,2447,2087,1541,1723,2162,1439,1416,3032,2861,1598,1993,5689,941,2231,2310,1446,1832,2404,2026,1128,3815,4034,2474,2581,2437,1669,3026,2835,1844,2683,1112,1991,4458,1867,1061,5973,3548,1900,4215,4152,1002,1397,1442,2182,4053,2860,3722,1305,2241,2204,2778,2367,1314,2520,2745,1310,3680,2529,3027,1887,2160,1478,3334,2749,2574,1927,2050,662,1589,3625,1949,1602,4006,1342,2065,1260,3124,2870,1758,2180,955,2974,2549,4723,2691,2181,2184,2713,4836,1122,3147,1416,2627,2698,574,4153,2786,3322,1469,2937,2231,3018,2608,3470,2831,1052,2040,1442,2192,2468,1259,913,2162,1186,3398,3101,1733,2867,1901,1310,2238,6008,1526,2081,1389,1962,1124,2124,4889,2494,2968,1873,2336,759,1981,2223,2458,951,1455,2908,4226,4291,644,1254,3030,3514,2646,1644,2501,960,1694,3863,3304,2273,1832,4043,2286,1181,1045,1169,2414,2623,1733,3173,2644,3339,3772,1579,2618,3744,1706,6005,1508,1858,2636,3671,3386,1116,3896,2167,1967,1572,2715,2245,2612,952,1777,1456,841,675,1432,3979,1727,2886,3152,4952,1894,3101,2495,2464,4645,2676,1714,2190,3176,4009,3317,1303,1741,1780,2710,1295,875,1749,524,1037,2294,3118,3609,1386,1475,3102,2464,2708,2581,1799,1119,1106,2262,2879,5408,2203,3708,1417,2328,3120,1260,2301,1556,2914,986,2834,880,1622,1591,3056,2571,1891,1327,2791,3115,3727,1743,1659,2770,4933,2257,1890,5949,854,2916,1548,3087,1190,1453,2786,1576,1345,5483,4013,3978,2550,949,1563,2801,2206,2015,1688,3482,980,1303,2095,3329,1877,1311,1988,1757,1096,1874,2837,2906,953,1734,2609,3054,3069,4121,2427,2416,2474,2671,3272,1163,1562,1540,3213,1923,4983,1629,2907,1524,2410,3472,1261,2032,1078,1668,3452,2675,1296,2914,5903,2853,2937,941,2219,2191,2418,2084,1528,3089,4310,3402,1617,2350,1946,3727,2426,2246,2234,1525,2710,1867,3372,2105,1327,967,1741,1931,2294,2945,1538,1757,2835,2134,2412,1552,3095,1780,3583,4665,1117,1790,2233,1602,1883,1000,1378,1660,3043,1233,3891,2630,1245,3481,2463,1588,2071,3254,1452,2101,3011,2069,2620,2667,2029,1483,2542,2185,3307,1596,1416,1906,1651,2251,3275,6022,2305,2125,1465,3163,1385,1798,2542,3422,1946,5965,4471,1752,3365,3110,2912,1166,4434,1902,2561,1644,1684,2917,1736,3621,2638,3196,1776,3355,3239,3040,2280,2723,2672,1079,2739,3465,2993,3227,2543,1573,1724,2694,2108,2338,1934,1216,5995,1953,2894,2819,1088,1025,1608,2285,3709,2226,2354,3404,412,1834,1859,2622,1557,4972,2679,1976,3382,2473,5599,1671,1798,2951,2863,6044,2318,1896,2116,1487,3372,2448,2152,2249,3098,2864,1603,3049,1417,4031,1472,2847,1943,2621,1665,1909,1758,3189,3105,2193,859,2205,1068,1110,2614,1815,3044,3284,2421,2618,3142,3655,3115,1343,1601,2501,1955,1286,3449,1464,959,2489,2557,3066,2239,2264,1622,2546,4288,2175,2828,5316,1118,2704,2124,4741,3147,1772,1835,1283,1983,4118,4390,1519,1253,1083,1414,2054,239,1036,2462,2004,3626,3295,2653,3078,2455,2904,2053,1622,5563,6013,606,815,2457,2132,2200,2948,4460,3013,1243,1994,1647,3758,3402,1980,1696,1912,1577,1118,2538,2085,5484,2897,5928,1455,1908,2448,3100,2431,2139,1599,2762,1196,1329,2849,2141,1587,1972,3558,2383,2470,3151,2587,1863,2700,2567,1792,2426,2424,2929,2674,1706,3406,1965,3381,1956,2679,3143,2758,3779,2429,2203,1645,1073,1821,2074,2610,2643,3732,2561,2855,2092,1865,1777,3292,2354,3020,5370,2119,2592,2077,3876,1614,2359,1347,1241,3382,3333,1123,2600,1802,2371,3055,3819,1503,2451,1864,1207,4806,3040,2054,1049,2098,1395,2401,1353,1425,2472,1579,3000,1047,3027,1324,1469,1707,4557,2192,1659,945,4251,1840,2470,1600,3456,1373,2644,2006,1740,2888,3745,1002,1104,2325,1056,890,1804,1767,2057,3022,1509,4852,957,2081,4598,1155,1989,2566,3680,1988,2108,2073,735,1410,2021,1296,3844,1333,5144,2073,1548,3006,3908,3320,1429,1792,2112,675,3908,1208,5973,1924,1092,3414,1643,949,3490,1094,1923,2764,1941,1145,5978,1364,1827,1745,2537,2004,1123,1644,979,3537,1111,1897,1017,3036,3860,2026,2921,2932,3422,1048,2589,1442,3601,2663,1367,2671,6009,2946,1621,4248,1400,1291,1816,2178,1897,978,3470,2390,1981,1265,1299,2185,1023,1419,2169,3011,1802,1344,1842,2260,2964,1983,2457,1535,5964,1154,1960,2287,1963,2423,2163,1649,2695,2511,2995,2999,2257,1952,2004,3174,3741,1234,3026,1458,2485,4730,2125,4796,3288,2206,1688,1077,2869,825,3065,2059,1643,1129,4666,1716,1749,2774,1448,2389,1622,2461,1574,2205,3674,3323,3251,1687,2091,3389,2587,2364,1865,1903,1172,1034,2586,1674,1670,2181,1632,1877,4158,3480,1798,2726,2740,1502,1373,3859,988,1239,1676,2148,1324,1392,774,2464,2753,2785,2915,1147,2513,2490,2365,2757,1032,2340,1956,2193,1306,2109,3119,1347,1733,2216,2506,1490,2273,1152,1365,1053,1142,2544,1743,1879,1577,1536,2483,2426,2291,4665,3425,1370,2611,889,986,3205,2190,2260,1824,2344,3720,3984,2700,840,2578,1050,1453,6000,1370,3456,2101,680,1296,2613,1955,1030,2104,2115,2121,2500,2623,2554,1623,3279,2156,1294,2751,1546,996,3698,2317,1860,2847,2361,1866,2427,1384,3196,3321,1385,3853,1337,1873,2027,1763,1677,2035,3791,2265,3301,1980,1327,980,2399,1956,4881,5761,2212,2384,2811,1262,1942,1591,1606,2467,2339,1669,3421,2575,2199,997,3485,1577,2214,1282,3196,2527,1434,1543,1694,2909,1775,1596,2487,2384,4114,1288,1463,3067,1080,4391,3325,1219,2135,2618,1712,3136,2145,1524,2084,2209,2101,1142,303,1803,2202,3043,3104,2097,4460,1694,2247,1824,3046,2150,3792,1606,1833,2784,960,2257,1416,1273,2556,1649,1579,2213,1623,1122,2001,1785,2347,2666,1859,2332,2132,2248,3245,2191,3706,2158,3421,2047,1111,2093,1227,1682,2333,1908,1449,2438,2348,1012,1863,3267,1070,4604,3056,1746,2104,4567,1743,1788,960,1122,3202,1656,762,2103,1409,1953,1717,2313,1427,1408,2250,1198,1923,1241,857,3176,2003,2316,1407,1714,1714,2340,2625,6031,1225,1500,1774,3582,1618,2884,1342,1827,1197,2144,5741,2069,2016,4608,2326,1554,1799,1805,1451,2430,2134,2259,4037,2944,3226,2687,2257,2582,3378,1518,2412,1435,2396,2162,1060,4892,2006,1829,2273,4103,2927,1623,2239,1322,1329,3664,2948,3302,1085,2313,2693,3732,2950,1461,1777,3122,2687,976,2019,2171,2614,1268,2024,2175,2864,1114,1806,1898,5435,3379,1263,2520,3442,4394,2234,1441,3560,3241,2067,1195,2705,887,2033,3256,2084,1162,1901,2389,1463,3428,1744,2236,3548,3016,2244,2372,1639,2977,1455,3054,2082,1475,1685,4215,1934,3757,2262,2314,3860,2066,5258,3288,2368,2263,2981,2530,1850,1773,2605,3608,1433,2329,2615,2102,2455,1630,805,2385,2898,1967,2732,3095,3217,2437,3200,1796,1790,2423,2216,3578,1949,1853,2450,3130,4497,2660,2565,2128,2659,1951,3099,2042,1878,3609,1706,2005,1357,2044,2267,1888,2412,1838,1381,3001,4076,1146,3237,6023,5712,3240,2129,2284,3024,2995,1701,3437,2217,2310,636,2292,2418,2435,2561,2413,1238,3545,3054,1553,3044,2678,1348,2693,2038,2943,4387,2652,1436,2097,4582,2145,1546,3846,1446,3817,3790,857,1818,1288,1454,2468,1566,4900,5381,2475,2951,1179,1801,3089,2287,1375,1571,1254,408,1664,618,2011,594,2263,2136,1276,1244,2227,1673,3252,1529,3899,2273,2359,1228,4525,2533,1801,2504,460,2215,4050,1380,2617,2734,5993,641,1544,3507,1539,1803,1306,1038,2699,2651,5118,2797,1660,1123,2995,1609,3796,1736,1774,1671,1700,1420,1499,2981,2833,1247,2409,2842,3335,4350,3245,975,2077,2285,2079,1076,1749,2476,1635,5002,1964,3107,1884,2374,2574,1618,1457,3444,2343,1507,2350,1373,3878,1244,2703,3227,2483,2583,1836,4339,1835,2957,3235,3525,1853,2376,1798,1123,1812,2716,2056,3952,1225,1758,3972,1946,1178,1015,1045,1226,2625,1915,2835,1619,2997,3928,3148,2183,1291,5233,2594,3498,2675,3619,6031,2536,2178,2344,962,2347,4231,694,4543,3032,2160,736,2482,2033,697,1858,2000,3133,942,3312,1230,1021,1687,3912,3269,2512,2163,3906,445,797,2034,1878,950,2206,4282,4719,1476,2349,2015,1397,2158,1773,3045,1010,1445,2233,4271,2139,2637,1991,2265,2947,3742,1605,1324,2625,2121,3543,2852,2306,1410,2417,2380,1805,3035,2907,2418,466,1725,1359,2735,2877,2074,3062,2230,2928,1636,3318,3168,1807,4551,1413,1817,2195,1248,2857,1234,1817,3920,3964,2143,951,4413,1905,1374,2531,1350,1811,1977,963,2548,5981,4510,2673,2583,778,1644,3516,1392,2078,2966,2841,5995,2908,1779,3201,3204,1329,1281,1560,958,3180,1413,1718,1784,1592,1895,1780,1036,2284,2896,2463,2126,1549,1623,3164,4559,2458,3090,785,1459,2808,1092,1935,2945,1728,2728,3073,1829,1784,1412,1247,2362,1403,1682,1075,1536,2935,3416,3634,1476,1755,1989,1295,2039,1762,3741,1057,2315,2403,2620,1302,1974,855,1185,4439,2253,2327,3110,2453,3929,2057,1933,1401,2516,2272,2193,2303,2757,3258,2049,1014,2376,1328,1959,2325,1137,3025,2121,3257,3574,1459,851,2068,3324,2742,2253,1717,1927,3909,2012,2329,2609,2346,2132,3079,1145,3357,1786,3393,2092,1589,1504,1238,1790,2078,922,2741,1288,3529,1616,2536,1049,1498,2783,2105,4213,2272,5975,880,1661,2254,3453,2957,2442,2712,4272,2516,2057,2057,1257,2216,2226,1528,1240,1057,3269,3561,2200,1580,2214,3571,4028,938,1859,2425,1346,2366,2661,4193,1548,2810,2994,3639,3297,2798,2223,3091,1948,1651,2185,1706,2327,2149,2335,1974,2508,3052,1121,3124,2589,1367,2237,1846,2376,1673,1573,2433,2733,3121,2833,3265,2291,1125,2528,3059,2192,4320,512,621,2254,1202,2054,3024,2129,1309,5923,1516,1132,3106,2431,2801,2442,1674,1427,5894,1877,1691,2369,1469,2668,5906,3648,2829,3314,2307,2205,2777,2099,2849,3481,2606,2690,2475,1389,3127,924,2519,2413,2137,1171,1567,2413,2664,1740,4177,1849,1695,5062,3069,3034,1338,1584,1728,1394,2198,1275,1747,2503,4367,1220,269,2399,2890,1323,2526,2135,1690,3719,3301,1573,5181,2237,1716,1048,2011,1552,2402,2098,3774,1947,3140,1420,3002,2025,2808,3047,1486,854,1321,1566,1938,2530,3617,2860,3239,2572,4391,3156,3664,2518,5364,1530,2307,2486,2045,1932,2313,2606,2403,2259,3131,1927,1369,1505,1846,2325,2528,3344,1475,2797,2487,1440,2180,1131,3103,1609,1700,1811,1814,1012,1573,2630,653,1764,2630,1939,2070,4941,2634,2037,1436,2422,2023,1707,2465,2848,3587,2273,2077,1062,2425,4933,2159,2646,3396,1851,1848,1625,1249,2013,2481,4287,2216,1752,3975,1480,1310,2182,1332,1607,4190,2008,3689,4380,2586,4870,2748,2496,1585,1010,2891,971,1965,6009,1184,3351,1790,3426,2490,3415,1563,3080,1585,2163,3062,1866,3864,1562,1687,1719,1767,1064,2244,2035,969,1982,1858,4826,996,2227,1293,1650,2650,4322,2226,2449,2901,3044,3009,2298,1246,3095,3619,2239,941,3130,2135,2406,2817,1311,4139,2146,1181,4085,1801,1674,3140,2953,2245,975,1924,1121,2530,1490,2688,2600,4021,744,2256,1506,1348,2249,2584,1020,1494,2045,2596,2864,1482,2514,2526,2252,1498,1313,2742,1463,3055,2345,2060,2186,2727,1536,2235,1198,656,1982,2223,1528,1977,4243,2271,1691,1623,1828,2638,2000,3138,906,3043,1757,2002,1812,1065,1763,3662,3042,1109,906,2488,1010,2242,2825,2165,2508,1988,2233,3655,1257,1754,1211,1928,363,1550,1911,2322,2139,4271,2481,3908,2405,5076,1813,2297,1725,1823,2344,2959,931,3058,3121,4261,1864,3233,1778,2519,1522,3459,1227,1011,2061,5918,2456,1128,2326,2536,1123,2529,1907,1456,2254,1230,4194,5859,2971,4821,1830,951,1533,3248,2521,3428,878,2716,2931,1774,1993,4091,2824,4116,1353,4150,2772,2934,1613,2144,4636,3432,2562,2013,1339,1230,1588,1262,2073,2674,2030,3029,2562,2534,1831,1168,2162,1579,1226,1650,1896,893,1968,2792,4070,1349,1181,1968,3293,1246,3682,1992,3452,1319,5177,2665,2196,2359,2246,2688,1957,1914,1666,1322,2043,2263,891,1196,1006,866,2090,3441,2312,1876,2201,3179,3748,3361,3031,2769,1913,3206,1883,1256,6000,6014,3629,2874,502,1838,2473,1447,1873,3656,2602,1643,2364,2682,1684,4618,2046,2050,1016,3268,1145,1043,2945,1630,3584,2335,1578,2405,2950,2565,1949,1261,1467,1486,1905,1048,969,2686,2756,2829,1227,1980,2584,3581,1435,2746,1536,3077,994,1931,535,2923,1702,2865,1287,3790,2636,1554,1297,5927,2668,592,2351,2944,1953,6009,1856,1412,2267,1136,3649,1178,2892,2165,2274,1602,1696,2035,1097,1652,1057,1369,1989,1013,2113,3432,2441,1590,757,2787,1854,1265,3374,3555,1350,2265,2251,1886,2653,1759,1860,4200,1547,2573,1453,1018,1356,1186,4529,2915,3318,3203,1378,1127,3265,3477,2746,1072,2309,2809,1991,1618,1054,1797,2902,2662,1453,1518,1523,4002,3373,968,632,4476,1766,2352,1331,2226,5277,3174,2281,3375,2290,874,3327,1644,1678,1136,1567,2162,3896,1531,1289,1459,824,5928,1959,3080,1476,1849,2417,2409,3605,2735,2893,2048,1677,1327,5861,1321,2790,3475,3934,1315,1673,3039,2721,568,1926,2840,1558,1103,5898,4114,1680,1425,898,5964,2926,2756,1421,2482,2687,5839,3111,1969,3871,2067,2754,2069,1506,2250,4355,1960,2760,2591,2004,3846,2707,2720,2128,6010,1635,1939,3309,4150,1028,4538,3114,1351,1780,1647,4209,1241,1539,776,2375,2237,1488,4066,4968,1617,1918,2383,1649,1456,524,3347,2141,4248,2009,3070,1907,1885,3337,1735,1830,2826,3022,2088,2796,2689,1999,2729,4494,3296,2621,1633,2264,1471,4954,2583,1748,1772,4524,3074,1310,1244,4160,954,3353,953,2702,3003,1665,2151,1249,1517,2544,2326,3235,890,1081,1206,3537,3307,1831,1774,2592,2132,1386,1479,1242,2898,3340,1977,3061,5562,3555,1607,1620,1896,1871,1910,2315,1561,4161,5832,2371,3494,1394,2483,3660,1422,3182,2481,2105,2247,1378,3607,871,1050,1792,1517,1764,5015,1845,2013,864,2545,2061,2457,2829,2062,727,3016,1947,3614,1612,3167,1523,1383,1692,3243,1329,2127,1223,1414,1764,2255,2392,2911,1075,1510,2940,2261,1854,3117,2069,1667,4420,1815,2022,3184,5075,2192,1333,2628,2717,2069,1199,2545,1584,1903,1690,896,2134,1317,2562,5206,3977,1971,5968,1456,2980,1813,1864,1526,3091,3080,1689,2050,2774,3115,3043,2154,1610,1740,1871,2644,887,2361,1565,1794,749,5383,5404,2853,1270,2832,1381,1366,1928,1752,2503,3803,1221,2660,3551,3885,2130,2017,2499,2060,2476,1349,2368,1431,1904,5709,2627,3747,3304,2619,3101,1257,2712,3815,5202,2458,1582,2931,1822,3381,2024,1892,2945,3583,2148,1873,4111,2203,1782,2278,1917,2692,82,3489,1721,1222,1903,5153,5759,1182,1735,2387,3945,1776,2063,1977,1641,3624,2310,1701,3193,1331,2766,2213,2092,1681,1635,4171,1876,535,3291,1575,2569,2164,2585,1046,1564,2674,1791,957,3425,2126,2681,1811,3860,2409,1382,1018,1844,1071,1587,3511,3982,2082,2120,4326,1523,461,2729,3528,1384,1351,1609,4994,2211,2875,2446,3717,2660,2534,2651,3633,1654,2722,2321,2475,2757,1346,2060,1240,2876,5237,1168,1167,2474,5346,1844,2344,4111,2381,2261,2757,2446,2552,3445,2490,2214,824,1983,1251,2084,2340,1829,3158,1657,2047,1720,1360,1450,1286,2167,1592,2839,3181,3010,1012,2535,1597,1240,1556,1908,1591,1400,1125,3422,5453,3161,1768,2163,3305,3031,3336,3209,1908,2971,3250,3995,1998,2051,1787,1863,2274,2531,2606,1341,2756,2708,2307,1236,1330,1298,2869,1107,1575,828,1937,1725,1756,2101,1086,1128,1740,2570,3141,1848,2639,2165,1353,2923,2917,2059,3235,1688,1541,2432,1239,4229,1669,2067,1936,1628,2647,1319,1542,1261,2010,3037,3421,1704,1370,1635,1018,1960,3032,1071,3216,3146,1641,3033,1954,1100,1719,2355,2691,1850,1164,2532,2093,2297,2835,940,2628,1222,4816,2113,2550,2696,2055,3310,874,1640,868,3557,1237,1711,1247,3378,2609,1415,977,2603,1298,2833,3395],\"xaxis\":\"x2\",\"yaxis\":\"y2\",\"type\":\"box\"}],                        {\"template\":{\"data\":{\"barpolar\":[{\"marker\":{\"line\":{\"color\":\"rgb(17,17,17)\",\"width\":0.5},\"pattern\":{\"fillmode\":\"overlay\",\"size\":10,\"solidity\":0.2}},\"type\":\"barpolar\"}],\"bar\":[{\"error_x\":{\"color\":\"#f2f5fa\"},\"error_y\":{\"color\":\"#f2f5fa\"},\"marker\":{\"line\":{\"color\":\"rgb(17,17,17)\",\"width\":0.5},\"pattern\":{\"fillmode\":\"overlay\",\"size\":10,\"solidity\":0.2}},\"type\":\"bar\"}],\"carpet\":[{\"aaxis\":{\"endlinecolor\":\"#A2B1C6\",\"gridcolor\":\"#506784\",\"linecolor\":\"#506784\",\"minorgridcolor\":\"#506784\",\"startlinecolor\":\"#A2B1C6\"},\"baxis\":{\"endlinecolor\":\"#A2B1C6\",\"gridcolor\":\"#506784\",\"linecolor\":\"#506784\",\"minorgridcolor\":\"#506784\",\"startlinecolor\":\"#A2B1C6\"},\"type\":\"carpet\"}],\"choropleth\":[{\"colorbar\":{\"outlinewidth\":0,\"ticks\":\"\"},\"type\":\"choropleth\"}],\"contourcarpet\":[{\"colorbar\":{\"outlinewidth\":0,\"ticks\":\"\"},\"type\":\"contourcarpet\"}],\"contour\":[{\"colorbar\":{\"outlinewidth\":0,\"ticks\":\"\"},\"colorscale\":[[0.0,\"#0d0887\"],[0.1111111111111111,\"#46039f\"],[0.2222222222222222,\"#7201a8\"],[0.3333333333333333,\"#9c179e\"],[0.4444444444444444,\"#bd3786\"],[0.5555555555555556,\"#d8576b\"],[0.6666666666666666,\"#ed7953\"],[0.7777777777777778,\"#fb9f3a\"],[0.8888888888888888,\"#fdca26\"],[1.0,\"#f0f921\"]],\"type\":\"contour\"}],\"heatmapgl\":[{\"colorbar\":{\"outlinewidth\":0,\"ticks\":\"\"},\"colorscale\":[[0.0,\"#0d0887\"],[0.1111111111111111,\"#46039f\"],[0.2222222222222222,\"#7201a8\"],[0.3333333333333333,\"#9c179e\"],[0.4444444444444444,\"#bd3786\"],[0.5555555555555556,\"#d8576b\"],[0.6666666666666666,\"#ed7953\"],[0.7777777777777778,\"#fb9f3a\"],[0.8888888888888888,\"#fdca26\"],[1.0,\"#f0f921\"]],\"type\":\"heatmapgl\"}],\"heatmap\":[{\"colorbar\":{\"outlinewidth\":0,\"ticks\":\"\"},\"colorscale\":[[0.0,\"#0d0887\"],[0.1111111111111111,\"#46039f\"],[0.2222222222222222,\"#7201a8\"],[0.3333333333333333,\"#9c179e\"],[0.4444444444444444,\"#bd3786\"],[0.5555555555555556,\"#d8576b\"],[0.6666666666666666,\"#ed7953\"],[0.7777777777777778,\"#fb9f3a\"],[0.8888888888888888,\"#fdca26\"],[1.0,\"#f0f921\"]],\"type\":\"heatmap\"}],\"histogram2dcontour\":[{\"colorbar\":{\"outlinewidth\":0,\"ticks\":\"\"},\"colorscale\":[[0.0,\"#0d0887\"],[0.1111111111111111,\"#46039f\"],[0.2222222222222222,\"#7201a8\"],[0.3333333333333333,\"#9c179e\"],[0.4444444444444444,\"#bd3786\"],[0.5555555555555556,\"#d8576b\"],[0.6666666666666666,\"#ed7953\"],[0.7777777777777778,\"#fb9f3a\"],[0.8888888888888888,\"#fdca26\"],[1.0,\"#f0f921\"]],\"type\":\"histogram2dcontour\"}],\"histogram2d\":[{\"colorbar\":{\"outlinewidth\":0,\"ticks\":\"\"},\"colorscale\":[[0.0,\"#0d0887\"],[0.1111111111111111,\"#46039f\"],[0.2222222222222222,\"#7201a8\"],[0.3333333333333333,\"#9c179e\"],[0.4444444444444444,\"#bd3786\"],[0.5555555555555556,\"#d8576b\"],[0.6666666666666666,\"#ed7953\"],[0.7777777777777778,\"#fb9f3a\"],[0.8888888888888888,\"#fdca26\"],[1.0,\"#f0f921\"]],\"type\":\"histogram2d\"}],\"histogram\":[{\"marker\":{\"pattern\":{\"fillmode\":\"overlay\",\"size\":10,\"solidity\":0.2}},\"type\":\"histogram\"}],\"mesh3d\":[{\"colorbar\":{\"outlinewidth\":0,\"ticks\":\"\"},\"type\":\"mesh3d\"}],\"parcoords\":[{\"line\":{\"colorbar\":{\"outlinewidth\":0,\"ticks\":\"\"}},\"type\":\"parcoords\"}],\"pie\":[{\"automargin\":true,\"type\":\"pie\"}],\"scatter3d\":[{\"line\":{\"colorbar\":{\"outlinewidth\":0,\"ticks\":\"\"}},\"marker\":{\"colorbar\":{\"outlinewidth\":0,\"ticks\":\"\"}},\"type\":\"scatter3d\"}],\"scattercarpet\":[{\"marker\":{\"colorbar\":{\"outlinewidth\":0,\"ticks\":\"\"}},\"type\":\"scattercarpet\"}],\"scattergeo\":[{\"marker\":{\"colorbar\":{\"outlinewidth\":0,\"ticks\":\"\"}},\"type\":\"scattergeo\"}],\"scattergl\":[{\"marker\":{\"line\":{\"color\":\"#283442\"}},\"type\":\"scattergl\"}],\"scattermapbox\":[{\"marker\":{\"colorbar\":{\"outlinewidth\":0,\"ticks\":\"\"}},\"type\":\"scattermapbox\"}],\"scatterpolargl\":[{\"marker\":{\"colorbar\":{\"outlinewidth\":0,\"ticks\":\"\"}},\"type\":\"scatterpolargl\"}],\"scatterpolar\":[{\"marker\":{\"colorbar\":{\"outlinewidth\":0,\"ticks\":\"\"}},\"type\":\"scatterpolar\"}],\"scatter\":[{\"marker\":{\"line\":{\"color\":\"#283442\"}},\"type\":\"scatter\"}],\"scatterternary\":[{\"marker\":{\"colorbar\":{\"outlinewidth\":0,\"ticks\":\"\"}},\"type\":\"scatterternary\"}],\"surface\":[{\"colorbar\":{\"outlinewidth\":0,\"ticks\":\"\"},\"colorscale\":[[0.0,\"#0d0887\"],[0.1111111111111111,\"#46039f\"],[0.2222222222222222,\"#7201a8\"],[0.3333333333333333,\"#9c179e\"],[0.4444444444444444,\"#bd3786\"],[0.5555555555555556,\"#d8576b\"],[0.6666666666666666,\"#ed7953\"],[0.7777777777777778,\"#fb9f3a\"],[0.8888888888888888,\"#fdca26\"],[1.0,\"#f0f921\"]],\"type\":\"surface\"}],\"table\":[{\"cells\":{\"fill\":{\"color\":\"#506784\"},\"line\":{\"color\":\"rgb(17,17,17)\"}},\"header\":{\"fill\":{\"color\":\"#2a3f5f\"},\"line\":{\"color\":\"rgb(17,17,17)\"}},\"type\":\"table\"}]},\"layout\":{\"annotationdefaults\":{\"arrowcolor\":\"#f2f5fa\",\"arrowhead\":0,\"arrowwidth\":1},\"autotypenumbers\":\"strict\",\"coloraxis\":{\"colorbar\":{\"outlinewidth\":0,\"ticks\":\"\"}},\"colorscale\":{\"diverging\":[[0,\"#8e0152\"],[0.1,\"#c51b7d\"],[0.2,\"#de77ae\"],[0.3,\"#f1b6da\"],[0.4,\"#fde0ef\"],[0.5,\"#f7f7f7\"],[0.6,\"#e6f5d0\"],[0.7,\"#b8e186\"],[0.8,\"#7fbc41\"],[0.9,\"#4d9221\"],[1,\"#276419\"]],\"sequential\":[[0.0,\"#0d0887\"],[0.1111111111111111,\"#46039f\"],[0.2222222222222222,\"#7201a8\"],[0.3333333333333333,\"#9c179e\"],[0.4444444444444444,\"#bd3786\"],[0.5555555555555556,\"#d8576b\"],[0.6666666666666666,\"#ed7953\"],[0.7777777777777778,\"#fb9f3a\"],[0.8888888888888888,\"#fdca26\"],[1.0,\"#f0f921\"]],\"sequentialminus\":[[0.0,\"#0d0887\"],[0.1111111111111111,\"#46039f\"],[0.2222222222222222,\"#7201a8\"],[0.3333333333333333,\"#9c179e\"],[0.4444444444444444,\"#bd3786\"],[0.5555555555555556,\"#d8576b\"],[0.6666666666666666,\"#ed7953\"],[0.7777777777777778,\"#fb9f3a\"],[0.8888888888888888,\"#fdca26\"],[1.0,\"#f0f921\"]]},\"colorway\":[\"#636efa\",\"#EF553B\",\"#00cc96\",\"#ab63fa\",\"#FFA15A\",\"#19d3f3\",\"#FF6692\",\"#B6E880\",\"#FF97FF\",\"#FECB52\"],\"font\":{\"color\":\"#f2f5fa\"},\"geo\":{\"bgcolor\":\"rgb(17,17,17)\",\"lakecolor\":\"rgb(17,17,17)\",\"landcolor\":\"rgb(17,17,17)\",\"showlakes\":true,\"showland\":true,\"subunitcolor\":\"#506784\"},\"hoverlabel\":{\"align\":\"left\"},\"hovermode\":\"closest\",\"mapbox\":{\"style\":\"dark\"},\"paper_bgcolor\":\"rgb(17,17,17)\",\"plot_bgcolor\":\"rgb(17,17,17)\",\"polar\":{\"angularaxis\":{\"gridcolor\":\"#506784\",\"linecolor\":\"#506784\",\"ticks\":\"\"},\"bgcolor\":\"rgb(17,17,17)\",\"radialaxis\":{\"gridcolor\":\"#506784\",\"linecolor\":\"#506784\",\"ticks\":\"\"}},\"scene\":{\"xaxis\":{\"backgroundcolor\":\"rgb(17,17,17)\",\"gridcolor\":\"#506784\",\"gridwidth\":2,\"linecolor\":\"#506784\",\"showbackground\":true,\"ticks\":\"\",\"zerolinecolor\":\"#C8D4E3\"},\"yaxis\":{\"backgroundcolor\":\"rgb(17,17,17)\",\"gridcolor\":\"#506784\",\"gridwidth\":2,\"linecolor\":\"#506784\",\"showbackground\":true,\"ticks\":\"\",\"zerolinecolor\":\"#C8D4E3\"},\"zaxis\":{\"backgroundcolor\":\"rgb(17,17,17)\",\"gridcolor\":\"#506784\",\"gridwidth\":2,\"linecolor\":\"#506784\",\"showbackground\":true,\"ticks\":\"\",\"zerolinecolor\":\"#C8D4E3\"}},\"shapedefaults\":{\"line\":{\"color\":\"#f2f5fa\"}},\"sliderdefaults\":{\"bgcolor\":\"#C8D4E3\",\"bordercolor\":\"rgb(17,17,17)\",\"borderwidth\":1,\"tickwidth\":0},\"ternary\":{\"aaxis\":{\"gridcolor\":\"#506784\",\"linecolor\":\"#506784\",\"ticks\":\"\"},\"baxis\":{\"gridcolor\":\"#506784\",\"linecolor\":\"#506784\",\"ticks\":\"\"},\"bgcolor\":\"rgb(17,17,17)\",\"caxis\":{\"gridcolor\":\"#506784\",\"linecolor\":\"#506784\",\"ticks\":\"\"}},\"title\":{\"x\":0.05},\"updatemenudefaults\":{\"bgcolor\":\"#506784\",\"borderwidth\":0},\"xaxis\":{\"automargin\":true,\"gridcolor\":\"#283442\",\"linecolor\":\"#506784\",\"ticks\":\"\",\"title\":{\"standoff\":15},\"zerolinecolor\":\"#283442\",\"zerolinewidth\":2},\"yaxis\":{\"automargin\":true,\"gridcolor\":\"#283442\",\"linecolor\":\"#506784\",\"ticks\":\"\",\"title\":{\"standoff\":15},\"zerolinecolor\":\"#283442\",\"zerolinewidth\":2}}},\"xaxis\":{\"anchor\":\"y\",\"domain\":[0.0,1.0],\"title\":{\"text\":\"x\"}},\"yaxis\":{\"anchor\":\"x\",\"domain\":[0.0,0.8316],\"title\":{\"text\":\"count\"}},\"xaxis2\":{\"anchor\":\"y2\",\"domain\":[0.0,1.0],\"matches\":\"x\",\"showticklabels\":false,\"showgrid\":true},\"yaxis2\":{\"anchor\":\"x2\",\"domain\":[0.8416,1.0],\"matches\":\"y2\",\"showticklabels\":false,\"showline\":false,\"ticks\":\"\",\"showgrid\":false},\"legend\":{\"tracegroupgap\":0},\"title\":{\"text\":\"Number of Characters\"},\"barmode\":\"relative\",\"bargap\":0.2,\"font\":{\"family\":\"PT Sans\",\"size\":18,\"color\":\"#C4FEFF\"}},                        {\"responsive\": true}                    ).then(function(){\n",
              "                            \n",
              "var gd = document.getElementById('aec999a4-205a-4054-8430-c878a6b24d8b');\n",
              "var x = new MutationObserver(function (mutations, observer) {{\n",
              "        var display = window.getComputedStyle(gd).display;\n",
              "        if (!display || display === 'none') {{\n",
              "            console.log([gd, 'removed!']);\n",
              "            Plotly.purge(gd);\n",
              "            observer.disconnect();\n",
              "        }}\n",
              "}});\n",
              "\n",
              "// Listen for the removal of the full notebook cells\n",
              "var notebookContainer = gd.closest('#notebook-container');\n",
              "if (notebookContainer) {{\n",
              "    x.observe(notebookContainer, {childList: true});\n",
              "}}\n",
              "\n",
              "// Listen for the clearing of the current output cell\n",
              "var outputEl = gd.closest('.output');\n",
              "if (outputEl) {{\n",
              "    x.observe(outputEl, {childList: true});\n",
              "}}\n",
              "\n",
              "                        })                };                            </script>        </div>\n",
              "</body>\n",
              "</html>"
            ]
          },
          "metadata": {}
        }
      ]
    },
    {
      "cell_type": "markdown",
      "source": [
        "Number of Words"
      ],
      "metadata": {
        "id": "hhcG0a_xt_Y9"
      }
    },
    {
      "cell_type": "code",
      "source": [
        "fig = plt.figure(figsize=(15, 5))\n",
        "df_train['num_words'] = df_train['full_text'].apply(lambda x: len(x.split()))\n",
        "#df_train['num_words'] = df_train['full_text'].str.split().map(lambda x: len(x))\n",
        "sns.histplot(data=df_train, x=\"num_words\")\n",
        "plt.title(\"Number of Words\")\n",
        "plt.show()"
      ],
      "metadata": {
        "colab": {
          "base_uri": "https://localhost:8080/",
          "height": 0
        },
        "id": "Y0NNnapEuBBu",
        "outputId": "b2a65a42-094c-4f3a-d206-9b2ed089f01f"
      },
      "execution_count": 14,
      "outputs": [
        {
          "output_type": "display_data",
          "data": {
            "text/plain": [
              "<Figure size 1080x360 with 1 Axes>"
            ],
            "image/png": "[encoded data removed]"
          },
          "metadata": {
            "needs_background": "light"
          }
        }
      ]
    },
    {
      "cell_type": "code",
      "source": [
        "fig = px.histogram(df_train, x = df_train['num_words'], marginal=\"box\", \n",
        "                   title = \"Number of Words\", color_discrete_sequence=[\"#FFA200\"])\n",
        "fig.update_layout(bargap=0.2)\n",
        "fig.update_layout(template=\"plotly_dark\", font=dict(family=\"PT Sans\", size=18, color=\"#C4FEFF\"))\n",
        "fig.show()"
      ],
      "metadata": {
        "colab": {
          "base_uri": "https://localhost:8080/",
          "height": 0
        },
        "id": "nwGXJmMJuBKX",
        "outputId": "e67b133a-192c-4ab0-b054-490d5a584ca0"
      },
      "execution_count": 15,
      "outputs": [
        {
          "output_type": "display_data",
          "data": {
            "text/html": [
              "<html>\n",
              "<head><meta charset=\"utf-8\" /></head>\n",
              "<body>\n",
              "    <div>            <script src=\"https://cdnjs.cloudflare.com/ajax/libs/mathjax/2.7.5/MathJax.js?config=TeX-AMS-MML_SVG\"></script><script type=\"text/javascript\">if (window.MathJax) {MathJax.Hub.Config({SVG: {font: \"STIX-Web\"}});}</script>                <script type=\"text/javascript\">window.PlotlyConfig = {MathJaxConfig: 'local'};</script>\n",
              "        <script src=\"https://cdn.plot.ly/plotly-2.8.3.min.js\"></script>                <div id=\"940e4be8-1116-4d45-b8e3-f7bb6d6c3907\" class=\"plotly-graph-div\" style=\"height:525px; width:100%;\"></div>            <script type=\"text/javascript\">                                    window.PLOTLYENV=window.PLOTLYENV || {};                                    if (document.getElementById(\"940e4be8-1116-4d45-b8e3-f7bb6d6c3907\")) {                    Plotly.newPlot(                        \"940e4be8-1116-4d45-b8e3-f7bb6d6c3907\",                        [{\"alignmentgroup\":\"True\",\"bingroup\":\"x\",\"hovertemplate\":\"num_words=%{x}<br>count=%{y}<extra></extra>\",\"legendgroup\":\"\",\"marker\":{\"color\":\"#FFA200\",\"pattern\":{\"shape\":\"\"}},\"name\":\"\",\"offsetgroup\":\"\",\"orientation\":\"v\",\"showlegend\":false,\"x\":[261,533,320,728,234,328,431,388,569,396,315,412,201,683,684,300,399,676,227,288,379,421,307,628,537,183,536,521,309,226,419,440,249,578,1136,698,591,435,503,313,320,285,425,464,697,586,291,170,578,1080,1208,197,406,427,473,398,593,252,1115,373,497,337,414,530,413,229,404,325,220,268,221,485,339,364,597,182,315,526,395,436,750,372,261,253,465,404,705,514,187,175,418,262,887,512,656,581,229,320,1039,368,622,489,989,598,731,229,384,266,765,414,586,517,545,412,332,639,374,295,300,279,477,412,323,304,502,192,285,424,443,319,377,482,424,220,446,318,177,358,415,218,436,299,703,351,504,491,350,475,795,279,405,468,177,364,540,632,257,336,240,299,464,302,397,517,463,294,222,563,922,393,160,513,611,201,466,387,206,311,205,358,51,483,190,520,414,190,99,520,450,582,522,391,370,439,933,516,231,326,176,513,665,633,354,258,392,412,263,428,265,192,223,498,144,317,501,232,301,341,223,463,226,473,334,311,606,178,368,357,185,972,307,378,793,170,475,549,485,692,297,479,323,341,408,491,326,431,470,263,521,371,344,270,287,425,202,375,343,345,651,485,458,510,632,536,1056,390,372,549,298,348,599,590,220,468,92,298,533,591,381,423,510,312,382,536,395,878,429,753,214,457,315,421,484,650,309,1089,394,406,276,1072,697,545,283,399,274,498,374,209,402,309,169,502,700,291,572,512,936,311,340,546,317,244,421,236,331,233,317,378,291,767,427,670,329,259,401,385,348,616,560,496,284,253,192,328,366,526,223,400,281,521,244,540,501,473,252,732,765,467,378,546,290,461,274,415,475,770,262,413,291,295,397,521,421,317,621,570,366,224,105,313,279,328,330,74,278,994,485,274,345,609,369,609,564,428,231,323,292,707,343,466,393,393,294,393,525,160,799,417,381,563,414,918,232,713,244,325,149,605,343,170,490,428,480,407,198,228,393,398,381,475,319,394,346,665,290,548,608,330,899,343,550,568,415,596,458,442,510,347,353,613,571,469,266,449,298,424,427,640,381,294,630,198,691,605,349,322,437,194,338,181,429,705,428,582,493,441,282,414,1070,430,202,688,366,473,235,657,345,310,204,521,470,727,507,445,361,248,182,375,401,381,478,538,311,177,252,308,370,413,503,210,366,318,612,255,206,299,550,617,280,217,82,369,594,424,266,307,376,544,722,525,389,581,180,585,373,647,164,583,750,377,389,697,487,794,321,614,449,250,146,294,315,627,373,205,329,191,545,401,508,207,163,533,527,480,483,997,319,310,616,540,299,406,721,671,600,1039,398,286,435,627,197,585,192,357,651,442,515,255,412,428,640,662,321,995,489,430,162,414,492,231,886,229,837,271,642,658,293,481,202,423,389,153,418,269,304,532,584,365,387,372,455,220,247,716,396,353,501,537,338,559,720,166,310,662,175,946,404,561,351,358,581,594,291,210,373,361,196,469,391,139,189,295,590,480,371,335,605,1109,660,735,481,520,349,407,304,701,375,516,404,278,441,589,574,226,442,449,406,452,375,210,216,277,1160,764,508,480,388,792,700,407,409,305,440,626,214,520,380,431,585,427,393,190,480,287,993,318,500,249,440,575,244,361,419,280,373,326,717,515,338,167,443,575,68,246,347,1260,597,705,462,785,275,291,459,280,205,498,123,207,150,407,406,274,917,339,278,757,301,603,554,512,241,204,999,385,659,458,289,272,481,436,230,324,510,622,628,382,212,399,442,530,408,322,312,245,490,498,270,754,522,995,436,490,362,248,677,557,396,212,676,368,239,451,296,323,606,195,1157,349,440,964,174,274,259,196,545,471,221,798,401,497,180,462,221,554,328,403,808,530,340,443,402,377,292,331,518,298,341,383,831,268,444,647,249,169,574,276,252,416,386,180,360,700,436,422,320,425,681,390,398,229,195,207,460,273,375,333,492,471,477,453,410,316,216,301,1193,417,386,468,203,635,463,323,248,498,453,460,501,304,433,1047,517,487,219,326,313,447,565,383,454,324,317,685,545,460,350,242,523,456,321,246,901,459,268,258,638,56,421,417,468,400,346,225,212,439,478,538,674,650,410,345,189,306,432,419,366,421,409,217,308,575,446,209,222,686,167,550,574,639,441,481,243,331,350,319,195,764,219,194,186,412,539,383,255,764,337,270,708,418,173,300,546,586,243,473,532,240,247,190,294,302,376,516,564,339,388,243,358,209,525,337,541,340,679,174,549,396,485,411,374,322,274,169,321,343,397,162,501,202,548,417,328,711,282,335,194,375,283,291,467,642,413,483,485,482,267,185,404,550,237,600,135,737,233,373,189,194,414,218,449,408,281,286,404,225,292,548,520,299,365,1135,170,428,450,277,350,468,409,194,743,728,459,461,424,325,566,523,338,496,205,388,762,365,181,1240,719,355,777,779,185,218,268,440,719,540,698,279,439,402,506,465,257,464,508,256,641,447,596,359,392,268,625,523,449,336,362,129,318,706,376,303,814,240,415,242,600,496,317,409,193,580,497,874,516,432,392,553,900,212,594,262,490,510,110,804,471,616,274,532,417,568,462,647,516,197,365,259,439,432,203,183,361,240,631,597,312,519,356,229,433,834,264,393,270,345,204,405,721,489,551,348,464,111,393,444,476,195,258,514,805,723,118,234,546,732,518,286,475,199,347,729,628,426,333,468,400,202,180,212,479,478,325,481,488,602,728,290,451,697,291,1091,297,354,463,584,670,222,715,413,361,287,454,390,503,185,342,277,164,138,269,837,316,530,613,499,358,614,479,454,822,490,327,414,613,666,655,259,283,339,523,227,174,313,51,193,415,609,604,249,282,531,436,529,445,363,190,211,440,523,1098,456,739,248,428,561,262,439,284,560,164,530,182,295,318,614,486,340,252,544,586,692,320,273,556,973,390,373,1163,168,543,289,600,204,284,486,294,255,1028,732,760,447,184,289,541,396,376,302,698,188,232,386,662,365,237,343,361,194,330,572,503,190,303,470,550,510,760,458,445,484,493,549,220,287,309,603,341,930,286,546,292,426,664,243,365,195,291,667,501,249,577,698,553,536,189,413,455,473,417,54,574,820,615,278,462,328,709,438,262,439,314,554,336,650,400,244,198,341,394,467,505,284,341,508,389,457,287,576,344,711,853,202,314,442,296,333,196,247,327,547,245,751,471,241,598,455,304,333,627,269,382,547,368,496,483,402,301,488,450,620,311,266,315,331,445,585,1192,394,383,276,572,278,320,474,547,318,1151,807,313,632,598,532,254,836,354,486,308,321,522,315,649,502,604,331,675,597,496,429,512,526,201,504,700,541,321,537,280,297,526,405,458,367,226,1200,299,531,570,202,201,302,412,667,264,447,616,78,353,344,480,281,1020,487,388,656,468,1029,299,377,534,602,1099,441,346,336,298,605,480,397,427,554,544,314,600,245,759,275,561,380,476,288,344,297,589,547,424,167,430,167,170,529,399,602,623,434,490,572,668,579,241,329,511,363,253,592,265,191,461,531,554,433,443,314,460,822,424,325,1071,213,484,413,942,595,311,330,222,374,787,848,279,249,192,238,401,48,182,461,411,645,583,477,620,432,546,386,303,1100,1161,102,146,463,420,382,485,790,593,236,350,293,731,583,351,345,380,296,204,464,362,789,519,1131,283,377,444,343,428,409,295,527,203,259,532,380,305,393,686,446,442,599,493,371,499,450,352,409,420,574,476,356,650,403,644,379,447,604,500,691,424,422,301,219,333,390,466,454,694,435,539,407,352,339,635,433,553,1057,401,481,352,718,309,455,242,251,634,624,210,485,331,460,586,779,287,477,366,228,843,571,401,224,391,268,464,235,306,487,288,513,197,529,262,294,345,820,389,329,176,798,377,483,302,642,287,492,386,308,521,685,173,215,435,208,186,309,317,404,279,263,965,192,388,867,223,387,467,644,341,374,197,140,297,347,259,756,240,959,393,295,580,671,616,266,346,389,118,706,227,858,394,198,411,278,186,700,215,375,479,374,231,1008,259,339,298,448,358,215,320,201,644,200,349,197,625,697,333,522,564,633,195,487,266,639,466,263,542,1124,528,300,805,237,245,346,379,374,168,618,441,359,217,236,423,200,253,442,520,317,252,322,414,544,400,418,272,1135,202,373,427,323,434,380,255,474,435,627,528,434,395,336,580,717,239,563,280,474,828,351,903,605,419,267,191,553,174,615,386,314,217,747,316,334,516,279,438,342,468,290,445,355,640,547,314,220,651,477,427,338,339,217,192,453,312,310,419,308,343,722,653,328,510,484,269,280,688,200,238,306,377,229,262,166,439,552,493,512,206,469,475,422,499,180,430,328,444,239,398,569,261,305,442,453,289,404,242,259,190,217,477,302,365,280,309,425,473,436,929,651,242,448,165,189,574,150,434,336,434,693,760,496,162,481,204,272,1113,274,605,369,126,240,529,371,196,423,371,361,455,512,492,277,624,440,247,554,280,190,704,406,342,504,446,343,423,242,571,659,253,722,227,336,396,381,345,378,718,394,645,384,247,194,421,368,876,152,448,434,542,228,354,308,295,503,465,310,651,499,416,184,597,276,422,247,604,453,288,306,327,546,361,312,460,475,602,249,297,648,211,803,620,221,394,505,314,596,418,256,379,407,385,206,56,359,387,558,574,395,797,321,452,347,591,384,687,305,326,504,172,403,251,250,474,290,287,398,260,218,355,328,420,497,363,435,396,461,571,401,690,409,622,274,206,412,236,183,443,365,277,496,395,191,338,618,204,849,556,311,356,949,327,360,167,225,599,312,147,376,251,376,324,465,278,267,430,225,351,245,163,573,340,453,273,293,322,428,524,1145,220,271,348,684,308,540,261,326,251,392,946,372,380,879,420,280,333,377,282,421,398,402,784,533,585,464,426,464,668,278,459,289,458,392,219,592,391,296,438,708,545,281,406,270,272,672,497,564,184,413,509,675,522,259,334,626,474,193,393,429,501,223,369,391,533,203,318,354,1031,614,243,414,677,780,428,260,699,599,395,213,524,170,399,596,370,225,379,447,277,684,351,363,646,556,426,436,304,560,265,624,388,289,306,790,341,708,442,436,750,411,1003,653,462,403,520,470,368,331,472,720,280,432,490,345,457,327,172,426,481,363,517,582,592,463,575,345,340,463,449,243,359,335,489,525,823,485,487,390,482,362,567,417,340,616,344,412,251,402,332,365,434,333,257,549,756,225,582,1228,1050,630,366,421,592,549,320,637,410,439,114,413,446,416,455,427,201,659,589,274,336,484,247,483,365,567,846,492,260,408,845,409,238,680,260,724,693,172,320,208,260,436,290,961,1011,510,570,218,345,576,492,298,322,228,71,293,117,421,112,440,412,233,236,384,320,593,280,699,448,462,236,919,494,350,462,94,428,448,259,505,510,1236,127,272,646,111,373,225,206,525,486,921,531,294,221,593,307,742,300,324,325,328,294,285,556,535,239,443,513,626,847,632,174,406,399,360,195,324,509,293,907,407,558,376,450,501,301,300,641,470,286,450,250,752,245,511,565,453,497,357,822,332,543,602,655,354,438,332,209,357,505,393,727,252,333,752,355,209,206,191,228,474,343,478,277,561,703,611,388,252,950,477,639,476,422,1112,516,413,434,178,403,795,129,890,569,417,141,455,364,134,340,367,544,176,615,212,180,297,767,584,486,428,761,77,166,439,360,172,429,805,822,282,445,395,313,416,320,583,190,280,430,635,394,517,376,447,550,684,319,247,542,421,695,555,430,260,463,429,313,515,540,419,89,305,232,549,541,357,614,416,530,292,625,557,343,850,289,332,404,244,514,205,373,704,718,414,167,890,337,239,504,247,343,362,198,490,1100,847,543,469,157,314,620,260,356,567,548,227,536,292,625,620,275,255,287,197,503,267,327,324,299,328,342,173,463,544,455,390,311,269,643,776,478,545,151,292,543,197,363,521,321,507,532,335,382,268,256,438,246,322,170,295,455,644,787,259,317,379,224,383,357,679,192,427,386,478,220,371,150,216,903,411,414,504,431,744,396,358,259,459,397,390,419,532,629,396,194,424,267,372,390,224,582,410,632,641,271,167,362,595,506,306,336,357,755,387,432,467,448,393,560,189,655,336,663,432,289,309,231,367,358,171,469,236,670,308,471,194,276,559,406,746,398,1193,177,299,423,615,519,451,501,574,480,402,379,218,400,426,281,215,198,448,661,418,274,404,664,769,175,359,474,257,432,498,788,321,508,541,742,632,494,409,578,356,284,462,327,453,408,480,355,491,559,209,557,484,226,439,361,433,263,285,441,518,573,539,620,427,218,509,583,393,721,93,130,428,207,363,568,418,251,1209,283,209,597,452,496,488,301,267,1049,368,300,389,286,488,1205,644,522,666,424,411,521,400,492,598,531,456,430,265,517,179,500,434,418,246,309,468,475,314,802,354,298,957,553,567,259,275,328,197,466,247,309,477,787,217,61,438,546,256,473,414,308,678,639,292,1009,416,314,192,337,302,468,382,685,409,595,258,607,357,524,563,294,165,231,295,366,470,661,580,612,289,823,614,590,492,1022,290,407,471,370,349,441,471,412,375,544,373,259,292,333,429,472,640,275,532,507,246,400,200,540,278,370,331,332,187,299,473,125,335,481,366,394,565,510,411,263,441,383,327,433,542,637,400,375,206,440,971,434,499,636,332,343,272,232,373,405,809,443,326,776,281,254,403,264,312,869,372,695,867,489,873,502,418,297,208,591,165,378,1179,212,603,323,629,468,623,302,559,306,372,580,335,726,276,303,331,320,219,395,378,188,345,357,915,180,400,241,327,505,469,415,496,524,532,592,395,238,557,717,413,174,567,410,395,512,227,766,383,211,712,333,330,585,587,396,169,328,213,500,277,505,502,684,148,410,275,248,443,446,210,281,379,484,557,266,435,426,439,289,238,558,268,568,450,411,433,497,310,369,219,121,359,405,250,385,858,401,285,307,353,464,348,599,179,549,357,386,305,211,325,736,552,207,182,473,177,430,503,425,486,385,358,626,203,331,229,387,75,303,370,396,408,801,476,715,453,1005,344,436,308,334,440,566,190,530,533,788,324,648,292,449,287,623,239,196,410,1176,425,228,423,473,198,443,376,189,403,252,767,1170,535,833,329,193,281,554,459,652,172,485,537,337,374,828,532,807,275,794,531,533,311,387,906,621,444,395,269,268,283,244,387,491,408,544,405,502,339,230,408,297,226,326,322,153,339,519,768,273,218,343,656,226,656,342,684,244,925,467,415,450,359,508,358,354,325,275,378,147,170,186,188,163,387,581,276,365,421,547,604,662,523,498,345,612,360,255,1148,1124,640,493,93,334,497,286,353,699,450,286,401,453,342,879,388,363,216,613,218,188,526,293,706,400,289,409,600,525,362,248,288,271,359,207,177,499,535,502,225,370,407,648,275,519,267,593,189,381,106,582,290,532,209,735,558,287,231,1148,513,118,421,551,354,1091,315,265,417,216,652,203,405,394,444,285,310,381,230,335,205,270,379,177,409,625,406,296,147,522,374,236,616,599,265,426,384,367,461,326,351,765,283,491,289,186,250,207,841,496,580,587,256,226,604,626,511,208,439,553,355,322,189,368,570,484,254,295,283,748,594,201,106,689,289,447,251,384,1024,580,424,568,421,165,639,325,337,195,298,433,723,295,218,284,142,1131,398,544,265,315,465,493,702,533,552,396,321,239,982,229,541,673,723,264,298,553,532,100,313,508,295,206,1027,840,320,270,182,1146,512,484,264,471,485,814,600,348,733,382,483,387,302,413,773,346,518,432,386,712,513,511,382,1223,261,355,598,756,188,889,550,241,333,298,741,233,303,161,471,427,276,717,767,312,355,445,291,288,95,668,322,809,417,516,334,357,665,333,358,523,550,384,479,513,365,489,180,566,239,301,438,283,833,470,324,337,894,557,255,228,807,163,619,192,356,466,342,420,226,281,487,423,571,182,203,248,670,623,317,336,472,396,261,264,232,550,597,362,590,1049,699,271,301,343,343,324,437,303,757,1144,427,601,251,489,727,257,603,480,366,422,244,753,160,215,339,274,346,998,364,354,158,455,412,468,566,376,147,565,386,672,313,537,271,273,343,569,227,387,235,303,341,434,488,531,190,262,584,420,375,565,388,319,719,326,355,535,877,439,249,518,495,368,224,547,281,355,308,162,411,262,487,1008,526,385,1138,277,578,351,379,305,412,600,345,375,539,594,596,402,293,327,347,489,170,431,293,229,144,963,1025,553,229,485,268,241,354,348,479,683,209,508,707,716,411,391,455,380,403,267,448,262,317,1127,463,728,626,476,502,238,490,697,927,461,293,546,324,660,371,332,516,664,425,356,365,419,351,440,336,486,14,684,309,247,349,803,1087,252,303,436,737,353,356,348,318,691,448,278,612,233,488,422,368,315,284,757,347,123,527,308,464,411,499,188,308,481,328,204,642,423,512,335,715,427,272,170,355,189,305,647,772,376,380,739,294,84,489,729,249,242,295,968,433,587,468,659,492,436,507,643,321,527,410,460,530,275,382,232,520,963,217,218,438,830,343,424,739,423,420,417,472,518,136,453,416,165,380,259,374,422,347,554,279,351,349,281,273,226,413,294,516,590,580,195,477,302,236,308,381,275,272,231,586,817,535,308,424,659,539,596,570,363,546,557,712,370,378,324,351,422,461,484,256,501,532,332,223,247,282,503,222,294,170,354,341,325,360,193,158,344,451,546,302,468,374,261,517,568,391,663,314,305,464,225,816,326,384,347,300,501,253,318,218,390,604,617,296,273,319,197,389,518,174,555,630,324,592,384,222,314,442,472,336,230,432,361,386,509,181,508,222,852,360,454,531,389,622,164,338,167,642,235,315,231,624,496,263,179,465,257,510,638],\"xaxis\":\"x\",\"yaxis\":\"y\",\"type\":\"histogram\"},{\"alignmentgroup\":\"True\",\"hovertemplate\":\"num_words=%{x}<extra></extra>\",\"legendgroup\":\"\",\"marker\":{\"color\":\"#FFA200\"},\"name\":\"\",\"notched\":true,\"offsetgroup\":\"\",\"showlegend\":false,\"x\":[261,533,320,728,234,328,431,388,569,396,315,412,201,683,684,300,399,676,227,288,379,421,307,628,537,183,536,521,309,226,419,440,249,578,1136,698,591,435,503,313,320,285,425,464,697,586,291,170,578,1080,1208,197,406,427,473,398,593,252,1115,373,497,337,414,530,413,229,404,325,220,268,221,485,339,364,597,182,315,526,395,436,750,372,261,253,465,404,705,514,187,175,418,262,887,512,656,581,229,320,1039,368,622,489,989,598,731,229,384,266,765,414,586,517,545,412,332,639,374,295,300,279,477,412,323,304,502,192,285,424,443,319,377,482,424,220,446,318,177,358,415,218,436,299,703,351,504,491,350,475,795,279,405,468,177,364,540,632,257,336,240,299,464,302,397,517,463,294,222,563,922,393,160,513,611,201,466,387,206,311,205,358,51,483,190,520,414,190,99,520,450,582,522,391,370,439,933,516,231,326,176,513,665,633,354,258,392,412,263,428,265,192,223,498,144,317,501,232,301,341,223,463,226,473,334,311,606,178,368,357,185,972,307,378,793,170,475,549,485,692,297,479,323,341,408,491,326,431,470,263,521,371,344,270,287,425,202,375,343,345,651,485,458,510,632,536,1056,390,372,549,298,348,599,590,220,468,92,298,533,591,381,423,510,312,382,536,395,878,429,753,214,457,315,421,484,650,309,1089,394,406,276,1072,697,545,283,399,274,498,374,209,402,309,169,502,700,291,572,512,936,311,340,546,317,244,421,236,331,233,317,378,291,767,427,670,329,259,401,385,348,616,560,496,284,253,192,328,366,526,223,400,281,521,244,540,501,473,252,732,765,467,378,546,290,461,274,415,475,770,262,413,291,295,397,521,421,317,621,570,366,224,105,313,279,328,330,74,278,994,485,274,345,609,369,609,564,428,231,323,292,707,343,466,393,393,294,393,525,160,799,417,381,563,414,918,232,713,244,325,149,605,343,170,490,428,480,407,198,228,393,398,381,475,319,394,346,665,290,548,608,330,899,343,550,568,415,596,458,442,510,347,353,613,571,469,266,449,298,424,427,640,381,294,630,198,691,605,349,322,437,194,338,181,429,705,428,582,493,441,282,414,1070,430,202,688,366,473,235,657,345,310,204,521,470,727,507,445,361,248,182,375,401,381,478,538,311,177,252,308,370,413,503,210,366,318,612,255,206,299,550,617,280,217,82,369,594,424,266,307,376,544,722,525,389,581,180,585,373,647,164,583,750,377,389,697,487,794,321,614,449,250,146,294,315,627,373,205,329,191,545,401,508,207,163,533,527,480,483,997,319,310,616,540,299,406,721,671,600,1039,398,286,435,627,197,585,192,357,651,442,515,255,412,428,640,662,321,995,489,430,162,414,492,231,886,229,837,271,642,658,293,481,202,423,389,153,418,269,304,532,584,365,387,372,455,220,247,716,396,353,501,537,338,559,720,166,310,662,175,946,404,561,351,358,581,594,291,210,373,361,196,469,391,139,189,295,590,480,371,335,605,1109,660,735,481,520,349,407,304,701,375,516,404,278,441,589,574,226,442,449,406,452,375,210,216,277,1160,764,508,480,388,792,700,407,409,305,440,626,214,520,380,431,585,427,393,190,480,287,993,318,500,249,440,575,244,361,419,280,373,326,717,515,338,167,443,575,68,246,347,1260,597,705,462,785,275,291,459,280,205,498,123,207,150,407,406,274,917,339,278,757,301,603,554,512,241,204,999,385,659,458,289,272,481,436,230,324,510,622,628,382,212,399,442,530,408,322,312,245,490,498,270,754,522,995,436,490,362,248,677,557,396,212,676,368,239,451,296,323,606,195,1157,349,440,964,174,274,259,196,545,471,221,798,401,497,180,462,221,554,328,403,808,530,340,443,402,377,292,331,518,298,341,383,831,268,444,647,249,169,574,276,252,416,386,180,360,700,436,422,320,425,681,390,398,229,195,207,460,273,375,333,492,471,477,453,410,316,216,301,1193,417,386,468,203,635,463,323,248,498,453,460,501,304,433,1047,517,487,219,326,313,447,565,383,454,324,317,685,545,460,350,242,523,456,321,246,901,459,268,258,638,56,421,417,468,400,346,225,212,439,478,538,674,650,410,345,189,306,432,419,366,421,409,217,308,575,446,209,222,686,167,550,574,639,441,481,243,331,350,319,195,764,219,194,186,412,539,383,255,764,337,270,708,418,173,300,546,586,243,473,532,240,247,190,294,302,376,516,564,339,388,243,358,209,525,337,541,340,679,174,549,396,485,411,374,322,274,169,321,343,397,162,501,202,548,417,328,711,282,335,194,375,283,291,467,642,413,483,485,482,267,185,404,550,237,600,135,737,233,373,189,194,414,218,449,408,281,286,404,225,292,548,520,299,365,1135,170,428,450,277,350,468,409,194,743,728,459,461,424,325,566,523,338,496,205,388,762,365,181,1240,719,355,777,779,185,218,268,440,719,540,698,279,439,402,506,465,257,464,508,256,641,447,596,359,392,268,625,523,449,336,362,129,318,706,376,303,814,240,415,242,600,496,317,409,193,580,497,874,516,432,392,553,900,212,594,262,490,510,110,804,471,616,274,532,417,568,462,647,516,197,365,259,439,432,203,183,361,240,631,597,312,519,356,229,433,834,264,393,270,345,204,405,721,489,551,348,464,111,393,444,476,195,258,514,805,723,118,234,546,732,518,286,475,199,347,729,628,426,333,468,400,202,180,212,479,478,325,481,488,602,728,290,451,697,291,1091,297,354,463,584,670,222,715,413,361,287,454,390,503,185,342,277,164,138,269,837,316,530,613,499,358,614,479,454,822,490,327,414,613,666,655,259,283,339,523,227,174,313,51,193,415,609,604,249,282,531,436,529,445,363,190,211,440,523,1098,456,739,248,428,561,262,439,284,560,164,530,182,295,318,614,486,340,252,544,586,692,320,273,556,973,390,373,1163,168,543,289,600,204,284,486,294,255,1028,732,760,447,184,289,541,396,376,302,698,188,232,386,662,365,237,343,361,194,330,572,503,190,303,470,550,510,760,458,445,484,493,549,220,287,309,603,341,930,286,546,292,426,664,243,365,195,291,667,501,249,577,698,553,536,189,413,455,473,417,54,574,820,615,278,462,328,709,438,262,439,314,554,336,650,400,244,198,341,394,467,505,284,341,508,389,457,287,576,344,711,853,202,314,442,296,333,196,247,327,547,245,751,471,241,598,455,304,333,627,269,382,547,368,496,483,402,301,488,450,620,311,266,315,331,445,585,1192,394,383,276,572,278,320,474,547,318,1151,807,313,632,598,532,254,836,354,486,308,321,522,315,649,502,604,331,675,597,496,429,512,526,201,504,700,541,321,537,280,297,526,405,458,367,226,1200,299,531,570,202,201,302,412,667,264,447,616,78,353,344,480,281,1020,487,388,656,468,1029,299,377,534,602,1099,441,346,336,298,605,480,397,427,554,544,314,600,245,759,275,561,380,476,288,344,297,589,547,424,167,430,167,170,529,399,602,623,434,490,572,668,579,241,329,511,363,253,592,265,191,461,531,554,433,443,314,460,822,424,325,1071,213,484,413,942,595,311,330,222,374,787,848,279,249,192,238,401,48,182,461,411,645,583,477,620,432,546,386,303,1100,1161,102,146,463,420,382,485,790,593,236,350,293,731,583,351,345,380,296,204,464,362,789,519,1131,283,377,444,343,428,409,295,527,203,259,532,380,305,393,686,446,442,599,493,371,499,450,352,409,420,574,476,356,650,403,644,379,447,604,500,691,424,422,301,219,333,390,466,454,694,435,539,407,352,339,635,433,553,1057,401,481,352,718,309,455,242,251,634,624,210,485,331,460,586,779,287,477,366,228,843,571,401,224,391,268,464,235,306,487,288,513,197,529,262,294,345,820,389,329,176,798,377,483,302,642,287,492,386,308,521,685,173,215,435,208,186,309,317,404,279,263,965,192,388,867,223,387,467,644,341,374,197,140,297,347,259,756,240,959,393,295,580,671,616,266,346,389,118,706,227,858,394,198,411,278,186,700,215,375,479,374,231,1008,259,339,298,448,358,215,320,201,644,200,349,197,625,697,333,522,564,633,195,487,266,639,466,263,542,1124,528,300,805,237,245,346,379,374,168,618,441,359,217,236,423,200,253,442,520,317,252,322,414,544,400,418,272,1135,202,373,427,323,434,380,255,474,435,627,528,434,395,336,580,717,239,563,280,474,828,351,903,605,419,267,191,553,174,615,386,314,217,747,316,334,516,279,438,342,468,290,445,355,640,547,314,220,651,477,427,338,339,217,192,453,312,310,419,308,343,722,653,328,510,484,269,280,688,200,238,306,377,229,262,166,439,552,493,512,206,469,475,422,499,180,430,328,444,239,398,569,261,305,442,453,289,404,242,259,190,217,477,302,365,280,309,425,473,436,929,651,242,448,165,189,574,150,434,336,434,693,760,496,162,481,204,272,1113,274,605,369,126,240,529,371,196,423,371,361,455,512,492,277,624,440,247,554,280,190,704,406,342,504,446,343,423,242,571,659,253,722,227,336,396,381,345,378,718,394,645,384,247,194,421,368,876,152,448,434,542,228,354,308,295,503,465,310,651,499,416,184,597,276,422,247,604,453,288,306,327,546,361,312,460,475,602,249,297,648,211,803,620,221,394,505,314,596,418,256,379,407,385,206,56,359,387,558,574,395,797,321,452,347,591,384,687,305,326,504,172,403,251,250,474,290,287,398,260,218,355,328,420,497,363,435,396,461,571,401,690,409,622,274,206,412,236,183,443,365,277,496,395,191,338,618,204,849,556,311,356,949,327,360,167,225,599,312,147,376,251,376,324,465,278,267,430,225,351,245,163,573,340,453,273,293,322,428,524,1145,220,271,348,684,308,540,261,326,251,392,946,372,380,879,420,280,333,377,282,421,398,402,784,533,585,464,426,464,668,278,459,289,458,392,219,592,391,296,438,708,545,281,406,270,272,672,497,564,184,413,509,675,522,259,334,626,474,193,393,429,501,223,369,391,533,203,318,354,1031,614,243,414,677,780,428,260,699,599,395,213,524,170,399,596,370,225,379,447,277,684,351,363,646,556,426,436,304,560,265,624,388,289,306,790,341,708,442,436,750,411,1003,653,462,403,520,470,368,331,472,720,280,432,490,345,457,327,172,426,481,363,517,582,592,463,575,345,340,463,449,243,359,335,489,525,823,485,487,390,482,362,567,417,340,616,344,412,251,402,332,365,434,333,257,549,756,225,582,1228,1050,630,366,421,592,549,320,637,410,439,114,413,446,416,455,427,201,659,589,274,336,484,247,483,365,567,846,492,260,408,845,409,238,680,260,724,693,172,320,208,260,436,290,961,1011,510,570,218,345,576,492,298,322,228,71,293,117,421,112,440,412,233,236,384,320,593,280,699,448,462,236,919,494,350,462,94,428,448,259,505,510,1236,127,272,646,111,373,225,206,525,486,921,531,294,221,593,307,742,300,324,325,328,294,285,556,535,239,443,513,626,847,632,174,406,399,360,195,324,509,293,907,407,558,376,450,501,301,300,641,470,286,450,250,752,245,511,565,453,497,357,822,332,543,602,655,354,438,332,209,357,505,393,727,252,333,752,355,209,206,191,228,474,343,478,277,561,703,611,388,252,950,477,639,476,422,1112,516,413,434,178,403,795,129,890,569,417,141,455,364,134,340,367,544,176,615,212,180,297,767,584,486,428,761,77,166,439,360,172,429,805,822,282,445,395,313,416,320,583,190,280,430,635,394,517,376,447,550,684,319,247,542,421,695,555,430,260,463,429,313,515,540,419,89,305,232,549,541,357,614,416,530,292,625,557,343,850,289,332,404,244,514,205,373,704,718,414,167,890,337,239,504,247,343,362,198,490,1100,847,543,469,157,314,620,260,356,567,548,227,536,292,625,620,275,255,287,197,503,267,327,324,299,328,342,173,463,544,455,390,311,269,643,776,478,545,151,292,543,197,363,521,321,507,532,335,382,268,256,438,246,322,170,295,455,644,787,259,317,379,224,383,357,679,192,427,386,478,220,371,150,216,903,411,414,504,431,744,396,358,259,459,397,390,419,532,629,396,194,424,267,372,390,224,582,410,632,641,271,167,362,595,506,306,336,357,755,387,432,467,448,393,560,189,655,336,663,432,289,309,231,367,358,171,469,236,670,308,471,194,276,559,406,746,398,1193,177,299,423,615,519,451,501,574,480,402,379,218,400,426,281,215,198,448,661,418,274,404,664,769,175,359,474,257,432,498,788,321,508,541,742,632,494,409,578,356,284,462,327,453,408,480,355,491,559,209,557,484,226,439,361,433,263,285,441,518,573,539,620,427,218,509,583,393,721,93,130,428,207,363,568,418,251,1209,283,209,597,452,496,488,301,267,1049,368,300,389,286,488,1205,644,522,666,424,411,521,400,492,598,531,456,430,265,517,179,500,434,418,246,309,468,475,314,802,354,298,957,553,567,259,275,328,197,466,247,309,477,787,217,61,438,546,256,473,414,308,678,639,292,1009,416,314,192,337,302,468,382,685,409,595,258,607,357,524,563,294,165,231,295,366,470,661,580,612,289,823,614,590,492,1022,290,407,471,370,349,441,471,412,375,544,373,259,292,333,429,472,640,275,532,507,246,400,200,540,278,370,331,332,187,299,473,125,335,481,366,394,565,510,411,263,441,383,327,433,542,637,400,375,206,440,971,434,499,636,332,343,272,232,373,405,809,443,326,776,281,254,403,264,312,869,372,695,867,489,873,502,418,297,208,591,165,378,1179,212,603,323,629,468,623,302,559,306,372,580,335,726,276,303,331,320,219,395,378,188,345,357,915,180,400,241,327,505,469,415,496,524,532,592,395,238,557,717,413,174,567,410,395,512,227,766,383,211,712,333,330,585,587,396,169,328,213,500,277,505,502,684,148,410,275,248,443,446,210,281,379,484,557,266,435,426,439,289,238,558,268,568,450,411,433,497,310,369,219,121,359,405,250,385,858,401,285,307,353,464,348,599,179,549,357,386,305,211,325,736,552,207,182,473,177,430,503,425,486,385,358,626,203,331,229,387,75,303,370,396,408,801,476,715,453,1005,344,436,308,334,440,566,190,530,533,788,324,648,292,449,287,623,239,196,410,1176,425,228,423,473,198,443,376,189,403,252,767,1170,535,833,329,193,281,554,459,652,172,485,537,337,374,828,532,807,275,794,531,533,311,387,906,621,444,395,269,268,283,244,387,491,408,544,405,502,339,230,408,297,226,326,322,153,339,519,768,273,218,343,656,226,656,342,684,244,925,467,415,450,359,508,358,354,325,275,378,147,170,186,188,163,387,581,276,365,421,547,604,662,523,498,345,612,360,255,1148,1124,640,493,93,334,497,286,353,699,450,286,401,453,342,879,388,363,216,613,218,188,526,293,706,400,289,409,600,525,362,248,288,271,359,207,177,499,535,502,225,370,407,648,275,519,267,593,189,381,106,582,290,532,209,735,558,287,231,1148,513,118,421,551,354,1091,315,265,417,216,652,203,405,394,444,285,310,381,230,335,205,270,379,177,409,625,406,296,147,522,374,236,616,599,265,426,384,367,461,326,351,765,283,491,289,186,250,207,841,496,580,587,256,226,604,626,511,208,439,553,355,322,189,368,570,484,254,295,283,748,594,201,106,689,289,447,251,384,1024,580,424,568,421,165,639,325,337,195,298,433,723,295,218,284,142,1131,398,544,265,315,465,493,702,533,552,396,321,239,982,229,541,673,723,264,298,553,532,100,313,508,295,206,1027,840,320,270,182,1146,512,484,264,471,485,814,600,348,733,382,483,387,302,413,773,346,518,432,386,712,513,511,382,1223,261,355,598,756,188,889,550,241,333,298,741,233,303,161,471,427,276,717,767,312,355,445,291,288,95,668,322,809,417,516,334,357,665,333,358,523,550,384,479,513,365,489,180,566,239,301,438,283,833,470,324,337,894,557,255,228,807,163,619,192,356,466,342,420,226,281,487,423,571,182,203,248,670,623,317,336,472,396,261,264,232,550,597,362,590,1049,699,271,301,343,343,324,437,303,757,1144,427,601,251,489,727,257,603,480,366,422,244,753,160,215,339,274,346,998,364,354,158,455,412,468,566,376,147,565,386,672,313,537,271,273,343,569,227,387,235,303,341,434,488,531,190,262,584,420,375,565,388,319,719,326,355,535,877,439,249,518,495,368,224,547,281,355,308,162,411,262,487,1008,526,385,1138,277,578,351,379,305,412,600,345,375,539,594,596,402,293,327,347,489,170,431,293,229,144,963,1025,553,229,485,268,241,354,348,479,683,209,508,707,716,411,391,455,380,403,267,448,262,317,1127,463,728,626,476,502,238,490,697,927,461,293,546,324,660,371,332,516,664,425,356,365,419,351,440,336,486,14,684,309,247,349,803,1087,252,303,436,737,353,356,348,318,691,448,278,612,233,488,422,368,315,284,757,347,123,527,308,464,411,499,188,308,481,328,204,642,423,512,335,715,427,272,170,355,189,305,647,772,376,380,739,294,84,489,729,249,242,295,968,433,587,468,659,492,436,507,643,321,527,410,460,530,275,382,232,520,963,217,218,438,830,343,424,739,423,420,417,472,518,136,453,416,165,380,259,374,422,347,554,279,351,349,281,273,226,413,294,516,590,580,195,477,302,236,308,381,275,272,231,586,817,535,308,424,659,539,596,570,363,546,557,712,370,378,324,351,422,461,484,256,501,532,332,223,247,282,503,222,294,170,354,341,325,360,193,158,344,451,546,302,468,374,261,517,568,391,663,314,305,464,225,816,326,384,347,300,501,253,318,218,390,604,617,296,273,319,197,389,518,174,555,630,324,592,384,222,314,442,472,336,230,432,361,386,509,181,508,222,852,360,454,531,389,622,164,338,167,642,235,315,231,624,496,263,179,465,257,510,638],\"xaxis\":\"x2\",\"yaxis\":\"y2\",\"type\":\"box\"}],                        {\"template\":{\"data\":{\"barpolar\":[{\"marker\":{\"line\":{\"color\":\"rgb(17,17,17)\",\"width\":0.5},\"pattern\":{\"fillmode\":\"overlay\",\"size\":10,\"solidity\":0.2}},\"type\":\"barpolar\"}],\"bar\":[{\"error_x\":{\"color\":\"#f2f5fa\"},\"error_y\":{\"color\":\"#f2f5fa\"},\"marker\":{\"line\":{\"color\":\"rgb(17,17,17)\",\"width\":0.5},\"pattern\":{\"fillmode\":\"overlay\",\"size\":10,\"solidity\":0.2}},\"type\":\"bar\"}],\"carpet\":[{\"aaxis\":{\"endlinecolor\":\"#A2B1C6\",\"gridcolor\":\"#506784\",\"linecolor\":\"#506784\",\"minorgridcolor\":\"#506784\",\"startlinecolor\":\"#A2B1C6\"},\"baxis\":{\"endlinecolor\":\"#A2B1C6\",\"gridcolor\":\"#506784\",\"linecolor\":\"#506784\",\"minorgridcolor\":\"#506784\",\"startlinecolor\":\"#A2B1C6\"},\"type\":\"carpet\"}],\"choropleth\":[{\"colorbar\":{\"outlinewidth\":0,\"ticks\":\"\"},\"type\":\"choropleth\"}],\"contourcarpet\":[{\"colorbar\":{\"outlinewidth\":0,\"ticks\":\"\"},\"type\":\"contourcarpet\"}],\"contour\":[{\"colorbar\":{\"outlinewidth\":0,\"ticks\":\"\"},\"colorscale\":[[0.0,\"#0d0887\"],[0.1111111111111111,\"#46039f\"],[0.2222222222222222,\"#7201a8\"],[0.3333333333333333,\"#9c179e\"],[0.4444444444444444,\"#bd3786\"],[0.5555555555555556,\"#d8576b\"],[0.6666666666666666,\"#ed7953\"],[0.7777777777777778,\"#fb9f3a\"],[0.8888888888888888,\"#fdca26\"],[1.0,\"#f0f921\"]],\"type\":\"contour\"}],\"heatmapgl\":[{\"colorbar\":{\"outlinewidth\":0,\"ticks\":\"\"},\"colorscale\":[[0.0,\"#0d0887\"],[0.1111111111111111,\"#46039f\"],[0.2222222222222222,\"#7201a8\"],[0.3333333333333333,\"#9c179e\"],[0.4444444444444444,\"#bd3786\"],[0.5555555555555556,\"#d8576b\"],[0.6666666666666666,\"#ed7953\"],[0.7777777777777778,\"#fb9f3a\"],[0.8888888888888888,\"#fdca26\"],[1.0,\"#f0f921\"]],\"type\":\"heatmapgl\"}],\"heatmap\":[{\"colorbar\":{\"outlinewidth\":0,\"ticks\":\"\"},\"colorscale\":[[0.0,\"#0d0887\"],[0.1111111111111111,\"#46039f\"],[0.2222222222222222,\"#7201a8\"],[0.3333333333333333,\"#9c179e\"],[0.4444444444444444,\"#bd3786\"],[0.5555555555555556,\"#d8576b\"],[0.6666666666666666,\"#ed7953\"],[0.7777777777777778,\"#fb9f3a\"],[0.8888888888888888,\"#fdca26\"],[1.0,\"#f0f921\"]],\"type\":\"heatmap\"}],\"histogram2dcontour\":[{\"colorbar\":{\"outlinewidth\":0,\"ticks\":\"\"},\"colorscale\":[[0.0,\"#0d0887\"],[0.1111111111111111,\"#46039f\"],[0.2222222222222222,\"#7201a8\"],[0.3333333333333333,\"#9c179e\"],[0.4444444444444444,\"#bd3786\"],[0.5555555555555556,\"#d8576b\"],[0.6666666666666666,\"#ed7953\"],[0.7777777777777778,\"#fb9f3a\"],[0.8888888888888888,\"#fdca26\"],[1.0,\"#f0f921\"]],\"type\":\"histogram2dcontour\"}],\"histogram2d\":[{\"colorbar\":{\"outlinewidth\":0,\"ticks\":\"\"},\"colorscale\":[[0.0,\"#0d0887\"],[0.1111111111111111,\"#46039f\"],[0.2222222222222222,\"#7201a8\"],[0.3333333333333333,\"#9c179e\"],[0.4444444444444444,\"#bd3786\"],[0.5555555555555556,\"#d8576b\"],[0.6666666666666666,\"#ed7953\"],[0.7777777777777778,\"#fb9f3a\"],[0.8888888888888888,\"#fdca26\"],[1.0,\"#f0f921\"]],\"type\":\"histogram2d\"}],\"histogram\":[{\"marker\":{\"pattern\":{\"fillmode\":\"overlay\",\"size\":10,\"solidity\":0.2}},\"type\":\"histogram\"}],\"mesh3d\":[{\"colorbar\":{\"outlinewidth\":0,\"ticks\":\"\"},\"type\":\"mesh3d\"}],\"parcoords\":[{\"line\":{\"colorbar\":{\"outlinewidth\":0,\"ticks\":\"\"}},\"type\":\"parcoords\"}],\"pie\":[{\"automargin\":true,\"type\":\"pie\"}],\"scatter3d\":[{\"line\":{\"colorbar\":{\"outlinewidth\":0,\"ticks\":\"\"}},\"marker\":{\"colorbar\":{\"outlinewidth\":0,\"ticks\":\"\"}},\"type\":\"scatter3d\"}],\"scattercarpet\":[{\"marker\":{\"colorbar\":{\"outlinewidth\":0,\"ticks\":\"\"}},\"type\":\"scattercarpet\"}],\"scattergeo\":[{\"marker\":{\"colorbar\":{\"outlinewidth\":0,\"ticks\":\"\"}},\"type\":\"scattergeo\"}],\"scattergl\":[{\"marker\":{\"line\":{\"color\":\"#283442\"}},\"type\":\"scattergl\"}],\"scattermapbox\":[{\"marker\":{\"colorbar\":{\"outlinewidth\":0,\"ticks\":\"\"}},\"type\":\"scattermapbox\"}],\"scatterpolargl\":[{\"marker\":{\"colorbar\":{\"outlinewidth\":0,\"ticks\":\"\"}},\"type\":\"scatterpolargl\"}],\"scatterpolar\":[{\"marker\":{\"colorbar\":{\"outlinewidth\":0,\"ticks\":\"\"}},\"type\":\"scatterpolar\"}],\"scatter\":[{\"marker\":{\"line\":{\"color\":\"#283442\"}},\"type\":\"scatter\"}],\"scatterternary\":[{\"marker\":{\"colorbar\":{\"outlinewidth\":0,\"ticks\":\"\"}},\"type\":\"scatterternary\"}],\"surface\":[{\"colorbar\":{\"outlinewidth\":0,\"ticks\":\"\"},\"colorscale\":[[0.0,\"#0d0887\"],[0.1111111111111111,\"#46039f\"],[0.2222222222222222,\"#7201a8\"],[0.3333333333333333,\"#9c179e\"],[0.4444444444444444,\"#bd3786\"],[0.5555555555555556,\"#d8576b\"],[0.6666666666666666,\"#ed7953\"],[0.7777777777777778,\"#fb9f3a\"],[0.8888888888888888,\"#fdca26\"],[1.0,\"#f0f921\"]],\"type\":\"surface\"}],\"table\":[{\"cells\":{\"fill\":{\"color\":\"#506784\"},\"line\":{\"color\":\"rgb(17,17,17)\"}},\"header\":{\"fill\":{\"color\":\"#2a3f5f\"},\"line\":{\"color\":\"rgb(17,17,17)\"}},\"type\":\"table\"}]},\"layout\":{\"annotationdefaults\":{\"arrowcolor\":\"#f2f5fa\",\"arrowhead\":0,\"arrowwidth\":1},\"autotypenumbers\":\"strict\",\"coloraxis\":{\"colorbar\":{\"outlinewidth\":0,\"ticks\":\"\"}},\"colorscale\":{\"diverging\":[[0,\"#8e0152\"],[0.1,\"#c51b7d\"],[0.2,\"#de77ae\"],[0.3,\"#f1b6da\"],[0.4,\"#fde0ef\"],[0.5,\"#f7f7f7\"],[0.6,\"#e6f5d0\"],[0.7,\"#b8e186\"],[0.8,\"#7fbc41\"],[0.9,\"#4d9221\"],[1,\"#276419\"]],\"sequential\":[[0.0,\"#0d0887\"],[0.1111111111111111,\"#46039f\"],[0.2222222222222222,\"#7201a8\"],[0.3333333333333333,\"#9c179e\"],[0.4444444444444444,\"#bd3786\"],[0.5555555555555556,\"#d8576b\"],[0.6666666666666666,\"#ed7953\"],[0.7777777777777778,\"#fb9f3a\"],[0.8888888888888888,\"#fdca26\"],[1.0,\"#f0f921\"]],\"sequentialminus\":[[0.0,\"#0d0887\"],[0.1111111111111111,\"#46039f\"],[0.2222222222222222,\"#7201a8\"],[0.3333333333333333,\"#9c179e\"],[0.4444444444444444,\"#bd3786\"],[0.5555555555555556,\"#d8576b\"],[0.6666666666666666,\"#ed7953\"],[0.7777777777777778,\"#fb9f3a\"],[0.8888888888888888,\"#fdca26\"],[1.0,\"#f0f921\"]]},\"colorway\":[\"#636efa\",\"#EF553B\",\"#00cc96\",\"#ab63fa\",\"#FFA15A\",\"#19d3f3\",\"#FF6692\",\"#B6E880\",\"#FF97FF\",\"#FECB52\"],\"font\":{\"color\":\"#f2f5fa\"},\"geo\":{\"bgcolor\":\"rgb(17,17,17)\",\"lakecolor\":\"rgb(17,17,17)\",\"landcolor\":\"rgb(17,17,17)\",\"showlakes\":true,\"showland\":true,\"subunitcolor\":\"#506784\"},\"hoverlabel\":{\"align\":\"left\"},\"hovermode\":\"closest\",\"mapbox\":{\"style\":\"dark\"},\"paper_bgcolor\":\"rgb(17,17,17)\",\"plot_bgcolor\":\"rgb(17,17,17)\",\"polar\":{\"angularaxis\":{\"gridcolor\":\"#506784\",\"linecolor\":\"#506784\",\"ticks\":\"\"},\"bgcolor\":\"rgb(17,17,17)\",\"radialaxis\":{\"gridcolor\":\"#506784\",\"linecolor\":\"#506784\",\"ticks\":\"\"}},\"scene\":{\"xaxis\":{\"backgroundcolor\":\"rgb(17,17,17)\",\"gridcolor\":\"#506784\",\"gridwidth\":2,\"linecolor\":\"#506784\",\"showbackground\":true,\"ticks\":\"\",\"zerolinecolor\":\"#C8D4E3\"},\"yaxis\":{\"backgroundcolor\":\"rgb(17,17,17)\",\"gridcolor\":\"#506784\",\"gridwidth\":2,\"linecolor\":\"#506784\",\"showbackground\":true,\"ticks\":\"\",\"zerolinecolor\":\"#C8D4E3\"},\"zaxis\":{\"backgroundcolor\":\"rgb(17,17,17)\",\"gridcolor\":\"#506784\",\"gridwidth\":2,\"linecolor\":\"#506784\",\"showbackground\":true,\"ticks\":\"\",\"zerolinecolor\":\"#C8D4E3\"}},\"shapedefaults\":{\"line\":{\"color\":\"#f2f5fa\"}},\"sliderdefaults\":{\"bgcolor\":\"#C8D4E3\",\"bordercolor\":\"rgb(17,17,17)\",\"borderwidth\":1,\"tickwidth\":0},\"ternary\":{\"aaxis\":{\"gridcolor\":\"#506784\",\"linecolor\":\"#506784\",\"ticks\":\"\"},\"baxis\":{\"gridcolor\":\"#506784\",\"linecolor\":\"#506784\",\"ticks\":\"\"},\"bgcolor\":\"rgb(17,17,17)\",\"caxis\":{\"gridcolor\":\"#506784\",\"linecolor\":\"#506784\",\"ticks\":\"\"}},\"title\":{\"x\":0.05},\"updatemenudefaults\":{\"bgcolor\":\"#506784\",\"borderwidth\":0},\"xaxis\":{\"automargin\":true,\"gridcolor\":\"#283442\",\"linecolor\":\"#506784\",\"ticks\":\"\",\"title\":{\"standoff\":15},\"zerolinecolor\":\"#283442\",\"zerolinewidth\":2},\"yaxis\":{\"automargin\":true,\"gridcolor\":\"#283442\",\"linecolor\":\"#506784\",\"ticks\":\"\",\"title\":{\"standoff\":15},\"zerolinecolor\":\"#283442\",\"zerolinewidth\":2}}},\"xaxis\":{\"anchor\":\"y\",\"domain\":[0.0,1.0],\"title\":{\"text\":\"num_words\"}},\"yaxis\":{\"anchor\":\"x\",\"domain\":[0.0,0.8316],\"title\":{\"text\":\"count\"}},\"xaxis2\":{\"anchor\":\"y2\",\"domain\":[0.0,1.0],\"matches\":\"x\",\"showticklabels\":false,\"showgrid\":true},\"yaxis2\":{\"anchor\":\"x2\",\"domain\":[0.8416,1.0],\"matches\":\"y2\",\"showticklabels\":false,\"showline\":false,\"ticks\":\"\",\"showgrid\":false},\"legend\":{\"tracegroupgap\":0},\"title\":{\"text\":\"Number of Words\"},\"barmode\":\"relative\",\"bargap\":0.2,\"font\":{\"family\":\"PT Sans\",\"size\":18,\"color\":\"#C4FEFF\"}},                        {\"responsive\": true}                    ).then(function(){\n",
              "                            \n",
              "var gd = document.getElementById('940e4be8-1116-4d45-b8e3-f7bb6d6c3907');\n",
              "var x = new MutationObserver(function (mutations, observer) {{\n",
              "        var display = window.getComputedStyle(gd).display;\n",
              "        if (!display || display === 'none') {{\n",
              "            console.log([gd, 'removed!']);\n",
              "            Plotly.purge(gd);\n",
              "            observer.disconnect();\n",
              "        }}\n",
              "}});\n",
              "\n",
              "// Listen for the removal of the full notebook cells\n",
              "var notebookContainer = gd.closest('#notebook-container');\n",
              "if (notebookContainer) {{\n",
              "    x.observe(notebookContainer, {childList: true});\n",
              "}}\n",
              "\n",
              "// Listen for the clearing of the current output cell\n",
              "var outputEl = gd.closest('.output');\n",
              "if (outputEl) {{\n",
              "    x.observe(outputEl, {childList: true});\n",
              "}}\n",
              "\n",
              "                        })                };                            </script>        </div>\n",
              "</body>\n",
              "</html>"
            ]
          },
          "metadata": {}
        }
      ]
    },
    {
      "cell_type": "code",
      "source": [
        "df_train['num_words'].describe()"
      ],
      "metadata": {
        "colab": {
          "base_uri": "https://localhost:8080/"
        },
        "id": "OlYce3h_uBS1",
        "outputId": "6449afcc-6116-4885-ed96-3b9edac64f09"
      },
      "execution_count": 16,
      "outputs": [
        {
          "output_type": "execute_result",
          "data": {
            "text/plain": [
              "count    3911.000000\n",
              "mean      430.492969\n",
              "std       191.868449\n",
              "min        14.000000\n",
              "25%       294.000000\n",
              "50%       402.000000\n",
              "75%       526.500000\n",
              "max      1260.000000\n",
              "Name: num_words, dtype: float64"
            ]
          },
          "metadata": {},
          "execution_count": 16
        }
      ]
    },
    {
      "cell_type": "markdown",
      "source": [
        "Average Word Length"
      ],
      "metadata": {
        "id": "Ho2GKSSeuBqt"
      }
    },
    {
      "cell_type": "code",
      "source": [
        "fig = plt.figure(figsize=(15, 5))\n",
        "df_train['mean_word_len'] = df_train['full_text'].str.split().apply(lambda x : np.mean([len(i) for i in x]))\n",
        "sns.histplot(data=df_train, x=\"mean_word_len\")\n",
        "plt.title(\"Average Word Length\")\n",
        "plt.show()"
      ],
      "metadata": {
        "colab": {
          "base_uri": "https://localhost:8080/",
          "height": 0
        },
        "id": "FkLsMT0PuEPm",
        "outputId": "32ab4320-48b2-4f26-8c70-43db80839b31"
      },
      "execution_count": 17,
      "outputs": [
        {
          "output_type": "display_data",
          "data": {
            "text/plain": [
              "<Figure size 1080x360 with 1 Axes>"
            ],
            "image/png": "[encoded data removed]"
          },
          "metadata": {
            "needs_background": "light"
          }
        }
      ]
    },
    {
      "cell_type": "code",
      "source": [
        "fig = px.histogram(df_train, x=df_train['mean_word_len'], marginal=\"box\", \n",
        "                   title = \"Average Word Length\", color_discrete_sequence=[\"#FFA200\"])\n",
        "fig.update_layout(bargap=0.2)\n",
        "fig.update_layout(template=\"plotly_dark\", font=dict(family=\"PT Sans\", size=18, color=\"#C4FEFF\"))\n",
        "fig.show()"
      ],
      "metadata": {
        "colab": {
          "base_uri": "https://localhost:8080/",
          "height": 0
        },
        "id": "6q4LNJ7FuEal",
        "outputId": "5faabda3-0e99-4d71-ed95-ef7560afaf5b"
      },
      "execution_count": 18,
      "outputs": [
        {
          "output_type": "display_data",
          "data": {
            "text/html": [
              "<html>\n",
              "<head><meta charset=\"utf-8\" /></head>\n",
              "<body>\n",
              "    <div>            <script src=\"https://cdnjs.cloudflare.com/ajax/libs/mathjax/2.7.5/MathJax.js?config=TeX-AMS-MML_SVG\"></script><script type=\"text/javascript\">if (window.MathJax) {MathJax.Hub.Config({SVG: {font: \"STIX-Web\"}});}</script>                <script type=\"text/javascript\">window.PlotlyConfig = {MathJaxConfig: 'local'};</script>\n",
              "        <script src=\"https://cdn.plot.ly/plotly-2.8.3.min.js\"></script>                <div id=\"6e7701ef-0e34-4bba-881a-4818993fe47f\" class=\"plotly-graph-div\" style=\"height:525px; width:100%;\"></div>            <script type=\"text/javascript\">                                    window.PLOTLYENV=window.PLOTLYENV || {};                                    if (document.getElementById(\"6e7701ef-0e34-4bba-881a-4818993fe47f\")) {                    Plotly.newPlot(                        \"6e7701ef-0e34-4bba-881a-4818993fe47f\",                        [{\"alignmentgroup\":\"True\",\"bingroup\":\"x\",\"hovertemplate\":\"mean_word_len=%{x}<br>count=%{y}<extra></extra>\",\"legendgroup\":\"\",\"marker\":{\"color\":\"#FFA200\",\"pattern\":{\"shape\":\"\"}},\"name\":\"\",\"offsetgroup\":\"\",\"orientation\":\"v\",\"showlegend\":false,\"x\":[4.252873563218391,3.9362101313320825,4.196875,4.447802197802198,4.089743589743589,4.612804878048781,4.368909512761021,4.048969072164948,4.442882249560633,4.282828282828283,4.250793650793651,4.703883495145631,4.333333333333333,4.428989751098096,4.108187134502924,4.18,4.408521303258145,3.951183431952663,4.889867841409692,4.388888888888889,4.638522427440633,4.166270783847981,4.93485342019544,4.579617834394904,4.86219739292365,4.120218579234972,4.518656716417911,4.477927063339731,4.333333333333333,4.265486725663717,4.43436754176611,4.734090909090909,4.184738955823293,4.33044982698962,4.28080985915493,4.429799426934097,4.323181049069374,4.32183908045977,4.638170974155069,3.3258785942492013,4.284375,4.3052631578947365,3.72,4.282327586206897,4.2682926829268295,3.8293515358361776,4.65979381443299,4.423529411764706,4.570934256055363,3.8564814814814814,3.748344370860927,4.49746192893401,4.123152709359606,4.620608899297424,4.852008456659619,4.005025125628141,4.659359190556493,4.261904761904762,4.414349775784753,4.461126005361931,4.2917505030181085,4.189910979228487,3.8043478260869565,4.362264150943396,4.428571428571429,4.537117903930131,4.383663366336633,4.673846153846154,4.836363636363636,3.9477611940298507,3.986425339366516,4.5731958762886595,4.286135693215339,4.392857142857143,4.100502512562814,4.626373626373627,4.847619047619047,4.038022813688213,4.096202531645569,4.626146788990826,4.698666666666667,4.776881720430108,3.8275862068965516,4.102766798418973,4.916129032258064,3.977722772277228,4.146099290780142,4.155642023346304,4.663101604278075,4.994285714285715,4.1913875598086126,4.076335877862595,4.207440811724916,4.439453125,4.092987804878049,4.099827882960413,4.641921397379913,4.390625,4.78055822906641,4.328804347826087,4.414790996784566,4.333333333333333,4.1092012133468145,4.68561872909699,4.917920656634747,4.4104803493449785,4.091145833333333,4.646616541353383,4.448366013071896,3.6183574879227054,4.32764505119454,4.147001934235977,4.392660550458715,4.094660194174757,4.5602409638554215,4.683881064162755,4.545454545454546,4.437288135593221,4.093333333333334,4.548387096774194,3.9832285115303985,4.25,4.226006191950464,4.342105263157895,4.420318725099602,3.9583333333333335,4.185964912280702,4.985849056603773,3.9209932279909707,4.589341692789969,4.206896551724138,4.076763485477178,4.35377358490566,4.777272727272727,4.309417040358745,4.279874213836478,4.531073446327683,4.620111731843576,3.9204819277108434,4.215596330275229,4.215596330275229,4.408026755852843,4.190611664295875,4.256410256410256,4.097222222222222,3.9959266802443993,3.92,3.9221052631578948,4.509433962264151,4.0,4.548148148148148,4.645299145299146,4.288135593220339,4.414835164835165,4.674074074074074,4.870253164556962,4.276264591439689,4.324404761904762,4.354166666666667,4.3478260869565215,4.271551724137931,4.291390728476821,4.491183879093199,4.266924564796906,3.7300215982721383,4.170068027210885,4.59009009009009,4.1332149200710475,4.218004338394794,4.6132315521628495,4.30625,4.382066276803119,4.168576104746317,4.522388059701493,4.6781115879828326,4.405684754521964,5.174757281553398,4.443729903536977,4.034146341463415,4.304469273743017,4.529411764705882,4.75983436853002,3.8263157894736843,4.503846153846154,4.553140096618358,4.605263157894737,3.797979797979798,4.286538461538462,4.311111111111111,4.312714776632302,4.145593869731801,4.089514066496164,4.105405405405405,4.291571753986332,4.513397642015005,4.591085271317829,3.9913419913419914,4.757668711656442,4.596590909090909,4.035087719298246,4.174436090225564,4.357030015797788,5.02542372881356,3.612403100775194,4.395408163265306,4.390776699029126,4.5437262357414445,4.574766355140187,4.162264150943396,4.020833333333333,3.618834080717489,4.072289156626506,3.9444444444444446,4.728706624605678,4.6187624750499,4.280172413793103,5.056478405315614,4.416422287390029,4.475336322869955,3.7796976241900646,4.575221238938053,4.429175475687104,4.365269461077844,4.192926045016077,3.9092409240924093,4.921348314606742,4.451086956521739,4.218487394957983,4.4972972972972975,4.591563786008231,3.9250814332247557,5.044973544973545,3.9117276166456496,4.488235294117647,4.646315789473684,4.273224043715847,4.127835051546392,4.34393063583815,4.191919191919192,4.085594989561587,4.510835913312693,4.416422287390029,4.487745098039215,4.580448065173116,4.487730061349693,4.306264501160093,4.342553191489362,3.9961977186311786,4.1919385796545106,3.921832884097035,4.4476744186046515,4.37037037037037,4.449477351916376,4.317647058823529,4.316831683168317,4.032,4.769679300291545,4.066666666666666,5.1981566820276495,3.890721649484536,4.458515283842795,4.46078431372549,4.049050632911392,4.276119402985074,4.181818181818182,4.317948717948718,4.293010752688172,3.970856102003643,4.39261744966443,4.2844827586206895,4.370617696160267,4.089830508474576,3.590909090909091,4.128205128205129,4.880434782608695,4.184563758389261,4.305816135084428,4.56175972927242,4.656167979002625,4.368794326241135,3.8333333333333335,4.153846153846154,3.8795811518324608,4.125,4.675949367088608,4.189066059225513,4.337995337995338,4.432934926958831,4.677570093457944,5.041575492341357,3.815873015873016,4.460807600950119,4.392561983471074,4.415384615384616,4.6957928802588995,4.519742883379247,4.474619289340102,4.022167487684729,4.391304347826087,3.980410447761194,4.129124820659971,4.455045871559633,4.254416961130742,4.523809523809524,4.678832116788321,4.417670682730924,3.909090909090909,4.023923444976076,5.286069651741293,4.213592233009709,4.449704142011834,4.420318725099602,4.385714285714286,4.024054982817869,4.541958041958042,4.1640625,3.8376068376068377,3.9292604501607715,4.405882352941177,3.989010989010989,4.507886435331231,4.229508196721311,4.334916864608076,4.271186440677966,4.685800604229607,4.549356223175966,4.769716088328075,4.35978835978836,4.054982817869416,3.8748370273794004,4.447306791569087,4.377611940298507,4.261398176291793,4.922779922779923,4.129675810473816,4.345454545454546,4.706896551724138,3.9334415584415585,4.766071428571428,4.195564516129032,4.764084507042254,4.841897233201581,4.958333333333333,4.835365853658536,4.598360655737705,4.212927756653992,3.9327354260089686,3.9675,4.0711743772241995,4.700575815738963,4.225409836065574,3.775925925925926,4.491017964071856,4.585623678646934,4.373015873015873,3.9549180327868854,4.10718954248366,3.811563169164882,4.105820105820106,4.386446886446887,3.986206896551724,4.939262472885033,4.602189781021898,4.240963855421687,4.1557894736842105,4.079220779220779,4.541984732824427,4.486682808716707,4.378006872852234,3.9661016949152543,4.3778337531486144,4.197696737044146,4.251781472684086,4.097791798107256,4.552334943639291,4.014035087719298,5.560109289617486,4.183035714285714,3.895238095238095,4.118210862619808,4.003584229390681,4.301829268292683,4.1909090909090905,4.554054054054054,4.9496402877697845,4.737424547283702,4.7195876288659795,4.41970802919708,5.217391304347826,3.8735632183908044,4.411924119241192,3.8981937602627257,4.333333333333333,4.619158878504673,4.06926406926407,4.340557275541796,4.989726027397261,4.432814710042432,4.862973760932944,4.371244635193133,4.414758269720102,4.305343511450381,4.377551020408164,4.325699745547074,4.051428571428572,4.91875,4.006257822277847,4.306954436450839,4.412073490813648,4.463587921847247,4.5144927536231885,4.92483660130719,3.9525862068965516,4.2833099579242635,4.139344262295082,4.227692307692307,4.120805369127517,4.67603305785124,4.962099125364431,4.658823529411765,4.169387755102041,4.822429906542056,4.5,4.282555282555283,3.808080808080808,4.855263157894737,4.048346055979644,4.158291457286432,4.3858267716535435,4.48,4.532915360501567,4.4543147208121825,5.320809248554913,4.076691729323309,4.2827586206896555,4.41970802919708,4.292763157894737,3.9,3.942157953281424,4.285714285714286,4.174545454545455,4.11443661971831,4.4,4.35738255033557,4.799126637554585,4.219457013574661,3.76078431372549,4.585014409221902,4.01699716713881,4.535073409461664,3.858143607705779,3.9573560767590616,3.8759398496240602,4.6703786191536745,4.399328859060403,4.589622641509434,3.8079625292740045,4.6453125,4.15748031496063,4.340136054421769,4.376190476190477,4.191919191919192,4.1780028943560055,4.3685950413223145,4.19484240687679,5.086956521739131,3.7437070938215102,4.623711340206185,4.349112426035503,4.204419889502763,4.454545454545454,4.380141843971631,4.432242990654205,3.929553264604811,4.393509127789047,4.462585034013605,4.336879432624113,4.041062801932367,3.7065420560747664,4.3534883720930235,4.930693069306931,3.9113372093023258,4.576502732240437,4.393234672304439,4.276595744680851,4.550989345509893,4.63768115942029,4.038709677419355,4.759803921568627,4.088291746641075,4.729787234042553,4.350756533700138,4.199211045364891,4.453932584269663,4.052631578947368,4.036290322580645,3.82967032967033,4.496,4.618453865336658,4.175853018372703,4.410041841004184,5.338289962825279,4.282958199356913,4.350282485875706,4.599206349206349,4.509740259740259,3.656756756756757,4.404358353510895,4.359840954274354,4.3619047619047615,4.0136612021857925,4.408805031446541,4.0473856209150325,4.7176470588235295,4.427184466019417,4.6120401337792645,4.112727272727272,4.230145867098866,4.267857142857143,4.221198156682028,4.487804878048781,4.149051490514905,4.260942760942761,4.287735849056604,4.2706766917293235,4.074918566775244,4.718085106382978,4.419117647058823,4.164819944598338,4.150476190476191,4.133676092544987,4.676419965576592,4.3277777777777775,4.447863247863248,4.512064343163539,4.015455950540958,3.9695121951219514,4.454545454545454,4.296,4.326259946949602,4.622107969151671,4.088952654232425,4.406570841889117,4.526448362720403,4.40809968847352,4.128664495114006,4.220489977728285,4.076,4.041095890410959,4.880952380952381,4.174603174603175,4.098883572567783,4.410187667560321,3.8878048780487804,4.151975683890577,4.2565445026178015,3.946788990825688,4.44139650872818,4.224409448818897,3.7246376811594204,3.9693251533742333,4.133208255159475,4.472485768500949,4.220833333333333,3.989648033126294,4.418254764292879,4.156739811912225,4.525806451612903,4.2272727272727275,4.67962962962963,4.411371237458194,4.12807881773399,4.495145631067961,4.11177347242921,4.1,4.762271414821944,4.060301507537688,4.304195804195804,4.639080459770115,4.437001594896332,4.040609137055838,3.871794871794872,4.265625,4.5322128851540615,4.192012288786482,4.34841628959276,4.65242718446602,4.105882352941176,4.451456310679611,3.9649532710280373,4.209375,4.421450151057402,4.554517133956386,4.429145728643216,4.5030674846625764,4.097674418604651,4.197530864197531,4.509661835748792,4.945121951219512,4.640692640692641,4.022573363431151,4.449781659388647,4.231780167264038,4.490774907749078,4.266355140186916,4.2948328267477205,4.242320819112628,4.130977130977131,5.217821782178218,4.238770685579196,4.187660668380463,4.071895424836601,4.270334928229665,4.241635687732342,4.223684210526316,4.353383458646617,4.2979452054794525,3.8767123287671232,4.227390180878553,4.217741935483871,4.751648351648352,4.381818181818182,4.538461538461538,4.465083798882682,4.33080808080808,4.563739376770538,4.319361277445109,4.506517690875233,4.372781065088757,4.4973166368515205,4.572222222222222,4.4156626506024095,3.935483870967742,4.356495468277946,4.057142857142857,3.7315010570824523,4.2549504950495045,4.17825311942959,4.45014245014245,4.276536312849162,4.442340791738382,4.058922558922559,4.508591065292096,4.333333333333333,3.871313672922252,4.770083102493075,5.086734693877551,4.6481876332622605,4.493606138107417,4.143884892086331,4.412698412698413,3.983050847457627,4.396610169491526,5.195833333333334,4.741239892183288,4.04179104477612,4.704132231404959,4.008115419296663,4.566666666666666,3.9360544217687075,4.492723492723493,4.3,4.69054441260745,4.262899262899263,4.378289473684211,4.289586305278174,4.538666666666667,4.0310077519379846,4.584158415841584,4.179856115107913,4.136054421768708,4.794567062818336,4.641114982578397,4.331858407079646,4.01131221719457,4.55456570155902,4.566502463054187,4.486725663716814,4.589333333333333,4.347619047619047,4.166666666666667,3.9927797833935017,4.100862068965517,4.708115183246074,4.484251968503937,4.139583333333333,3.997422680412371,4.398989898989899,3.9971428571428573,4.275184275184275,4.4156479217603914,4.245901639344262,3.4863636363636363,4.557507987220447,4.116822429906542,4.503846153846154,4.6947368421052635,4.132250580046404,4.051282051282051,4.112412177985949,4.3816793893129775,4.268421052631579,4.122916666666667,4.554006968641115,4.243705941591138,4.176100628930818,4.828,4.313253012048193,4.704545454545454,4.629565217391304,4.139344262295082,4.113573407202216,4.105011933174224,4.45,4.742627345844504,4.184049079754601,4.164574616457462,4.699029126213592,4.458579881656805,4.874251497005988,4.302483069977427,4.579130434782608,4.529411764705882,4.223577235772358,4.697406340057637,3.7515873015873016,4.234505862646566,4.195744680851064,4.495670995670996,4.109554140127389,3.7054545454545456,4.463917525773196,4.806100217864924,4.4714285714285715,4.107317073170732,4.28714859437751,4.6016260162601625,4.048309178743962,4.066666666666666,4.336609336609337,4.704433497536946,4.266423357664234,4.521264994547438,4.492625368731564,4.370503597122302,4.200792602377807,4.142857142857143,4.2388059701492535,4.633574007220217,4.62109375,4.618257261410788,4.470588235294118,4.42942942942943,4.6103896103896105,3.905918057663126,4.75764192139738,4.339100346020762,4.4411764705882355,4.573804573804574,4.11697247706422,4.691304347826087,4.179012345679013,4.3392156862745095,4.266881028938907,4.230891719745223,4.769633507853404,4.363207547169812,4.015037593984962,4.341628959276018,3.9886792452830186,3.9313725490196076,3.9285714285714284,3.891025641025641,4.2326530612244895,4.291836734693877,4.214859437751004,4.437037037037037,3.93368700265252,5.289272030651341,4.403015075376884,4.587155963302752,4.263265306122449,4.417127071823204,4.657258064516129,4.3087149187592315,4.859964093357271,4.244949494949495,4.047169811320755,4.502958579881657,4.529891304347826,4.2594142259414225,4.135254988913526,4.408783783783784,4.2105263157894735,3.6485148514851486,4.430769230769231,4.20656871218669,4.578796561604585,4.206818181818182,4.284232365145228,3.7011494252873565,4.62043795620438,4.749034749034749,3.9285714285714284,3.871559633027523,4.524416135881104,4.787330316742081,4.530075187969925,4.648379052369077,3.812877263581489,4.194444444444445,4.023809523809524,4.226244343891403,4.137184115523466,4.429878048780488,4.550868486352357,4.1299504950495045,4.213207547169811,4.476470588235294,4.410835214446952,4.420398009950249,4.381962864721485,4.352739726027397,4.042296072507553,4.471042471042471,4.24496644295302,4.381231671554252,4.558746736292428,4.262334536702768,4.5111940298507465,4.45045045045045,4.094281298299846,4.313253012048193,4.378698224852071,4.648083623693379,4.213768115942029,4.5,4.653846153846154,4.183937823834197,4.0777777777777775,4.691666666666666,3.85,4.0504587155963305,3.9644549763033177,4.040625,3.9905882352941178,4.252569750367107,4.566666666666666,4.706030150753769,4.934497816593886,4.369230769230769,4.415458937198068,4.136956521739131,4.2344322344322345,3.7146666666666666,4.081081081081081,4.524390243902439,4.558386411889597,4.467505241090147,4.381898454746137,4.6,4.031645569620253,4.180555555555555,4.627906976744186,4.025984911986589,4.729016786570743,4.479274611398964,4.121794871794871,3.8620689655172415,4.418897637795276,4.654427645788337,4.337461300309598,4.358870967741935,4.540160642570281,4.322295805739515,4.126086956521739,4.4031936127744515,4.194078947368421,4.681293302540416,3.8414517669532,4.678916827852998,4.429158110882957,4.296803652968037,4.49079754601227,4.31629392971246,4.429530201342282,4.329203539823009,4.592689295039165,4.297356828193832,4.657407407407407,4.488958990536277,3.7445255474452557,4.111926605504587,4.226086956521739,4.64,4.404958677685951,4.166347992351817,4.103070175438597,4.635514018691588,4.451219512195122,3.718091009988901,4.381263616557734,4.41044776119403,4.069767441860465,3.843260188087774,5.089285714285714,4.235154394299287,4.589928057553957,4.403846153846154,4.8525,4.257225433526012,4.128888888888889,4.632075471698113,4.414578587699316,4.357740585774058,4.011152416356877,3.9955489614243325,3.9676923076923076,4.236585365853658,4.744927536231884,4.238095238095238,4.313725490196078,4.25,4.085918854415274,4.524590163934426,4.89311163895487,3.902200488997555,4.465437788018433,4.178571428571429,4.389565217391304,4.006726457399103,4.511961722488039,4.184684684684685,4.37463556851312,3.7005988023952097,4.016363636363637,4.506968641114983,5.333333333333333,4.408163265306122,4.515592515592515,4.448559670781893,4.519637462235649,4.14,4.962382445141066,4.282051282051282,4.472513089005235,4.561643835616438,4.097938144329897,4.962365591397849,4.533980582524272,4.528756957328386,4.234986945169712,4.992156862745098,3.9829842931937174,4.454005934718101,4.525925925925926,4.2076271186440675,4.65311004784689,4.4508670520231215,4.566666666666666,4.5054945054945055,4.488054607508532,3.9135802469135803,3.813953488372093,4.075187969924812,4.241666666666666,4.178137651821863,4.3,4.506802721088436,5.105960264900662,4.492021276595745,3.9631782945736433,4.558510638297872,4.212389380530974,4.121134020618556,4.135802469135802,4.145251396648045,3.8851674641148324,4.1276190476190475,4.584569732937686,4.672828096118299,4.423529411764706,4.450662739322533,4.459770114942529,4.626593806921676,4.303030303030303,4.449484536082474,4.579075425790754,3.93048128342246,4.1894409937888195,4.145985401459854,4.136094674556213,4.05607476635514,4.093294460641399,4.241813602015113,4.6234567901234565,4.514970059880239,4.49009900990099,4.439781021897811,3.8513189448441247,4.009146341463414,4.786216596343179,5.049645390070922,4.325373134328358,4.298969072164948,4.128,4.3780918727915195,4.010309278350515,4.374732334047109,4.320872274143302,4.498789346246974,4.648033126293996,4.577319587628866,3.9398340248962658,4.51310861423221,4.437837837837838,4.628712871287129,4.149090909090909,4.025316455696203,4.501666666666667,4.148148148148148,3.8236092265943014,4.412017167381975,3.844504021447721,4.571428571428571,4.025773195876289,4.608695652173913,4.41743119266055,4.44097995545657,4.105392156862745,4.476868327402135,5.024475524475524,4.336633663366337,5.342222222222222,3.8424657534246576,4.512773722627737,4.482692307692307,4.2842809364548495,4.438356164383562,4.007929515418502,4.529411764705882,4.205607476635514,4.126666666666667,4.212996389891697,4.231428571428571,4.121794871794871,3.946210268948655,4.804123711340206,4.1278600269179,4.535714285714286,4.383442265795207,4.587852494577007,4.740566037735849,4.126153846153846,4.337455830388692,4.378585086042065,4.449704142011834,4.401209677419355,4.414634146341464,4.123711340206185,4.84514435695538,4.112328767123287,4.845303867403315,3.7983870967741935,3.9276773296244785,4.340845070422535,4.4195624195624195,4.326059050064185,4.372972972972973,5.224770642201835,4.361940298507463,3.9454545454545453,4.6300417246175245,4.264814814814815,4.326647564469914,3.6666666666666665,4.100227790432802,4.477611940298507,4.482213438735178,4.021505376344086,4.116731517509727,4.424568965517241,4.395669291338582,4.0859375,4.736349453978159,4.642058165548098,4.058724832214765,4.231197771587744,4.469387755102041,4.514925373134329,4.3296,4.2122370936902485,4.728285077951003,4.726190476190476,4.654696132596685,4.116279069767442,3.9654088050314464,4.135977337110481,4.164893617021277,4.273927392739274,3.9176904176904177,4.554166666666666,3.9132530120481928,4.190082644628099,4.196666666666666,4.780241935483871,4.523659305993691,4.315403422982885,3.9533678756476682,4.120689655172414,4.118712273641851,4.39816933638444,4.180232558139535,4.037037037037037,4.563775510204081,3.8969258589511755,4.354444444444445,3.9669811320754715,4.292929292929293,4.404580152671755,4.363265306122449,4.2823529411764705,4.172727272727273,4.1554726368159205,4.857749469214437,4.37987012987013,4.350364963503649,4.454887218045113,4.3405275779376495,4.308098591549296,4.636363636363637,4.340030911901082,4.482558139534884,4.319796954314721,4.580821917808219,4.55984555984556,3.9931662870159452,4.703703703703703,5.192118226600985,3.9945355191256833,4.983379501385041,3.9375,4.255150554675119,4.1892797319933,4.541666666666667,4.416184971098266,4.280898876404494,4.703056768558952,4.161662817551963,4.934052757793765,4.776515151515151,4.292620865139949,4.114814814814815,4.681159420289855,4.504901960784314,4.239506172839506,4.613037447988904,4.098159509202454,4.373865698729583,4.376436781609195,3.9892241379310347,4.1441441441441444,4.033078880407125,4.004504504504505,4.147058823529412,3.876923076923077,4.624031007751938,4.498054474708171,4.245962732919255,4.926694329183956,4.4576271186440675,4.358974358974359,4.538461538461538,3.7882513661202184,4.055984555984556,4.72027972027972,4.252631578947368,3.809045226130653,3.876080691642651,4.288065843621399,4.25,4.291079812206573,4.486486486486487,3.982905982905983,4.6925,4.8316831683168315,4.794444444444444,4.490566037735849,3.964509394572025,4.456066945606694,4.292307692307692,4.4365904365904365,4.387295081967213,4.541528239202658,4.1304945054945055,4.410344827586207,4.800443458980045,4.362984218077475,4.848797250859106,4.501374885426214,4.016835016835016,4.2175141242937855,4.239740820734341,5.279109589041096,4.049253731343284,4.009009009009009,4.440559440559441,4.249394673123486,4.426592797783933,4.463414634146342,4.97136563876652,4.741025641025641,4.180914512922465,4.124324324324324,4.195906432748538,4.259927797833935,4.128048780487805,3.898550724637681,4.308550185873606,3.7479091995221028,4.4525316455696204,4.437735849056604,4.137030995106036,4.1202404809619235,4.284916201117318,4.01628664495114,4.1837160751565765,4.400881057268722,4.627737226277373,4.453061224489796,4.229357798165138,4.277777777777778,4.150081566068516,5.013513513513513,4.0580152671755725,4.030888030888031,5.144876325088339,4.218289085545723,4.177820267686425,4.612334801762114,4.028735632183908,4.5814696485623,4.588235294117647,4.362694300518135,4.518072289156627,4.114942528735632,4.96523178807947,4.550200803212851,4.216312056737588,4.772128060263653,4.6422018348623855,4.111531190926276,4.773033707865168,3.9449035812672175,4.894736842105263,4.241706161137441,4.109090909090909,4.458891013384322,3.8806921675774135,3.8223684210526314,4.008119079837618,4.717741935483871,4.432242990654205,4.552584670231729,3.8091603053435112,4.234624145785877,4.464788732394366,4.198214285714286,4.987804878048781,4.341509433962264,3.818681318681319,4.440677966101695,3.9874213836477987,3.97557003257329,4.283950617283951,4.55,4.242063492063492,4.125,4.310580204778157,4.380057803468208,4.4375,5.069597069597069,3.976618705035971,4.061664953751285,4.782051282051282,4.058981233243967,4.110920034393809,4.0773809523809526,4.3646408839779,4.359861591695502,4.133333333333334,4.828431372549019,4.116197183098592,4.693415637860082,4.350340136054422,4.262745098039216,4.32976653696498,4.476775956284153,4.218421052631579,4.691275167785235,4.1521739130434785,4.3944636678200695,4.166358595194085,4.563131313131313,4.3537234042553195,4.529801324503311,3.7793696275071635,4.218085106382978,4.603448275862069,4.4119170984455955,4.02416918429003,4.134246575342465,4.514767932489452,4.714285714285714,3.858725761772853,4.634020618556701,4.657575757575757,3.9510489510489513,4.7713717693836974,4.005263157894737,4.66996699669967,4.538297872340426,4.545454545454546,5.007843137254902,4.41578947368421,4.292576419213974,4.4224719101123595,4.107438016528926,4.411764705882353,4.950819672131147,4.281818181818182,4.435540069686411,3.983818770226537,4.316749585406302,4.6304985337243405,4.352688172043011,4.685314685314685,4.316849816849817,4.208904109589041,4.652582159624413,4.22289156626506,4.172839506172839,4.468493150684932,4.364102564102564,4.694158075601375,4.170914542728636,4.331337325349302,4.196787148594377,3.948006932409012,4.4684813753581665,4.15370705244123,4.46455223880597,3.9788359788359786,4.37046004842615,3.789010989010989,4.105708245243129,3.988009592326139,4.314814814814815,4.346689895470384,4.1292682926829265,4.51869918699187,4.755395683453237,4.08008658008658,4.923780487804878,4.2524682651622,4.244292237442922,4.687022900763359,4.082004555808656,3.837579617834395,3.8826714801444044,4.532738095238095,4.183076923076923,4.2575,4.438524590163935,3.8737373737373737,4.070381231671554,3.901015228426396,3.9079229122055676,4.825742574257426,4.387323943661972,4.1436950146627565,4.574803149606299,4.467866323907455,4.266958424507659,4.397212543554007,4.362847222222222,4.171511627906977,4.018284106891702,4.46189917936694,4.52970297029703,4.678343949044586,4.038461538461538,4.398648648648648,4.651651651651652,4.096938775510204,4.574898785425101,3.9388379204892967,4.537477148080439,3.9959183673469387,4.1225033288948065,4.562632696390658,4.170124481327801,4.635451505016722,4.3780219780219785,4.213815789473684,5.21021021021021,4.180223285486443,4.33457249070632,4.468586387434555,4.495429616087751,4.581521739130435,4.274193548387097,4.505175983436853,4.017412935323383,3.910299003322259,4.202868852459017,3.848888888888889,4.308064516129032,4.12540192926045,4.30827067669173,5.038095238095238,3.97583081570997,4.051685393258427,4.589743589743589,4.052852348993288,4.840101522842639,4.54046997389034,4.278985507246377,4.5122377622377625,3.9676258992805757,4.609375,4.3544303797468356,4.612431444241317,5.009433962264151,4.175499565595135,4.52540272614622,4.507987220447284,4.318037974683544,4.193979933110368,4.466165413533835,3.594488188976378,4.269138755980861,4.372881355932203,4.257201646090535,4.282467532467533,4.2367601246105915,4.578544061302682,4.333333333333333,4.573189522342065,4.217131474103586,4.2781456953642385,4.356495468277946,3.9674074074074075,4.408710217755444,5.120967741935484,4.2890442890442895,4.302734375,4.062737642585551,4.3283582089552235,4.359126984126984,3.9457142857142857,4.526802218114603,4.657320872274143,3.722532588454376,4.603571428571429,4.767676767676767,4.112167300380228,4.175308641975309,4.098253275109171,4.267029972752043,4.367256637168142,3.995833333333333,5.521739130434782,4.44256120527307,3.9403508771929823,4.371287128712871,4.08955223880597,4.321192052980132,4.533980582524272,4.554722638680659,4.753787878787879,4.257270693512305,4.4772727272727275,4.282051282051282,4.172804532577904,4.3895348837209305,4.45,4.5338078291814945,3.8705882352941177,4.494866529774128,4.095360824742268,4.149390243902439,4.271367521367521,4.4363459669582115,4.578595317725752,3.7612732095490715,4.5187265917602994,3.7458471760797343,4.494085532302093,4.240362811791384,4.42485549132948,5.288690476190476,3.969798657718121,4.5636363636363635,4.09375,4.413098236775818,4.236533957845433,4.586642599277979,4.262867647058823,4.089171974522293,4.048333333333333,4.7877551020408164,4.30566534914361,4.341818181818182,4.067736185383244,4.1078947368421055,4.4978991596638656,4.777777777777778,4.52906976744186,4.872053872053872,4.354838709677419,4.6672760511883,4.132075471698113,4.125748502994012,4.120930232558139,5.37125748502994,4.411764705882353,3.935727788279773,3.518796992481203,4.041528239202658,4.255216693418941,4.481566820276497,4.336734693877551,4.4877622377622375,4.4655688622754495,4.374784110535406,4.576763485477178,3.851063829787234,3.8767123287671232,4.377410468319559,4.07905138339921,4.820945945945946,4.433962264150943,4.026178010471204,4.3926247288503255,3.806026365348399,4.525270758122744,4.159353348729792,4.094808126410835,4.1528662420382165,4.510869565217392,4.200729927007299,4.120283018867925,4.643076923076923,3.955182072829132,4.253521126760563,4.580578512396694,4.14043583535109,4.012738853503185,4.2823529411764705,4.135048231511254,4.548484848484849,4.716216216216216,4.291443850267379,4.2274459974587035,4.163915094339623,4.437275985663082,4.020080321285141,4.625,4.88655462184874,4.104738154613466,3.9791666666666665,4.664835164835165,4.2299349240780915,3.878345498783455,4.617054263565891,4.113207547169812,4.40041928721174,3.9516129032258065,4.657407407407407,4.294871794871795,4.303108808290156,4.297029702970297,4.052727272727273,4.174849267872523,4.921568627450981,4.506849315068493,4.29805615550756,4.0738095238095235,4.654450261780105,5.068041237113402,4.575949367088608,4.033726812816189,4.237288135593221,4.694285714285714,4.573378839590443,4.095759233926128,4.830188679245283,4.632478632478633,3.9014492753623187,4.021052631578947,4.3175675675675675,4.46078431372549,4.433189655172414,4.651933701657459,3.840304182509506,4.5606936416184976,4.2387267904509285,4.130742049469965,4.050397877984085,4.504504504504505,4.501457725947522,4.672897196261682,4.21760391198044,4.403389830508474,4.233396584440228,4.847290640394089,4.100386100386101,4.328947368421052,4.631578947368421,4.19344262295082,4.005089058524173,4.179300291545189,4.336322869955157,4.576923076923077,4.230383973288815,4.237322515212981,4.0161725067385445,4.402805611222445,4.691111111111111,4.0852272727272725,4.919315403422983,4.761904761904762,4.078397212543554,4.609243697478991,3.783707865168539,4.233846153846154,3.8486352357320097,4.240683229813665,4.160949868073879,4.720357941834452,4.200331125827814,4.494,4.447178002894356,4.709905660377358,4.210900473933649,4.4485049833887045,3.8904109589041096,4.453453453453453,4.31025641025641,4.594420600858369,4.79295154185022,4.373198847262248,4.880459770114943,4.294990723562152,4.083538083538084,4.28125,4.230088495575221,4.176377952755906,4.406466512702078,4.383363471971067,4.074739829706717,4.276807980049876,4.374220374220374,4.886363636363637,4.394150417827298,4.190938511326861,4.178021978021978,4.545454545454546,3.9322709163346614,4.329652996845426,4.334935897435898,4.319047619047619,4.354639175257732,4.429003021148036,4.141304347826087,4.201365187713311,3.89602053915276,4.219512195121951,4.134171907756813,3.448087431693989,4.285087719298246,4.695136417556347,4.271453590192644,4.109725685785536,3.669642857142857,4.335038363171355,4.164179104477612,4.103448275862069,4.736170212765957,3.6601307189542482,4.0513347022587265,4.46875,4.840155945419103,4.309644670050761,4.712665406427221,4.041984732824427,3.979591836734694,3.915942028985507,4.548780487804878,4.604113110539846,4.042553191489362,4.369318181818182,4.279448621553884,3.86737400530504,4.107660455486543,4.228476821192053,4.3753894080996885,3.770034843205575,4.3272357723577235,4.189119170984456,4.564935064935065,4.539347408829174,4.435036496350365,4.473988439306359,4.125581395348838,4.314942528735632,4.081730769230769,3.774193548387097,4.831715210355987,4.564668769716088,4.061881188118812,3.8207885304659497,4.7072243346007605,4.018652849740933,3.984375,4.337628865979381,4.288350634371396,4.174887892376682,4.131782945736434,4.4860813704496785,4.690993788819876,4.809384164222874,4.614973262032086,4.7055837563451774,4.15,3.740740740740741,4.806916426512968,3.996138996138996,4.044973544973545,4.541666666666667,4.359749739311783,4.229007633587786,4.237288135593221,4.177586206896552,4.600596125186289,4.384740259740259,4.357142857142857,4.173410404624278,4.416452442159383,4.703389830508475,4.502832861189802,4.295154185022026,4.015151515151516,3.8756345177664975,4.505050505050505,4.364963503649635,4.643884892086331,4.096774193548387,3.97,4.055813953488372,4.1146666666666665,4.6576200417536535,4.176470588235294,3.9567099567099566,4.927579365079365,4.258687258687258,4.380530973451328,4.848993288590604,4.649553571428571,4.58659217877095,4.209302325581396,4.121875,3.8358208955223883,4.486024844720497,4.5,4.401146131805158,4.137055837563452,3.8496,4.370157819225251,5.072072072072072,4.557471264367816,4.193262411347518,4.401263823064771,4.374358974358974,4.305954825462012,4.409774436090226,4.625978090766823,4.682403433476395,4.197718631178708,3.9206642066420665,4.344306049822064,4.575757575757576,4.366666666666666,4.264596273291925,4.894514767932489,4.257142857142857,4.095375722543353,4.738786279683377,4.064171122994653,4.809523809523809,4.610032362459547,4.408163265306122,4.518105849582173,4.797235023041475,4.4576271186440675,4.139479905437352,4.115,4.596837944664031,3.909502262443439,4.775,4.6719242902208205,4.333333333333333,4.670807453416149,4.446859903381642,4.400735294117647,3.9425,4.866028708133971,4.617647058823529,4.246696035242291,4.698019801980198,4.195710455764075,4.3583138173302105,5.0588235294117645,4.573732718894009,4.684210526315789,4.1647058823529415,4.672995780590718,4.747126436781609,3.7639553429027113,4.674242424242424,4.188940092165899,3.9367088607594938,4.955357142857143,4.4655172413793105,4.2133891213389125,4.163179916317992,4.369449378330373,4.189285714285714,4.232067510548523,4.708937198067633,4.233618233618234,4.301218161683278,4.423140495867768,4.255369928400954,4.254681647940075,4.62303664921466,4.182640144665461,3.7471264367816093,3.9788617886178863,4.33419689119171,4.2165605095541405,4.152073732718894,5.232931726907631,4.427215189873418,4.2395209580838324,4.37015503875969,4.186379928315413,4.445205479452055,3.745614035087719,4.25,4.382758620689655,3.946067415730337,4.087323943661972,3.8875,4.93418647166362,4.340764331210191,4.422727272727273,4.1981566820276495,4.40041928721174,4.524590163934426,4.497041420118343,4.6047197640118,4.387096774193548,4.390625,4.701986754966887,4.358974358974359,4.374193548387097,4.205250596658711,4.275974025974026,4.448979591836735,4.752077562326869,4.3215926493108725,4.402439024390244,4.32156862745098,4.654958677685951,4.5799256505576205,3.8892857142857142,4.587209302325581,3.92,4.184873949579832,4.454248366013072,4.689655172413793,4.7685589519650655,4.305343511450381,3.6566265060240966,4.603644646924829,3.983695652173913,4.643002028397566,4.685546875,4.538834951456311,4.294243070362473,4.231578947368421,4.5947867298578196,4.517034068136272,4.388888888888889,4.430232558139535,4.814024390243903,3.9324324324324325,4.430962343096234,4.291457286432161,4.472759226713532,4.149425287356322,4.659016393442623,3.9683257918552037,4.52317880794702,4.14878892733564,4.616336633663367,3.7520661157024793,4.258687258687258,4.484210526315789,4.267281105990784,4.280922431865828,4.76158940397351,4.142465753424657,4.621428571428571,3.9676375404530746,4.529411764705882,4.0951374207188165,4.25,4.007534983853606,4.254992319508449,4.574380165289257,4.816964285714286,4.303030303030303,4.216931216931217,4.576655052264808,4.48,4.1981566820276495,4.4226190476190474,4.3963133640553,4.327561327561328,4.2368421052631575,4.403225806451613,4.185185185185185,4.334719334719335,4.122549019607843,4.338235294117647,4.388140161725067,3.9817518248175183,4.700826446280992,4.685636856368563,4.380952380952381,4.375,3.9224952741020793,4.258760107816712,4.255102040816326,3.966903073286052,4.67654986522911,4.867036011080333,4.483516483516484,4.111328125,4.184959349593496,4.84115523465704,4.248397435897436,3.8954545454545455,4.222672064777328,3.9566787003610107,4.517857142857143,4.036842105263158,4.2414772727272725,4.699507389162561,4.400584795321637,4.626984126984127,4.286995515695067,4.376093294460642,4.718676122931442,4.714876033057851,4.4588441330998245,4.009104704097117,4.466403162055336,4.307479224376731,4.850220264317181,4.568452380952381,4.108585858585859,3.6194225721784776,3.8550724637681157,4.378306878306878,4.250696378830083,4.720812182741117,4.113178294573643,4.1484375,4.364372469635628,4.051546391752577,4.688836104513064,4.309782608695652,4.563926940639269,4.572368421052632,3.9308035714285716,4.481566820276497,4.180811808118081,4.517543859649122,4.432203389830509,4.142857142857143,4.430508474576271,3.89662027833002,3.9978494623655916,4.361290322580645,4.2304147465437785,4.096192384769539,4.2764423076923075,4.385869565217392,4.825795644891122,4.663043478260869,4.23696682464455,4.174089068825911,4.2864238410596025,4.5739514348785875,3.9652777777777777,4.042483660130719,4.174311926605505,4.322344322344322,3.9085872576177287,4.108974358974359,4.397826086956521,4.012631578947368,4.576411960132891,4.160642570281125,3.925925925925926,3.728395061728395,4.099526066350711,4.449564134495641,4.351612903225806,4.506787330316742,4.373096446700508,4.172277227722772,4.334394904458598,4.25,4.114832535885167,4.9375,4.490765171503957,4.407862407862408,4.418181818181818,4.548543689320389,4.375,3.98050139275766,4.679586563307494,4.446236559139785,4.386759581881533,4.291139240506329,4.5658720200752825,4.271028037383178,3.9690265486725664,4.244956772334294,4.147208121827411,4.59375,4.513828238719069,4.268852459016394,4.613496932515337,4.5,4.587209302325581,4.593052109181142,4.637450199203188,4.092,4.381856540084388,4.655172413793103,4.491289198606272,4.547738693467337,5.2153846153846155,4.128440366972477,4.633802816901408,4.378048780487805,4.1380952380952385,4.346076458752515,4.107438016528926,4.3517241379310345,4.371212121212121,3.8698481561822127,4.674255691768827,4.43640897755611,4.366666666666666,4.276283618581907,4.493569131832797,4.2773722627737225,4.398058252427185,4.067961165048544,4.186440677966102,4.497267759562842,4.252821670428894,4.219178082191781,4.216606498194946,3.899193548387097,4.916455696202532,4.298429319371728,4.443786982248521,4.2799352750809065,4.240196078431373,4.411071849234394,4.489208633093525,4.598070739549839,4.904494382022472,3.808219178082192,4.327217125382263,3.9583333333333335,4.74251497005988,3.991111111111111,4.340567612687813,4.301282051282051,4.129251700680272,4.579787234042553,4.4063745019920315,4.1888297872340425,4.296296296296297,3.956989247311828,4.125899280575539,4.239700374531835,4.227906976744186,4.3244444444444445,4.472934472934473,4.069387755102041,4.263803680981595,4.458987783595114,4.882352941176471,4.0927152317880795,4.124542124542124,4.774744027303754,4.316770186335404,4.460280373831775,3.9885496183206106,4.214847161572052,4.55,4.523985239852398,4.100574712643678,4.232456140350878,4.240259740259741,4.3351851851851855,4.126436781609195,4.601226993865031,3.768924302788845,4.461734693877551,5.050739957716702,4.556451612903226,4.294736842105263,4.238907849829351,4.530952380952381,4.535714285714286,4.405405405405405,3.779840848806366,4.138297872340425,4.73396674584323,4.334170854271357,4.609452736318408,4.145408163265306,4.514071294559099,4.509401709401709,4.780172413793103,4.288732394366197,4.560344827586207,4.040419161676646,4.446043165467626,4.250544662309368,3.9204152249134947,4.220524017467249,4.482142857142857,3.7945205479452055,3.981418918918919,4.122762148337596,5.172297297297297,4.180365296803653,4.790960451977401,4.365137614678899,4.640569395017794,4.4926108374384235,3.8925925925925924,3.8713235294117645,4.447916666666667,4.921529175050302,4.826241134751773,4.891304347826087,4.573849878934625,4.282907662082515,4.522962962962963,4.645593869731801,4.637065637065637,4.311377245508982,3.976038338658147,4.654008438818566,4.051813471502591,4.132315521628499,4.048951048951049,4.211576846307385,4.672645739910314,4.479674796747967,4.29923273657289,4.322701688555347,4.487684729064039,4.622641509433962,4.364406779661017,4.2667313288069835,4.498371335504886,3.8353909465020575,5.079710144927536,4.078286558345643,4.614102564102564,4.186915887850467,4.526923076923077,4.087267525035766,4.380634390651085,4.225316455696203,4.591549295774648,4.156488549618321,4.211764705882353,4.0852130325814535,4.454697986577181,4.624324324324324,3.7688888888888887,4.0,4.337807606263982,4.274368231046932,3.986842105263158,3.962962962962963,4.59228650137741,4.478328173374613,4.363309352517986,4.244131455399061,4.408256880733945,4.384868421052632,4.310714285714286,4.479245283018868,3.8878205128205128,4.038659793814433,4.096885813148789,4.5,4.188607594936709,4.656891495601173,4.286723163841808,4.101809954751131,4.295871559633028,4.1386666666666665,4.021897810218978,4.2382851445663015,4.03062787136294,4.116883116883117,4.568238213399503,4.726923076923077,4.376595744680851,4.024456521739131,4.350453172205438,4.504237288135593,4.008333333333334,4.121428571428571,4.381944444444445,4.318367346938776,5.084057971014492,4.365426695842451,3.981651376146789,3.6802325581395348,4.596244131455399,5.014553014553014,4.355371900826446,4.2533849129593815,4.309278350515464,4.429054054054054,4.239740820734341,4.56,4.197101449275363,4.264705882352941,4.23110151187905,3.9242761692650334,4.551440329218107,4.412256267409471,4.522388059701493,3.997955010224949,4.552380952380952,4.455650060753341,4.474226804123711,4.2587268993839835,4.446153846153846,4.508298755186722,4.3812154696132595,4.4603174603174605,3.8776978417266186,4.479411764705882,4.85064935064935,3.9505813953488373,3.8616504854368934,4.398406374501992,4.082089552238806,4.301204819277109,4.164383561643835,4.523041474654378,4.51051051051051,4.357976653696498,4.449908925318762,4.375661375661376,4.071111111111111,4.553264604810996,3.8957654723127035,4.436190476190476,4.133333333333334,4.808743169398907,4.403800475059382,4.099662162162162,4.449908925318762,4.23125,4.362637362637362,4.365853658536586,4.264236902050114,4.587719298245614,4.530266343825666,4.414798206278027,4.822115384615385,4.613186813186813,4.618266978922716,5.119402985074627,4.376327769347496,4.164685908319185,4.653284671532846,4.505952380952381,4.5227272727272725,4.445344129554656,4.565217391304348,4.5698630136986305,4.1834215167548505,4.17612293144208,4.384146341463414,4.5115384615384615,4.107843137254902,4.417751479289941,4.2200488997555015,4.432773109243698,4.65,4.55,4.266574585635359,4.4646464646464645,3.9593023255813953,4.675,4.283653846153846,4.576923076923077,4.655963302752293,4.389655172413793,4.068678459937565,4.31948565776459,3.847058823529412,4.171929824561404,4.4036697247706424,4.211594202898551,4.355902777777778,3.630081300813008,3.6073825503355703,3.875776397515528,4.495614035087719,4.619718309859155,4.6689419795221845,4.2905982905982905,3.7719714964370548,4.196428571428571,4.127272727272727,4.177184466019417,4.48068669527897,4.266949152542373,4.78125,4.221875,4.48566610455312,4.45,4.549356223175966,4.066964285714286,4.1017316017316015,4.190677966101695,3.9205658324265507,4.09919028340081,4.051428571428572,4.409090909090909,3.882978723404255,4.16588785046729,4.194196428571429,4.301158301158301,4.176237623762376,4.350980392156862,3.842233009708738,4.05511811023622,4.647058823529412,4.422600619195046,4.081081081081081,3.8257372654155497,4.684444444444445,3.9805825242718447,4.135238095238095,4.444444444444445,4.552660152008686,4.256120527306968,4.636054421768708,4.072398190045249,3.9747048903878586,4.228013029315961,4.111859838274933,4.773333333333333,4.404320987654321,4.132307692307692,4.185975609756097,3.8299319727891157,4.252631578947368,4.356115107913669,4.28411214953271,4.184100418410042,4.424379232505643,4.53411306042885,4.303514376996805,4.131050767414404,4.128164556962025,4.591954022988506,4.093596059113301,4.684210526315789,4.236111111111111,4.4974358974358974,4.385802469135802,3.8585461689587426,4.563139931740614,4.509371554575524,3.823095823095823,4.546594982078853,3.9335106382978724,4.271111111111111,4.125748502994012,4.365448504983389,3.85,4.366614664586583,3.980851063829787,4.22027972027972,4.206666666666667,4.476,4.151595744680851,4.077551020408163,4.2818003913894325,4.700884955752213,4.474613686534217,4.189134808853119,4.126050420168068,4.266423357664234,4.509036144578313,4.4383057090239415,4.367109634551495,4.361832061068703,4.214689265536723,4.420091324200913,4.391566265060241,4.344497607655502,4.067226890756302,4.372277227722773,4.21882951653944,4.4277854195323245,3.8373015873015874,4.2642642642642645,4.276595744680851,4.464788732394366,4.626794258373206,3.9271844660194173,4.397905759162303,4.37280701754386,4.529535864978903,4.571428571428571,4.916317991631799,4.830324909747293,4.336898395721925,4.581792318634424,4.145662847790508,4.610824742268041,4.115079365079365,4.349473684210526,4.415094339622642,4.469483568075117,4.605042016806722,4.8364928909952605,4.405575539568345,3.9166666666666665,4.266343825665859,4.3963133640553,4.398876404494382,4.734491315136476,4.316981132075472,4.372093023255814,4.084269662921348,4.323374340949034,4.155875299760192,4.219858156028369,4.410989010989011,4.571428571428571,4.201492537313433,4.45,4.438692098092643,4.751838235294118,4.3522727272727275,4.380487804878049,4.787735849056604,4.661111111111111,4.622895622895623,4.096479791395046,4.575342465753424,4.111111111111111,4.039719626168225,4.128777923784494,4.792207792207792,3.7710843373493974,3.624145785876993,4.183333333333334,4.517441860465116,4.144522144522145,4.3130434782608695,4.723844282238443,4.23758865248227,4.262921348314607,4.091139240506329,3.450479233226837,4.163461538461538,4.490625,4.216123499142367,4.252631578947368,4.15,4.181395348837209,5.71496062992126,4.4213197969543145,4.087040618955513,4.276595744680851,4.053691275167785,4.281818181818182,4.466374269005848,4.025078369905956,4.340080971659919,3.830258302583026,4.0308788598574825,4.090647482014388,4.129729729729729,4.3534883720930235,4.4192307692307695,4.215982721382289,4.470862470862471,4.753993610223642,4.887378640776699,4.188888888888889,4.727923627684964,4.146067415730337,4.645901639344262,4.741379310344827,3.9581056466302367,4.295748613678374,4.798319327731092,3.980456026058632,4.346153846153846,4.522641509433963,4.592465753424658,4.3056,4.6750448833034115,4.259475218658892,4.347058823529411,3.8823529411764706,4.376506024096385,4.398514851485149,4.10655737704918,4.490272373540856,5.019512195121951,3.863270777479893,4.559659090909091,4.504178272980502,4.173913043478261,4.119760479041916,3.953932584269663,4.646884272997033,4.7364016736401675,4.013888888888889,4.449392712550607,4.282798833819242,4.458563535911602,3.8434343434343434,4.191836734693878,4.424545454545455,4.318772136953955,3.9171270718232045,4.49680170575693,3.961783439490446,4.226114649681529,4.632258064516129,4.319230769230769,4.828651685393258,4.195767195767195,4.160583941605839,4.6960352422907485,4.416044776119403,4.708904109589041,3.9328,4.158064516129032,3.807272727272727,4.015686274509804,4.418118466898955,3.8680203045685277,5.306163021868787,4.254681647940075,4.244648318042813,4.503086419753086,4.294314381270903,4.701219512195122,4.195906432748538,4.959537572254336,3.924406047516199,4.3125,4.4021978021978025,4.415384615384616,3.9710610932475885,5.014869888475836,3.9175738724727838,4.730670103092783,4.138075313807532,4.651376146788991,4.19205298013245,4.0,4.154696132596685,4.522842639593908,4.316804407713499,4.6468330134357005,4.367601246105919,4.358974358974359,4.7593984962406015,4.450746268656716,3.662303664921466,4.253731343283582,3.8671875,4.385844748858448,4.666666666666667,4.220496894409938,5.2176470588235295,4.196610169491525,4.435164835164835,4.290372670807454,3.618805590851334,4.694980694980695,4.37223974763407,4.240105540897098,4.772321428571429,4.31331592689295,3.907563025210084,4.506627393225331,4.442708333333333,4.377049180327869,5.080310880829016,4.472803347280335,4.904545454545454,4.3126684636118595,4.693333333333333,4.458333333333333,3.910299003322259,4.472019464720194,4.51207729468599,5.162698412698413,4.679814385150812,4.274193548387097,4.181818181818182,4.38268156424581,4.370656370656371,4.474945533769064,4.692695214105793,4.623076923076923,4.491646778042959,4.172932330827067,4.17329093799682,4.164141414141414,4.211340206185567,4.596698113207547,3.857677902621723,4.25,4.941025641025641,4.03125,4.185567010309279,4.1658536585365855,4.109177215189874,4.563182527301092,4.372693726937269,4.089820359281437,4.701657458563536,4.578151260504201,4.409090909090909,3.5555555555555554,4.101190476190476,4.369747899159663,4.172185430463577,4.186046511627907,4.3842592592592595,4.537473233404711,4.220982142857143,4.282442748091603,4.492857142857143,5.0476190476190474,4.116030534351145,4.309523809523809,4.111613876319758,3.8310185185185186,4.432525951557094,3.8511326860841426,4.35064935064935,3.877384196185286,4.798882681564246,4.385964912280702,4.812366737739872,4.228813559322034,4.2611940298507465,4.237012987012987,4.37791932059448,4.402061855670103,4.423913043478261,3.973166368515206,4.172413793103448,4.642091152815014,4.701005025125628,4.0050293378038555,3.9491525423728815,4.45819397993311,4.302600472813239,4.6048780487804875,4.689788053949903,4.405764966740577,4.405189620758483,4.2926829268292686,4.235416666666667,4.109452736318408,4.419525065963061,4.76605504587156,4.5325,4.18075117370892,4.423487544483986,4.6976744186046515,4.328282828282828,4.254464285714286,4.379727685325265,4.258373205741627,4.664233576642336,4.4727722772277225,4.365963855421687,4.232769830949285,4.314285714285714,4.16991643454039,4.10337552742616,4.233463035019455,4.462962962962963,4.319277108433735,4.312182741116751,3.809968847352025,4.52755905511811,4.497227356746765,3.88544474393531,4.212025316455696,4.659919028340081,4.432762836185819,4.333910034602076,4.466292134831461,4.799295774647887,3.6904761904761907,4.204892966360856,4.121412803532009,4.254901960784314,3.85625,4.552112676056338,3.965376782077393,4.452593917710197,4.358851674641149,4.6032315978456015,4.3264462809917354,5.004424778761062,4.086560364464693,4.096952908587258,4.475750577367205,5.349809885931559,4.484210526315789,4.458049886621315,4.27027027027027,4.445026178010472,4.246753246753247,4.240322580645161,4.3583138173302105,4.155963302752293,3.956777996070727,4.238421955403087,4.486005089058525,4.9875173370319,4.419354838709677,3.776923076923077,4.259345794392523,4.400966183574879,4.658402203856749,4.323943661971831,4.086124401913875,4.2151394422310755,3.8751033912324235,4.3356890459363955,4.411483253588517,4.1959798994974875,4.369469026548672,4.639112903225806,3.987704918032787,4.554817275747508,4.337078651685394,4.604385128693994,4.095108695652174,4.623333333333333,5.084832904884319,4.1223776223776225,4.459016393442623,3.8979253112033194,4.659937888198757,4.411877394636015,3.9714714714714714,4.431603773584905,4.333333333333333,4.318618042226488,4.2425,4.782520325203252,4.667224080267559,3.8700564971751414,4.833333333333333,4.725581395348837,4.2,4.390715667311412,4.150837988826815,4.04,4.555299539170507,4.100478468899522,3.752032520325203,4.051779935275081,4.1260683760683765,4.597894736842106,4.515923566878981,4.188279301745636,4.211864406779661,4.674496644295302,4.275862068965517,4.471971066907776,4.322751322751323,4.146718146718147,4.141818181818182,4.259146341463414,4.243654822335025,3.7103004291845494,4.153846153846154,4.644012944983818,4.238993710691824,4.506988564167726,4.483870967741935,3.4262295081967213,4.468036529680365,4.285714285714286,4.01953125,4.3276955602537,4.1521739130434785,4.4772727272727275,4.479351032448378,4.154929577464789,4.38013698630137,4.130822596630327,4.372596153846154,4.452229299363057,4.447916666666667,4.955489614243324,4.089403973509934,4.1260683760683765,4.481675392670157,4.5036496350364965,3.7212713936430317,4.265546218487395,4.465116279069767,3.9390444810543657,4.661064425770308,4.330152671755725,4.406749555950267,4.020408163265306,4.151515151515151,4.70995670995671,4.288135593220339,4.284153005464481,4.35531914893617,4.464447806354009,3.9275862068965517,4.287581699346405,4.26643598615917,4.331713244228433,4.128664495114006,4.4576271186440675,4.069105691056911,4.243639921722114,4.26551724137931,4.660933660933661,4.26963906581741,4.5162162162162165,4.515759312320917,4.238095238095238,4.526539278131635,4.820388349514563,5.013333333333334,4.748161764705882,4.120643431635389,4.274131274131274,4.113013698630137,4.54054054054054,4.372960372960373,4.343220338983051,4.175,4.36,4.2481203007518795,3.8954635108481264,4.849593495934959,4.4375,4.595,4.70925925925926,4.76978417266187,3.5864864864864865,4.462235649546828,4.457831325301205,4.390374331550802,4.25752508361204,4.5517970401691334,4.208,4.2567164179104475,4.43035343035343,4.286885245901639,4.241116751269035,4.134513274336284,4.131372549019608,3.9367396593673964,4.448669201520913,4.487528344671202,4.268929503916449,4.198776758409786,4.683602771362587,4.247232472324724,4.616954474097331,4.6725,4.530666666666667,4.155339805825243,4.486363636363636,4.073120494335736,3.967741935483871,4.292585170340681,4.334905660377358,4.515060240963855,4.373177842565598,4.959558823529412,4.357758620689655,4.386058981233244,5.111111111111111,4.299134734239802,3.99548532731377,4.343558282208589,4.118556701030927,4.2562277580071175,4.153543307086614,4.4044665012406945,4.037878787878788,4.137820512820513,3.7974683544303796,4.395161290322581,4.300719424460432,4.043829296424452,4.284253578732106,4.560137457044673,4.47011952191235,4.944976076555024,4.292929292929293,3.8076923076923075,3.8409475465313028,4.793939393939394,4.182539682539683,4.093299406276506,4.570754716981132,4.550580431177446,4.53250773993808,4.421303656597774,4.170940170940171,4.475120385232745,4.1655629139072845,4.499105545617174,4.183006535947713,4.806451612903226,4.2620689655172415,4.567164179104478,4.318181818181818,4.648550724637682,4.551155115511551,4.187311178247734,4.23125,3.817351598173516,4.673417721518987,4.341269841269841,4.148936170212766,4.727536231884058,4.1988795518207285,4.27103825136612,4.4,4.5575,4.352697095435684,4.039755351681957,4.241584158415842,4.669509594882729,4.337349397590361,3.931451612903226,4.517175572519084,4.639097744360902,4.077702702702703,4.810126582278481,4.222689075630252,4.543985637342908,4.04323570432357,4.39225181598063,4.402298850574713,4.492063492063492,4.197560975609756,5.060759493670886,4.470703125,4.757709251101321,4.3903394255874675,4.587467362924282,4.521327014218009,4.727528089887641,4.3993993993994,4.048484848484849,4.331623931623931,4.023850085178876,4.661616161616162,4.733727810650888,4.621951219512195,4.267605633802817,4.052,4.382671480144404,4.293069306930693,4.177290836653387,4.856725146198831,3.972972972972973,4.492682926829269,4.450909090909091,4.403225806451613,4.0699774266365685,4.789237668161435,3.857142857142857,4.320284697508897,4.382585751978892,4.347107438016529,4.134649910233393,4.075187969924812,4.7540229885057474,4.544600938967136,4.12756264236902,4.186851211072664,4.466386554621849,3.860215053763441,4.41044776119403,4.339788732394366,4.206666666666667,4.007299270072993,4.0,4.47887323943662,3.9516129032258065,5.048780487804878,4.45662100456621,4.380165289256198,4.512534818941504,4.474074074074074,4.972,4.096103896103896,3.941724941724942,4.548628428927681,4.063157894736842,4.276872964169381,4.15014164305949,4.674568965517241,3.942528735632184,4.235392320534224,4.050279329608938,4.537340619307832,3.9019607843137254,4.186528497409326,4.688524590163935,3.981042654028436,4.418461538461538,3.96875,4.505434782608695,4.36231884057971,3.9725274725274726,4.251585623678647,4.700564971751413,4.169767441860465,4.608349900596422,4.0729411764705885,4.158436213991769,4.1558441558441555,5.229050279329609,4.829073482428115,5.177339901477833,4.287009063444109,4.275109170305677,3.9767441860465116,3.84,4.095709570957096,4.164864864864865,4.851010101010101,4.240196078431373,4.3283395755305865,4.2100840336134455,4.4601398601398605,4.298013245033113,4.043781094527363,4.255813953488372,4.2110091743119265,4.587662337662338,4.446107784431137,4.322727272727272,4.222614840989399,3.889473684210526,4.669811320754717,4.849906191369606,4.393401015228426,4.7407407407407405,3.9830246913580245,5.075342465753424,4.603563474387528,4.306620209059234,4.534510433386838,4.125523012552302,4.163265306122449,4.017073170731707,4.0272108843537415,4.7694117647058825,3.925438596491228,4.463356973995272,4.355179704016913,4.646464646464646,4.702031602708804,4.0638297872340425,5.1534391534391535,4.583126550868486,3.865079365079365,4.4628422425032594,4.001709401709402,4.5327102803738315,4.444177671068427,4.504559270516717,3.901554404145078,4.448398576512456,4.765342960288809,4.483660130718954,4.219325153374233,4.104651162790698,4.591752577319587,4.4525139664804465,4.258160237388724,4.235294117647059,3.9347826086956523,4.2669172932330826,4.086741016109046,3.890909090909091,4.221662468513854,4.212806026365349,4.49906191369606,4.176848874598071,4.529715762273902,4.075055187637969,4.48792270531401,4.7657657657657655,4.091139240506329,3.9776951672862455,3.578358208955224,4.6007067137809186,4.159836065573771,4.348837209302325,4.439918533604888,3.9583333333333335,4.5588235294117645,5.318518518518519,4.03386454183267,4.3097345132743365,4.073913043478261,3.982843137254902,4.269360269360269,4.407079646017699,4.052147239263804,4.447204968944099,4.810457516339869,4.79646017699115,4.371868978805395,4.290364583333333,3.9194139194139193,4.389908256880734,4.725947521865889,4.012195121951219,4.5,4.603658536585366,4.804093567251462,4.04093567251462,4.381147540983607,4.5978378378378375,4.685224839400428,4.272289156626506,4.233333333333333,5.250696378830083,4.2578740157480315,4.455307262569832,4.392655367231638,4.116923076923077,3.810909090909091,4.396825396825397,5.074829931972789,4.247058823529412,4.21505376344086,4.3563829787234045,4.294478527607362,4.392764857881137,4.917383820998279,4.304347826086956,4.142465753424657,4.218527315914489,4.806215722120658,4.504966887417218,4.074018126888218,4.789674952198853,4.528112449799197,4.539130434782609,4.230392156862745,4.2,3.929411764705882,4.22212543554007,4.342526690391459,4.640625,4.823529411764706,4.397849462365591,4.494011976047904,3.9617706237424546,4.055944055944056,4.28328611898017,4.200286123032904,4.771111111111111,4.730769230769231,4.7905236907730675,4.885209713024283,3.915204678362573,4.235494880546075,4.262886597938144,4.622589531680441,3.699074074074074,4.32300163132137,4.247706422018348,4.50531914893617,4.591254752851711,4.552901023890785,3.998583569405099,4.805,4.401384083044983,4.853300733496333,3.91,3.88,4.370165745856354,4.060483870967742,4.079861111111111,4.468634686346864,4.298050139275766,4.06280193236715,4.4576271186440675,4.376753507014028,4.121495327102804,4.615537848605578,4.444444444444445,4.318918918918919,5.339066339066339,4.518518518518518,4.203636363636364,4.283236994219653,4.584269662921348,4.155143338954469,4.169312169312169,4.070866141732283,4.047169811320755,4.017182130584192,4.655172413793103,4.31390977443609,5.143540669856459,4.149659863945578,3.7204301075268815,4.379790940766551,4.606060606060606,4.152439024390244,4.1910331384015596,4.0,4.572446555819478,4.34119782214156,4.5,4.501374885426214,4.876190476190477,4.305660377358491,4.424460431654676,4.2592592592592595,3.7592024539877302,4.788177339901478,3.8469135802469134,4.4873096446700504,4.099099099099099,4.607017543859649,4.467741935483871,4.333333333333333,3.756521739130435,3.9074626865671642,4.131707317073171,4.051851851851852,4.240105540897098,4.661016949152542,4.158924205378973,4.472,4.120689655172414,4.361486486486487,4.108843537414966,4.318007662835249,3.946524064171123,4.338983050847458,4.472402597402597,4.928213689482471,4.086792452830188,4.234741784037559,4.713541666666667,4.098092643051771,4.735357917570499,4.361963190184049,4.267806267806268,4.482352941176471,4.187279151943463,4.171079429735234,4.02076124567474,4.467741935483871,4.424,4.719806763285024,4.380499405469679,4.852822580645161,4.68448275862069,4.4463373083475295,4.37109375,3.9911504424778763,4.377483443708609,4.546325878594249,4.367906066536204,4.158653846153846,4.236902050113895,4.059674502712477,4.597183098591549,4.015527950310559,4.550264550264551,3.8722826086956523,3.887719298245614,4.493801652892562,4.688976377952756,4.138983050847457,4.381625441696113,4.339572192513369,4.67003367003367,3.81592039800995,4.566037735849057,4.085631349782293,5.100346020761246,4.248322147651007,4.302788844621514,4.786458333333333,4.150390625,4.451724137931034,4.349056603773585,4.936619718309859,4.365795724465558,4.193939393939394,4.2018779342723,4.052307692307692,3.973293768545994,4.82051282051282,4.238255033557047,3.983833718244804,4.383125864453666,4.189830508474576,4.894495412844036,4.126760563380282,4.746478873239437,4.2387267904509285,3.909547738693467,4.65625,4.558490566037736,4.86031746031746,4.146236559139785,3.8580121703853956,4.12962962962963,4.125703564727955,4.213768115942029,4.16919191919192,4.214953271028038,4.539748953974895,4.4389002036659875,4.759825327510917,4.149722735674676,4.1515601783060925,4.4329183955739975,3.981060606060606,4.593959731543624,4.488245931283906,4.109022556390977,4.51,4.776357827476039,4.582677165354331,4.2677966101694915,4.344660194174757,4.738072054527751,3.894047619047619,4.246875,4.266666666666667,3.9175824175824174,4.198080279232112,4.70703125,4.6570247933884295,4.386363636363637,4.263269639065817,4.5237113402061855,4.744471744471745,4.183333333333334,4.652298850574713,4.2742155525238745,4.363874345549738,4.695652173913044,4.338501291989664,3.986754966887417,4.4358353510895885,4.622250970245796,4.65606936416185,4.312741312741313,4.900462962962963,4.1735751295336785,4.279494382022472,4.2592592592592595,4.311154598825832,4.56282722513089,3.91005723630417,5.260536398467433,4.428169014084507,4.528428093645485,4.472222222222222,4.473404255319149,4.100112485939258,4.647272727272727,4.609958506224066,4.333333333333333,4.506711409395973,4.672064777327935,4.304721030042918,4.082508250825082,3.8260869565217392,4.038216560509555,4.213114754098361,4.300724637681159,4.666666666666667,4.470664928292047,4.1826923076923075,4.397183098591549,4.346067415730337,4.6563573883161515,4.045138888888889,4.494736842105263,4.0,4.5186335403726705,4.247218788627936,3.8129496402877696,4.926356589147287,4.631736526946108,4.282913165266106,4.006015037593985,4.183183183183183,4.089385474860335,4.388145315487572,4.483636363636363,4.4296875,4.828810020876826,4.235867446393762,4.468493150684932,4.558282208588957,4.055555555555555,4.821554770318021,4.104602510460251,4.332225913621262,4.162100456621005,4.19434628975265,4.914765906362545,4.487234042553191,4.361111111111111,4.252225519287834,4.052572706935123,4.511669658886894,4.113725490196078,4.43859649122807,4.1350681536555145,4.858895705521473,4.410339256865913,3.96875,4.26123595505618,4.126609442060086,3.871345029239766,4.1,4.464601769911504,4.380782918149467,4.209445585215605,4.484633569739953,4.647985989492119,3.8956043956043955,4.315270935960591,3.838709677419355,4.2746268656716415,4.298555377207062,4.763406940063091,4.196428571428571,4.485169491525424,4.373737373737374,4.2988505747126435,4.583333333333333,4.3405172413793105,4.263636363636364,4.584589614740368,4.45303867403315,4.18135593220339,4.294566253574833,4.075822603719599,4.922509225092251,4.368770764119601,4.50728862973761,4.402332361516035,4.25,4.295194508009153,4.145214521452146,4.466314398943197,4.0926573426573425,4.53864168618267,4.80865224625624,4.46215139442231,4.07361963190184,4.027510316368638,4.501945525291829,4.270315091210613,4.1625,4.740437158469946,4.312796208530806,4.635245901639344,3.7861885790172645,4.4375,3.8883720930232557,4.28023598820059,4.507299270072993,4.086705202312139,4.021042084168337,4.054945054945055,4.677966101694915,4.474683544303797,4.584615384615384,3.995145631067961,4.239316239316239,3.991166077738516,4.476063829787234,3.931972789115646,4.304424778761062,4.038860103626943,4.372023809523809,4.146964856230032,4.8864059590316575,4.612546125461255,4.054945054945055,3.9300291545189503,4.694200351493849,4.819383259911894,4.48578811369509,4.2,3.66006600660066,4.161290322580645,4.17741935483871,3.877049180327869,4.47834274952919,4.663157894736842,4.679389312977099,4.030821917808219,4.35,3.944,4.488495575221239,4.319587628865979,4.206896551724138,5.140472878998609,4.558282208588957,4.687323943661972,4.291588785046729,4.716077537058153,3.9931662870159452,4.349397590361446,4.073359073359073,4.480808080808081,4.605978260869565,4.34375,3.6416819012797075,4.629893238434164,4.352112676056338,4.474025974025974,4.537037037037037,4.177615571776156,4.030534351145038,4.260780287474333,4.159722222222222,4.5418250950570345,4.111688311688312,4.239894551845342,4.231046931407942,4.147058823529412,4.15954415954416,3.9102902374670183,3.9836065573770494,4.390776699029126,4.128333333333333,3.878260869565217,4.466666666666667,4.137291280148423,4.223905723905724,4.100671140939597,4.345771144278607,4.488054607508532,4.287461773700306,4.363112391930835,4.398773006134969,4.188235294117647,4.470997679814385,4.3310580204778155,4.960698689956332,4.1875,4.581516095534787,4.269268292682927,4.157323688969258,4.5196506550218345,4.810309278350515,4.141791044776119,4.647302904564316,4.38135593220339,4.0201149425287355,4.2045929018789145,4.559297218155198,4.827751196172249,4.230314960629921,4.01980198019802,4.423184357541899,4.177615571776156,4.148337595907928,4.487912087912088,4.378947368421053,5.136476426799008,4.044943820224719,4.279017857142857,4.431297709923665,4.943217665615142,4.0603371783496005,4.665226781857451,4.141483516483516,4.276357827476039,4.495798319327731,4.418326693227091,4.26890756302521,4.524489795918368,4.467718794835007,4.6073354908306365,4.327548806941432,4.389078498293515,3.891941391941392,4.287037037037037,4.096969696969697,4.415094339622642,4.692771084337349,4.699612403100775,4.256024096385542,4.014117647058823,4.258426966292135,3.9342465753424656,4.24582338902148,4.056980056980057,4.156818181818182,4.684523809523809,4.532921810699588,4.285714285714286,4.095029239766082,4.559870550161812,3.9392712550607287,4.429799426934097,4.298879202988792,4.294388224471021,3.6904761904761907,4.70957095709571,4.454128440366972,4.316146540027137,4.0339943342776206,4.00561797752809,4.640804597701149,4.154088050314465,4.2373371924746746,4.149553571428571,5.111510791366906,4.1797385620915035,4.55793991416309,4.661885245901639,4.201421800947867,4.665760869565218,4.32063492063492,4.742957746478873,4.505944517833553,4.377521613832853,3.3577235772357725,5.239089184060721,4.107142857142857,4.530172413793103,4.260340632603406,4.166332665330661,4.547872340425532,4.068181818181818,4.550935550935551,4.445121951219512,3.676470588235294,4.330218068535825,4.0212765957446805,4.205078125,4.397014925373134,4.3902097902097905,4.6370023419203745,4.069852941176471,4.958823529411765,4.185915492957746,4.650793650793651,4.18688524590164,4.420401854714065,4.123056994818653,4.340425531914893,4.565789473684211,4.838971583220569,4.173469387755102,4.488095238095238,4.572597137014315,3.8340192043895747,4.546184738955823,4.528925619834711,4.447457627118644,4.145661157024794,4.099307159353349,3.8841567291311754,4.1923076923076925,4.611532625189682,4.3983739837398375,4.802752293577981,4.19723865877712,4.6220839813374806,4.140186915887851,4.159392789373814,4.651219512195122,4.328260869565217,4.194339622641509,3.8363636363636364,4.37696335078534,4.318965517241379,4.523076923076923,4.429906542056075,4.368663594470046,4.3577981651376145,4.634703196347032,5.440963855421686,4.364431486880466,4.514150943396227,4.556156968876861,4.621749408983452,4.373809523809523,4.58273381294964,4.154661016949152,3.9285714285714284,4.654411764705882,4.490066225165563,4.314903846153846,3.9757575757575756,4.221052631578948,3.8223938223938223,4.561497326203209,4.540284360189573,4.221902017291066,4.691335740072202,4.906810035842294,4.806267806267806,3.891117478510029,3.8256227758007118,4.304029304029304,4.65929203539823,4.237288135593221,4.374149659863946,4.405038759689923,4.3474576271186445,4.18448275862069,4.17948717948718,4.289308176100629,4.254966887417218,4.233050847457627,4.042207792207792,4.0,4.789090909090909,4.150735294117647,3.857142857142857,4.779863481228669,4.723378212974296,4.842990654205607,4.662337662337662,4.096698113207547,4.016691957511381,4.614100185528757,4.590604026845638,4.62280701754386,4.24793388429752,4.393772893772894,4.761220825852782,4.606741573033708,4.386486486486486,4.420634920634921,4.351851851851852,4.299145299145299,4.372037914691943,4.481561822125814,4.378099173553719,4.2421875,4.455089820359281,4.046992481203008,4.783132530120482,4.533632286995516,4.384615384615385,3.5886524822695036,4.681908548707754,3.990990990990991,4.173469387755102,3.847058823529412,4.443502824858757,4.023460410557185,4.390769230769231,4.822222222222222,4.606217616580311,4.2215189873417724,4.061046511627907,4.687361419068736,4.741758241758242,5.066225165562914,4.628205128205129,4.778074866310161,4.130268199233717,4.644100580270793,4.105633802816901,4.245524296675192,3.8763197586727,4.356687898089172,4.052459016393443,4.232758620689655,4.471111111111111,4.174019607843137,4.113496932515337,4.372395833333333,4.567723342939481,4.426666666666667,4.273453093812376,4.177865612648222,3.8364779874213837,4.756880733944954,4.1461538461538465,4.004966887417218,4.525121555915721,4.746621621621622,4.014652014652015,4.122257053291536,4.16243654822335,4.002570694087404,4.847490347490347,5.097701149425287,4.783783783783784,3.988888888888889,4.033950617283951,4.116554054054054,4.080729166666667,3.869369369369369,4.464968152866242,4.3122171945701355,4.690677966101695,4.473214285714286,4.047826086956522,4.819444444444445,4.379501385041551,4.94300518134715,4.56188605108055,4.193370165745856,4.169291338582677,4.481981981981982,4.64906103286385,4.863888888888889,4.570484581497797,4.067796610169491,4.25706940874036,4.295819935691318,4.323170731707317,3.8461538461538463,4.191616766467066,4.534267912772585,4.251063829787234,4.419047619047619,4.380952380952381,4.4006410256410255,4.25,4.365019011406844,4.435754189944134,4.587096774193548,4.0505836575875485,4.547058823529412,4.313479623824452],\"xaxis\":\"x\",\"yaxis\":\"y\",\"type\":\"histogram\"},{\"alignmentgroup\":\"True\",\"hovertemplate\":\"mean_word_len=%{x}<extra></extra>\",\"legendgroup\":\"\",\"marker\":{\"color\":\"#FFA200\"},\"name\":\"\",\"notched\":true,\"offsetgroup\":\"\",\"showlegend\":false,\"x\":[4.252873563218391,3.9362101313320825,4.196875,4.447802197802198,4.089743589743589,4.612804878048781,4.368909512761021,4.048969072164948,4.442882249560633,4.282828282828283,4.250793650793651,4.703883495145631,4.333333333333333,4.428989751098096,4.108187134502924,4.18,4.408521303258145,3.951183431952663,4.889867841409692,4.388888888888889,4.638522427440633,4.166270783847981,4.93485342019544,4.579617834394904,4.86219739292365,4.120218579234972,4.518656716417911,4.477927063339731,4.333333333333333,4.265486725663717,4.43436754176611,4.734090909090909,4.184738955823293,4.33044982698962,4.28080985915493,4.429799426934097,4.323181049069374,4.32183908045977,4.638170974155069,3.3258785942492013,4.284375,4.3052631578947365,3.72,4.282327586206897,4.2682926829268295,3.8293515358361776,4.65979381443299,4.423529411764706,4.570934256055363,3.8564814814814814,3.748344370860927,4.49746192893401,4.123152709359606,4.620608899297424,4.852008456659619,4.005025125628141,4.659359190556493,4.261904761904762,4.414349775784753,4.461126005361931,4.2917505030181085,4.189910979228487,3.8043478260869565,4.362264150943396,4.428571428571429,4.537117903930131,4.383663366336633,4.673846153846154,4.836363636363636,3.9477611940298507,3.986425339366516,4.5731958762886595,4.286135693215339,4.392857142857143,4.100502512562814,4.626373626373627,4.847619047619047,4.038022813688213,4.096202531645569,4.626146788990826,4.698666666666667,4.776881720430108,3.8275862068965516,4.102766798418973,4.916129032258064,3.977722772277228,4.146099290780142,4.155642023346304,4.663101604278075,4.994285714285715,4.1913875598086126,4.076335877862595,4.207440811724916,4.439453125,4.092987804878049,4.099827882960413,4.641921397379913,4.390625,4.78055822906641,4.328804347826087,4.414790996784566,4.333333333333333,4.1092012133468145,4.68561872909699,4.917920656634747,4.4104803493449785,4.091145833333333,4.646616541353383,4.448366013071896,3.6183574879227054,4.32764505119454,4.147001934235977,4.392660550458715,4.094660194174757,4.5602409638554215,4.683881064162755,4.545454545454546,4.437288135593221,4.093333333333334,4.548387096774194,3.9832285115303985,4.25,4.226006191950464,4.342105263157895,4.420318725099602,3.9583333333333335,4.185964912280702,4.985849056603773,3.9209932279909707,4.589341692789969,4.206896551724138,4.076763485477178,4.35377358490566,4.777272727272727,4.309417040358745,4.279874213836478,4.531073446327683,4.620111731843576,3.9204819277108434,4.215596330275229,4.215596330275229,4.408026755852843,4.190611664295875,4.256410256410256,4.097222222222222,3.9959266802443993,3.92,3.9221052631578948,4.509433962264151,4.0,4.548148148148148,4.645299145299146,4.288135593220339,4.414835164835165,4.674074074074074,4.870253164556962,4.276264591439689,4.324404761904762,4.354166666666667,4.3478260869565215,4.271551724137931,4.291390728476821,4.491183879093199,4.266924564796906,3.7300215982721383,4.170068027210885,4.59009009009009,4.1332149200710475,4.218004338394794,4.6132315521628495,4.30625,4.382066276803119,4.168576104746317,4.522388059701493,4.6781115879828326,4.405684754521964,5.174757281553398,4.443729903536977,4.034146341463415,4.304469273743017,4.529411764705882,4.75983436853002,3.8263157894736843,4.503846153846154,4.553140096618358,4.605263157894737,3.797979797979798,4.286538461538462,4.311111111111111,4.312714776632302,4.145593869731801,4.089514066496164,4.105405405405405,4.291571753986332,4.513397642015005,4.591085271317829,3.9913419913419914,4.757668711656442,4.596590909090909,4.035087719298246,4.174436090225564,4.357030015797788,5.02542372881356,3.612403100775194,4.395408163265306,4.390776699029126,4.5437262357414445,4.574766355140187,4.162264150943396,4.020833333333333,3.618834080717489,4.072289156626506,3.9444444444444446,4.728706624605678,4.6187624750499,4.280172413793103,5.056478405315614,4.416422287390029,4.475336322869955,3.7796976241900646,4.575221238938053,4.429175475687104,4.365269461077844,4.192926045016077,3.9092409240924093,4.921348314606742,4.451086956521739,4.218487394957983,4.4972972972972975,4.591563786008231,3.9250814332247557,5.044973544973545,3.9117276166456496,4.488235294117647,4.646315789473684,4.273224043715847,4.127835051546392,4.34393063583815,4.191919191919192,4.085594989561587,4.510835913312693,4.416422287390029,4.487745098039215,4.580448065173116,4.487730061349693,4.306264501160093,4.342553191489362,3.9961977186311786,4.1919385796545106,3.921832884097035,4.4476744186046515,4.37037037037037,4.449477351916376,4.317647058823529,4.316831683168317,4.032,4.769679300291545,4.066666666666666,5.1981566820276495,3.890721649484536,4.458515283842795,4.46078431372549,4.049050632911392,4.276119402985074,4.181818181818182,4.317948717948718,4.293010752688172,3.970856102003643,4.39261744966443,4.2844827586206895,4.370617696160267,4.089830508474576,3.590909090909091,4.128205128205129,4.880434782608695,4.184563758389261,4.305816135084428,4.56175972927242,4.656167979002625,4.368794326241135,3.8333333333333335,4.153846153846154,3.8795811518324608,4.125,4.675949367088608,4.189066059225513,4.337995337995338,4.432934926958831,4.677570093457944,5.041575492341357,3.815873015873016,4.460807600950119,4.392561983471074,4.415384615384616,4.6957928802588995,4.519742883379247,4.474619289340102,4.022167487684729,4.391304347826087,3.980410447761194,4.129124820659971,4.455045871559633,4.254416961130742,4.523809523809524,4.678832116788321,4.417670682730924,3.909090909090909,4.023923444976076,5.286069651741293,4.213592233009709,4.449704142011834,4.420318725099602,4.385714285714286,4.024054982817869,4.541958041958042,4.1640625,3.8376068376068377,3.9292604501607715,4.405882352941177,3.989010989010989,4.507886435331231,4.229508196721311,4.334916864608076,4.271186440677966,4.685800604229607,4.549356223175966,4.769716088328075,4.35978835978836,4.054982817869416,3.8748370273794004,4.447306791569087,4.377611940298507,4.261398176291793,4.922779922779923,4.129675810473816,4.345454545454546,4.706896551724138,3.9334415584415585,4.766071428571428,4.195564516129032,4.764084507042254,4.841897233201581,4.958333333333333,4.835365853658536,4.598360655737705,4.212927756653992,3.9327354260089686,3.9675,4.0711743772241995,4.700575815738963,4.225409836065574,3.775925925925926,4.491017964071856,4.585623678646934,4.373015873015873,3.9549180327868854,4.10718954248366,3.811563169164882,4.105820105820106,4.386446886446887,3.986206896551724,4.939262472885033,4.602189781021898,4.240963855421687,4.1557894736842105,4.079220779220779,4.541984732824427,4.486682808716707,4.378006872852234,3.9661016949152543,4.3778337531486144,4.197696737044146,4.251781472684086,4.097791798107256,4.552334943639291,4.014035087719298,5.560109289617486,4.183035714285714,3.895238095238095,4.118210862619808,4.003584229390681,4.301829268292683,4.1909090909090905,4.554054054054054,4.9496402877697845,4.737424547283702,4.7195876288659795,4.41970802919708,5.217391304347826,3.8735632183908044,4.411924119241192,3.8981937602627257,4.333333333333333,4.619158878504673,4.06926406926407,4.340557275541796,4.989726027397261,4.432814710042432,4.862973760932944,4.371244635193133,4.414758269720102,4.305343511450381,4.377551020408164,4.325699745547074,4.051428571428572,4.91875,4.006257822277847,4.306954436450839,4.412073490813648,4.463587921847247,4.5144927536231885,4.92483660130719,3.9525862068965516,4.2833099579242635,4.139344262295082,4.227692307692307,4.120805369127517,4.67603305785124,4.962099125364431,4.658823529411765,4.169387755102041,4.822429906542056,4.5,4.282555282555283,3.808080808080808,4.855263157894737,4.048346055979644,4.158291457286432,4.3858267716535435,4.48,4.532915360501567,4.4543147208121825,5.320809248554913,4.076691729323309,4.2827586206896555,4.41970802919708,4.292763157894737,3.9,3.942157953281424,4.285714285714286,4.174545454545455,4.11443661971831,4.4,4.35738255033557,4.799126637554585,4.219457013574661,3.76078431372549,4.585014409221902,4.01699716713881,4.535073409461664,3.858143607705779,3.9573560767590616,3.8759398496240602,4.6703786191536745,4.399328859060403,4.589622641509434,3.8079625292740045,4.6453125,4.15748031496063,4.340136054421769,4.376190476190477,4.191919191919192,4.1780028943560055,4.3685950413223145,4.19484240687679,5.086956521739131,3.7437070938215102,4.623711340206185,4.349112426035503,4.204419889502763,4.454545454545454,4.380141843971631,4.432242990654205,3.929553264604811,4.393509127789047,4.462585034013605,4.336879432624113,4.041062801932367,3.7065420560747664,4.3534883720930235,4.930693069306931,3.9113372093023258,4.576502732240437,4.393234672304439,4.276595744680851,4.550989345509893,4.63768115942029,4.038709677419355,4.759803921568627,4.088291746641075,4.729787234042553,4.350756533700138,4.199211045364891,4.453932584269663,4.052631578947368,4.036290322580645,3.82967032967033,4.496,4.618453865336658,4.175853018372703,4.410041841004184,5.338289962825279,4.282958199356913,4.350282485875706,4.599206349206349,4.509740259740259,3.656756756756757,4.404358353510895,4.359840954274354,4.3619047619047615,4.0136612021857925,4.408805031446541,4.0473856209150325,4.7176470588235295,4.427184466019417,4.6120401337792645,4.112727272727272,4.230145867098866,4.267857142857143,4.221198156682028,4.487804878048781,4.149051490514905,4.260942760942761,4.287735849056604,4.2706766917293235,4.074918566775244,4.718085106382978,4.419117647058823,4.164819944598338,4.150476190476191,4.133676092544987,4.676419965576592,4.3277777777777775,4.447863247863248,4.512064343163539,4.015455950540958,3.9695121951219514,4.454545454545454,4.296,4.326259946949602,4.622107969151671,4.088952654232425,4.406570841889117,4.526448362720403,4.40809968847352,4.128664495114006,4.220489977728285,4.076,4.041095890410959,4.880952380952381,4.174603174603175,4.098883572567783,4.410187667560321,3.8878048780487804,4.151975683890577,4.2565445026178015,3.946788990825688,4.44139650872818,4.224409448818897,3.7246376811594204,3.9693251533742333,4.133208255159475,4.472485768500949,4.220833333333333,3.989648033126294,4.418254764292879,4.156739811912225,4.525806451612903,4.2272727272727275,4.67962962962963,4.411371237458194,4.12807881773399,4.495145631067961,4.11177347242921,4.1,4.762271414821944,4.060301507537688,4.304195804195804,4.639080459770115,4.437001594896332,4.040609137055838,3.871794871794872,4.265625,4.5322128851540615,4.192012288786482,4.34841628959276,4.65242718446602,4.105882352941176,4.451456310679611,3.9649532710280373,4.209375,4.421450151057402,4.554517133956386,4.429145728643216,4.5030674846625764,4.097674418604651,4.197530864197531,4.509661835748792,4.945121951219512,4.640692640692641,4.022573363431151,4.449781659388647,4.231780167264038,4.490774907749078,4.266355140186916,4.2948328267477205,4.242320819112628,4.130977130977131,5.217821782178218,4.238770685579196,4.187660668380463,4.071895424836601,4.270334928229665,4.241635687732342,4.223684210526316,4.353383458646617,4.2979452054794525,3.8767123287671232,4.227390180878553,4.217741935483871,4.751648351648352,4.381818181818182,4.538461538461538,4.465083798882682,4.33080808080808,4.563739376770538,4.319361277445109,4.506517690875233,4.372781065088757,4.4973166368515205,4.572222222222222,4.4156626506024095,3.935483870967742,4.356495468277946,4.057142857142857,3.7315010570824523,4.2549504950495045,4.17825311942959,4.45014245014245,4.276536312849162,4.442340791738382,4.058922558922559,4.508591065292096,4.333333333333333,3.871313672922252,4.770083102493075,5.086734693877551,4.6481876332622605,4.493606138107417,4.143884892086331,4.412698412698413,3.983050847457627,4.396610169491526,5.195833333333334,4.741239892183288,4.04179104477612,4.704132231404959,4.008115419296663,4.566666666666666,3.9360544217687075,4.492723492723493,4.3,4.69054441260745,4.262899262899263,4.378289473684211,4.289586305278174,4.538666666666667,4.0310077519379846,4.584158415841584,4.179856115107913,4.136054421768708,4.794567062818336,4.641114982578397,4.331858407079646,4.01131221719457,4.55456570155902,4.566502463054187,4.486725663716814,4.589333333333333,4.347619047619047,4.166666666666667,3.9927797833935017,4.100862068965517,4.708115183246074,4.484251968503937,4.139583333333333,3.997422680412371,4.398989898989899,3.9971428571428573,4.275184275184275,4.4156479217603914,4.245901639344262,3.4863636363636363,4.557507987220447,4.116822429906542,4.503846153846154,4.6947368421052635,4.132250580046404,4.051282051282051,4.112412177985949,4.3816793893129775,4.268421052631579,4.122916666666667,4.554006968641115,4.243705941591138,4.176100628930818,4.828,4.313253012048193,4.704545454545454,4.629565217391304,4.139344262295082,4.113573407202216,4.105011933174224,4.45,4.742627345844504,4.184049079754601,4.164574616457462,4.699029126213592,4.458579881656805,4.874251497005988,4.302483069977427,4.579130434782608,4.529411764705882,4.223577235772358,4.697406340057637,3.7515873015873016,4.234505862646566,4.195744680851064,4.495670995670996,4.109554140127389,3.7054545454545456,4.463917525773196,4.806100217864924,4.4714285714285715,4.107317073170732,4.28714859437751,4.6016260162601625,4.048309178743962,4.066666666666666,4.336609336609337,4.704433497536946,4.266423357664234,4.521264994547438,4.492625368731564,4.370503597122302,4.200792602377807,4.142857142857143,4.2388059701492535,4.633574007220217,4.62109375,4.618257261410788,4.470588235294118,4.42942942942943,4.6103896103896105,3.905918057663126,4.75764192139738,4.339100346020762,4.4411764705882355,4.573804573804574,4.11697247706422,4.691304347826087,4.179012345679013,4.3392156862745095,4.266881028938907,4.230891719745223,4.769633507853404,4.363207547169812,4.015037593984962,4.341628959276018,3.9886792452830186,3.9313725490196076,3.9285714285714284,3.891025641025641,4.2326530612244895,4.291836734693877,4.214859437751004,4.437037037037037,3.93368700265252,5.289272030651341,4.403015075376884,4.587155963302752,4.263265306122449,4.417127071823204,4.657258064516129,4.3087149187592315,4.859964093357271,4.244949494949495,4.047169811320755,4.502958579881657,4.529891304347826,4.2594142259414225,4.135254988913526,4.408783783783784,4.2105263157894735,3.6485148514851486,4.430769230769231,4.20656871218669,4.578796561604585,4.206818181818182,4.284232365145228,3.7011494252873565,4.62043795620438,4.749034749034749,3.9285714285714284,3.871559633027523,4.524416135881104,4.787330316742081,4.530075187969925,4.648379052369077,3.812877263581489,4.194444444444445,4.023809523809524,4.226244343891403,4.137184115523466,4.429878048780488,4.550868486352357,4.1299504950495045,4.213207547169811,4.476470588235294,4.410835214446952,4.420398009950249,4.381962864721485,4.352739726027397,4.042296072507553,4.471042471042471,4.24496644295302,4.381231671554252,4.558746736292428,4.262334536702768,4.5111940298507465,4.45045045045045,4.094281298299846,4.313253012048193,4.378698224852071,4.648083623693379,4.213768115942029,4.5,4.653846153846154,4.183937823834197,4.0777777777777775,4.691666666666666,3.85,4.0504587155963305,3.9644549763033177,4.040625,3.9905882352941178,4.252569750367107,4.566666666666666,4.706030150753769,4.934497816593886,4.369230769230769,4.415458937198068,4.136956521739131,4.2344322344322345,3.7146666666666666,4.081081081081081,4.524390243902439,4.558386411889597,4.467505241090147,4.381898454746137,4.6,4.031645569620253,4.180555555555555,4.627906976744186,4.025984911986589,4.729016786570743,4.479274611398964,4.121794871794871,3.8620689655172415,4.418897637795276,4.654427645788337,4.337461300309598,4.358870967741935,4.540160642570281,4.322295805739515,4.126086956521739,4.4031936127744515,4.194078947368421,4.681293302540416,3.8414517669532,4.678916827852998,4.429158110882957,4.296803652968037,4.49079754601227,4.31629392971246,4.429530201342282,4.329203539823009,4.592689295039165,4.297356828193832,4.657407407407407,4.488958990536277,3.7445255474452557,4.111926605504587,4.226086956521739,4.64,4.404958677685951,4.166347992351817,4.103070175438597,4.635514018691588,4.451219512195122,3.718091009988901,4.381263616557734,4.41044776119403,4.069767441860465,3.843260188087774,5.089285714285714,4.235154394299287,4.589928057553957,4.403846153846154,4.8525,4.257225433526012,4.128888888888889,4.632075471698113,4.414578587699316,4.357740585774058,4.011152416356877,3.9955489614243325,3.9676923076923076,4.236585365853658,4.744927536231884,4.238095238095238,4.313725490196078,4.25,4.085918854415274,4.524590163934426,4.89311163895487,3.902200488997555,4.465437788018433,4.178571428571429,4.389565217391304,4.006726457399103,4.511961722488039,4.184684684684685,4.37463556851312,3.7005988023952097,4.016363636363637,4.506968641114983,5.333333333333333,4.408163265306122,4.515592515592515,4.448559670781893,4.519637462235649,4.14,4.962382445141066,4.282051282051282,4.472513089005235,4.561643835616438,4.097938144329897,4.962365591397849,4.533980582524272,4.528756957328386,4.234986945169712,4.992156862745098,3.9829842931937174,4.454005934718101,4.525925925925926,4.2076271186440675,4.65311004784689,4.4508670520231215,4.566666666666666,4.5054945054945055,4.488054607508532,3.9135802469135803,3.813953488372093,4.075187969924812,4.241666666666666,4.178137651821863,4.3,4.506802721088436,5.105960264900662,4.492021276595745,3.9631782945736433,4.558510638297872,4.212389380530974,4.121134020618556,4.135802469135802,4.145251396648045,3.8851674641148324,4.1276190476190475,4.584569732937686,4.672828096118299,4.423529411764706,4.450662739322533,4.459770114942529,4.626593806921676,4.303030303030303,4.449484536082474,4.579075425790754,3.93048128342246,4.1894409937888195,4.145985401459854,4.136094674556213,4.05607476635514,4.093294460641399,4.241813602015113,4.6234567901234565,4.514970059880239,4.49009900990099,4.439781021897811,3.8513189448441247,4.009146341463414,4.786216596343179,5.049645390070922,4.325373134328358,4.298969072164948,4.128,4.3780918727915195,4.010309278350515,4.374732334047109,4.320872274143302,4.498789346246974,4.648033126293996,4.577319587628866,3.9398340248962658,4.51310861423221,4.437837837837838,4.628712871287129,4.149090909090909,4.025316455696203,4.501666666666667,4.148148148148148,3.8236092265943014,4.412017167381975,3.844504021447721,4.571428571428571,4.025773195876289,4.608695652173913,4.41743119266055,4.44097995545657,4.105392156862745,4.476868327402135,5.024475524475524,4.336633663366337,5.342222222222222,3.8424657534246576,4.512773722627737,4.482692307692307,4.2842809364548495,4.438356164383562,4.007929515418502,4.529411764705882,4.205607476635514,4.126666666666667,4.212996389891697,4.231428571428571,4.121794871794871,3.946210268948655,4.804123711340206,4.1278600269179,4.535714285714286,4.383442265795207,4.587852494577007,4.740566037735849,4.126153846153846,4.337455830388692,4.378585086042065,4.449704142011834,4.401209677419355,4.414634146341464,4.123711340206185,4.84514435695538,4.112328767123287,4.845303867403315,3.7983870967741935,3.9276773296244785,4.340845070422535,4.4195624195624195,4.326059050064185,4.372972972972973,5.224770642201835,4.361940298507463,3.9454545454545453,4.6300417246175245,4.264814814814815,4.326647564469914,3.6666666666666665,4.100227790432802,4.477611940298507,4.482213438735178,4.021505376344086,4.116731517509727,4.424568965517241,4.395669291338582,4.0859375,4.736349453978159,4.642058165548098,4.058724832214765,4.231197771587744,4.469387755102041,4.514925373134329,4.3296,4.2122370936902485,4.728285077951003,4.726190476190476,4.654696132596685,4.116279069767442,3.9654088050314464,4.135977337110481,4.164893617021277,4.273927392739274,3.9176904176904177,4.554166666666666,3.9132530120481928,4.190082644628099,4.196666666666666,4.780241935483871,4.523659305993691,4.315403422982885,3.9533678756476682,4.120689655172414,4.118712273641851,4.39816933638444,4.180232558139535,4.037037037037037,4.563775510204081,3.8969258589511755,4.354444444444445,3.9669811320754715,4.292929292929293,4.404580152671755,4.363265306122449,4.2823529411764705,4.172727272727273,4.1554726368159205,4.857749469214437,4.37987012987013,4.350364963503649,4.454887218045113,4.3405275779376495,4.308098591549296,4.636363636363637,4.340030911901082,4.482558139534884,4.319796954314721,4.580821917808219,4.55984555984556,3.9931662870159452,4.703703703703703,5.192118226600985,3.9945355191256833,4.983379501385041,3.9375,4.255150554675119,4.1892797319933,4.541666666666667,4.416184971098266,4.280898876404494,4.703056768558952,4.161662817551963,4.934052757793765,4.776515151515151,4.292620865139949,4.114814814814815,4.681159420289855,4.504901960784314,4.239506172839506,4.613037447988904,4.098159509202454,4.373865698729583,4.376436781609195,3.9892241379310347,4.1441441441441444,4.033078880407125,4.004504504504505,4.147058823529412,3.876923076923077,4.624031007751938,4.498054474708171,4.245962732919255,4.926694329183956,4.4576271186440675,4.358974358974359,4.538461538461538,3.7882513661202184,4.055984555984556,4.72027972027972,4.252631578947368,3.809045226130653,3.876080691642651,4.288065843621399,4.25,4.291079812206573,4.486486486486487,3.982905982905983,4.6925,4.8316831683168315,4.794444444444444,4.490566037735849,3.964509394572025,4.456066945606694,4.292307692307692,4.4365904365904365,4.387295081967213,4.541528239202658,4.1304945054945055,4.410344827586207,4.800443458980045,4.362984218077475,4.848797250859106,4.501374885426214,4.016835016835016,4.2175141242937855,4.239740820734341,5.279109589041096,4.049253731343284,4.009009009009009,4.440559440559441,4.249394673123486,4.426592797783933,4.463414634146342,4.97136563876652,4.741025641025641,4.180914512922465,4.124324324324324,4.195906432748538,4.259927797833935,4.128048780487805,3.898550724637681,4.308550185873606,3.7479091995221028,4.4525316455696204,4.437735849056604,4.137030995106036,4.1202404809619235,4.284916201117318,4.01628664495114,4.1837160751565765,4.400881057268722,4.627737226277373,4.453061224489796,4.229357798165138,4.277777777777778,4.150081566068516,5.013513513513513,4.0580152671755725,4.030888030888031,5.144876325088339,4.218289085545723,4.177820267686425,4.612334801762114,4.028735632183908,4.5814696485623,4.588235294117647,4.362694300518135,4.518072289156627,4.114942528735632,4.96523178807947,4.550200803212851,4.216312056737588,4.772128060263653,4.6422018348623855,4.111531190926276,4.773033707865168,3.9449035812672175,4.894736842105263,4.241706161137441,4.109090909090909,4.458891013384322,3.8806921675774135,3.8223684210526314,4.008119079837618,4.717741935483871,4.432242990654205,4.552584670231729,3.8091603053435112,4.234624145785877,4.464788732394366,4.198214285714286,4.987804878048781,4.341509433962264,3.818681318681319,4.440677966101695,3.9874213836477987,3.97557003257329,4.283950617283951,4.55,4.242063492063492,4.125,4.310580204778157,4.380057803468208,4.4375,5.069597069597069,3.976618705035971,4.061664953751285,4.782051282051282,4.058981233243967,4.110920034393809,4.0773809523809526,4.3646408839779,4.359861591695502,4.133333333333334,4.828431372549019,4.116197183098592,4.693415637860082,4.350340136054422,4.262745098039216,4.32976653696498,4.476775956284153,4.218421052631579,4.691275167785235,4.1521739130434785,4.3944636678200695,4.166358595194085,4.563131313131313,4.3537234042553195,4.529801324503311,3.7793696275071635,4.218085106382978,4.603448275862069,4.4119170984455955,4.02416918429003,4.134246575342465,4.514767932489452,4.714285714285714,3.858725761772853,4.634020618556701,4.657575757575757,3.9510489510489513,4.7713717693836974,4.005263157894737,4.66996699669967,4.538297872340426,4.545454545454546,5.007843137254902,4.41578947368421,4.292576419213974,4.4224719101123595,4.107438016528926,4.411764705882353,4.950819672131147,4.281818181818182,4.435540069686411,3.983818770226537,4.316749585406302,4.6304985337243405,4.352688172043011,4.685314685314685,4.316849816849817,4.208904109589041,4.652582159624413,4.22289156626506,4.172839506172839,4.468493150684932,4.364102564102564,4.694158075601375,4.170914542728636,4.331337325349302,4.196787148594377,3.948006932409012,4.4684813753581665,4.15370705244123,4.46455223880597,3.9788359788359786,4.37046004842615,3.789010989010989,4.105708245243129,3.988009592326139,4.314814814814815,4.346689895470384,4.1292682926829265,4.51869918699187,4.755395683453237,4.08008658008658,4.923780487804878,4.2524682651622,4.244292237442922,4.687022900763359,4.082004555808656,3.837579617834395,3.8826714801444044,4.532738095238095,4.183076923076923,4.2575,4.438524590163935,3.8737373737373737,4.070381231671554,3.901015228426396,3.9079229122055676,4.825742574257426,4.387323943661972,4.1436950146627565,4.574803149606299,4.467866323907455,4.266958424507659,4.397212543554007,4.362847222222222,4.171511627906977,4.018284106891702,4.46189917936694,4.52970297029703,4.678343949044586,4.038461538461538,4.398648648648648,4.651651651651652,4.096938775510204,4.574898785425101,3.9388379204892967,4.537477148080439,3.9959183673469387,4.1225033288948065,4.562632696390658,4.170124481327801,4.635451505016722,4.3780219780219785,4.213815789473684,5.21021021021021,4.180223285486443,4.33457249070632,4.468586387434555,4.495429616087751,4.581521739130435,4.274193548387097,4.505175983436853,4.017412935323383,3.910299003322259,4.202868852459017,3.848888888888889,4.308064516129032,4.12540192926045,4.30827067669173,5.038095238095238,3.97583081570997,4.051685393258427,4.589743589743589,4.052852348993288,4.840101522842639,4.54046997389034,4.278985507246377,4.5122377622377625,3.9676258992805757,4.609375,4.3544303797468356,4.612431444241317,5.009433962264151,4.175499565595135,4.52540272614622,4.507987220447284,4.318037974683544,4.193979933110368,4.466165413533835,3.594488188976378,4.269138755980861,4.372881355932203,4.257201646090535,4.282467532467533,4.2367601246105915,4.578544061302682,4.333333333333333,4.573189522342065,4.217131474103586,4.2781456953642385,4.356495468277946,3.9674074074074075,4.408710217755444,5.120967741935484,4.2890442890442895,4.302734375,4.062737642585551,4.3283582089552235,4.359126984126984,3.9457142857142857,4.526802218114603,4.657320872274143,3.722532588454376,4.603571428571429,4.767676767676767,4.112167300380228,4.175308641975309,4.098253275109171,4.267029972752043,4.367256637168142,3.995833333333333,5.521739130434782,4.44256120527307,3.9403508771929823,4.371287128712871,4.08955223880597,4.321192052980132,4.533980582524272,4.554722638680659,4.753787878787879,4.257270693512305,4.4772727272727275,4.282051282051282,4.172804532577904,4.3895348837209305,4.45,4.5338078291814945,3.8705882352941177,4.494866529774128,4.095360824742268,4.149390243902439,4.271367521367521,4.4363459669582115,4.578595317725752,3.7612732095490715,4.5187265917602994,3.7458471760797343,4.494085532302093,4.240362811791384,4.42485549132948,5.288690476190476,3.969798657718121,4.5636363636363635,4.09375,4.413098236775818,4.236533957845433,4.586642599277979,4.262867647058823,4.089171974522293,4.048333333333333,4.7877551020408164,4.30566534914361,4.341818181818182,4.067736185383244,4.1078947368421055,4.4978991596638656,4.777777777777778,4.52906976744186,4.872053872053872,4.354838709677419,4.6672760511883,4.132075471698113,4.125748502994012,4.120930232558139,5.37125748502994,4.411764705882353,3.935727788279773,3.518796992481203,4.041528239202658,4.255216693418941,4.481566820276497,4.336734693877551,4.4877622377622375,4.4655688622754495,4.374784110535406,4.576763485477178,3.851063829787234,3.8767123287671232,4.377410468319559,4.07905138339921,4.820945945945946,4.433962264150943,4.026178010471204,4.3926247288503255,3.806026365348399,4.525270758122744,4.159353348729792,4.094808126410835,4.1528662420382165,4.510869565217392,4.200729927007299,4.120283018867925,4.643076923076923,3.955182072829132,4.253521126760563,4.580578512396694,4.14043583535109,4.012738853503185,4.2823529411764705,4.135048231511254,4.548484848484849,4.716216216216216,4.291443850267379,4.2274459974587035,4.163915094339623,4.437275985663082,4.020080321285141,4.625,4.88655462184874,4.104738154613466,3.9791666666666665,4.664835164835165,4.2299349240780915,3.878345498783455,4.617054263565891,4.113207547169812,4.40041928721174,3.9516129032258065,4.657407407407407,4.294871794871795,4.303108808290156,4.297029702970297,4.052727272727273,4.174849267872523,4.921568627450981,4.506849315068493,4.29805615550756,4.0738095238095235,4.654450261780105,5.068041237113402,4.575949367088608,4.033726812816189,4.237288135593221,4.694285714285714,4.573378839590443,4.095759233926128,4.830188679245283,4.632478632478633,3.9014492753623187,4.021052631578947,4.3175675675675675,4.46078431372549,4.433189655172414,4.651933701657459,3.840304182509506,4.5606936416184976,4.2387267904509285,4.130742049469965,4.050397877984085,4.504504504504505,4.501457725947522,4.672897196261682,4.21760391198044,4.403389830508474,4.233396584440228,4.847290640394089,4.100386100386101,4.328947368421052,4.631578947368421,4.19344262295082,4.005089058524173,4.179300291545189,4.336322869955157,4.576923076923077,4.230383973288815,4.237322515212981,4.0161725067385445,4.402805611222445,4.691111111111111,4.0852272727272725,4.919315403422983,4.761904761904762,4.078397212543554,4.609243697478991,3.783707865168539,4.233846153846154,3.8486352357320097,4.240683229813665,4.160949868073879,4.720357941834452,4.200331125827814,4.494,4.447178002894356,4.709905660377358,4.210900473933649,4.4485049833887045,3.8904109589041096,4.453453453453453,4.31025641025641,4.594420600858369,4.79295154185022,4.373198847262248,4.880459770114943,4.294990723562152,4.083538083538084,4.28125,4.230088495575221,4.176377952755906,4.406466512702078,4.383363471971067,4.074739829706717,4.276807980049876,4.374220374220374,4.886363636363637,4.394150417827298,4.190938511326861,4.178021978021978,4.545454545454546,3.9322709163346614,4.329652996845426,4.334935897435898,4.319047619047619,4.354639175257732,4.429003021148036,4.141304347826087,4.201365187713311,3.89602053915276,4.219512195121951,4.134171907756813,3.448087431693989,4.285087719298246,4.695136417556347,4.271453590192644,4.109725685785536,3.669642857142857,4.335038363171355,4.164179104477612,4.103448275862069,4.736170212765957,3.6601307189542482,4.0513347022587265,4.46875,4.840155945419103,4.309644670050761,4.712665406427221,4.041984732824427,3.979591836734694,3.915942028985507,4.548780487804878,4.604113110539846,4.042553191489362,4.369318181818182,4.279448621553884,3.86737400530504,4.107660455486543,4.228476821192053,4.3753894080996885,3.770034843205575,4.3272357723577235,4.189119170984456,4.564935064935065,4.539347408829174,4.435036496350365,4.473988439306359,4.125581395348838,4.314942528735632,4.081730769230769,3.774193548387097,4.831715210355987,4.564668769716088,4.061881188118812,3.8207885304659497,4.7072243346007605,4.018652849740933,3.984375,4.337628865979381,4.288350634371396,4.174887892376682,4.131782945736434,4.4860813704496785,4.690993788819876,4.809384164222874,4.614973262032086,4.7055837563451774,4.15,3.740740740740741,4.806916426512968,3.996138996138996,4.044973544973545,4.541666666666667,4.359749739311783,4.229007633587786,4.237288135593221,4.177586206896552,4.600596125186289,4.384740259740259,4.357142857142857,4.173410404624278,4.416452442159383,4.703389830508475,4.502832861189802,4.295154185022026,4.015151515151516,3.8756345177664975,4.505050505050505,4.364963503649635,4.643884892086331,4.096774193548387,3.97,4.055813953488372,4.1146666666666665,4.6576200417536535,4.176470588235294,3.9567099567099566,4.927579365079365,4.258687258687258,4.380530973451328,4.848993288590604,4.649553571428571,4.58659217877095,4.209302325581396,4.121875,3.8358208955223883,4.486024844720497,4.5,4.401146131805158,4.137055837563452,3.8496,4.370157819225251,5.072072072072072,4.557471264367816,4.193262411347518,4.401263823064771,4.374358974358974,4.305954825462012,4.409774436090226,4.625978090766823,4.682403433476395,4.197718631178708,3.9206642066420665,4.344306049822064,4.575757575757576,4.366666666666666,4.264596273291925,4.894514767932489,4.257142857142857,4.095375722543353,4.738786279683377,4.064171122994653,4.809523809523809,4.610032362459547,4.408163265306122,4.518105849582173,4.797235023041475,4.4576271186440675,4.139479905437352,4.115,4.596837944664031,3.909502262443439,4.775,4.6719242902208205,4.333333333333333,4.670807453416149,4.446859903381642,4.400735294117647,3.9425,4.866028708133971,4.617647058823529,4.246696035242291,4.698019801980198,4.195710455764075,4.3583138173302105,5.0588235294117645,4.573732718894009,4.684210526315789,4.1647058823529415,4.672995780590718,4.747126436781609,3.7639553429027113,4.674242424242424,4.188940092165899,3.9367088607594938,4.955357142857143,4.4655172413793105,4.2133891213389125,4.163179916317992,4.369449378330373,4.189285714285714,4.232067510548523,4.708937198067633,4.233618233618234,4.301218161683278,4.423140495867768,4.255369928400954,4.254681647940075,4.62303664921466,4.182640144665461,3.7471264367816093,3.9788617886178863,4.33419689119171,4.2165605095541405,4.152073732718894,5.232931726907631,4.427215189873418,4.2395209580838324,4.37015503875969,4.186379928315413,4.445205479452055,3.745614035087719,4.25,4.382758620689655,3.946067415730337,4.087323943661972,3.8875,4.93418647166362,4.340764331210191,4.422727272727273,4.1981566820276495,4.40041928721174,4.524590163934426,4.497041420118343,4.6047197640118,4.387096774193548,4.390625,4.701986754966887,4.358974358974359,4.374193548387097,4.205250596658711,4.275974025974026,4.448979591836735,4.752077562326869,4.3215926493108725,4.402439024390244,4.32156862745098,4.654958677685951,4.5799256505576205,3.8892857142857142,4.587209302325581,3.92,4.184873949579832,4.454248366013072,4.689655172413793,4.7685589519650655,4.305343511450381,3.6566265060240966,4.603644646924829,3.983695652173913,4.643002028397566,4.685546875,4.538834951456311,4.294243070362473,4.231578947368421,4.5947867298578196,4.517034068136272,4.388888888888889,4.430232558139535,4.814024390243903,3.9324324324324325,4.430962343096234,4.291457286432161,4.472759226713532,4.149425287356322,4.659016393442623,3.9683257918552037,4.52317880794702,4.14878892733564,4.616336633663367,3.7520661157024793,4.258687258687258,4.484210526315789,4.267281105990784,4.280922431865828,4.76158940397351,4.142465753424657,4.621428571428571,3.9676375404530746,4.529411764705882,4.0951374207188165,4.25,4.007534983853606,4.254992319508449,4.574380165289257,4.816964285714286,4.303030303030303,4.216931216931217,4.576655052264808,4.48,4.1981566820276495,4.4226190476190474,4.3963133640553,4.327561327561328,4.2368421052631575,4.403225806451613,4.185185185185185,4.334719334719335,4.122549019607843,4.338235294117647,4.388140161725067,3.9817518248175183,4.700826446280992,4.685636856368563,4.380952380952381,4.375,3.9224952741020793,4.258760107816712,4.255102040816326,3.966903073286052,4.67654986522911,4.867036011080333,4.483516483516484,4.111328125,4.184959349593496,4.84115523465704,4.248397435897436,3.8954545454545455,4.222672064777328,3.9566787003610107,4.517857142857143,4.036842105263158,4.2414772727272725,4.699507389162561,4.400584795321637,4.626984126984127,4.286995515695067,4.376093294460642,4.718676122931442,4.714876033057851,4.4588441330998245,4.009104704097117,4.466403162055336,4.307479224376731,4.850220264317181,4.568452380952381,4.108585858585859,3.6194225721784776,3.8550724637681157,4.378306878306878,4.250696378830083,4.720812182741117,4.113178294573643,4.1484375,4.364372469635628,4.051546391752577,4.688836104513064,4.309782608695652,4.563926940639269,4.572368421052632,3.9308035714285716,4.481566820276497,4.180811808118081,4.517543859649122,4.432203389830509,4.142857142857143,4.430508474576271,3.89662027833002,3.9978494623655916,4.361290322580645,4.2304147465437785,4.096192384769539,4.2764423076923075,4.385869565217392,4.825795644891122,4.663043478260869,4.23696682464455,4.174089068825911,4.2864238410596025,4.5739514348785875,3.9652777777777777,4.042483660130719,4.174311926605505,4.322344322344322,3.9085872576177287,4.108974358974359,4.397826086956521,4.012631578947368,4.576411960132891,4.160642570281125,3.925925925925926,3.728395061728395,4.099526066350711,4.449564134495641,4.351612903225806,4.506787330316742,4.373096446700508,4.172277227722772,4.334394904458598,4.25,4.114832535885167,4.9375,4.490765171503957,4.407862407862408,4.418181818181818,4.548543689320389,4.375,3.98050139275766,4.679586563307494,4.446236559139785,4.386759581881533,4.291139240506329,4.5658720200752825,4.271028037383178,3.9690265486725664,4.244956772334294,4.147208121827411,4.59375,4.513828238719069,4.268852459016394,4.613496932515337,4.5,4.587209302325581,4.593052109181142,4.637450199203188,4.092,4.381856540084388,4.655172413793103,4.491289198606272,4.547738693467337,5.2153846153846155,4.128440366972477,4.633802816901408,4.378048780487805,4.1380952380952385,4.346076458752515,4.107438016528926,4.3517241379310345,4.371212121212121,3.8698481561822127,4.674255691768827,4.43640897755611,4.366666666666666,4.276283618581907,4.493569131832797,4.2773722627737225,4.398058252427185,4.067961165048544,4.186440677966102,4.497267759562842,4.252821670428894,4.219178082191781,4.216606498194946,3.899193548387097,4.916455696202532,4.298429319371728,4.443786982248521,4.2799352750809065,4.240196078431373,4.411071849234394,4.489208633093525,4.598070739549839,4.904494382022472,3.808219178082192,4.327217125382263,3.9583333333333335,4.74251497005988,3.991111111111111,4.340567612687813,4.301282051282051,4.129251700680272,4.579787234042553,4.4063745019920315,4.1888297872340425,4.296296296296297,3.956989247311828,4.125899280575539,4.239700374531835,4.227906976744186,4.3244444444444445,4.472934472934473,4.069387755102041,4.263803680981595,4.458987783595114,4.882352941176471,4.0927152317880795,4.124542124542124,4.774744027303754,4.316770186335404,4.460280373831775,3.9885496183206106,4.214847161572052,4.55,4.523985239852398,4.100574712643678,4.232456140350878,4.240259740259741,4.3351851851851855,4.126436781609195,4.601226993865031,3.768924302788845,4.461734693877551,5.050739957716702,4.556451612903226,4.294736842105263,4.238907849829351,4.530952380952381,4.535714285714286,4.405405405405405,3.779840848806366,4.138297872340425,4.73396674584323,4.334170854271357,4.609452736318408,4.145408163265306,4.514071294559099,4.509401709401709,4.780172413793103,4.288732394366197,4.560344827586207,4.040419161676646,4.446043165467626,4.250544662309368,3.9204152249134947,4.220524017467249,4.482142857142857,3.7945205479452055,3.981418918918919,4.122762148337596,5.172297297297297,4.180365296803653,4.790960451977401,4.365137614678899,4.640569395017794,4.4926108374384235,3.8925925925925924,3.8713235294117645,4.447916666666667,4.921529175050302,4.826241134751773,4.891304347826087,4.573849878934625,4.282907662082515,4.522962962962963,4.645593869731801,4.637065637065637,4.311377245508982,3.976038338658147,4.654008438818566,4.051813471502591,4.132315521628499,4.048951048951049,4.211576846307385,4.672645739910314,4.479674796747967,4.29923273657289,4.322701688555347,4.487684729064039,4.622641509433962,4.364406779661017,4.2667313288069835,4.498371335504886,3.8353909465020575,5.079710144927536,4.078286558345643,4.614102564102564,4.186915887850467,4.526923076923077,4.087267525035766,4.380634390651085,4.225316455696203,4.591549295774648,4.156488549618321,4.211764705882353,4.0852130325814535,4.454697986577181,4.624324324324324,3.7688888888888887,4.0,4.337807606263982,4.274368231046932,3.986842105263158,3.962962962962963,4.59228650137741,4.478328173374613,4.363309352517986,4.244131455399061,4.408256880733945,4.384868421052632,4.310714285714286,4.479245283018868,3.8878205128205128,4.038659793814433,4.096885813148789,4.5,4.188607594936709,4.656891495601173,4.286723163841808,4.101809954751131,4.295871559633028,4.1386666666666665,4.021897810218978,4.2382851445663015,4.03062787136294,4.116883116883117,4.568238213399503,4.726923076923077,4.376595744680851,4.024456521739131,4.350453172205438,4.504237288135593,4.008333333333334,4.121428571428571,4.381944444444445,4.318367346938776,5.084057971014492,4.365426695842451,3.981651376146789,3.6802325581395348,4.596244131455399,5.014553014553014,4.355371900826446,4.2533849129593815,4.309278350515464,4.429054054054054,4.239740820734341,4.56,4.197101449275363,4.264705882352941,4.23110151187905,3.9242761692650334,4.551440329218107,4.412256267409471,4.522388059701493,3.997955010224949,4.552380952380952,4.455650060753341,4.474226804123711,4.2587268993839835,4.446153846153846,4.508298755186722,4.3812154696132595,4.4603174603174605,3.8776978417266186,4.479411764705882,4.85064935064935,3.9505813953488373,3.8616504854368934,4.398406374501992,4.082089552238806,4.301204819277109,4.164383561643835,4.523041474654378,4.51051051051051,4.357976653696498,4.449908925318762,4.375661375661376,4.071111111111111,4.553264604810996,3.8957654723127035,4.436190476190476,4.133333333333334,4.808743169398907,4.403800475059382,4.099662162162162,4.449908925318762,4.23125,4.362637362637362,4.365853658536586,4.264236902050114,4.587719298245614,4.530266343825666,4.414798206278027,4.822115384615385,4.613186813186813,4.618266978922716,5.119402985074627,4.376327769347496,4.164685908319185,4.653284671532846,4.505952380952381,4.5227272727272725,4.445344129554656,4.565217391304348,4.5698630136986305,4.1834215167548505,4.17612293144208,4.384146341463414,4.5115384615384615,4.107843137254902,4.417751479289941,4.2200488997555015,4.432773109243698,4.65,4.55,4.266574585635359,4.4646464646464645,3.9593023255813953,4.675,4.283653846153846,4.576923076923077,4.655963302752293,4.389655172413793,4.068678459937565,4.31948565776459,3.847058823529412,4.171929824561404,4.4036697247706424,4.211594202898551,4.355902777777778,3.630081300813008,3.6073825503355703,3.875776397515528,4.495614035087719,4.619718309859155,4.6689419795221845,4.2905982905982905,3.7719714964370548,4.196428571428571,4.127272727272727,4.177184466019417,4.48068669527897,4.266949152542373,4.78125,4.221875,4.48566610455312,4.45,4.549356223175966,4.066964285714286,4.1017316017316015,4.190677966101695,3.9205658324265507,4.09919028340081,4.051428571428572,4.409090909090909,3.882978723404255,4.16588785046729,4.194196428571429,4.301158301158301,4.176237623762376,4.350980392156862,3.842233009708738,4.05511811023622,4.647058823529412,4.422600619195046,4.081081081081081,3.8257372654155497,4.684444444444445,3.9805825242718447,4.135238095238095,4.444444444444445,4.552660152008686,4.256120527306968,4.636054421768708,4.072398190045249,3.9747048903878586,4.228013029315961,4.111859838274933,4.773333333333333,4.404320987654321,4.132307692307692,4.185975609756097,3.8299319727891157,4.252631578947368,4.356115107913669,4.28411214953271,4.184100418410042,4.424379232505643,4.53411306042885,4.303514376996805,4.131050767414404,4.128164556962025,4.591954022988506,4.093596059113301,4.684210526315789,4.236111111111111,4.4974358974358974,4.385802469135802,3.8585461689587426,4.563139931740614,4.509371554575524,3.823095823095823,4.546594982078853,3.9335106382978724,4.271111111111111,4.125748502994012,4.365448504983389,3.85,4.366614664586583,3.980851063829787,4.22027972027972,4.206666666666667,4.476,4.151595744680851,4.077551020408163,4.2818003913894325,4.700884955752213,4.474613686534217,4.189134808853119,4.126050420168068,4.266423357664234,4.509036144578313,4.4383057090239415,4.367109634551495,4.361832061068703,4.214689265536723,4.420091324200913,4.391566265060241,4.344497607655502,4.067226890756302,4.372277227722773,4.21882951653944,4.4277854195323245,3.8373015873015874,4.2642642642642645,4.276595744680851,4.464788732394366,4.626794258373206,3.9271844660194173,4.397905759162303,4.37280701754386,4.529535864978903,4.571428571428571,4.916317991631799,4.830324909747293,4.336898395721925,4.581792318634424,4.145662847790508,4.610824742268041,4.115079365079365,4.349473684210526,4.415094339622642,4.469483568075117,4.605042016806722,4.8364928909952605,4.405575539568345,3.9166666666666665,4.266343825665859,4.3963133640553,4.398876404494382,4.734491315136476,4.316981132075472,4.372093023255814,4.084269662921348,4.323374340949034,4.155875299760192,4.219858156028369,4.410989010989011,4.571428571428571,4.201492537313433,4.45,4.438692098092643,4.751838235294118,4.3522727272727275,4.380487804878049,4.787735849056604,4.661111111111111,4.622895622895623,4.096479791395046,4.575342465753424,4.111111111111111,4.039719626168225,4.128777923784494,4.792207792207792,3.7710843373493974,3.624145785876993,4.183333333333334,4.517441860465116,4.144522144522145,4.3130434782608695,4.723844282238443,4.23758865248227,4.262921348314607,4.091139240506329,3.450479233226837,4.163461538461538,4.490625,4.216123499142367,4.252631578947368,4.15,4.181395348837209,5.71496062992126,4.4213197969543145,4.087040618955513,4.276595744680851,4.053691275167785,4.281818181818182,4.466374269005848,4.025078369905956,4.340080971659919,3.830258302583026,4.0308788598574825,4.090647482014388,4.129729729729729,4.3534883720930235,4.4192307692307695,4.215982721382289,4.470862470862471,4.753993610223642,4.887378640776699,4.188888888888889,4.727923627684964,4.146067415730337,4.645901639344262,4.741379310344827,3.9581056466302367,4.295748613678374,4.798319327731092,3.980456026058632,4.346153846153846,4.522641509433963,4.592465753424658,4.3056,4.6750448833034115,4.259475218658892,4.347058823529411,3.8823529411764706,4.376506024096385,4.398514851485149,4.10655737704918,4.490272373540856,5.019512195121951,3.863270777479893,4.559659090909091,4.504178272980502,4.173913043478261,4.119760479041916,3.953932584269663,4.646884272997033,4.7364016736401675,4.013888888888889,4.449392712550607,4.282798833819242,4.458563535911602,3.8434343434343434,4.191836734693878,4.424545454545455,4.318772136953955,3.9171270718232045,4.49680170575693,3.961783439490446,4.226114649681529,4.632258064516129,4.319230769230769,4.828651685393258,4.195767195767195,4.160583941605839,4.6960352422907485,4.416044776119403,4.708904109589041,3.9328,4.158064516129032,3.807272727272727,4.015686274509804,4.418118466898955,3.8680203045685277,5.306163021868787,4.254681647940075,4.244648318042813,4.503086419753086,4.294314381270903,4.701219512195122,4.195906432748538,4.959537572254336,3.924406047516199,4.3125,4.4021978021978025,4.415384615384616,3.9710610932475885,5.014869888475836,3.9175738724727838,4.730670103092783,4.138075313807532,4.651376146788991,4.19205298013245,4.0,4.154696132596685,4.522842639593908,4.316804407713499,4.6468330134357005,4.367601246105919,4.358974358974359,4.7593984962406015,4.450746268656716,3.662303664921466,4.253731343283582,3.8671875,4.385844748858448,4.666666666666667,4.220496894409938,5.2176470588235295,4.196610169491525,4.435164835164835,4.290372670807454,3.618805590851334,4.694980694980695,4.37223974763407,4.240105540897098,4.772321428571429,4.31331592689295,3.907563025210084,4.506627393225331,4.442708333333333,4.377049180327869,5.080310880829016,4.472803347280335,4.904545454545454,4.3126684636118595,4.693333333333333,4.458333333333333,3.910299003322259,4.472019464720194,4.51207729468599,5.162698412698413,4.679814385150812,4.274193548387097,4.181818181818182,4.38268156424581,4.370656370656371,4.474945533769064,4.692695214105793,4.623076923076923,4.491646778042959,4.172932330827067,4.17329093799682,4.164141414141414,4.211340206185567,4.596698113207547,3.857677902621723,4.25,4.941025641025641,4.03125,4.185567010309279,4.1658536585365855,4.109177215189874,4.563182527301092,4.372693726937269,4.089820359281437,4.701657458563536,4.578151260504201,4.409090909090909,3.5555555555555554,4.101190476190476,4.369747899159663,4.172185430463577,4.186046511627907,4.3842592592592595,4.537473233404711,4.220982142857143,4.282442748091603,4.492857142857143,5.0476190476190474,4.116030534351145,4.309523809523809,4.111613876319758,3.8310185185185186,4.432525951557094,3.8511326860841426,4.35064935064935,3.877384196185286,4.798882681564246,4.385964912280702,4.812366737739872,4.228813559322034,4.2611940298507465,4.237012987012987,4.37791932059448,4.402061855670103,4.423913043478261,3.973166368515206,4.172413793103448,4.642091152815014,4.701005025125628,4.0050293378038555,3.9491525423728815,4.45819397993311,4.302600472813239,4.6048780487804875,4.689788053949903,4.405764966740577,4.405189620758483,4.2926829268292686,4.235416666666667,4.109452736318408,4.419525065963061,4.76605504587156,4.5325,4.18075117370892,4.423487544483986,4.6976744186046515,4.328282828282828,4.254464285714286,4.379727685325265,4.258373205741627,4.664233576642336,4.4727722772277225,4.365963855421687,4.232769830949285,4.314285714285714,4.16991643454039,4.10337552742616,4.233463035019455,4.462962962962963,4.319277108433735,4.312182741116751,3.809968847352025,4.52755905511811,4.497227356746765,3.88544474393531,4.212025316455696,4.659919028340081,4.432762836185819,4.333910034602076,4.466292134831461,4.799295774647887,3.6904761904761907,4.204892966360856,4.121412803532009,4.254901960784314,3.85625,4.552112676056338,3.965376782077393,4.452593917710197,4.358851674641149,4.6032315978456015,4.3264462809917354,5.004424778761062,4.086560364464693,4.096952908587258,4.475750577367205,5.349809885931559,4.484210526315789,4.458049886621315,4.27027027027027,4.445026178010472,4.246753246753247,4.240322580645161,4.3583138173302105,4.155963302752293,3.956777996070727,4.238421955403087,4.486005089058525,4.9875173370319,4.419354838709677,3.776923076923077,4.259345794392523,4.400966183574879,4.658402203856749,4.323943661971831,4.086124401913875,4.2151394422310755,3.8751033912324235,4.3356890459363955,4.411483253588517,4.1959798994974875,4.369469026548672,4.639112903225806,3.987704918032787,4.554817275747508,4.337078651685394,4.604385128693994,4.095108695652174,4.623333333333333,5.084832904884319,4.1223776223776225,4.459016393442623,3.8979253112033194,4.659937888198757,4.411877394636015,3.9714714714714714,4.431603773584905,4.333333333333333,4.318618042226488,4.2425,4.782520325203252,4.667224080267559,3.8700564971751414,4.833333333333333,4.725581395348837,4.2,4.390715667311412,4.150837988826815,4.04,4.555299539170507,4.100478468899522,3.752032520325203,4.051779935275081,4.1260683760683765,4.597894736842106,4.515923566878981,4.188279301745636,4.211864406779661,4.674496644295302,4.275862068965517,4.471971066907776,4.322751322751323,4.146718146718147,4.141818181818182,4.259146341463414,4.243654822335025,3.7103004291845494,4.153846153846154,4.644012944983818,4.238993710691824,4.506988564167726,4.483870967741935,3.4262295081967213,4.468036529680365,4.285714285714286,4.01953125,4.3276955602537,4.1521739130434785,4.4772727272727275,4.479351032448378,4.154929577464789,4.38013698630137,4.130822596630327,4.372596153846154,4.452229299363057,4.447916666666667,4.955489614243324,4.089403973509934,4.1260683760683765,4.481675392670157,4.5036496350364965,3.7212713936430317,4.265546218487395,4.465116279069767,3.9390444810543657,4.661064425770308,4.330152671755725,4.406749555950267,4.020408163265306,4.151515151515151,4.70995670995671,4.288135593220339,4.284153005464481,4.35531914893617,4.464447806354009,3.9275862068965517,4.287581699346405,4.26643598615917,4.331713244228433,4.128664495114006,4.4576271186440675,4.069105691056911,4.243639921722114,4.26551724137931,4.660933660933661,4.26963906581741,4.5162162162162165,4.515759312320917,4.238095238095238,4.526539278131635,4.820388349514563,5.013333333333334,4.748161764705882,4.120643431635389,4.274131274131274,4.113013698630137,4.54054054054054,4.372960372960373,4.343220338983051,4.175,4.36,4.2481203007518795,3.8954635108481264,4.849593495934959,4.4375,4.595,4.70925925925926,4.76978417266187,3.5864864864864865,4.462235649546828,4.457831325301205,4.390374331550802,4.25752508361204,4.5517970401691334,4.208,4.2567164179104475,4.43035343035343,4.286885245901639,4.241116751269035,4.134513274336284,4.131372549019608,3.9367396593673964,4.448669201520913,4.487528344671202,4.268929503916449,4.198776758409786,4.683602771362587,4.247232472324724,4.616954474097331,4.6725,4.530666666666667,4.155339805825243,4.486363636363636,4.073120494335736,3.967741935483871,4.292585170340681,4.334905660377358,4.515060240963855,4.373177842565598,4.959558823529412,4.357758620689655,4.386058981233244,5.111111111111111,4.299134734239802,3.99548532731377,4.343558282208589,4.118556701030927,4.2562277580071175,4.153543307086614,4.4044665012406945,4.037878787878788,4.137820512820513,3.7974683544303796,4.395161290322581,4.300719424460432,4.043829296424452,4.284253578732106,4.560137457044673,4.47011952191235,4.944976076555024,4.292929292929293,3.8076923076923075,3.8409475465313028,4.793939393939394,4.182539682539683,4.093299406276506,4.570754716981132,4.550580431177446,4.53250773993808,4.421303656597774,4.170940170940171,4.475120385232745,4.1655629139072845,4.499105545617174,4.183006535947713,4.806451612903226,4.2620689655172415,4.567164179104478,4.318181818181818,4.648550724637682,4.551155115511551,4.187311178247734,4.23125,3.817351598173516,4.673417721518987,4.341269841269841,4.148936170212766,4.727536231884058,4.1988795518207285,4.27103825136612,4.4,4.5575,4.352697095435684,4.039755351681957,4.241584158415842,4.669509594882729,4.337349397590361,3.931451612903226,4.517175572519084,4.639097744360902,4.077702702702703,4.810126582278481,4.222689075630252,4.543985637342908,4.04323570432357,4.39225181598063,4.402298850574713,4.492063492063492,4.197560975609756,5.060759493670886,4.470703125,4.757709251101321,4.3903394255874675,4.587467362924282,4.521327014218009,4.727528089887641,4.3993993993994,4.048484848484849,4.331623931623931,4.023850085178876,4.661616161616162,4.733727810650888,4.621951219512195,4.267605633802817,4.052,4.382671480144404,4.293069306930693,4.177290836653387,4.856725146198831,3.972972972972973,4.492682926829269,4.450909090909091,4.403225806451613,4.0699774266365685,4.789237668161435,3.857142857142857,4.320284697508897,4.382585751978892,4.347107438016529,4.134649910233393,4.075187969924812,4.7540229885057474,4.544600938967136,4.12756264236902,4.186851211072664,4.466386554621849,3.860215053763441,4.41044776119403,4.339788732394366,4.206666666666667,4.007299270072993,4.0,4.47887323943662,3.9516129032258065,5.048780487804878,4.45662100456621,4.380165289256198,4.512534818941504,4.474074074074074,4.972,4.096103896103896,3.941724941724942,4.548628428927681,4.063157894736842,4.276872964169381,4.15014164305949,4.674568965517241,3.942528735632184,4.235392320534224,4.050279329608938,4.537340619307832,3.9019607843137254,4.186528497409326,4.688524590163935,3.981042654028436,4.418461538461538,3.96875,4.505434782608695,4.36231884057971,3.9725274725274726,4.251585623678647,4.700564971751413,4.169767441860465,4.608349900596422,4.0729411764705885,4.158436213991769,4.1558441558441555,5.229050279329609,4.829073482428115,5.177339901477833,4.287009063444109,4.275109170305677,3.9767441860465116,3.84,4.095709570957096,4.164864864864865,4.851010101010101,4.240196078431373,4.3283395755305865,4.2100840336134455,4.4601398601398605,4.298013245033113,4.043781094527363,4.255813953488372,4.2110091743119265,4.587662337662338,4.446107784431137,4.322727272727272,4.222614840989399,3.889473684210526,4.669811320754717,4.849906191369606,4.393401015228426,4.7407407407407405,3.9830246913580245,5.075342465753424,4.603563474387528,4.306620209059234,4.534510433386838,4.125523012552302,4.163265306122449,4.017073170731707,4.0272108843537415,4.7694117647058825,3.925438596491228,4.463356973995272,4.355179704016913,4.646464646464646,4.702031602708804,4.0638297872340425,5.1534391534391535,4.583126550868486,3.865079365079365,4.4628422425032594,4.001709401709402,4.5327102803738315,4.444177671068427,4.504559270516717,3.901554404145078,4.448398576512456,4.765342960288809,4.483660130718954,4.219325153374233,4.104651162790698,4.591752577319587,4.4525139664804465,4.258160237388724,4.235294117647059,3.9347826086956523,4.2669172932330826,4.086741016109046,3.890909090909091,4.221662468513854,4.212806026365349,4.49906191369606,4.176848874598071,4.529715762273902,4.075055187637969,4.48792270531401,4.7657657657657655,4.091139240506329,3.9776951672862455,3.578358208955224,4.6007067137809186,4.159836065573771,4.348837209302325,4.439918533604888,3.9583333333333335,4.5588235294117645,5.318518518518519,4.03386454183267,4.3097345132743365,4.073913043478261,3.982843137254902,4.269360269360269,4.407079646017699,4.052147239263804,4.447204968944099,4.810457516339869,4.79646017699115,4.371868978805395,4.290364583333333,3.9194139194139193,4.389908256880734,4.725947521865889,4.012195121951219,4.5,4.603658536585366,4.804093567251462,4.04093567251462,4.381147540983607,4.5978378378378375,4.685224839400428,4.272289156626506,4.233333333333333,5.250696378830083,4.2578740157480315,4.455307262569832,4.392655367231638,4.116923076923077,3.810909090909091,4.396825396825397,5.074829931972789,4.247058823529412,4.21505376344086,4.3563829787234045,4.294478527607362,4.392764857881137,4.917383820998279,4.304347826086956,4.142465753424657,4.218527315914489,4.806215722120658,4.504966887417218,4.074018126888218,4.789674952198853,4.528112449799197,4.539130434782609,4.230392156862745,4.2,3.929411764705882,4.22212543554007,4.342526690391459,4.640625,4.823529411764706,4.397849462365591,4.494011976047904,3.9617706237424546,4.055944055944056,4.28328611898017,4.200286123032904,4.771111111111111,4.730769230769231,4.7905236907730675,4.885209713024283,3.915204678362573,4.235494880546075,4.262886597938144,4.622589531680441,3.699074074074074,4.32300163132137,4.247706422018348,4.50531914893617,4.591254752851711,4.552901023890785,3.998583569405099,4.805,4.401384083044983,4.853300733496333,3.91,3.88,4.370165745856354,4.060483870967742,4.079861111111111,4.468634686346864,4.298050139275766,4.06280193236715,4.4576271186440675,4.376753507014028,4.121495327102804,4.615537848605578,4.444444444444445,4.318918918918919,5.339066339066339,4.518518518518518,4.203636363636364,4.283236994219653,4.584269662921348,4.155143338954469,4.169312169312169,4.070866141732283,4.047169811320755,4.017182130584192,4.655172413793103,4.31390977443609,5.143540669856459,4.149659863945578,3.7204301075268815,4.379790940766551,4.606060606060606,4.152439024390244,4.1910331384015596,4.0,4.572446555819478,4.34119782214156,4.5,4.501374885426214,4.876190476190477,4.305660377358491,4.424460431654676,4.2592592592592595,3.7592024539877302,4.788177339901478,3.8469135802469134,4.4873096446700504,4.099099099099099,4.607017543859649,4.467741935483871,4.333333333333333,3.756521739130435,3.9074626865671642,4.131707317073171,4.051851851851852,4.240105540897098,4.661016949152542,4.158924205378973,4.472,4.120689655172414,4.361486486486487,4.108843537414966,4.318007662835249,3.946524064171123,4.338983050847458,4.472402597402597,4.928213689482471,4.086792452830188,4.234741784037559,4.713541666666667,4.098092643051771,4.735357917570499,4.361963190184049,4.267806267806268,4.482352941176471,4.187279151943463,4.171079429735234,4.02076124567474,4.467741935483871,4.424,4.719806763285024,4.380499405469679,4.852822580645161,4.68448275862069,4.4463373083475295,4.37109375,3.9911504424778763,4.377483443708609,4.546325878594249,4.367906066536204,4.158653846153846,4.236902050113895,4.059674502712477,4.597183098591549,4.015527950310559,4.550264550264551,3.8722826086956523,3.887719298245614,4.493801652892562,4.688976377952756,4.138983050847457,4.381625441696113,4.339572192513369,4.67003367003367,3.81592039800995,4.566037735849057,4.085631349782293,5.100346020761246,4.248322147651007,4.302788844621514,4.786458333333333,4.150390625,4.451724137931034,4.349056603773585,4.936619718309859,4.365795724465558,4.193939393939394,4.2018779342723,4.052307692307692,3.973293768545994,4.82051282051282,4.238255033557047,3.983833718244804,4.383125864453666,4.189830508474576,4.894495412844036,4.126760563380282,4.746478873239437,4.2387267904509285,3.909547738693467,4.65625,4.558490566037736,4.86031746031746,4.146236559139785,3.8580121703853956,4.12962962962963,4.125703564727955,4.213768115942029,4.16919191919192,4.214953271028038,4.539748953974895,4.4389002036659875,4.759825327510917,4.149722735674676,4.1515601783060925,4.4329183955739975,3.981060606060606,4.593959731543624,4.488245931283906,4.109022556390977,4.51,4.776357827476039,4.582677165354331,4.2677966101694915,4.344660194174757,4.738072054527751,3.894047619047619,4.246875,4.266666666666667,3.9175824175824174,4.198080279232112,4.70703125,4.6570247933884295,4.386363636363637,4.263269639065817,4.5237113402061855,4.744471744471745,4.183333333333334,4.652298850574713,4.2742155525238745,4.363874345549738,4.695652173913044,4.338501291989664,3.986754966887417,4.4358353510895885,4.622250970245796,4.65606936416185,4.312741312741313,4.900462962962963,4.1735751295336785,4.279494382022472,4.2592592592592595,4.311154598825832,4.56282722513089,3.91005723630417,5.260536398467433,4.428169014084507,4.528428093645485,4.472222222222222,4.473404255319149,4.100112485939258,4.647272727272727,4.609958506224066,4.333333333333333,4.506711409395973,4.672064777327935,4.304721030042918,4.082508250825082,3.8260869565217392,4.038216560509555,4.213114754098361,4.300724637681159,4.666666666666667,4.470664928292047,4.1826923076923075,4.397183098591549,4.346067415730337,4.6563573883161515,4.045138888888889,4.494736842105263,4.0,4.5186335403726705,4.247218788627936,3.8129496402877696,4.926356589147287,4.631736526946108,4.282913165266106,4.006015037593985,4.183183183183183,4.089385474860335,4.388145315487572,4.483636363636363,4.4296875,4.828810020876826,4.235867446393762,4.468493150684932,4.558282208588957,4.055555555555555,4.821554770318021,4.104602510460251,4.332225913621262,4.162100456621005,4.19434628975265,4.914765906362545,4.487234042553191,4.361111111111111,4.252225519287834,4.052572706935123,4.511669658886894,4.113725490196078,4.43859649122807,4.1350681536555145,4.858895705521473,4.410339256865913,3.96875,4.26123595505618,4.126609442060086,3.871345029239766,4.1,4.464601769911504,4.380782918149467,4.209445585215605,4.484633569739953,4.647985989492119,3.8956043956043955,4.315270935960591,3.838709677419355,4.2746268656716415,4.298555377207062,4.763406940063091,4.196428571428571,4.485169491525424,4.373737373737374,4.2988505747126435,4.583333333333333,4.3405172413793105,4.263636363636364,4.584589614740368,4.45303867403315,4.18135593220339,4.294566253574833,4.075822603719599,4.922509225092251,4.368770764119601,4.50728862973761,4.402332361516035,4.25,4.295194508009153,4.145214521452146,4.466314398943197,4.0926573426573425,4.53864168618267,4.80865224625624,4.46215139442231,4.07361963190184,4.027510316368638,4.501945525291829,4.270315091210613,4.1625,4.740437158469946,4.312796208530806,4.635245901639344,3.7861885790172645,4.4375,3.8883720930232557,4.28023598820059,4.507299270072993,4.086705202312139,4.021042084168337,4.054945054945055,4.677966101694915,4.474683544303797,4.584615384615384,3.995145631067961,4.239316239316239,3.991166077738516,4.476063829787234,3.931972789115646,4.304424778761062,4.038860103626943,4.372023809523809,4.146964856230032,4.8864059590316575,4.612546125461255,4.054945054945055,3.9300291545189503,4.694200351493849,4.819383259911894,4.48578811369509,4.2,3.66006600660066,4.161290322580645,4.17741935483871,3.877049180327869,4.47834274952919,4.663157894736842,4.679389312977099,4.030821917808219,4.35,3.944,4.488495575221239,4.319587628865979,4.206896551724138,5.140472878998609,4.558282208588957,4.687323943661972,4.291588785046729,4.716077537058153,3.9931662870159452,4.349397590361446,4.073359073359073,4.480808080808081,4.605978260869565,4.34375,3.6416819012797075,4.629893238434164,4.352112676056338,4.474025974025974,4.537037037037037,4.177615571776156,4.030534351145038,4.260780287474333,4.159722222222222,4.5418250950570345,4.111688311688312,4.239894551845342,4.231046931407942,4.147058823529412,4.15954415954416,3.9102902374670183,3.9836065573770494,4.390776699029126,4.128333333333333,3.878260869565217,4.466666666666667,4.137291280148423,4.223905723905724,4.100671140939597,4.345771144278607,4.488054607508532,4.287461773700306,4.363112391930835,4.398773006134969,4.188235294117647,4.470997679814385,4.3310580204778155,4.960698689956332,4.1875,4.581516095534787,4.269268292682927,4.157323688969258,4.5196506550218345,4.810309278350515,4.141791044776119,4.647302904564316,4.38135593220339,4.0201149425287355,4.2045929018789145,4.559297218155198,4.827751196172249,4.230314960629921,4.01980198019802,4.423184357541899,4.177615571776156,4.148337595907928,4.487912087912088,4.378947368421053,5.136476426799008,4.044943820224719,4.279017857142857,4.431297709923665,4.943217665615142,4.0603371783496005,4.665226781857451,4.141483516483516,4.276357827476039,4.495798319327731,4.418326693227091,4.26890756302521,4.524489795918368,4.467718794835007,4.6073354908306365,4.327548806941432,4.389078498293515,3.891941391941392,4.287037037037037,4.096969696969697,4.415094339622642,4.692771084337349,4.699612403100775,4.256024096385542,4.014117647058823,4.258426966292135,3.9342465753424656,4.24582338902148,4.056980056980057,4.156818181818182,4.684523809523809,4.532921810699588,4.285714285714286,4.095029239766082,4.559870550161812,3.9392712550607287,4.429799426934097,4.298879202988792,4.294388224471021,3.6904761904761907,4.70957095709571,4.454128440366972,4.316146540027137,4.0339943342776206,4.00561797752809,4.640804597701149,4.154088050314465,4.2373371924746746,4.149553571428571,5.111510791366906,4.1797385620915035,4.55793991416309,4.661885245901639,4.201421800947867,4.665760869565218,4.32063492063492,4.742957746478873,4.505944517833553,4.377521613832853,3.3577235772357725,5.239089184060721,4.107142857142857,4.530172413793103,4.260340632603406,4.166332665330661,4.547872340425532,4.068181818181818,4.550935550935551,4.445121951219512,3.676470588235294,4.330218068535825,4.0212765957446805,4.205078125,4.397014925373134,4.3902097902097905,4.6370023419203745,4.069852941176471,4.958823529411765,4.185915492957746,4.650793650793651,4.18688524590164,4.420401854714065,4.123056994818653,4.340425531914893,4.565789473684211,4.838971583220569,4.173469387755102,4.488095238095238,4.572597137014315,3.8340192043895747,4.546184738955823,4.528925619834711,4.447457627118644,4.145661157024794,4.099307159353349,3.8841567291311754,4.1923076923076925,4.611532625189682,4.3983739837398375,4.802752293577981,4.19723865877712,4.6220839813374806,4.140186915887851,4.159392789373814,4.651219512195122,4.328260869565217,4.194339622641509,3.8363636363636364,4.37696335078534,4.318965517241379,4.523076923076923,4.429906542056075,4.368663594470046,4.3577981651376145,4.634703196347032,5.440963855421686,4.364431486880466,4.514150943396227,4.556156968876861,4.621749408983452,4.373809523809523,4.58273381294964,4.154661016949152,3.9285714285714284,4.654411764705882,4.490066225165563,4.314903846153846,3.9757575757575756,4.221052631578948,3.8223938223938223,4.561497326203209,4.540284360189573,4.221902017291066,4.691335740072202,4.906810035842294,4.806267806267806,3.891117478510029,3.8256227758007118,4.304029304029304,4.65929203539823,4.237288135593221,4.374149659863946,4.405038759689923,4.3474576271186445,4.18448275862069,4.17948717948718,4.289308176100629,4.254966887417218,4.233050847457627,4.042207792207792,4.0,4.789090909090909,4.150735294117647,3.857142857142857,4.779863481228669,4.723378212974296,4.842990654205607,4.662337662337662,4.096698113207547,4.016691957511381,4.614100185528757,4.590604026845638,4.62280701754386,4.24793388429752,4.393772893772894,4.761220825852782,4.606741573033708,4.386486486486486,4.420634920634921,4.351851851851852,4.299145299145299,4.372037914691943,4.481561822125814,4.378099173553719,4.2421875,4.455089820359281,4.046992481203008,4.783132530120482,4.533632286995516,4.384615384615385,3.5886524822695036,4.681908548707754,3.990990990990991,4.173469387755102,3.847058823529412,4.443502824858757,4.023460410557185,4.390769230769231,4.822222222222222,4.606217616580311,4.2215189873417724,4.061046511627907,4.687361419068736,4.741758241758242,5.066225165562914,4.628205128205129,4.778074866310161,4.130268199233717,4.644100580270793,4.105633802816901,4.245524296675192,3.8763197586727,4.356687898089172,4.052459016393443,4.232758620689655,4.471111111111111,4.174019607843137,4.113496932515337,4.372395833333333,4.567723342939481,4.426666666666667,4.273453093812376,4.177865612648222,3.8364779874213837,4.756880733944954,4.1461538461538465,4.004966887417218,4.525121555915721,4.746621621621622,4.014652014652015,4.122257053291536,4.16243654822335,4.002570694087404,4.847490347490347,5.097701149425287,4.783783783783784,3.988888888888889,4.033950617283951,4.116554054054054,4.080729166666667,3.869369369369369,4.464968152866242,4.3122171945701355,4.690677966101695,4.473214285714286,4.047826086956522,4.819444444444445,4.379501385041551,4.94300518134715,4.56188605108055,4.193370165745856,4.169291338582677,4.481981981981982,4.64906103286385,4.863888888888889,4.570484581497797,4.067796610169491,4.25706940874036,4.295819935691318,4.323170731707317,3.8461538461538463,4.191616766467066,4.534267912772585,4.251063829787234,4.419047619047619,4.380952380952381,4.4006410256410255,4.25,4.365019011406844,4.435754189944134,4.587096774193548,4.0505836575875485,4.547058823529412,4.313479623824452],\"xaxis\":\"x2\",\"yaxis\":\"y2\",\"type\":\"box\"}],                        {\"template\":{\"data\":{\"barpolar\":[{\"marker\":{\"line\":{\"color\":\"rgb(17,17,17)\",\"width\":0.5},\"pattern\":{\"fillmode\":\"overlay\",\"size\":10,\"solidity\":0.2}},\"type\":\"barpolar\"}],\"bar\":[{\"error_x\":{\"color\":\"#f2f5fa\"},\"error_y\":{\"color\":\"#f2f5fa\"},\"marker\":{\"line\":{\"color\":\"rgb(17,17,17)\",\"width\":0.5},\"pattern\":{\"fillmode\":\"overlay\",\"size\":10,\"solidity\":0.2}},\"type\":\"bar\"}],\"carpet\":[{\"aaxis\":{\"endlinecolor\":\"#A2B1C6\",\"gridcolor\":\"#506784\",\"linecolor\":\"#506784\",\"minorgridcolor\":\"#506784\",\"startlinecolor\":\"#A2B1C6\"},\"baxis\":{\"endlinecolor\":\"#A2B1C6\",\"gridcolor\":\"#506784\",\"linecolor\":\"#506784\",\"minorgridcolor\":\"#506784\",\"startlinecolor\":\"#A2B1C6\"},\"type\":\"carpet\"}],\"choropleth\":[{\"colorbar\":{\"outlinewidth\":0,\"ticks\":\"\"},\"type\":\"choropleth\"}],\"contourcarpet\":[{\"colorbar\":{\"outlinewidth\":0,\"ticks\":\"\"},\"type\":\"contourcarpet\"}],\"contour\":[{\"colorbar\":{\"outlinewidth\":0,\"ticks\":\"\"},\"colorscale\":[[0.0,\"#0d0887\"],[0.1111111111111111,\"#46039f\"],[0.2222222222222222,\"#7201a8\"],[0.3333333333333333,\"#9c179e\"],[0.4444444444444444,\"#bd3786\"],[0.5555555555555556,\"#d8576b\"],[0.6666666666666666,\"#ed7953\"],[0.7777777777777778,\"#fb9f3a\"],[0.8888888888888888,\"#fdca26\"],[1.0,\"#f0f921\"]],\"type\":\"contour\"}],\"heatmapgl\":[{\"colorbar\":{\"outlinewidth\":0,\"ticks\":\"\"},\"colorscale\":[[0.0,\"#0d0887\"],[0.1111111111111111,\"#46039f\"],[0.2222222222222222,\"#7201a8\"],[0.3333333333333333,\"#9c179e\"],[0.4444444444444444,\"#bd3786\"],[0.5555555555555556,\"#d8576b\"],[0.6666666666666666,\"#ed7953\"],[0.7777777777777778,\"#fb9f3a\"],[0.8888888888888888,\"#fdca26\"],[1.0,\"#f0f921\"]],\"type\":\"heatmapgl\"}],\"heatmap\":[{\"colorbar\":{\"outlinewidth\":0,\"ticks\":\"\"},\"colorscale\":[[0.0,\"#0d0887\"],[0.1111111111111111,\"#46039f\"],[0.2222222222222222,\"#7201a8\"],[0.3333333333333333,\"#9c179e\"],[0.4444444444444444,\"#bd3786\"],[0.5555555555555556,\"#d8576b\"],[0.6666666666666666,\"#ed7953\"],[0.7777777777777778,\"#fb9f3a\"],[0.8888888888888888,\"#fdca26\"],[1.0,\"#f0f921\"]],\"type\":\"heatmap\"}],\"histogram2dcontour\":[{\"colorbar\":{\"outlinewidth\":0,\"ticks\":\"\"},\"colorscale\":[[0.0,\"#0d0887\"],[0.1111111111111111,\"#46039f\"],[0.2222222222222222,\"#7201a8\"],[0.3333333333333333,\"#9c179e\"],[0.4444444444444444,\"#bd3786\"],[0.5555555555555556,\"#d8576b\"],[0.6666666666666666,\"#ed7953\"],[0.7777777777777778,\"#fb9f3a\"],[0.8888888888888888,\"#fdca26\"],[1.0,\"#f0f921\"]],\"type\":\"histogram2dcontour\"}],\"histogram2d\":[{\"colorbar\":{\"outlinewidth\":0,\"ticks\":\"\"},\"colorscale\":[[0.0,\"#0d0887\"],[0.1111111111111111,\"#46039f\"],[0.2222222222222222,\"#7201a8\"],[0.3333333333333333,\"#9c179e\"],[0.4444444444444444,\"#bd3786\"],[0.5555555555555556,\"#d8576b\"],[0.6666666666666666,\"#ed7953\"],[0.7777777777777778,\"#fb9f3a\"],[0.8888888888888888,\"#fdca26\"],[1.0,\"#f0f921\"]],\"type\":\"histogram2d\"}],\"histogram\":[{\"marker\":{\"pattern\":{\"fillmode\":\"overlay\",\"size\":10,\"solidity\":0.2}},\"type\":\"histogram\"}],\"mesh3d\":[{\"colorbar\":{\"outlinewidth\":0,\"ticks\":\"\"},\"type\":\"mesh3d\"}],\"parcoords\":[{\"line\":{\"colorbar\":{\"outlinewidth\":0,\"ticks\":\"\"}},\"type\":\"parcoords\"}],\"pie\":[{\"automargin\":true,\"type\":\"pie\"}],\"scatter3d\":[{\"line\":{\"colorbar\":{\"outlinewidth\":0,\"ticks\":\"\"}},\"marker\":{\"colorbar\":{\"outlinewidth\":0,\"ticks\":\"\"}},\"type\":\"scatter3d\"}],\"scattercarpet\":[{\"marker\":{\"colorbar\":{\"outlinewidth\":0,\"ticks\":\"\"}},\"type\":\"scattercarpet\"}],\"scattergeo\":[{\"marker\":{\"colorbar\":{\"outlinewidth\":0,\"ticks\":\"\"}},\"type\":\"scattergeo\"}],\"scattergl\":[{\"marker\":{\"line\":{\"color\":\"#283442\"}},\"type\":\"scattergl\"}],\"scattermapbox\":[{\"marker\":{\"colorbar\":{\"outlinewidth\":0,\"ticks\":\"\"}},\"type\":\"scattermapbox\"}],\"scatterpolargl\":[{\"marker\":{\"colorbar\":{\"outlinewidth\":0,\"ticks\":\"\"}},\"type\":\"scatterpolargl\"}],\"scatterpolar\":[{\"marker\":{\"colorbar\":{\"outlinewidth\":0,\"ticks\":\"\"}},\"type\":\"scatterpolar\"}],\"scatter\":[{\"marker\":{\"line\":{\"color\":\"#283442\"}},\"type\":\"scatter\"}],\"scatterternary\":[{\"marker\":{\"colorbar\":{\"outlinewidth\":0,\"ticks\":\"\"}},\"type\":\"scatterternary\"}],\"surface\":[{\"colorbar\":{\"outlinewidth\":0,\"ticks\":\"\"},\"colorscale\":[[0.0,\"#0d0887\"],[0.1111111111111111,\"#46039f\"],[0.2222222222222222,\"#7201a8\"],[0.3333333333333333,\"#9c179e\"],[0.4444444444444444,\"#bd3786\"],[0.5555555555555556,\"#d8576b\"],[0.6666666666666666,\"#ed7953\"],[0.7777777777777778,\"#fb9f3a\"],[0.8888888888888888,\"#fdca26\"],[1.0,\"#f0f921\"]],\"type\":\"surface\"}],\"table\":[{\"cells\":{\"fill\":{\"color\":\"#506784\"},\"line\":{\"color\":\"rgb(17,17,17)\"}},\"header\":{\"fill\":{\"color\":\"#2a3f5f\"},\"line\":{\"color\":\"rgb(17,17,17)\"}},\"type\":\"table\"}]},\"layout\":{\"annotationdefaults\":{\"arrowcolor\":\"#f2f5fa\",\"arrowhead\":0,\"arrowwidth\":1},\"autotypenumbers\":\"strict\",\"coloraxis\":{\"colorbar\":{\"outlinewidth\":0,\"ticks\":\"\"}},\"colorscale\":{\"diverging\":[[0,\"#8e0152\"],[0.1,\"#c51b7d\"],[0.2,\"#de77ae\"],[0.3,\"#f1b6da\"],[0.4,\"#fde0ef\"],[0.5,\"#f7f7f7\"],[0.6,\"#e6f5d0\"],[0.7,\"#b8e186\"],[0.8,\"#7fbc41\"],[0.9,\"#4d9221\"],[1,\"#276419\"]],\"sequential\":[[0.0,\"#0d0887\"],[0.1111111111111111,\"#46039f\"],[0.2222222222222222,\"#7201a8\"],[0.3333333333333333,\"#9c179e\"],[0.4444444444444444,\"#bd3786\"],[0.5555555555555556,\"#d8576b\"],[0.6666666666666666,\"#ed7953\"],[0.7777777777777778,\"#fb9f3a\"],[0.8888888888888888,\"#fdca26\"],[1.0,\"#f0f921\"]],\"sequentialminus\":[[0.0,\"#0d0887\"],[0.1111111111111111,\"#46039f\"],[0.2222222222222222,\"#7201a8\"],[0.3333333333333333,\"#9c179e\"],[0.4444444444444444,\"#bd3786\"],[0.5555555555555556,\"#d8576b\"],[0.6666666666666666,\"#ed7953\"],[0.7777777777777778,\"#fb9f3a\"],[0.8888888888888888,\"#fdca26\"],[1.0,\"#f0f921\"]]},\"colorway\":[\"#636efa\",\"#EF553B\",\"#00cc96\",\"#ab63fa\",\"#FFA15A\",\"#19d3f3\",\"#FF6692\",\"#B6E880\",\"#FF97FF\",\"#FECB52\"],\"font\":{\"color\":\"#f2f5fa\"},\"geo\":{\"bgcolor\":\"rgb(17,17,17)\",\"lakecolor\":\"rgb(17,17,17)\",\"landcolor\":\"rgb(17,17,17)\",\"showlakes\":true,\"showland\":true,\"subunitcolor\":\"#506784\"},\"hoverlabel\":{\"align\":\"left\"},\"hovermode\":\"closest\",\"mapbox\":{\"style\":\"dark\"},\"paper_bgcolor\":\"rgb(17,17,17)\",\"plot_bgcolor\":\"rgb(17,17,17)\",\"polar\":{\"angularaxis\":{\"gridcolor\":\"#506784\",\"linecolor\":\"#506784\",\"ticks\":\"\"},\"bgcolor\":\"rgb(17,17,17)\",\"radialaxis\":{\"gridcolor\":\"#506784\",\"linecolor\":\"#506784\",\"ticks\":\"\"}},\"scene\":{\"xaxis\":{\"backgroundcolor\":\"rgb(17,17,17)\",\"gridcolor\":\"#506784\",\"gridwidth\":2,\"linecolor\":\"#506784\",\"showbackground\":true,\"ticks\":\"\",\"zerolinecolor\":\"#C8D4E3\"},\"yaxis\":{\"backgroundcolor\":\"rgb(17,17,17)\",\"gridcolor\":\"#506784\",\"gridwidth\":2,\"linecolor\":\"#506784\",\"showbackground\":true,\"ticks\":\"\",\"zerolinecolor\":\"#C8D4E3\"},\"zaxis\":{\"backgroundcolor\":\"rgb(17,17,17)\",\"gridcolor\":\"#506784\",\"gridwidth\":2,\"linecolor\":\"#506784\",\"showbackground\":true,\"ticks\":\"\",\"zerolinecolor\":\"#C8D4E3\"}},\"shapedefaults\":{\"line\":{\"color\":\"#f2f5fa\"}},\"sliderdefaults\":{\"bgcolor\":\"#C8D4E3\",\"bordercolor\":\"rgb(17,17,17)\",\"borderwidth\":1,\"tickwidth\":0},\"ternary\":{\"aaxis\":{\"gridcolor\":\"#506784\",\"linecolor\":\"#506784\",\"ticks\":\"\"},\"baxis\":{\"gridcolor\":\"#506784\",\"linecolor\":\"#506784\",\"ticks\":\"\"},\"bgcolor\":\"rgb(17,17,17)\",\"caxis\":{\"gridcolor\":\"#506784\",\"linecolor\":\"#506784\",\"ticks\":\"\"}},\"title\":{\"x\":0.05},\"updatemenudefaults\":{\"bgcolor\":\"#506784\",\"borderwidth\":0},\"xaxis\":{\"automargin\":true,\"gridcolor\":\"#283442\",\"linecolor\":\"#506784\",\"ticks\":\"\",\"title\":{\"standoff\":15},\"zerolinecolor\":\"#283442\",\"zerolinewidth\":2},\"yaxis\":{\"automargin\":true,\"gridcolor\":\"#283442\",\"linecolor\":\"#506784\",\"ticks\":\"\",\"title\":{\"standoff\":15},\"zerolinecolor\":\"#283442\",\"zerolinewidth\":2}}},\"xaxis\":{\"anchor\":\"y\",\"domain\":[0.0,1.0],\"title\":{\"text\":\"mean_word_len\"}},\"yaxis\":{\"anchor\":\"x\",\"domain\":[0.0,0.8316],\"title\":{\"text\":\"count\"}},\"xaxis2\":{\"anchor\":\"y2\",\"domain\":[0.0,1.0],\"matches\":\"x\",\"showticklabels\":false,\"showgrid\":true},\"yaxis2\":{\"anchor\":\"x2\",\"domain\":[0.8416,1.0],\"matches\":\"y2\",\"showticklabels\":false,\"showline\":false,\"ticks\":\"\",\"showgrid\":false},\"legend\":{\"tracegroupgap\":0},\"title\":{\"text\":\"Average Word Length\"},\"barmode\":\"relative\",\"bargap\":0.2,\"font\":{\"family\":\"PT Sans\",\"size\":18,\"color\":\"#C4FEFF\"}},                        {\"responsive\": true}                    ).then(function(){\n",
              "                            \n",
              "var gd = document.getElementById('6e7701ef-0e34-4bba-881a-4818993fe47f');\n",
              "var x = new MutationObserver(function (mutations, observer) {{\n",
              "        var display = window.getComputedStyle(gd).display;\n",
              "        if (!display || display === 'none') {{\n",
              "            console.log([gd, 'removed!']);\n",
              "            Plotly.purge(gd);\n",
              "            observer.disconnect();\n",
              "        }}\n",
              "}});\n",
              "\n",
              "// Listen for the removal of the full notebook cells\n",
              "var notebookContainer = gd.closest('#notebook-container');\n",
              "if (notebookContainer) {{\n",
              "    x.observe(notebookContainer, {childList: true});\n",
              "}}\n",
              "\n",
              "// Listen for the clearing of the current output cell\n",
              "var outputEl = gd.closest('.output');\n",
              "if (outputEl) {{\n",
              "    x.observe(outputEl, {childList: true});\n",
              "}}\n",
              "\n",
              "                        })                };                            </script>        </div>\n",
              "</body>\n",
              "</html>"
            ]
          },
          "metadata": {}
        }
      ]
    },
    {
      "cell_type": "markdown",
      "source": [
        "Common Stopwords"
      ],
      "metadata": {
        "id": "fKZOqmLDuYZ7"
      }
    },
    {
      "cell_type": "code",
      "source": [
        "import nltk\n",
        "nltk.download('stopwords')"
      ],
      "metadata": {
        "colab": {
          "base_uri": "https://localhost:8080/"
        },
        "id": "MhrrA2X6u7lG",
        "outputId": "e1960b21-2037-451f-db99-cf22f1c6e682"
      },
      "execution_count": 19,
      "outputs": [
        {
          "output_type": "stream",
          "name": "stderr",
          "text": [
            "[nltk_data] Downloading package stopwords to /root/nltk_data...\n",
            "[nltk_data]   Unzipping corpora/stopwords.zip.\n"
          ]
        },
        {
          "output_type": "execute_result",
          "data": {
            "text/plain": [
              "True"
            ]
          },
          "metadata": {},
          "execution_count": 19
        }
      ]
    },
    {
      "cell_type": "code",
      "source": [
        "fig = plt.figure(figsize=(15, 5))\n",
        "\n",
        "stop_words = set(stopwords.words('english'))\n",
        "corpus = ''.join(df_train.full_text).split()\n",
        "\n",
        "dic = defaultdict(int)\n",
        "for word in corpus:\n",
        "    if word in stop_words:\n",
        "        dic[word] += 1\n",
        "top_words = sorted(dic.items(), key=lambda x:x[1], reverse=True)[:15] \n",
        "x, y = zip(*top_words)\n",
        "plt.bar(x, y)\n",
        "plt.title('Common Stopwords')\n",
        "plt.show()"
      ],
      "metadata": {
        "colab": {
          "base_uri": "https://localhost:8080/",
          "height": 0
        },
        "id": "9xHUyCj-uY-t",
        "outputId": "a831abb2-6573-4936-fa21-69cf4c15216f"
      },
      "execution_count": 20,
      "outputs": [
        {
          "output_type": "display_data",
          "data": {
            "text/plain": [
              "<Figure size 1080x360 with 1 Axes>"
            ],
            "image/png": "[encoded data removed]"
          },
          "metadata": {
            "needs_background": "light"
          }
        }
      ]
    },
    {
      "cell_type": "markdown",
      "source": [
        "Common Words"
      ],
      "metadata": {
        "id": "qjV4CHvxuceG"
      }
    },
    {
      "cell_type": "code",
      "source": [
        "fig = plt.figure(figsize=(15, 5))\n",
        "\n",
        "counter = Counter(corpus)\n",
        "words = counter.most_common()\n",
        "\n",
        "x, y = [], []\n",
        "i = 0\n",
        "for word, count in words:\n",
        "    if (word not in stop_words):\n",
        "        x.append(word)\n",
        "        y.append(count)  \n",
        "        i += 1\n",
        "    if i > 15:\n",
        "        break\n",
        "plt.bar(x, y)\n",
        "plt.title('Common Words')\n",
        "plt.show()"
      ],
      "metadata": {
        "colab": {
          "base_uri": "https://localhost:8080/",
          "height": 0
        },
        "id": "aBOoQr8wuckU",
        "outputId": "5571a8af-5d60-4892-c590-7e9fde518cf2"
      },
      "execution_count": 21,
      "outputs": [
        {
          "output_type": "display_data",
          "data": {
            "text/plain": [
              "<Figure size 1080x360 with 1 Axes>"
            ],
            "image/png": "[encoded data removed]"
          },
          "metadata": {
            "needs_background": "light"
          }
        }
      ]
    },
    {
      "cell_type": "markdown",
      "source": [
        "WordCloud"
      ],
      "metadata": {
        "id": "leSbj8JPug4G"
      }
    },
    {
      "cell_type": "code",
      "source": [
        "wordcloud = WordCloud(background_color='white', width=800, height=400).generate(''.join(df_train.full_text))\n",
        "\n",
        "plt.figure(figsize=(20, 5))\n",
        "plt.imshow(wordcloud, interpolation='bilinear')\n",
        "plt.axis(\"off\")\n",
        "plt.show()"
      ],
      "metadata": {
        "colab": {
          "base_uri": "https://localhost:8080/",
          "height": 0
        },
        "id": "kTN2dI-nuhtF",
        "outputId": "b77bfc36-7789-4e9a-b793-cf254e367ca3"
      },
      "execution_count": 22,
      "outputs": [
        {
          "output_type": "display_data",
          "data": {
            "text/plain": [
              "<Figure size 1440x360 with 1 Axes>"
            ],
            "image/png": "[encoded data removed]"
          },
          "metadata": {
            "needs_background": "light"
          }
        }
      ]
    },
    {
      "cell_type": "markdown",
      "source": [
        "2-grams Analysis"
      ],
      "metadata": {
        "id": "wVVF8Z-Guj6G"
      }
    },
    {
      "cell_type": "code",
      "source": [
        "fig = plt.figure(figsize=(15, 5))\n",
        "\n",
        "def get_top_bigrams(corpus, n):\n",
        "    vectorizer = CountVectorizer(ngram_range=(n,n)).fit(corpus)\n",
        "    bag_of_words = vectorizer.transform(corpus)\n",
        "    sum_words = bag_of_words.sum(axis=0) \n",
        "    words_freq = [(word, sum_words[0, idx]) for word, idx in vectorizer.vocabulary_.items()]\n",
        "    words_freq = sorted(words_freq, key=lambda x: x[1], reverse=True)\n",
        "    return words_freq\n",
        "\n",
        "top_bigrams = get_top_bigrams(df_train['full_text'], n=2)[:15]\n",
        "x, y = map(list, zip(*top_bigrams))\n",
        "plt.bar(x, y)\n",
        "plt.title('Top Bigrams')\n",
        "plt.xticks(rotation=90)\n",
        "plt.show()"
      ],
      "metadata": {
        "colab": {
          "base_uri": "https://localhost:8080/",
          "height": 0
        },
        "id": "5vUB6nveukX0",
        "outputId": "96ac5ac9-a59a-4286-fc20-f8b9acc13af3"
      },
      "execution_count": 23,
      "outputs": [
        {
          "output_type": "display_data",
          "data": {
            "text/plain": [
              "<Figure size 1080x360 with 1 Axes>"
            ],
            "image/png": "[encoded data removed]"
          },
          "metadata": {
            "needs_background": "light"
          }
        }
      ]
    },
    {
      "cell_type": "markdown",
      "source": [
        "# MODELING"
      ],
      "metadata": {
        "id": "kgW1DV_zAwx8"
      }
    },
    {
      "cell_type": "code",
      "source": [
        "import spacy\n",
        "\n",
        "from tqdm.notebook import tqdm\n",
        "import random\n",
        "\n",
        "from sklearn.model_selection import train_test_split"
      ],
      "metadata": {
        "id": "8pc4YAafMyRJ"
      },
      "execution_count": 24,
      "outputs": []
    },
    {
      "cell_type": "code",
      "source": [
        "import os\n",
        "import gc"
      ],
      "metadata": {
        "id": "rp_2-vC0s3oB"
      },
      "execution_count": 25,
      "outputs": []
    },
    {
      "cell_type": "code",
      "source": [
        "pip install transformers"
      ],
      "metadata": {
        "colab": {
          "base_uri": "https://localhost:8080/"
        },
        "id": "ivLWfSY_Wi9s",
        "outputId": "96a220ef-39b7-460e-c6f9-463bef3f1e47"
      },
      "execution_count": 26,
      "outputs": [
        {
          "output_type": "stream",
          "name": "stdout",
          "text": [
            "Looking in indexes: https://pypi.org/simple, https://us-python.pkg.dev/colab-wheels/public/simple/\n",
            "Collecting transformers\n",
            "  Downloading transformers-4.24.0-py3-none-any.whl (5.5 MB)\n",
            "\u001b[K     |████████████████████████████████| 5.5 MB 4.7 MB/s \n",
            "\u001b[?25hRequirement already satisfied: regex!=2019.12.17 in /usr/local/lib/python3.8/dist-packages (from transformers) (2022.6.2)\n",
            "Requirement already satisfied: requests in /usr/local/lib/python3.8/dist-packages (from transformers) (2.23.0)\n",
            "Requirement already satisfied: tqdm>=4.27 in /usr/local/lib/python3.8/dist-packages (from transformers) (4.64.1)\n",
            "Requirement already satisfied: packaging>=20.0 in /usr/local/lib/python3.8/dist-packages (from transformers) (21.3)\n",
            "Collecting huggingface-hub<1.0,>=0.10.0\n",
            "  Downloading huggingface_hub-0.11.1-py3-none-any.whl (182 kB)\n",
            "\u001b[K     |████████████████████████████████| 182 kB 96.4 MB/s \n",
            "\u001b[?25hRequirement already satisfied: filelock in /usr/local/lib/python3.8/dist-packages (from transformers) (3.8.0)\n",
            "Requirement already satisfied: numpy>=1.17 in /usr/local/lib/python3.8/dist-packages (from transformers) (1.21.6)\n",
            "Collecting tokenizers!=0.11.3,<0.14,>=0.11.1\n",
            "  Downloading tokenizers-0.13.2-cp38-cp38-manylinux_2_17_x86_64.manylinux2014_x86_64.whl (7.6 MB)\n",
            "\u001b[K     |████████████████████████████████| 7.6 MB 59.1 MB/s \n",
            "\u001b[?25hRequirement already satisfied: pyyaml>=5.1 in /usr/local/lib/python3.8/dist-packages (from transformers) (6.0)\n",
            "Requirement already satisfied: typing-extensions>=3.7.4.3 in /usr/local/lib/python3.8/dist-packages (from huggingface-hub<1.0,>=0.10.0->transformers) (4.1.1)\n",
            "Requirement already satisfied: pyparsing!=3.0.5,>=2.0.2 in /usr/local/lib/python3.8/dist-packages (from packaging>=20.0->transformers) (3.0.9)\n",
            "Requirement already satisfied: chardet<4,>=3.0.2 in /usr/local/lib/python3.8/dist-packages (from requests->transformers) (3.0.4)\n",
            "Requirement already satisfied: urllib3!=1.25.0,!=1.25.1,<1.26,>=1.21.1 in /usr/local/lib/python3.8/dist-packages (from requests->transformers) (1.24.3)\n",
            "Requirement already satisfied: certifi>=2017.4.17 in /usr/local/lib/python3.8/dist-packages (from requests->transformers) (2022.9.24)\n",
            "Requirement already satisfied: idna<3,>=2.5 in /usr/local/lib/python3.8/dist-packages (from requests->transformers) (2.10)\n",
            "Installing collected packages: tokenizers, huggingface-hub, transformers\n",
            "Successfully installed huggingface-hub-0.11.1 tokenizers-0.13.2 transformers-4.24.0\n"
          ]
        }
      ]
    },
    {
      "cell_type": "code",
      "source": [
        "import torch\n",
        "from torch import nn\n",
        "\n",
        "from torch.utils.data import TensorDataset\n",
        "from torch.utils.data import DataLoader, RandomSampler, SequentialSampler\n",
        "\n",
        "\n",
        "from transformers import AutoTokenizer\n",
        "from transformers import AutoModelForSequenceClassification\n",
        "from transformers import AdamW, get_linear_schedule_with_warmup"
      ],
      "metadata": {
        "id": "1y7RUzV2BafX"
      },
      "execution_count": 27,
      "outputs": []
    },
    {
      "cell_type": "code",
      "source": [
        "# If there's a GPU available...\n",
        "if torch.cuda.is_available():    \n",
        "\n",
        "    # Tell PyTorch to use the GPU.    \n",
        "    device = torch.device(\"cuda\")\n",
        "\n",
        "    print('There are %d GPU(s) available.' % torch.cuda.device_count())\n",
        "\n",
        "    print('We will use the GPU:', torch.cuda.get_device_name(0))\n",
        "\n",
        "# If not...\n",
        "else:\n",
        "    print('No GPU available, using the CPU instead.')\n",
        "    device = torch.device(\"cpu\")"
      ],
      "metadata": {
        "colab": {
          "base_uri": "https://localhost:8080/"
        },
        "id": "VtwdiAMyWgLB",
        "outputId": "5f381e6c-ab20-4fda-d960-ffbd6027cfa7"
      },
      "execution_count": 28,
      "outputs": [
        {
          "output_type": "stream",
          "name": "stdout",
          "text": [
            "There are 1 GPU(s) available.\n",
            "We will use the GPU: A100-SXM4-40GB\n"
          ]
        }
      ]
    },
    {
      "cell_type": "code",
      "source": [
        "BASE_URL = \"input\"\n",
        "PREDICTABLE = ['cohesion', 'syntax', 'vocabulary', 'phraseology', 'grammar', 'conventions']\n",
        "\n",
        "seed_val = 17\n",
        "random.seed(seed_val)\n",
        "np.random.seed(seed_val)\n",
        "torch.manual_seed(seed_val)\n",
        "torch.cuda.manual_seed_all(seed_val)\n",
        "\n",
        "import os\n",
        "os.environ[\"TOKENIZERS_PARALLELISM\"] = \"false\""
      ],
      "metadata": {
        "id": "KBWzhwSQWp8g"
      },
      "execution_count": 29,
      "outputs": []
    },
    {
      "cell_type": "code",
      "source": [
        "data_df = pd.read_csv(os.path.join(BASE_URL, 'train.csv'))"
      ],
      "metadata": {
        "id": "5bbepBlxMCZV"
      },
      "execution_count": 30,
      "outputs": []
    },
    {
      "cell_type": "code",
      "source": [
        "len(data_df)"
      ],
      "metadata": {
        "colab": {
          "base_uri": "https://localhost:8080/"
        },
        "id": "-FWb5J3CMGhZ",
        "outputId": "d9a5768a-5d10-4217-97da-8f87a9d5dda5"
      },
      "execution_count": 31,
      "outputs": [
        {
          "output_type": "execute_result",
          "data": {
            "text/plain": [
              "3911"
            ]
          },
          "metadata": {},
          "execution_count": 31
        }
      ]
    },
    {
      "cell_type": "code",
      "source": [
        "data_df.head()"
      ],
      "metadata": {
        "colab": {
          "base_uri": "https://localhost:8080/",
          "height": 337
        },
        "id": "bsPic_CIPtn5",
        "outputId": "fc3e447b-4913-4df6-ae77-580f409c64ea"
      },
      "execution_count": 32,
      "outputs": [
        {
          "output_type": "execute_result",
          "data": {
            "text/plain": [
              "        text_id                                          full_text  cohesion  \\\n",
              "0  0016926B079C  I think that students would benefit from learn...       3.5   \n",
              "1  0022683E9EA5  When a problem is a change you have to let it ...       2.5   \n",
              "2  00299B378633  Dear, Principal\\n\\nIf u change the school poli...       3.0   \n",
              "3  003885A45F42  The best time in life is when you become yours...       4.5   \n",
              "4  0049B1DF5CCC  Small act of kindness can impact in other peop...       2.5   \n",
              "\n",
              "   syntax  vocabulary  phraseology  grammar  conventions  \n",
              "0     3.5         3.0          3.0      4.0          3.0  \n",
              "1     2.5         3.0          2.0      2.0          2.5  \n",
              "2     3.5         3.0          3.0      3.0          2.5  \n",
              "3     4.5         4.5          4.5      4.0          5.0  \n",
              "4     3.0         3.0          3.0      2.5          2.5  "
            ],
            "text/html": [
              "\n",
              "  <div id=\"df-8898583c-ad16-4a30-a56d-f94f7c5b8866\">\n",
              "    <div class=\"colab-df-container\">\n",
              "      <div>\n",
              "<style scoped>\n",
              "    .dataframe tbody tr th:only-of-type {\n",
              "        vertical-align: middle;\n",
              "    }\n",
              "\n",
              "    .dataframe tbody tr th {\n",
              "        vertical-align: top;\n",
              "    }\n",
              "\n",
              "    .dataframe thead th {\n",
              "        text-align: right;\n",
              "    }\n",
              "</style>\n",
              "<table border=\"1\" class=\"dataframe\">\n",
              "  <thead>\n",
              "    <tr style=\"text-align: right;\">\n",
              "      <th></th>\n",
              "      <th>text_id</th>\n",
              "      <th>full_text</th>\n",
              "      <th>cohesion</th>\n",
              "      <th>syntax</th>\n",
              "      <th>vocabulary</th>\n",
              "      <th>phraseology</th>\n",
              "      <th>grammar</th>\n",
              "      <th>conventions</th>\n",
              "    </tr>\n",
              "  </thead>\n",
              "  <tbody>\n",
              "    <tr>\n",
              "      <th>0</th>\n",
              "      <td>0016926B079C</td>\n",
              "      <td>I think that students would benefit from learn...</td>\n",
              "      <td>3.5</td>\n",
              "      <td>3.5</td>\n",
              "      <td>3.0</td>\n",
              "      <td>3.0</td>\n",
              "      <td>4.0</td>\n",
              "      <td>3.0</td>\n",
              "    </tr>\n",
              "    <tr>\n",
              "      <th>1</th>\n",
              "      <td>0022683E9EA5</td>\n",
              "      <td>When a problem is a change you have to let it ...</td>\n",
              "      <td>2.5</td>\n",
              "      <td>2.5</td>\n",
              "      <td>3.0</td>\n",
              "      <td>2.0</td>\n",
              "      <td>2.0</td>\n",
              "      <td>2.5</td>\n",
              "    </tr>\n",
              "    <tr>\n",
              "      <th>2</th>\n",
              "      <td>00299B378633</td>\n",
              "      <td>Dear, Principal\\n\\nIf u change the school poli...</td>\n",
              "      <td>3.0</td>\n",
              "      <td>3.5</td>\n",
              "      <td>3.0</td>\n",
              "      <td>3.0</td>\n",
              "      <td>3.0</td>\n",
              "      <td>2.5</td>\n",
              "    </tr>\n",
              "    <tr>\n",
              "      <th>3</th>\n",
              "      <td>003885A45F42</td>\n",
              "      <td>The best time in life is when you become yours...</td>\n",
              "      <td>4.5</td>\n",
              "      <td>4.5</td>\n",
              "      <td>4.5</td>\n",
              "      <td>4.5</td>\n",
              "      <td>4.0</td>\n",
              "      <td>5.0</td>\n",
              "    </tr>\n",
              "    <tr>\n",
              "      <th>4</th>\n",
              "      <td>0049B1DF5CCC</td>\n",
              "      <td>Small act of kindness can impact in other peop...</td>\n",
              "      <td>2.5</td>\n",
              "      <td>3.0</td>\n",
              "      <td>3.0</td>\n",
              "      <td>3.0</td>\n",
              "      <td>2.5</td>\n",
              "      <td>2.5</td>\n",
              "    </tr>\n",
              "  </tbody>\n",
              "</table>\n",
              "</div>\n",
              "      <button class=\"colab-df-convert\" onclick=\"convertToInteractive('df-8898583c-ad16-4a30-a56d-f94f7c5b8866')\"\n",
              "              title=\"Convert this dataframe to an interactive table.\"\n",
              "              style=\"display:none;\">\n",
              "        \n",
              "  <svg xmlns=\"http://www.w3.org/2000/svg\" height=\"24px\"viewBox=\"0 0 24 24\"\n",
              "       width=\"24px\">\n",
              "    <path d=\"M0 0h24v24H0V0z\" fill=\"none\"/>\n",
              "    <path d=\"M18.56 5.44l.94 2.06.94-2.06 2.06-.94-2.06-.94-.94-2.06-.94 2.06-2.06.94zm-11 1L8.5 8.5l.94-2.06 2.06-.94-2.06-.94L8.5 2.5l-.94 2.06-2.06.94zm10 10l.94 2.06.94-2.06 2.06-.94-2.06-.94-.94-2.06-.94 2.06-2.06.94z\"/><path d=\"M17.41 7.96l-1.37-1.37c-.4-.4-.92-.59-1.43-.59-.52 0-1.04.2-1.43.59L10.3 9.45l-7.72 7.72c-.78.78-.78 2.05 0 2.83L4 21.41c.39.39.9.59 1.41.59.51 0 1.02-.2 1.41-.59l7.78-7.78 2.81-2.81c.8-.78.8-2.07 0-2.86zM5.41 20L4 18.59l7.72-7.72 1.47 1.35L5.41 20z\"/>\n",
              "  </svg>\n",
              "      </button>\n",
              "      \n",
              "  <style>\n",
              "    .colab-df-container {\n",
              "      display:flex;\n",
              "      flex-wrap:wrap;\n",
              "      gap: 12px;\n",
              "    }\n",
              "\n",
              "    .colab-df-convert {\n",
              "      background-color: #E8F0FE;\n",
              "      border: none;\n",
              "      border-radius: 50%;\n",
              "      cursor: pointer;\n",
              "      display: none;\n",
              "      fill: #1967D2;\n",
              "      height: 32px;\n",
              "      padding: 0 0 0 0;\n",
              "      width: 32px;\n",
              "    }\n",
              "\n",
              "    .colab-df-convert:hover {\n",
              "      background-color: #E2EBFA;\n",
              "      box-shadow: 0px 1px 2px rgba(60, 64, 67, 0.3), 0px 1px 3px 1px rgba(60, 64, 67, 0.15);\n",
              "      fill: #174EA6;\n",
              "    }\n",
              "\n",
              "    [theme=dark] .colab-df-convert {\n",
              "      background-color: #3B4455;\n",
              "      fill: #D2E3FC;\n",
              "    }\n",
              "\n",
              "    [theme=dark] .colab-df-convert:hover {\n",
              "      background-color: #434B5C;\n",
              "      box-shadow: 0px 1px 3px 1px rgba(0, 0, 0, 0.15);\n",
              "      filter: drop-shadow(0px 1px 2px rgba(0, 0, 0, 0.3));\n",
              "      fill: #FFFFFF;\n",
              "    }\n",
              "  </style>\n",
              "\n",
              "      <script>\n",
              "        const buttonEl =\n",
              "          document.querySelector('#df-8898583c-ad16-4a30-a56d-f94f7c5b8866 button.colab-df-convert');\n",
              "        buttonEl.style.display =\n",
              "          google.colab.kernel.accessAllowed ? 'block' : 'none';\n",
              "\n",
              "        async function convertToInteractive(key) {\n",
              "          const element = document.querySelector('#df-8898583c-ad16-4a30-a56d-f94f7c5b8866');\n",
              "          const dataTable =\n",
              "            await google.colab.kernel.invokeFunction('convertToInteractive',\n",
              "                                                     [key], {});\n",
              "          if (!dataTable) return;\n",
              "\n",
              "          const docLinkHtml = 'Like what you see? Visit the ' +\n",
              "            '<a target=\"_blank\" href=https://colab.research.google.com/notebooks/data_table.ipynb>data table notebook</a>'\n",
              "            + ' to learn more about interactive tables.';\n",
              "          element.innerHTML = '';\n",
              "          dataTable['output_type'] = 'display_data';\n",
              "          await google.colab.output.renderOutput(dataTable, element);\n",
              "          const docLink = document.createElement('div');\n",
              "          docLink.innerHTML = docLinkHtml;\n",
              "          element.appendChild(docLink);\n",
              "        }\n",
              "      </script>\n",
              "    </div>\n",
              "  </div>\n",
              "  "
            ]
          },
          "metadata": {},
          "execution_count": 32
        }
      ]
    },
    {
      "cell_type": "code",
      "source": [
        "X = data_df[[\"text_id\", \"full_text\"]]\n",
        "y = data_df[PREDICTABLE]"
      ],
      "metadata": {
        "id": "l8cRmi5BPhID"
      },
      "execution_count": 33,
      "outputs": []
    },
    {
      "cell_type": "code",
      "source": [
        "X_train, X_test, y_train, y_test = train_test_split(X, y, test_size=0.20, random_state=42)"
      ],
      "metadata": {
        "id": "zo5NxPLRQ6_1"
      },
      "execution_count": 34,
      "outputs": []
    },
    {
      "cell_type": "code",
      "source": [
        "train_df = X_train\n",
        "train_df[PREDICTABLE] = y_train"
      ],
      "metadata": {
        "id": "N3b4IfI-RGpN"
      },
      "execution_count": 35,
      "outputs": []
    },
    {
      "cell_type": "code",
      "source": [
        "test_df = X_test\n",
        "test_df[PREDICTABLE] = y_test"
      ],
      "metadata": {
        "id": "ut1wOvCOTw1A"
      },
      "execution_count": 36,
      "outputs": []
    },
    {
      "cell_type": "code",
      "source": [
        "train_df.reset_index(drop=True, inplace=True)\n",
        "test_df.reset_index(drop=True, inplace=True)"
      ],
      "metadata": {
        "id": "fuITYZyLT8tC"
      },
      "execution_count": 37,
      "outputs": []
    },
    {
      "cell_type": "code",
      "source": [
        "# Issue with vocabulary only one value = 1 in the class\n",
        "df_aux = train_df[train_df[\"vocabulary\"]==1]\n",
        "train_df = train_df.append(df_aux, ignore_index=True)"
      ],
      "metadata": {
        "id": "5WtlI7VyosDd"
      },
      "execution_count": 38,
      "outputs": []
    },
    {
      "cell_type": "code",
      "source": [
        "class TextDatasetTransformer(object):\n",
        "    \n",
        "     def __init__(self, max_length: int = 256, batch_size: int = 4):        \n",
        "         self.tokenizer = AutoTokenizer.from_pretrained(\n",
        "             'drive/MyDrive/Colab Notebooks/transformers-v2/bert-large-cased/',\n",
        "             do_lower_case=False,\n",
        "             local_files_only=True,\n",
        "             tokenizer_type='bert'\n",
        "         )\n",
        "         self.max_length = max_length\n",
        "         self.batch_size = batch_size\n",
        "        \n",
        "        \n",
        "     def train_transform(self, df: pd.DataFrame, predictable_column: str):\n",
        "         train = self._generate_train_df(df, predictable_column)\n",
        "         X_train, X_val, y_train, y_val = train_test_split(\n",
        "                                                   train.text.values, \n",
        "                                                   train[[x for x in train.columns if x not in ['text', 'label']]].values,\n",
        "                                                   test_size=0.15, \n",
        "                                                   random_state=42, \n",
        "                                                   stratify=train.label.values)\n",
        "         return X_train, X_val, y_train, y_val\n",
        "    \n",
        "    \n",
        "     def tokenize(self, data: np.array):                                   \n",
        "         encoded_data = self.tokenizer.batch_encode_plus(\n",
        "             data, \n",
        "             add_special_tokens=True, \n",
        "             return_attention_mask=True, \n",
        "             max_length=self.max_length, \n",
        "             padding='max_length', \n",
        "             truncation=True,\n",
        "             return_tensors='pt'\n",
        "         )\n",
        "         input_ids = encoded_data['input_ids']\n",
        "         attention_mask = encoded_data['attention_mask']\n",
        "         return input_ids, attention_mask\n",
        "    \n",
        "    \n",
        "     def get_dataloader(self, input_ids, attention_mask, labels):\n",
        "         labels_tensor = torch.tensor(labels)\n",
        "         dataset = TensorDataset(input_ids, attention_mask, labels_tensor)\n",
        "         dataloader = DataLoader(dataset, sampler=RandomSampler(dataset), batch_size=self.batch_size)\n",
        "         return dataloader\n",
        "    \n",
        "    \n",
        "     def _generate_train_df(self, df: pd.DataFrame, predictable_column: str) -> pd.DataFrame:\n",
        "         df_train = df[['full_text', predictable_column]]\n",
        "         df_train.columns = ['text', 'label']\n",
        "         df_train[[str(x) for x in np.arange(1.0, 5.5, 0.5)]] = 0 * len(df_train)\n",
        "         for i, x in enumerate(df_train.label):\n",
        "             df_train[str(x)][i] = 1\n",
        "         return df_train"
      ],
      "metadata": {
        "id": "kgjrwJqnYEkj"
      },
      "execution_count": 39,
      "outputs": []
    },
    {
      "cell_type": "code",
      "source": [
        " class ModelPipeline(object):\n",
        "    \n",
        "     def __init__(self, model: str):\n",
        "         self.model_name = 'drive/MyDrive/Colab Notebooks/transformers-v2/bert-large-cased/'\n",
        "         self.model = None\n",
        "    \n",
        "    \n",
        "     def train(self, dataloader, num_labels: int = 2, epoches: int = 3):\n",
        "         self.model = self.get_model(model_name=self.model_name, num_labels=num_labels)\n",
        "         optimizer = self.get_optimizer(self.model)\n",
        "         scheduler = self.get_scheduler(optimizer, len(dataloader)*epoches)\n",
        "    \n",
        "    \n",
        "     def predict(self):\n",
        "         pass\n",
        "    \n",
        "    \n",
        "     def get_model(self, model_name: str = 'drive/MyDrive/Colab Notebooks/transformers-v2/bert-large-cased/', num_labels: int = 2):\n",
        "         model = AutoModelForSequenceClassification.from_pretrained(\n",
        "             'drive/MyDrive/Colab Notebooks/transformers-v2/bert-large-cased/',\n",
        "             # len(train.grammar.unique())\n",
        "             num_labels=9,\n",
        "             output_attentions=False,\n",
        "             output_hidden_states=False,\n",
        "             local_files_only=True,\n",
        "             model_type='bert')\n",
        "         model.cuda()\n",
        "         return model\n",
        "    \n",
        "    \n",
        "     def get_optimizer(self, model, learning_rate=1e-5, eps=1e-8):\n",
        "         optimizer = AdamW(model.parameters(), lr=learning_rate, eps=eps)\n",
        "         return optimizer\n",
        "    \n",
        "    \n",
        "     def get_scheduler(self, optimizer, training_steps: int):\n",
        "         scheduler = get_linear_schedule_with_warmup(\n",
        "             optimizer, \n",
        "             num_warmup_steps=0,\n",
        "             # len(dataloader_train)*epochs)\n",
        "             num_training_steps=training_steps)\n",
        "         return scheduler"
      ],
      "metadata": {
        "id": "CU9Olf8nq7qP"
      },
      "execution_count": 40,
      "outputs": []
    },
    {
      "cell_type": "code",
      "source": [
        "class RMSELoss(nn.Module):\n",
        "     def __init__(self, eps=1e-6):\n",
        "         super().__init__()\n",
        "         self.mse = nn.MSELoss()\n",
        "         self.eps = eps\n",
        "\n",
        "     def forward(self, yhat, y):\n",
        "         loss = torch.sqrt(self.mse(yhat, y) + self.eps)\n",
        "         return loss\n",
        "\n",
        "\n",
        "class MCRMSELoss(nn.Module):\n",
        "     def __init__(self, num_scored=3):\n",
        "         super().__init__()\n",
        "         self.rmse = RMSELoss()\n",
        "         self.num_scored = num_scored\n",
        "\n",
        "     def forward(self, yhat, y):\n",
        "         score = 0\n",
        "         for i in range(self.num_scored):\n",
        "             score += self.rmse(yhat[:, i], y[:, i]) / self.num_scored\n",
        "         return score"
      ],
      "metadata": {
        "id": "IOp2CZ1ArUmK"
      },
      "execution_count": 41,
      "outputs": []
    },
    {
      "cell_type": "code",
      "source": [
        " class Pipeline(object):\n",
        "    \n",
        "     def __init__(self, max_length=512, batch_size=8):\n",
        "         self.data_transformer = TextDatasetTransformer(max_length=max_length, batch_size=batch_size)\n",
        "         self.model_pipeline = ModelPipeline('drive/MyDrive/Colab Notebooks/transformers-v2/bert-large-cased/')\n",
        "         self.values_dict =  {k: v for k,v in zip([x for x in range(0, 9)], [x for x in np.arange(1.0, 5.5, 0.5)])}\n",
        "\n",
        "     def train(self, df: pd.DataFrame, predictable_column: str, epochs: int = 5):\n",
        "         print(\"Split Data Transform...\")\n",
        "         X_train, _, y_train, _ = self.data_transformer.train_transform(df, predictable_column)\n",
        "        \n",
        "         print(\"Tokenization...\")\n",
        "         input_ids_train, attention_mask_train = self.data_transformer.tokenize(list(X_train))\n",
        "        \n",
        "         print(\"Generate DataLoader...\")\n",
        "         dataloader_train = self.data_transformer.get_dataloader(input_ids_train, attention_mask_train, y_train)\n",
        "        \n",
        "         print(\"Prepare Model...\")\n",
        "         model = self.model_pipeline.get_model(num_labels=len(df[predictable_column].unique()))\n",
        "         optimizer = self.model_pipeline.get_optimizer(model)\n",
        "         scheduler = self.model_pipeline.get_scheduler(optimizer, len(dataloader_train)*epochs)\n",
        "        \n",
        "         print(\"Train...\")\n",
        "         for epoch in tqdm(range(1, epochs+1)):\n",
        "    \n",
        "             model.train()\n",
        "\n",
        "             loss_train_total = 0\n",
        "\n",
        "             progress_bar = tqdm(dataloader_train, desc='Epoch {:1d}'.format(epoch), leave=False, disable=False)\n",
        "             for batch in progress_bar:\n",
        "\n",
        "                 model.zero_grad()\n",
        "\n",
        "                 input_ids_batch = batch[0].to(device)\n",
        "                 attention_mask_batch = batch[1].to(device)\n",
        "                 labels_batch = batch[2].to(device).float()\n",
        "\n",
        "                 inputs = {\n",
        "                     'input_ids':      input_ids_batch,\n",
        "                     'attention_mask': attention_mask_batch,\n",
        "                     'labels':         labels_batch}       \n",
        "\n",
        "                 outputs = model(**inputs)\n",
        "\n",
        "                 loss = outputs[0]\n",
        "                 loss_train_total += loss.item()\n",
        "                 loss.backward()\n",
        "                                \n",
        "                 torch.nn.utils.clip_grad_norm_(model.parameters(), 1.0)\n",
        "\n",
        "                 optimizer.step()\n",
        "                 scheduler.step()\n",
        "\n",
        "                 progress_bar.set_postfix({'training_loss': '{:.3f}'.format(loss.item()/len(batch))})\n",
        "\n",
        "             tqdm.write(f'\\nEpoch {epoch}')\n",
        "\n",
        "             loss_train_avg = loss_train_total / len(dataloader_train)\n",
        "             tqdm.write(f'Training loss: {loss_train_avg}')\n",
        "            \n",
        "             gc.collect()\n",
        "             torch.cuda.empty_cache()\n",
        "        \n",
        "         print(\"Return Trained Model...\")\n",
        "         return model\n",
        "        \n",
        "     def predict(self, model, df: pd.DataFrame, predictable_column: str):\n",
        "        \n",
        "         model.eval()\n",
        "        \n",
        "         print(\"Prepare Test Data...\")\n",
        "         input_ids, attention_mask = self.data_transformer.tokenize(list(df.full_text.values))\n",
        "         inputs = {\n",
        "             'input_ids':      input_ids.to(device),\n",
        "             'attention_mask': attention_mask.to(device)\n",
        "         }       \n",
        "        \n",
        "         print(\"Make Test Predictions...\")\n",
        "         outputs = model(**inputs)\n",
        "         np_outputs = np.array(outputs.logits.detach().cpu())\n",
        "               \n",
        "         df[predictable_column] = [x.argmax() for x in np_outputs]\n",
        "         df[predictable_column] = df[predictable_column].apply(lambda x: self.values_dict[x])\n",
        "         return df"
      ],
      "metadata": {
        "id": "4MdzX_R5rZcu"
      },
      "execution_count": 42,
      "outputs": []
    },
    {
      "cell_type": "code",
      "source": [
        "model = None\n",
        "\n",
        "del model\n",
        "gc.collect()\n",
        "torch.cuda.empty_cache()"
      ],
      "metadata": {
        "id": "0j6ygXWXsnBS"
      },
      "execution_count": 43,
      "outputs": []
    },
    {
      "cell_type": "markdown",
      "source": [
        "# TRAIN/VALIDATION/TEST"
      ],
      "metadata": {
        "id": "CpGGlyF0A1rB"
      }
    },
    {
      "cell_type": "code",
      "source": [
        "# # Train/Validation loop for each column a different BERT Large Cased Model\n",
        "# #train_df_copy = train_df[['text_id', 'full_text']].copy()\n",
        "# pipeline = Pipeline()\n",
        "# model = None\n",
        "\n",
        "# for pred_col in PREDICTABLE:\n",
        "\n",
        "#     model = pipeline.train(train_df, pred_col, epochs=3)\n",
        "#     os.makedirs(f'bert_model_{pred_col}')\n",
        "#     model.save_pretrained(f'bert_model_{pred_col}')\n",
        "    \n",
        "#     del model\n",
        "#     gc.collect()\n",
        "#     torch.cuda.empty_cache()\n",
        "   \n",
        "#     #train_df_copy = pipeline.predict(model, train_df_copy, pred_col)\n",
        "#     #del model\n",
        "#     #gc.collect()\n",
        "#     #torch.cuda.empty_cache()\n",
        "\n",
        "#    # test_df = pipeline.predict(model, test_df, pred_col)\n",
        "#    # torch.cuda.empty_cache()\n",
        "\n",
        "# #test_df.drop('full_text', axis=1).to_csv(\"submission.csv\", index=False)"
      ],
      "metadata": {
        "id": "G-LO22dyr4Tx"
      },
      "execution_count": 44,
      "outputs": []
    },
    {
      "cell_type": "code",
      "source": [
        "# Check files\n",
        "\n",
        "data_file = os.path.join(BASE_URL, 'test.csv')\n",
        "tokenizer_dir = 'drive/MyDrive/Colab Notebooks/transformers-v2/bert-large-cased/'\n",
        "\n",
        "\n",
        "assert os.path.isfile(data_file)\n",
        "assert os.path.isdir(tokenizer_dir)\n",
        "\n",
        "for col in PREDICTABLE:\n",
        "    assert os.path.isdir(f'drive/MyDrive/Colab Notebooks/transformers-v2/bert_model_{col}')"
      ],
      "metadata": {
        "id": "sobXXlfLr1eV"
      },
      "execution_count": 45,
      "outputs": []
    },
    {
      "cell_type": "code",
      "source": [
        "# We use 20% of information to test the model\n",
        "df_predictable = test_df \n",
        "data_to_predict = df_predictable[['text_id', 'full_text']]"
      ],
      "metadata": {
        "id": "rUVS1CkRsTSs"
      },
      "execution_count": 46,
      "outputs": []
    },
    {
      "cell_type": "code",
      "source": [
        "# It transforms the values from the model to the same scale of real values (from 1 to 5 in 0.5 steps)\n",
        "values_dict =  {k: v for k,v in zip([x for x in range(0, 9)], [x for x in np.arange(1.0, 5.5, 0.5)])}"
      ],
      "metadata": {
        "id": "4unsOYnastkQ"
      },
      "execution_count": 47,
      "outputs": []
    },
    {
      "cell_type": "code",
      "source": [
        "def tokenize(tokenizer, data: np.array):                                   \n",
        "    encoded_data = tokenizer.batch_encode_plus(\n",
        "        data, \n",
        "        add_special_tokens=True, \n",
        "        return_attention_mask=True, \n",
        "        max_length=512, \n",
        "        padding='max_length', \n",
        "        truncation=True,\n",
        "        return_tensors='pt'\n",
        "    )\n",
        "    input_ids = encoded_data['input_ids']\n",
        "    attention_mask = encoded_data['attention_mask']\n",
        "    return input_ids, attention_mask"
      ],
      "metadata": {
        "id": "pokTO0r9susA"
      },
      "execution_count": 48,
      "outputs": []
    },
    {
      "cell_type": "code",
      "source": [
        "tokenizer = AutoTokenizer.from_pretrained(tokenizer_dir)\n",
        "for pred_col in tqdm(PREDICTABLE):\n",
        "    model = AutoModelForSequenceClassification.from_pretrained(f'drive/MyDrive/Colab Notebooks/transformers-v2/bert_model_{pred_col}')\n",
        "    model.cuda()\n",
        "    model.eval()\n",
        "        \n",
        "    input_ids, attention_mask = tokenize(tokenizer, list(data_to_predict.full_text.values))\n",
        "    \n",
        "    dataset = TensorDataset(input_ids, attention_mask)\n",
        "    dataloader = DataLoader(dataset, batch_size=8)\n",
        "    \n",
        "    progress_bar = tqdm(dataloader, desc='Making predictions', leave=False, disable=False)\n",
        "    \n",
        "    outputs_total = []\n",
        "    for batch in progress_bar:\n",
        "        \n",
        "        input_ids_batch = batch[0].to(device)\n",
        "        attention_mask_batch = batch[1].to(device)\n",
        "        \n",
        "        inputs = {\n",
        "            'input_ids':      input_ids_batch,\n",
        "            'attention_mask': attention_mask_batch\n",
        "        }       \n",
        "\n",
        "        outputs = model(**inputs)\n",
        "        np_outputs = np.array(outputs.logits.detach().cpu())\n",
        "        for o in np_outputs:\n",
        "            outputs_total.append(o)\n",
        "        \n",
        "        gc.collect()\n",
        "        torch.cuda.empty_cache()\n",
        "    \n",
        "    outputs_total = np.array(outputs_total)\n",
        "    argmax_outputs = [x.argmax() for x in outputs_total]\n",
        "    data_to_predict[pred_col] = argmax_outputs\n",
        "    data_to_predict[pred_col] = data_to_predict[pred_col].apply(lambda x: values_dict[x])\n",
        "    \n",
        "    del model\n",
        "    gc.collect()\n",
        "    torch.cuda.empty_cache()"
      ],
      "metadata": {
        "id": "d7fvJ0toswk-",
        "colab": {
          "base_uri": "https://localhost:8080/",
          "height": 361,
          "referenced_widgets": [
            "b3b23dd30b4c412d956eb598cd046e78",
            "3003707a137b4f749656df29045be2b2",
            "cc08fcfd984a4b9abbf4c657562b9601",
            "acdda2c83178421784ac1791a657ee21",
            "26a9b324413e47f9b90665de0d7319d3",
            "5f07e41baea24ad49b1cbe7503130920",
            "f6b668af31ff4240b8869eaeae485b42",
            "82a9c1fa565d480ca99ec999dad40ff8",
            "85c9dfc40fb94fcba821f9d541d66dd1",
            "be65635fbb894919ba1ee3f4ba819b7f",
            "a5e08968003942b8a41e9661ddd4f75b",
            "e994b9e74a3047fa9f0398628ad05aa0",
            "629e9bd9ad7149a7bfe06567947f66da",
            "f3f3cd4127924000baa10598990a9651",
            "f50d595e2a61478f95c44abe8a109013",
            "064653bb014646deaec5e9eb4a52c06b",
            "8d517ba312354d99a9bdb54aa349ff1f",
            "78e5a6398a314df7ab345ed560688f6a",
            "45388ec2ff7f4e97977c3aa6bb9e66f3",
            "2710eb9caba0401facdf957ecfe74de0",
            "132987c4d9ad48f1b48cb30a955da135",
            "a4e7ae317aa34a729be0279069b3e8b6",
            "e67da8d861104a6abbaf09da17086bda",
            "bda38c987b8b43ba9af4f9b379c38a51",
            "4b65492912a34b5ba109259ee0b2c9e4",
            "ccc8dd262df94629bdbaa21c9fd79492",
            "18a9e7d4ae144e84a5f3de37221cb320",
            "a9e69294939f46d3bf0b786b2580058d",
            "8473750594b147d48b8c16149ea0e706",
            "0559a3c5469645cf8160adf5c4d1337b",
            "b064599e3de54a859a083fc56f09e9a4",
            "5c10f6bd25e44a48a326c87a034913dc",
            "326904451a854d6da99bbd6bb18701ac",
            "0cbd70c206dd4ffab1bad7c92053d9be",
            "2e7fb85d8e724738954762dee8c4dc08",
            "ff07c319a5c8460a9bd7c3000667bd8d",
            "f3bea9613eff446381050081551e1cb5",
            "0c4d456159294c628025d7f3b8c3ef70",
            "05ad48f40ce44efc9cd1b649bc80270e",
            "dfa8f499cc7b4678832b31a9d0a890a2",
            "0fb79f0e0f0c4d4a8d5a4d8296e0993c",
            "47ef8cb603fb4bc3ab8e7fe88e219497",
            "bb19ec21de5f4c00b8684a90e488e1b1",
            "1ffbb120b5734e1798f1e91c38bddf16",
            "415c1c83d8c84fa9bc2ebc069af9fea8",
            "d5641d5e7b1744f09252404e218c4970",
            "efb7e7dc4aa24616bfe6c33798b3c5d3",
            "ac0a6b70147f46dfb41807901db4b2b4",
            "350e8ae9cef94d03a8eb0b2b05d4d59e",
            "2e0ca8b4a36943e79448a68c27e4fe49",
            "341f07b07920440ebb778031084d78ae",
            "ca2b5edbefbd4e4990fdf99d34ddba30",
            "f81376c036024c55b8c0aba4bab2e12b",
            "d5888250a7a045f497fab754052ee60e",
            "60d371eec90e4fb8a9d4ec94e32c2da7",
            "2750ca1835e645769930099c7c329e9d",
            "74fb6bf048f64ed49c6b9e94ea9b46b8",
            "2609dc7aa68c41e8a051af05f2871cf5",
            "6551898d178e4e72b2d95c07ffdbf712",
            "3490fbcb87754e87b6d604c673b61c08",
            "a859d01e5a274a7a80a8e8399c7188af",
            "a76f45edc1cf4d1c8d15d826cd1707ca",
            "d74180302e274ad0a867d203a0b1d12f",
            "5484378ecb224191813ba77163c3410b",
            "9d8d4304e9eb4039b5013c3e07c99648",
            "79bf4ec8ce25499fbfa0e0541e0930e3",
            "202c5b537a134ed9b7f74bd11474e648",
            "8138c894499846b486b95063b76e883c",
            "2370dfa1572a4ccfaf63ea3d670884e1",
            "105843d66f1a424f985276d852389856",
            "c401e0eff21a422899a1c371a7fc5901",
            "5b7f5242ca6d422889082ce3ae6ec1c1",
            "3dafc5ba509341cc97c6a9b744468d87",
            "09c4332b9ea6458db1c5db3ef546134f",
            "2205488c379d44c9984eb5d893c2f275",
            "9a758733f02c47a1b65a01c14ac0c4c6",
            "b416a7fd26d344a7a1184c0068db843b"
          ]
        },
        "outputId": "35390671-d51f-4f6e-a471-0ff33c644478"
      },
      "execution_count": 49,
      "outputs": [
        {
          "output_type": "display_data",
          "data": {
            "text/plain": [
              "  0%|          | 0/6 [00:00<?, ?it/s]"
            ],
            "application/vnd.jupyter.widget-view+json": {
              "version_major": 2,
              "version_minor": 0,
              "model_id": "b3b23dd30b4c412d956eb598cd046e78"
            }
          },
          "metadata": {}
        },
        {
          "output_type": "display_data",
          "data": {
            "text/plain": [
              "Making predictions:   0%|          | 0/98 [00:00<?, ?it/s]"
            ],
            "application/vnd.jupyter.widget-view+json": {
              "version_major": 2,
              "version_minor": 0,
              "model_id": "e994b9e74a3047fa9f0398628ad05aa0"
            }
          },
          "metadata": {}
        },
        {
          "output_type": "stream",
          "name": "stderr",
          "text": [
            "<ipython-input-49-0e10a9f5adba>:35: SettingWithCopyWarning:\n",
            "\n",
            "\n",
            "A value is trying to be set on a copy of a slice from a DataFrame.\n",
            "Try using .loc[row_indexer,col_indexer] = value instead\n",
            "\n",
            "See the caveats in the documentation: https://pandas.pydata.org/pandas-docs/stable/user_guide/indexing.html#returning-a-view-versus-a-copy\n",
            "\n",
            "<ipython-input-49-0e10a9f5adba>:36: SettingWithCopyWarning:\n",
            "\n",
            "\n",
            "A value is trying to be set on a copy of a slice from a DataFrame.\n",
            "Try using .loc[row_indexer,col_indexer] = value instead\n",
            "\n",
            "See the caveats in the documentation: https://pandas.pydata.org/pandas-docs/stable/user_guide/indexing.html#returning-a-view-versus-a-copy\n",
            "\n"
          ]
        },
        {
          "output_type": "display_data",
          "data": {
            "text/plain": [
              "Making predictions:   0%|          | 0/98 [00:00<?, ?it/s]"
            ],
            "application/vnd.jupyter.widget-view+json": {
              "version_major": 2,
              "version_minor": 0,
              "model_id": "e67da8d861104a6abbaf09da17086bda"
            }
          },
          "metadata": {}
        },
        {
          "output_type": "display_data",
          "data": {
            "text/plain": [
              "Making predictions:   0%|          | 0/98 [00:00<?, ?it/s]"
            ],
            "application/vnd.jupyter.widget-view+json": {
              "version_major": 2,
              "version_minor": 0,
              "model_id": "0cbd70c206dd4ffab1bad7c92053d9be"
            }
          },
          "metadata": {}
        },
        {
          "output_type": "display_data",
          "data": {
            "text/plain": [
              "Making predictions:   0%|          | 0/98 [00:00<?, ?it/s]"
            ],
            "application/vnd.jupyter.widget-view+json": {
              "version_major": 2,
              "version_minor": 0,
              "model_id": "415c1c83d8c84fa9bc2ebc069af9fea8"
            }
          },
          "metadata": {}
        },
        {
          "output_type": "display_data",
          "data": {
            "text/plain": [
              "Making predictions:   0%|          | 0/98 [00:00<?, ?it/s]"
            ],
            "application/vnd.jupyter.widget-view+json": {
              "version_major": 2,
              "version_minor": 0,
              "model_id": "2750ca1835e645769930099c7c329e9d"
            }
          },
          "metadata": {}
        },
        {
          "output_type": "display_data",
          "data": {
            "text/plain": [
              "Making predictions:   0%|          | 0/98 [00:00<?, ?it/s]"
            ],
            "application/vnd.jupyter.widget-view+json": {
              "version_major": 2,
              "version_minor": 0,
              "model_id": "202c5b537a134ed9b7f74bd11474e648"
            }
          },
          "metadata": {}
        }
      ]
    },
    {
      "cell_type": "code",
      "source": [
        "data_to_predict.head()"
      ],
      "metadata": {
        "colab": {
          "base_uri": "https://localhost:8080/",
          "height": 337
        },
        "id": "-EYw5vOgaUgB",
        "outputId": "8eb43799-46be-40a3-b992-16dca3d99f8b"
      },
      "execution_count": 50,
      "outputs": [
        {
          "output_type": "execute_result",
          "data": {
            "text/plain": [
              "        text_id                                          full_text  cohesion  \\\n",
              "0  772D27D400BB  It god to have a possitive attitude when you d...       2.5   \n",
              "1  9E8F3C6405CA  Why do people ask more then one person for adv...       3.0   \n",
              "2  948771F795EB  We accomplish more when we are active, and are...       3.5   \n",
              "3  FE14D7378CFB  Do you agree or disagree about imagination bei...       3.5   \n",
              "4  7AAE019F70D6  I disagree with the principal saying that all ...       3.5   \n",
              "\n",
              "   syntax  vocabulary  phraseology  grammar  conventions  \n",
              "0     2.5         2.5          2.5      2.0          2.0  \n",
              "1     3.0         3.0          3.0      3.5          3.0  \n",
              "2     3.5         3.5          3.5      3.5          3.0  \n",
              "3     3.0         3.0          3.5      3.5          3.0  \n",
              "4     3.0         3.0          3.5      3.5          3.0  "
            ],
            "text/html": [
              "\n",
              "  <div id=\"df-33bb3b35-8d62-4fe0-bfb4-51e4ce772247\">\n",
              "    <div class=\"colab-df-container\">\n",
              "      <div>\n",
              "<style scoped>\n",
              "    .dataframe tbody tr th:only-of-type {\n",
              "        vertical-align: middle;\n",
              "    }\n",
              "\n",
              "    .dataframe tbody tr th {\n",
              "        vertical-align: top;\n",
              "    }\n",
              "\n",
              "    .dataframe thead th {\n",
              "        text-align: right;\n",
              "    }\n",
              "</style>\n",
              "<table border=\"1\" class=\"dataframe\">\n",
              "  <thead>\n",
              "    <tr style=\"text-align: right;\">\n",
              "      <th></th>\n",
              "      <th>text_id</th>\n",
              "      <th>full_text</th>\n",
              "      <th>cohesion</th>\n",
              "      <th>syntax</th>\n",
              "      <th>vocabulary</th>\n",
              "      <th>phraseology</th>\n",
              "      <th>grammar</th>\n",
              "      <th>conventions</th>\n",
              "    </tr>\n",
              "  </thead>\n",
              "  <tbody>\n",
              "    <tr>\n",
              "      <th>0</th>\n",
              "      <td>772D27D400BB</td>\n",
              "      <td>It god to have a possitive attitude when you d...</td>\n",
              "      <td>2.5</td>\n",
              "      <td>2.5</td>\n",
              "      <td>2.5</td>\n",
              "      <td>2.5</td>\n",
              "      <td>2.0</td>\n",
              "      <td>2.0</td>\n",
              "    </tr>\n",
              "    <tr>\n",
              "      <th>1</th>\n",
              "      <td>9E8F3C6405CA</td>\n",
              "      <td>Why do people ask more then one person for adv...</td>\n",
              "      <td>3.0</td>\n",
              "      <td>3.0</td>\n",
              "      <td>3.0</td>\n",
              "      <td>3.0</td>\n",
              "      <td>3.5</td>\n",
              "      <td>3.0</td>\n",
              "    </tr>\n",
              "    <tr>\n",
              "      <th>2</th>\n",
              "      <td>948771F795EB</td>\n",
              "      <td>We accomplish more when we are active, and are...</td>\n",
              "      <td>3.5</td>\n",
              "      <td>3.5</td>\n",
              "      <td>3.5</td>\n",
              "      <td>3.5</td>\n",
              "      <td>3.5</td>\n",
              "      <td>3.0</td>\n",
              "    </tr>\n",
              "    <tr>\n",
              "      <th>3</th>\n",
              "      <td>FE14D7378CFB</td>\n",
              "      <td>Do you agree or disagree about imagination bei...</td>\n",
              "      <td>3.5</td>\n",
              "      <td>3.0</td>\n",
              "      <td>3.0</td>\n",
              "      <td>3.5</td>\n",
              "      <td>3.5</td>\n",
              "      <td>3.0</td>\n",
              "    </tr>\n",
              "    <tr>\n",
              "      <th>4</th>\n",
              "      <td>7AAE019F70D6</td>\n",
              "      <td>I disagree with the principal saying that all ...</td>\n",
              "      <td>3.5</td>\n",
              "      <td>3.0</td>\n",
              "      <td>3.0</td>\n",
              "      <td>3.5</td>\n",
              "      <td>3.5</td>\n",
              "      <td>3.0</td>\n",
              "    </tr>\n",
              "  </tbody>\n",
              "</table>\n",
              "</div>\n",
              "      <button class=\"colab-df-convert\" onclick=\"convertToInteractive('df-33bb3b35-8d62-4fe0-bfb4-51e4ce772247')\"\n",
              "              title=\"Convert this dataframe to an interactive table.\"\n",
              "              style=\"display:none;\">\n",
              "        \n",
              "  <svg xmlns=\"http://www.w3.org/2000/svg\" height=\"24px\"viewBox=\"0 0 24 24\"\n",
              "       width=\"24px\">\n",
              "    <path d=\"M0 0h24v24H0V0z\" fill=\"none\"/>\n",
              "    <path d=\"M18.56 5.44l.94 2.06.94-2.06 2.06-.94-2.06-.94-.94-2.06-.94 2.06-2.06.94zm-11 1L8.5 8.5l.94-2.06 2.06-.94-2.06-.94L8.5 2.5l-.94 2.06-2.06.94zm10 10l.94 2.06.94-2.06 2.06-.94-2.06-.94-.94-2.06-.94 2.06-2.06.94z\"/><path d=\"M17.41 7.96l-1.37-1.37c-.4-.4-.92-.59-1.43-.59-.52 0-1.04.2-1.43.59L10.3 9.45l-7.72 7.72c-.78.78-.78 2.05 0 2.83L4 21.41c.39.39.9.59 1.41.59.51 0 1.02-.2 1.41-.59l7.78-7.78 2.81-2.81c.8-.78.8-2.07 0-2.86zM5.41 20L4 18.59l7.72-7.72 1.47 1.35L5.41 20z\"/>\n",
              "  </svg>\n",
              "      </button>\n",
              "      \n",
              "  <style>\n",
              "    .colab-df-container {\n",
              "      display:flex;\n",
              "      flex-wrap:wrap;\n",
              "      gap: 12px;\n",
              "    }\n",
              "\n",
              "    .colab-df-convert {\n",
              "      background-color: #E8F0FE;\n",
              "      border: none;\n",
              "      border-radius: 50%;\n",
              "      cursor: pointer;\n",
              "      display: none;\n",
              "      fill: #1967D2;\n",
              "      height: 32px;\n",
              "      padding: 0 0 0 0;\n",
              "      width: 32px;\n",
              "    }\n",
              "\n",
              "    .colab-df-convert:hover {\n",
              "      background-color: #E2EBFA;\n",
              "      box-shadow: 0px 1px 2px rgba(60, 64, 67, 0.3), 0px 1px 3px 1px rgba(60, 64, 67, 0.15);\n",
              "      fill: #174EA6;\n",
              "    }\n",
              "\n",
              "    [theme=dark] .colab-df-convert {\n",
              "      background-color: #3B4455;\n",
              "      fill: #D2E3FC;\n",
              "    }\n",
              "\n",
              "    [theme=dark] .colab-df-convert:hover {\n",
              "      background-color: #434B5C;\n",
              "      box-shadow: 0px 1px 3px 1px rgba(0, 0, 0, 0.15);\n",
              "      filter: drop-shadow(0px 1px 2px rgba(0, 0, 0, 0.3));\n",
              "      fill: #FFFFFF;\n",
              "    }\n",
              "  </style>\n",
              "\n",
              "      <script>\n",
              "        const buttonEl =\n",
              "          document.querySelector('#df-33bb3b35-8d62-4fe0-bfb4-51e4ce772247 button.colab-df-convert');\n",
              "        buttonEl.style.display =\n",
              "          google.colab.kernel.accessAllowed ? 'block' : 'none';\n",
              "\n",
              "        async function convertToInteractive(key) {\n",
              "          const element = document.querySelector('#df-33bb3b35-8d62-4fe0-bfb4-51e4ce772247');\n",
              "          const dataTable =\n",
              "            await google.colab.kernel.invokeFunction('convertToInteractive',\n",
              "                                                     [key], {});\n",
              "          if (!dataTable) return;\n",
              "\n",
              "          const docLinkHtml = 'Like what you see? Visit the ' +\n",
              "            '<a target=\"_blank\" href=https://colab.research.google.com/notebooks/data_table.ipynb>data table notebook</a>'\n",
              "            + ' to learn more about interactive tables.';\n",
              "          element.innerHTML = '';\n",
              "          dataTable['output_type'] = 'display_data';\n",
              "          await google.colab.output.renderOutput(dataTable, element);\n",
              "          const docLink = document.createElement('div');\n",
              "          docLink.innerHTML = docLinkHtml;\n",
              "          element.appendChild(docLink);\n",
              "        }\n",
              "      </script>\n",
              "    </div>\n",
              "  </div>\n",
              "  "
            ]
          },
          "metadata": {},
          "execution_count": 50
        }
      ]
    },
    {
      "cell_type": "code",
      "source": [
        "test_df.head()"
      ],
      "metadata": {
        "colab": {
          "base_uri": "https://localhost:8080/",
          "height": 337
        },
        "id": "6Pw-Q4uYaVzv",
        "outputId": "61b2ebe1-91c2-4706-82a5-f64c693d2bea"
      },
      "execution_count": 51,
      "outputs": [
        {
          "output_type": "execute_result",
          "data": {
            "text/plain": [
              "        text_id                                          full_text  cohesion  \\\n",
              "0  772D27D400BB  It god to have a possitive attitude when you d...       3.0   \n",
              "1  9E8F3C6405CA  Why do people ask more then one person for adv...       3.0   \n",
              "2  948771F795EB  We accomplish more when we are active, and are...       4.0   \n",
              "3  FE14D7378CFB  Do you agree or disagree about imagination bei...       3.0   \n",
              "4  7AAE019F70D6  I disagree with the principal saying that all ...       3.5   \n",
              "\n",
              "   syntax  vocabulary  phraseology  grammar  conventions  \n",
              "0     2.5         2.5          2.0      2.0          2.0  \n",
              "1     2.0         3.0          3.5      3.0          3.0  \n",
              "2     4.0         3.0          4.0      4.0          4.0  \n",
              "3     3.0         3.5          3.0      3.5          3.5  \n",
              "4     3.5         3.5          3.5      3.0          3.5  "
            ],
            "text/html": [
              "\n",
              "  <div id=\"df-82bcc5a0-bb27-43f2-bc42-9de92645118e\">\n",
              "    <div class=\"colab-df-container\">\n",
              "      <div>\n",
              "<style scoped>\n",
              "    .dataframe tbody tr th:only-of-type {\n",
              "        vertical-align: middle;\n",
              "    }\n",
              "\n",
              "    .dataframe tbody tr th {\n",
              "        vertical-align: top;\n",
              "    }\n",
              "\n",
              "    .dataframe thead th {\n",
              "        text-align: right;\n",
              "    }\n",
              "</style>\n",
              "<table border=\"1\" class=\"dataframe\">\n",
              "  <thead>\n",
              "    <tr style=\"text-align: right;\">\n",
              "      <th></th>\n",
              "      <th>text_id</th>\n",
              "      <th>full_text</th>\n",
              "      <th>cohesion</th>\n",
              "      <th>syntax</th>\n",
              "      <th>vocabulary</th>\n",
              "      <th>phraseology</th>\n",
              "      <th>grammar</th>\n",
              "      <th>conventions</th>\n",
              "    </tr>\n",
              "  </thead>\n",
              "  <tbody>\n",
              "    <tr>\n",
              "      <th>0</th>\n",
              "      <td>772D27D400BB</td>\n",
              "      <td>It god to have a possitive attitude when you d...</td>\n",
              "      <td>3.0</td>\n",
              "      <td>2.5</td>\n",
              "      <td>2.5</td>\n",
              "      <td>2.0</td>\n",
              "      <td>2.0</td>\n",
              "      <td>2.0</td>\n",
              "    </tr>\n",
              "    <tr>\n",
              "      <th>1</th>\n",
              "      <td>9E8F3C6405CA</td>\n",
              "      <td>Why do people ask more then one person for adv...</td>\n",
              "      <td>3.0</td>\n",
              "      <td>2.0</td>\n",
              "      <td>3.0</td>\n",
              "      <td>3.5</td>\n",
              "      <td>3.0</td>\n",
              "      <td>3.0</td>\n",
              "    </tr>\n",
              "    <tr>\n",
              "      <th>2</th>\n",
              "      <td>948771F795EB</td>\n",
              "      <td>We accomplish more when we are active, and are...</td>\n",
              "      <td>4.0</td>\n",
              "      <td>4.0</td>\n",
              "      <td>3.0</td>\n",
              "      <td>4.0</td>\n",
              "      <td>4.0</td>\n",
              "      <td>4.0</td>\n",
              "    </tr>\n",
              "    <tr>\n",
              "      <th>3</th>\n",
              "      <td>FE14D7378CFB</td>\n",
              "      <td>Do you agree or disagree about imagination bei...</td>\n",
              "      <td>3.0</td>\n",
              "      <td>3.0</td>\n",
              "      <td>3.5</td>\n",
              "      <td>3.0</td>\n",
              "      <td>3.5</td>\n",
              "      <td>3.5</td>\n",
              "    </tr>\n",
              "    <tr>\n",
              "      <th>4</th>\n",
              "      <td>7AAE019F70D6</td>\n",
              "      <td>I disagree with the principal saying that all ...</td>\n",
              "      <td>3.5</td>\n",
              "      <td>3.5</td>\n",
              "      <td>3.5</td>\n",
              "      <td>3.5</td>\n",
              "      <td>3.0</td>\n",
              "      <td>3.5</td>\n",
              "    </tr>\n",
              "  </tbody>\n",
              "</table>\n",
              "</div>\n",
              "      <button class=\"colab-df-convert\" onclick=\"convertToInteractive('df-82bcc5a0-bb27-43f2-bc42-9de92645118e')\"\n",
              "              title=\"Convert this dataframe to an interactive table.\"\n",
              "              style=\"display:none;\">\n",
              "        \n",
              "  <svg xmlns=\"http://www.w3.org/2000/svg\" height=\"24px\"viewBox=\"0 0 24 24\"\n",
              "       width=\"24px\">\n",
              "    <path d=\"M0 0h24v24H0V0z\" fill=\"none\"/>\n",
              "    <path d=\"M18.56 5.44l.94 2.06.94-2.06 2.06-.94-2.06-.94-.94-2.06-.94 2.06-2.06.94zm-11 1L8.5 8.5l.94-2.06 2.06-.94-2.06-.94L8.5 2.5l-.94 2.06-2.06.94zm10 10l.94 2.06.94-2.06 2.06-.94-2.06-.94-.94-2.06-.94 2.06-2.06.94z\"/><path d=\"M17.41 7.96l-1.37-1.37c-.4-.4-.92-.59-1.43-.59-.52 0-1.04.2-1.43.59L10.3 9.45l-7.72 7.72c-.78.78-.78 2.05 0 2.83L4 21.41c.39.39.9.59 1.41.59.51 0 1.02-.2 1.41-.59l7.78-7.78 2.81-2.81c.8-.78.8-2.07 0-2.86zM5.41 20L4 18.59l7.72-7.72 1.47 1.35L5.41 20z\"/>\n",
              "  </svg>\n",
              "      </button>\n",
              "      \n",
              "  <style>\n",
              "    .colab-df-container {\n",
              "      display:flex;\n",
              "      flex-wrap:wrap;\n",
              "      gap: 12px;\n",
              "    }\n",
              "\n",
              "    .colab-df-convert {\n",
              "      background-color: #E8F0FE;\n",
              "      border: none;\n",
              "      border-radius: 50%;\n",
              "      cursor: pointer;\n",
              "      display: none;\n",
              "      fill: #1967D2;\n",
              "      height: 32px;\n",
              "      padding: 0 0 0 0;\n",
              "      width: 32px;\n",
              "    }\n",
              "\n",
              "    .colab-df-convert:hover {\n",
              "      background-color: #E2EBFA;\n",
              "      box-shadow: 0px 1px 2px rgba(60, 64, 67, 0.3), 0px 1px 3px 1px rgba(60, 64, 67, 0.15);\n",
              "      fill: #174EA6;\n",
              "    }\n",
              "\n",
              "    [theme=dark] .colab-df-convert {\n",
              "      background-color: #3B4455;\n",
              "      fill: #D2E3FC;\n",
              "    }\n",
              "\n",
              "    [theme=dark] .colab-df-convert:hover {\n",
              "      background-color: #434B5C;\n",
              "      box-shadow: 0px 1px 3px 1px rgba(0, 0, 0, 0.15);\n",
              "      filter: drop-shadow(0px 1px 2px rgba(0, 0, 0, 0.3));\n",
              "      fill: #FFFFFF;\n",
              "    }\n",
              "  </style>\n",
              "\n",
              "      <script>\n",
              "        const buttonEl =\n",
              "          document.querySelector('#df-82bcc5a0-bb27-43f2-bc42-9de92645118e button.colab-df-convert');\n",
              "        buttonEl.style.display =\n",
              "          google.colab.kernel.accessAllowed ? 'block' : 'none';\n",
              "\n",
              "        async function convertToInteractive(key) {\n",
              "          const element = document.querySelector('#df-82bcc5a0-bb27-43f2-bc42-9de92645118e');\n",
              "          const dataTable =\n",
              "            await google.colab.kernel.invokeFunction('convertToInteractive',\n",
              "                                                     [key], {});\n",
              "          if (!dataTable) return;\n",
              "\n",
              "          const docLinkHtml = 'Like what you see? Visit the ' +\n",
              "            '<a target=\"_blank\" href=https://colab.research.google.com/notebooks/data_table.ipynb>data table notebook</a>'\n",
              "            + ' to learn more about interactive tables.';\n",
              "          element.innerHTML = '';\n",
              "          dataTable['output_type'] = 'display_data';\n",
              "          await google.colab.output.renderOutput(dataTable, element);\n",
              "          const docLink = document.createElement('div');\n",
              "          docLink.innerHTML = docLinkHtml;\n",
              "          element.appendChild(docLink);\n",
              "        }\n",
              "      </script>\n",
              "    </div>\n",
              "  </div>\n",
              "  "
            ]
          },
          "metadata": {},
          "execution_count": 51
        }
      ]
    },
    {
      "cell_type": "markdown",
      "source": [
        "### Evaluation:\n",
        "Submissions are scored using MCRMSE, mean columnwise root mean squared error:\n",
        "![image.png](data:image/png;base64,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)"
      ],
      "metadata": {
        "id": "ss27o2ykeOMI"
      }
    },
    {
      "cell_type": "code",
      "source": [
        "def mcrmse(targets, predictions):\n",
        "    error = targets - predictions\n",
        "    squared_error = np.square(error)\n",
        "    colwise_mse = np.mean(squared_error, axis=0)\n",
        "    root_colwise_mse = np.sqrt(colwise_mse)\n",
        "    return np.mean(root_colwise_mse, axis=0)"
      ],
      "metadata": {
        "id": "5MLOXyEQdpmt"
      },
      "execution_count": 52,
      "outputs": []
    },
    {
      "cell_type": "code",
      "source": [
        "# Comparison between predicted and real values\n",
        "y_pred = data_to_predict.drop(['full_text', 'text_id'], axis=1)\n",
        "y_real = test_df.drop(['full_text', 'text_id'], axis=1)\n",
        "mcrmse(y_real, y_pred)"
      ],
      "metadata": {
        "colab": {
          "base_uri": "https://localhost:8080/"
        },
        "id": "gBM_vcMw-gvo",
        "outputId": "0b1c6ccc-cfa0-4e73-f160-2937149219fa"
      },
      "execution_count": 53,
      "outputs": [
        {
          "output_type": "execute_result",
          "data": {
            "text/plain": [
              "0.5243748662424114"
            ]
          },
          "metadata": {},
          "execution_count": 53
        }
      ]
    }
  ]
}